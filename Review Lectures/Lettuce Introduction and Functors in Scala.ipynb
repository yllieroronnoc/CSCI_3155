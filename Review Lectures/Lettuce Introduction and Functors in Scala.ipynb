{
 "cells": [
  {
   "cell_type": "markdown",
   "metadata": {},
   "source": [
    "<pre>\n",
    "functors have been using them throughout the corse\n",
    "common ones are \n",
    "map \n",
    "filter\n",
    "foldleft \n",
    "foldright\n",
    "zip\n",
    "zipwithindex\n",
    "\n",
    "all functors will be applied to things like list or sequence\n",
    "\n",
    "map:\n",
    "    a functor that is applied to a list and applys a function/transformation to each element in the container (lst/sequence)\n",
    "    input: a list or sequence\n",
    "    output: new sequence\n",
    "Filter:\n",
    "    filter an existing container based on a condition\n",
    "    input: lst or sequence\n",
    "    ouput: lst or sequence\n",
    "Fold Left:\n",
    "    iterates the container left to right and returns an accumulated result\n",
    "    input: sequence\n",
    "    output: depends on accumulator type\n",
    "Foldright\n",
    "    same as foldleft except from right to left execpt acc and element are swapped\n",
    "Zip:\n",
    "    takes two indivitual lists and couples them indexwise\n",
    "    input: 2 sequences\n",
    "    output: 1 sequence\n",
    "Zip with index:\n",
    "    takes a single list and returns the list of tuples (element,idx)\n",
    "    input: sequence\n",
    "    output: sequence of tuples\n",
    "\n",
    "\n",
    "\n",
    "</pre>\n"
   ]
  },
  {
   "cell_type": "code",
   "execution_count": 1,
   "metadata": {},
   "outputs": [
    {
     "data": {
      "text/plain": [
       "\u001b[36mA\u001b[39m: \u001b[32mList\u001b[39m[\u001b[32mString\u001b[39m] = \u001b[33mList\u001b[39m(\u001b[32m\"Apple\"\u001b[39m, \u001b[32m\"Mango\"\u001b[39m, \u001b[32m\"Orange\"\u001b[39m, \u001b[32m\"Banana\"\u001b[39m)\n",
       "\u001b[36mB\u001b[39m: \u001b[32mList\u001b[39m[\u001b[32mInt\u001b[39m] = \u001b[33mList\u001b[39m(\u001b[32m20\u001b[39m, \u001b[32m18\u001b[39m, \u001b[32m15\u001b[39m, \u001b[32m10\u001b[39m)\n",
       "\u001b[36mC\u001b[39m: \u001b[32mList\u001b[39m[\u001b[32mString\u001b[39m] = \u001b[33mList\u001b[39m(\u001b[32m\"cat\"\u001b[39m, \u001b[32m\"mouse\"\u001b[39m, \u001b[32m\"bat\"\u001b[39m, \u001b[32m\"coco\"\u001b[39m, \u001b[32m\"blah blah\"\u001b[39m)"
      ]
     },
     "execution_count": 1,
     "metadata": {},
     "output_type": "execute_result"
    }
   ],
   "source": [
    "//examples\n",
    "val A = List(\"Apple\",\"Mango\",\"Orange\",\"Banana\")\n",
    "val B = List(20,18,15,10)\n",
    "val C = List(\"cat\", \"mouse\",\"bat\",\"coco\",\"blah blah\")\n"
   ]
  },
  {
   "cell_type": "code",
   "execution_count": 3,
   "metadata": {},
   "outputs": [
    {
     "data": {
      "text/plain": [
       "\u001b[36mrevList\u001b[39m: \u001b[32mList\u001b[39m[\u001b[32mString\u001b[39m] = \u001b[33mList\u001b[39m(\u001b[32m\"Banana\"\u001b[39m, \u001b[32m\"Orange\"\u001b[39m, \u001b[32m\"Mango\"\u001b[39m, \u001b[32m\"Apple\"\u001b[39m)\n",
       "\u001b[36mdupList\u001b[39m: \u001b[32mList\u001b[39m[\u001b[32mString\u001b[39m] = \u001b[33mList\u001b[39m(\u001b[32m\"Apple\"\u001b[39m, \u001b[32m\"Mango\"\u001b[39m, \u001b[32m\"Orange\"\u001b[39m, \u001b[32m\"Banana\"\u001b[39m)"
      ]
     },
     "execution_count": 3,
     "metadata": {},
     "output_type": "execute_result"
    }
   ],
   "source": [
    "//fold left\n",
    "val revList = A.foldLeft[List[String]](List())((acc: List[String], element: String) => { element :: acc})\n",
    "val dupList = A.foldRight[List[String]](List())((el: String, acc: List[String]) => {el::acc})"
   ]
  },
  {
   "cell_type": "code",
   "execution_count": 4,
   "metadata": {},
   "outputs": [
    {
     "data": {
      "text/plain": [
       "\u001b[36mxShift\u001b[39m: \u001b[32mInt\u001b[39m = \u001b[32m2\u001b[39m\n",
       "\u001b[36myShift\u001b[39m: \u001b[32mInt\u001b[39m = \u001b[32m4\u001b[39m\n",
       "\u001b[36morgcoord\u001b[39m: \u001b[32mList\u001b[39m[(\u001b[32mInt\u001b[39m, \u001b[32mInt\u001b[39m)] = \u001b[33mList\u001b[39m((\u001b[32m-1\u001b[39m, \u001b[32m-5\u001b[39m), (\u001b[32m-2\u001b[39m, \u001b[32m3\u001b[39m), (\u001b[32m4\u001b[39m, \u001b[32m5\u001b[39m))\n",
       "\u001b[36mshifted\u001b[39m: \u001b[32mList\u001b[39m[(\u001b[32mInt\u001b[39m, \u001b[32mInt\u001b[39m)] = \u001b[33mList\u001b[39m((\u001b[32m1\u001b[39m, \u001b[32m-1\u001b[39m), (\u001b[32m0\u001b[39m, \u001b[32m7\u001b[39m), (\u001b[32m6\u001b[39m, \u001b[32m9\u001b[39m))"
      ]
     },
     "execution_count": 4,
     "metadata": {},
     "output_type": "execute_result"
    }
   ],
   "source": [
    "//ex 4 shift points below\n",
    "val xShift = 2\n",
    "val yShift = 4\n",
    "val orgcoord = List((-1,-5),(-2,3),(4,5))\n",
    "//begin solution\n",
    "val shifted = orgcoord.foldRight[List[(Int,Int)]](List())((el: (Int, Int), acc: List[(Int, Int)]) => {(el._1 + xShift, el._2 + yShift)::acc})"
   ]
  },
  {
   "cell_type": "code",
   "execution_count": 5,
   "metadata": {},
   "outputs": [
    {
     "data": {
      "text/plain": [
       "\u001b[36msumofcoord\u001b[39m: (\u001b[32mInt\u001b[39m, \u001b[32mInt\u001b[39m) = (\u001b[32m1\u001b[39m, \u001b[32m3\u001b[39m)"
      ]
     },
     "execution_count": 5,
     "metadata": {},
     "output_type": "execute_result"
    }
   ],
   "source": [
    "//take the sum of x and y coordinates\n",
    "val sumofcoord = orgcoord.foldLeft[(Int, Int)]((0,0))((acc: (Int,Int), el: (Int,Int)) => {(el._1+acc._1, el._2 + acc._2)})"
   ]
  },
  {
   "cell_type": "code",
   "execution_count": null,
   "metadata": {},
   "outputs": [],
   "source": [
    "//zip and zip with index\n",
    "\n"
   ]
  }
 ],
 "metadata": {
  "kernelspec": {
   "display_name": "Scala 2.12",
   "language": "scala",
   "name": "scala212"
  },
  "language_info": {
   "codemirror_mode": "text/x-scala",
   "file_extension": ".sc",
   "mimetype": "text/x-scala",
   "name": "scala",
   "nbconvert_exporter": "script",
   "version": "2.12.12"
  }
 },
 "nbformat": 4,
 "nbformat_minor": 4
}
