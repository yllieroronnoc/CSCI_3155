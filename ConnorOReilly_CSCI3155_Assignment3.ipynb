{
 "cells": [
  {
   "cell_type": "markdown",
   "id": "sensitive-mathematics",
   "metadata": {},
   "source": [
    "Before you turn this problem in, make sure everything runs as expected. First, **restart the kernel** (in the menubar, select Kernel$\\rightarrow$Restart) and then **run all cells** (in the menubar, select Cell$\\rightarrow$Run All).\n",
    "\n",
    "Make sure you fill in any place that says `???` or \"YOUR ANSWER HERE\"."
   ]
  },
  {
   "cell_type": "markdown",
   "id": "demographic-volleyball",
   "metadata": {},
   "source": [
    "---"
   ]
  },
  {
   "cell_type": "markdown",
   "id": "4f522491",
   "metadata": {
    "deletable": false,
    "editable": false,
    "nbgrader": {
     "cell_type": "markdown",
     "checksum": "3eee79850bf0e8d5fbac33cf357cfeb4",
     "grade": false,
     "grade_id": "cell-23caf73bddab1bd2",
     "locked": true,
     "schema_version": 3,
     "solution": false,
     "task": false
    }
   },
   "source": [
    "# CSCI 3155 Assignment 3 : Inductive Definitions and Case Pattern Matching.\n",
    "\n",
    "This assignment asks you to write scala programs. \n",
    "\n",
    "**Restrictions** apply to each problem in terms of forbidden Scala features and API functions. Please read them carefully and ask for clarifications from the course staff over Piazza or during office hours if unsure.\n",
    "\n",
    "Note: `???` indicates that there is a missing function or code fragment that needs to be filled in. In scala, \n",
    "it is also a macro that throws a `NotImplemented` exception. Make sure that you remove the `???` and replace it with the answer. \n",
    "\n",
    "Use the test cases provided to test them. You are also encouraged to write your own test cases to help debug your work. However, please delete any extra cells you may have created lest they break our autograder.\n",
    "\n",
    "**Very Important:** Please run the cell that defines the functions `passed` and `testWithMessage` below whenever you restart the notebook."
   ]
  },
  {
   "cell_type": "markdown",
   "id": "c56c63ad",
   "metadata": {},
   "source": [
    "### Connor O'Reilly"
   ]
  },
  {
   "cell_type": "code",
   "execution_count": 23,
   "id": "11ea0f3c",
   "metadata": {
    "deletable": false,
    "editable": false,
    "nbgrader": {
     "cell_type": "code",
     "checksum": "a48aff92665c912aeae70ed55f1d3a15",
     "grade": false,
     "grade_id": "cell-aeddd2cf2ccfdd6a",
     "locked": true,
     "schema_version": 3,
     "solution": false,
     "task": false
    }
   },
   "outputs": [
    {
     "data": {
      "text/plain": [
       "defined \u001b[32mfunction\u001b[39m \u001b[36mpassed\u001b[39m\n",
       "defined \u001b[32mfunction\u001b[39m \u001b[36mtestWithMessage\u001b[39m\n",
       "defined \u001b[32mfunction\u001b[39m \u001b[36mtestWithMessage\u001b[39m"
      ]
     },
     "execution_count": 23,
     "metadata": {},
     "output_type": "execute_result"
    }
   ],
   "source": [
    "// TEST HELPER\n",
    "\n",
    "// FIRST RUN THIS CELL EVERY TIME YOU START THE NOTEBOOK\n",
    "def passed(points: Int) {\n",
    "    require(points >=0)\n",
    "    if (points == 1) print(s\"\\n*** Tests Passed (1 point) ***\\n\")\n",
    "    else print(s\"\\n*** Tests Passed ($points points) ***\\n\")\n",
    "}\n",
    "\n",
    "def testWithMessage[T](v1: T, expected: T, testID: String) = { \n",
    "    println(s\"Test $testID\"); \n",
    "    println(s\"\\t Expected: $expected, your code returned: $v1\")\n",
    "    assert (v1 == expected, s\"Test $testID FAILED.\")\n",
    "    println(\"\\t Passed!\")\n",
    "}\n",
    "\n",
    "def testWithMessage(v1: Double, expected: Double, testID: String) = {\n",
    "    val tolerance = 1E-5\n",
    "    println(s\"Test $testID -- comparing with tolerance $tolerance.\"); \n",
    "    println(s\"\\t Expected: $expected, your code returned: $v1\")\n",
    "    assert (math.abs(v1-expected) <= tolerance, s\"Test $testID FAILED.\")\n",
    "    println(\"\\t Passed!\")\n",
    "}\n",
    "    "
   ]
  },
  {
   "cell_type": "markdown",
   "id": "73edf3c3",
   "metadata": {
    "deletable": false,
    "editable": false,
    "nbgrader": {
     "cell_type": "markdown",
     "checksum": "66c35c4028ba2cfe6a2a7a0f454e1f7c",
     "grade": false,
     "grade_id": "cell-ece7acc4160733ea",
     "locked": true,
     "schema_version": 3,
     "solution": false,
     "task": false
    }
   },
   "source": [
    "## Problem 1\n",
    "\n",
    "This problem concerns inductive definitions of _continued fractions_. \n",
    "A continued fraction is a number defined as : \n",
    "\n",
    "$$ g = \\frac{1}{a_0 + \\frac{1}{a_1 + \\frac{1}{a_2 + \\frac{1}{a_3 + \\frac{1}{\\ddots + \\frac{1}{a_n}}}}}}$$ \n",
    "\n",
    "### Example\n",
    "\n",
    "Consider this fraction:\n",
    "\n",
    "$$ g_1 = \\frac{1}{2 + \\frac{1}{ 3 + \\frac{1}{4}}}$$\n",
    "\n",
    "Here $n=2$,  $a_0 = 2, a_1 = 3, a_2 = 4$. This represents the number $0.43333\\cdots$, which is the fraction $\\frac{13}{30}$.\n",
    "\n",
    "## Continued Fraction Grammar.\n",
    "\n",
    "We will define continued fractions inductively by the grammar: \n",
    "\n",
    "$$\\newcommand\\nt[1]{\\mathbf{#1}}\n",
    "\\newcommand\\term[1]{\\mathit{#1}}\n",
    "$$\n",
    "\n",
    "$$\\begin{array}{rcl}\n",
    "\\nt{CFrac} & \\Rightarrow & \\term{OneByNumber}(\\nt{Integer}) \\\\\n",
    " & | & \\term{NumPlusContFrac}(\\nt{Integer}, \\nt{CFrac}) \\\\\n",
    " \\end{array}$$\n",
    " \n",
    " Here $\\nt{Integer}$ represents the scala integer number type (positive/negative whole numbers).\n",
    " \n",
    "#### Example 1\n",
    "\n",
    "The number $g_1$ above: \n",
    "\n",
    "$$ g_1 = \\frac{1}{2 + \\frac{1}{ 3 + \\frac{1}{4}}}$$\n",
    "\n",
    "will be represented in our grammar by our term: \n",
    "\n",
    "$$\\term{NumPlusContFrac}(2, \\term{NumPlusContFrac}(3,  \\term{OneByNumber}(4))).$$\n",
    "\n",
    "#### Example 2\n",
    "\n",
    "The number $ g_2 = \\frac{1}{6}$ will be represented in our grammar by our term:  $ \\term{OneByNumber}(6).$\n",
    "\n",
    "\n",
    "### Problem 1A (10 points)\n",
    "\n",
    "Write down an inductive definition of the grammar above in Scala. Use the same names for terminals/nonterminals as in the grammar. Map the non terminal $\\nt{Integer}$ to the built-in type $\\mathsf{Int}$ in Scala.\n"
   ]
  },
  {
   "cell_type": "code",
   "execution_count": 24,
   "id": "b8cc0c24",
   "metadata": {
    "deletable": false,
    "nbgrader": {
     "cell_type": "code",
     "checksum": "95dbe5d8419f9279352e5fbc3e5a82c6",
     "grade": false,
     "grade_id": "cell-d1659bc5ad17ffb6",
     "locked": false,
     "schema_version": 3,
     "solution": true,
     "task": false
    }
   },
   "outputs": [
    {
     "data": {
      "text/plain": [
       "defined \u001b[32mtrait\u001b[39m \u001b[36mCfrac\u001b[39m\n",
       "defined \u001b[32mclass\u001b[39m \u001b[36mOneByNumber\u001b[39m\n",
       "defined \u001b[32mclass\u001b[39m \u001b[36mNumPlusContFrac\u001b[39m"
      ]
     },
     "execution_count": 24,
     "metadata": {},
     "output_type": "execute_result"
    }
   ],
   "source": [
    "// YOUR CODE HERE\n",
    "sealed trait Cfrac\n",
    "case class OneByNumber(divisor: Int) extends Cfrac\n",
    "case class NumPlusContFrac(intgr: Int, frac: Cfrac) extends Cfrac"
   ]
  },
  {
   "cell_type": "code",
   "execution_count": 25,
   "id": "83d09e8f",
   "metadata": {
    "deletable": false,
    "editable": false,
    "nbgrader": {
     "cell_type": "code",
     "checksum": "159d741c2f69c4968c39f4412387782f",
     "grade": true,
     "grade_id": "cell-ff1166c66661cf18",
     "locked": true,
     "points": 10,
     "schema_version": 3,
     "solution": false,
     "task": false
    }
   },
   "outputs": [
    {
     "name": "stdout",
     "output_type": "stream",
     "text": [
      "\n",
      "*** Tests Passed (10 points) ***\n"
     ]
    },
    {
     "data": {
      "text/plain": [
       "\u001b[36mg1\u001b[39m: \u001b[32mNumPlusContFrac\u001b[39m = \u001b[33mNumPlusContFrac\u001b[39m(\n",
       "  \u001b[32m2\u001b[39m,\n",
       "  \u001b[33mNumPlusContFrac\u001b[39m(\u001b[32m3\u001b[39m, \u001b[33mNumPlusContFrac\u001b[39m(\u001b[32m4\u001b[39m, \u001b[33mOneByNumber\u001b[39m(\u001b[32m5\u001b[39m)))\n",
       ")\n",
       "\u001b[36mg2\u001b[39m: \u001b[32mOneByNumber\u001b[39m = \u001b[33mOneByNumber\u001b[39m(\u001b[32m2\u001b[39m)\n",
       "\u001b[36mg3\u001b[39m: \u001b[32mNumPlusContFrac\u001b[39m = \u001b[33mNumPlusContFrac\u001b[39m(\u001b[32m3\u001b[39m, \u001b[33mNumPlusContFrac\u001b[39m(\u001b[32m-1\u001b[39m, \u001b[33mOneByNumber\u001b[39m(\u001b[32m4\u001b[39m)))\n",
       "\u001b[36mg4\u001b[39m: \u001b[32mNumPlusContFrac\u001b[39m = \u001b[33mNumPlusContFrac\u001b[39m(\u001b[32m1\u001b[39m, \u001b[33mOneByNumber\u001b[39m(\u001b[32m-2\u001b[39m))"
      ]
     },
     "execution_count": 25,
     "metadata": {},
     "output_type": "execute_result"
    }
   ],
   "source": [
    "//BEGIN TESTS\n",
    "val g1 = NumPlusContFrac(2,NumPlusContFrac(3,NumPlusContFrac(4,OneByNumber(5))))\n",
    "val g2 = OneByNumber(2)\n",
    "val g3 = NumPlusContFrac(3, NumPlusContFrac(-1, OneByNumber(4)))\n",
    "val g4 = NumPlusContFrac(1, OneByNumber(-2))\n",
    "passed(10)\n",
    "//END TESTS"
   ]
  },
  {
   "cell_type": "markdown",
   "id": "da8c544d",
   "metadata": {
    "deletable": false,
    "editable": false,
    "nbgrader": {
     "cell_type": "markdown",
     "checksum": "8a1be194b5588f5349dde7f21cbb8cb9",
     "grade": false,
     "grade_id": "cell-0219c870a4690e3d",
     "locked": true,
     "schema_version": 3,
     "solution": false,
     "task": false
    }
   },
   "source": [
    "### Problem 1B (5 points)\n",
    "Implement a function `double_of_cfrac` that takes in a continued fraction expressed using the inductive definition above and evaluates the corresponding double precision number. \n",
    "\n",
    "#### Restrictions \n",
    "\n",
    "  - Please use case pattern matching. \n",
    "  - Your function _need not_ be tail recursive.\n",
    "  - Forbidden: use of loops, mutable (vars), return statement.\n",
    "\n"
   ]
  },
  {
   "cell_type": "code",
   "execution_count": 26,
   "id": "5ddfe72a",
   "metadata": {
    "deletable": false,
    "nbgrader": {
     "cell_type": "code",
     "checksum": "58a60abc0b4510a50a6acf342854f79e",
     "grade": false,
     "grade_id": "cell-1f8035faa2440711",
     "locked": false,
     "schema_version": 3,
     "solution": true,
     "task": false
    }
   },
   "outputs": [
    {
     "data": {
      "text/plain": [
       "defined \u001b[32mfunction\u001b[39m \u001b[36mdouble_of_cfrac\u001b[39m"
      ]
     },
     "execution_count": 26,
     "metadata": {},
     "output_type": "execute_result"
    }
   ],
   "source": [
    "// YOUR CODE HERE\n",
    "def double_of_cfrac(cont_frac: Cfrac): Double = cont_frac match{\n",
    "    //base case return 1/divisor convert to double \n",
    "    case OneByNumber(divisor) => 1/divisor.toDouble \n",
    "    //else continue fraction, convert to double\n",
    "    case NumPlusContFrac(num, constfrac) => {\n",
    "        1 / (num.toDouble + double_of_cfrac(constfrac) )\n",
    "    }\n",
    "    \n",
    "    //incase we are missing a case lol\n",
    "    case _ => throw new IllegalArgumentException(\"Unhandled Case.\")\n",
    "}"
   ]
  },
  {
   "cell_type": "code",
   "execution_count": 27,
   "id": "64fc672b",
   "metadata": {
    "deletable": false,
    "editable": false,
    "nbgrader": {
     "cell_type": "code",
     "checksum": "872229798d27b0678bdc95078c65882b",
     "grade": true,
     "grade_id": "cell-8e8c3a4afc6890ae",
     "locked": true,
     "points": 5,
     "schema_version": 3,
     "solution": false,
     "task": false
    }
   },
   "outputs": [
    {
     "name": "stdout",
     "output_type": "stream",
     "text": [
      "Test  # 1 -- comparing with tolerance 1.0E-5.\n",
      "\t Expected: 0.43333333, your code returned: 0.43333333333333335\n",
      "\t Passed!\n",
      "Test  # 2 -- comparing with tolerance 1.0E-5.\n",
      "\t Expected: 0.5, your code returned: 0.5\n",
      "\t Passed!\n",
      "Test  # 3 -- comparing with tolerance 1.0E-5.\n",
      "\t Expected: 0.57142857, your code returned: 0.5714285714285714\n",
      "\t Passed!\n",
      "Test  # 4 -- comparing with tolerance 1.0E-5.\n",
      "\t Expected: 2.0, your code returned: 2.0\n",
      "\t Passed!\n",
      "\n",
      "*** Tests Passed (10 points) ***\n"
     ]
    },
    {
     "data": {
      "text/plain": [
       "\u001b[36mg1\u001b[39m: \u001b[32mNumPlusContFrac\u001b[39m = \u001b[33mNumPlusContFrac\u001b[39m(\u001b[32m2\u001b[39m, \u001b[33mNumPlusContFrac\u001b[39m(\u001b[32m3\u001b[39m, \u001b[33mOneByNumber\u001b[39m(\u001b[32m4\u001b[39m)))\n",
       "\u001b[36mg2\u001b[39m: \u001b[32mOneByNumber\u001b[39m = \u001b[33mOneByNumber\u001b[39m(\u001b[32m2\u001b[39m)\n",
       "\u001b[36mg3\u001b[39m: \u001b[32mNumPlusContFrac\u001b[39m = \u001b[33mNumPlusContFrac\u001b[39m(\u001b[32m3\u001b[39m, \u001b[33mNumPlusContFrac\u001b[39m(\u001b[32m-1\u001b[39m, \u001b[33mOneByNumber\u001b[39m(\u001b[32m5\u001b[39m)))\n",
       "\u001b[36mg4\u001b[39m: \u001b[32mNumPlusContFrac\u001b[39m = \u001b[33mNumPlusContFrac\u001b[39m(\u001b[32m1\u001b[39m, \u001b[33mOneByNumber\u001b[39m(\u001b[32m-2\u001b[39m))"
      ]
     },
     "execution_count": 27,
     "metadata": {},
     "output_type": "execute_result"
    }
   ],
   "source": [
    "val g1 = NumPlusContFrac(2,NumPlusContFrac(3,OneByNumber(4)))\n",
    "testWithMessage(double_of_cfrac(g1), 0.43333333, \" # 1\")\n",
    "val g2 = OneByNumber(2)\n",
    "testWithMessage(double_of_cfrac(g2), 0.5, \" # 2\")\n",
    "val g3 = NumPlusContFrac(3, NumPlusContFrac(-1, OneByNumber(5)))\n",
    "testWithMessage(double_of_cfrac(g3), 0.57142857, \" # 3\")\n",
    "val g4 = NumPlusContFrac(1, OneByNumber(-2))\n",
    "testWithMessage(double_of_cfrac(g4), 2.0, \" # 4\")\n",
    "\n",
    "passed(10)"
   ]
  },
  {
   "cell_type": "markdown",
   "id": "ee6b4750",
   "metadata": {
    "deletable": false,
    "editable": false,
    "nbgrader": {
     "cell_type": "markdown",
     "checksum": "1ea79ad5a18c9fe6af647f306351a74c",
     "grade": false,
     "grade_id": "cell-a1dc1471e858f84a",
     "locked": true,
     "schema_version": 3,
     "solution": false,
     "task": false
    }
   },
   "source": [
    "### Problem 1C (10 points)\n",
    "\n",
    "Write a function `ratio_of_cfrac` that takes in a continued fraction as defined by the grammar and returns a ratio $\\frac{n}{d}$ where $n$ and $d$ are two integers such that the value of the continued fraction equals $\\frac{n}{d}$. It is not required to reduce them in the lowest terms. The return type of your function must be a tuple of type `(Int, Int)`.\n",
    "\n",
    "#### Restrictions\n",
    "\n",
    "  - Please use case pattern matching.\n",
    "  - Your function need not be tail recursive.\n",
    "  - Forbidden: use of loops, mutable (vars), return statement."
   ]
  },
  {
   "cell_type": "code",
   "execution_count": 28,
   "id": "e5a8b64a",
   "metadata": {
    "deletable": false,
    "nbgrader": {
     "cell_type": "code",
     "checksum": "c8f3b9f25e8368a1edba82e7dacd4e9e",
     "grade": false,
     "grade_id": "cell-6813d83b6b2177c7",
     "locked": false,
     "schema_version": 3,
     "solution": true,
     "task": false
    }
   },
   "outputs": [
    {
     "data": {
      "text/plain": [
       "defined \u001b[32mfunction\u001b[39m \u001b[36mratio_of_cfrac\u001b[39m"
      ]
     },
     "execution_count": 28,
     "metadata": {},
     "output_type": "execute_result"
    }
   ],
   "source": [
    "// YOUR CODE HERE\n",
    "def ratio_of_cfrac(cont_frac: Cfrac) : (Int, Int) = cont_frac match{\n",
    "    case OneByNumber(divisor) => (1, divisor)\n",
    "    case NumPlusContFrac(num, contfrac) => {\n",
    "        //get values for n and d\n",
    "        val (n,d) = ratio_of_cfrac(contfrac)\n",
    "        //was ((num*d + n), d) , forgot should return recipricol\n",
    "        (d,(num*d + n)) \n",
    "    }\n",
    "    //incase we are missing a case lol\n",
    "    case _ => throw new IllegalArgumentException(\"Unhandled Case.\")\n",
    "    \n",
    "}"
   ]
  },
  {
   "cell_type": "code",
   "execution_count": 29,
   "id": "37da9c3f",
   "metadata": {
    "deletable": false,
    "editable": false,
    "nbgrader": {
     "cell_type": "code",
     "checksum": "f1939eaf7e315958572b5eb0aec45ec1",
     "grade": true,
     "grade_id": "cell-8687780755334866",
     "locked": true,
     "points": 2,
     "schema_version": 3,
     "solution": false,
     "task": false
    }
   },
   "outputs": [
    {
     "name": "stdout",
     "output_type": "stream",
     "text": [
      "Your Code Returned: 1/5, Expected: 1/5\n",
      "\n",
      "*** Tests Passed (2 points) ***\n"
     ]
    },
    {
     "data": {
      "text/plain": [
       "\u001b[36mg0\u001b[39m: \u001b[32mOneByNumber\u001b[39m = \u001b[33mOneByNumber\u001b[39m(\u001b[32m5\u001b[39m)\n",
       "\u001b[36mn\u001b[39m: \u001b[32mInt\u001b[39m = \u001b[32m1\u001b[39m\n",
       "\u001b[36md\u001b[39m: \u001b[32mInt\u001b[39m = \u001b[32m5\u001b[39m"
      ]
     },
     "execution_count": 29,
     "metadata": {},
     "output_type": "execute_result"
    }
   ],
   "source": [
    "val g0 = OneByNumber(5)\n",
    "val (n, d) = ratio_of_cfrac(g0)\n",
    "println(s\"Your Code Returned: ${n}/$d, Expected: 1/5\")\n",
    "assert(5 * n == d, \"Test # 0 Failed.\")\n",
    "passed(2)"
   ]
  },
  {
   "cell_type": "code",
   "execution_count": 30,
   "id": "aebe404e",
   "metadata": {
    "deletable": false,
    "editable": false,
    "nbgrader": {
     "cell_type": "code",
     "checksum": "54e203e0f108e5304e5262e8e29abee3",
     "grade": true,
     "grade_id": "cell-05e2a477771f6033",
     "locked": true,
     "points": 2,
     "schema_version": 3,
     "solution": false,
     "task": false
    }
   },
   "outputs": [
    {
     "name": "stdout",
     "output_type": "stream",
     "text": [
      "Your code returned: 13/30. Expected : 13/30\n",
      "\n",
      "*** Tests Passed (2 points) ***\n"
     ]
    },
    {
     "data": {
      "text/plain": [
       "\u001b[36mg1\u001b[39m: \u001b[32mNumPlusContFrac\u001b[39m = \u001b[33mNumPlusContFrac\u001b[39m(\u001b[32m2\u001b[39m, \u001b[33mNumPlusContFrac\u001b[39m(\u001b[32m3\u001b[39m, \u001b[33mOneByNumber\u001b[39m(\u001b[32m4\u001b[39m)))\n",
       "\u001b[36mn\u001b[39m: \u001b[32mInt\u001b[39m = \u001b[32m13\u001b[39m\n",
       "\u001b[36md\u001b[39m: \u001b[32mInt\u001b[39m = \u001b[32m30\u001b[39m"
      ]
     },
     "execution_count": 30,
     "metadata": {},
     "output_type": "execute_result"
    }
   ],
   "source": [
    "val g1 = NumPlusContFrac(2,NumPlusContFrac(3,OneByNumber(4)))\n",
    "val (n,d)= ratio_of_cfrac(g1)\n",
    "//n/d == 13/30 ==> 30 * n == 13 * d\n",
    "println(s\"Your code returned: ${n}/${d}. Expected : 13/30\")\n",
    "assert (30 * n == 13* d, \"Test #1  failed.\")\n",
    "passed(2)"
   ]
  },
  {
   "cell_type": "code",
   "execution_count": 31,
   "id": "46fbe40b",
   "metadata": {
    "deletable": false,
    "editable": false,
    "nbgrader": {
     "cell_type": "code",
     "checksum": "87c283ac217e041a7b7372fade30452a",
     "grade": true,
     "grade_id": "cell-2c3d402c75fc4fac",
     "locked": true,
     "points": 3,
     "schema_version": 3,
     "solution": false,
     "task": false
    }
   },
   "outputs": [
    {
     "name": "stdout",
     "output_type": "stream",
     "text": [
      "Your code returned: 68/157. Expected : 68/157\n",
      "\n",
      "*** Tests Passed (3 points) ***\n"
     ]
    },
    {
     "data": {
      "text/plain": [
       "\u001b[36mg2\u001b[39m: \u001b[32mNumPlusContFrac\u001b[39m = \u001b[33mNumPlusContFrac\u001b[39m(\n",
       "  \u001b[32m2\u001b[39m,\n",
       "  \u001b[33mNumPlusContFrac\u001b[39m(\u001b[32m3\u001b[39m, \u001b[33mNumPlusContFrac\u001b[39m(\u001b[32m4\u001b[39m, \u001b[33mOneByNumber\u001b[39m(\u001b[32m5\u001b[39m)))\n",
       ")\n",
       "\u001b[36mn\u001b[39m: \u001b[32mInt\u001b[39m = \u001b[32m68\u001b[39m\n",
       "\u001b[36md\u001b[39m: \u001b[32mInt\u001b[39m = \u001b[32m157\u001b[39m"
      ]
     },
     "execution_count": 31,
     "metadata": {},
     "output_type": "execute_result"
    }
   ],
   "source": [
    "val g2 = NumPlusContFrac(2,NumPlusContFrac(3,NumPlusContFrac(4, OneByNumber(5))))\n",
    "val (n,d)= ratio_of_cfrac(g2)\n",
    "//n/d == 68/157 \n",
    "println(s\"Your code returned: ${n}/${d}. Expected : 68/157\")\n",
    "assert (157 * n == 68* d, \"Test #2  failed.\")\n",
    "passed(3)"
   ]
  },
  {
   "cell_type": "code",
   "execution_count": 32,
   "id": "9b8883d0",
   "metadata": {
    "deletable": false,
    "editable": false,
    "nbgrader": {
     "cell_type": "code",
     "checksum": "5cb27eb83ea47336b1220caad6c5d632",
     "grade": true,
     "grade_id": "cell-7ebcf06365df79c1",
     "locked": true,
     "points": 3,
     "schema_version": 3,
     "solution": false,
     "task": false
    }
   },
   "outputs": [
    {
     "name": "stdout",
     "output_type": "stream",
     "text": [
      "Your code returned: 8/13. Expected : 8/13\n",
      "\n",
      "*** Tests Passed (3 points) ***\n"
     ]
    },
    {
     "data": {
      "text/plain": [
       "\u001b[36mg3\u001b[39m: \u001b[32mNumPlusContFrac\u001b[39m = \u001b[33mNumPlusContFrac\u001b[39m(\n",
       "  \u001b[32m1\u001b[39m,\n",
       "  \u001b[33mNumPlusContFrac\u001b[39m(\n",
       "    \u001b[32m1\u001b[39m,\n",
       "    \u001b[33mNumPlusContFrac\u001b[39m(\u001b[32m1\u001b[39m, \u001b[33mNumPlusContFrac\u001b[39m(\u001b[32m1\u001b[39m, \u001b[33mNumPlusContFrac\u001b[39m(\u001b[32m1\u001b[39m, \u001b[33mOneByNumber\u001b[39m(\u001b[32m1\u001b[39m))))\n",
       "  )\n",
       ")\n",
       "\u001b[36mn\u001b[39m: \u001b[32mInt\u001b[39m = \u001b[32m8\u001b[39m\n",
       "\u001b[36md\u001b[39m: \u001b[32mInt\u001b[39m = \u001b[32m13\u001b[39m"
      ]
     },
     "execution_count": 32,
     "metadata": {},
     "output_type": "execute_result"
    }
   ],
   "source": [
    "val g3 = NumPlusContFrac(1,\n",
    "            NumPlusContFrac(1, \n",
    "               NumPlusContFrac(1, \n",
    "                 NumPlusContFrac(1, \n",
    "                    NumPlusContFrac(1,OneByNumber(1))))))\n",
    "val (n,d)= ratio_of_cfrac(g3)\n",
    "//n/d == 8/13\n",
    "println(s\"Your code returned: ${n}/${d}. Expected : 8/13\")\n",
    "assert(13 * n == 8 * d, \"Test # 3 Failed\")\n",
    "passed(3)"
   ]
  },
  {
   "cell_type": "markdown",
   "id": "ed29e296",
   "metadata": {
    "deletable": false,
    "editable": false,
    "nbgrader": {
     "cell_type": "markdown",
     "checksum": "64178bffd33941ad31db1c3cc4b0f148",
     "grade": false,
     "grade_id": "cell-be5ce5f6caea048f",
     "locked": true,
     "schema_version": 3,
     "solution": false,
     "task": false
    }
   },
   "source": [
    "### Problem 1 D (10 points)\n",
    "\n",
    "Write a function `cfrac_of_list` that given a list of integers `lst` of the form `List(a0, a1, ..., an)`, converts it into the continued fraction of depth $n$ given by the numbers `a0, .., an` in the list.\n",
    "\n",
    "Function takes in a single argument whose \n",
    " type must be `List[Int]`.\n",
    "Return type of your function must be `CFrac`. \n",
    "\n",
    "If your input is empty your code must throw an `IllegalArgumentException`.\n",
    "\n",
    "\n",
    "#### Example 1\n",
    "\n",
    "Input: `List(5)`\n",
    "Function returns: `OneByNumber(5)`\n",
    "\n",
    "#### Example 2\n",
    "Input: `List(2, 3, 4)`\n",
    "Function returns: `NumPlusContFrac(2,NumPlusContFrac(3,OneByNumber(4)))`\n",
    "\n",
    "#### Restrictions\n",
    " - No loops, var or return.\n",
    " - You can use pattern matching over Scala Lists and any list API functions of your choice.\n",
    " - Your code must throw an `IllegalArgumentException` if the list is empty.\n",
    " "
   ]
  },
  {
   "cell_type": "code",
   "execution_count": 33,
   "id": "ff301af1",
   "metadata": {
    "deletable": false,
    "nbgrader": {
     "cell_type": "code",
     "checksum": "a9e93077359bdf6067b9ef5518f8b319",
     "grade": false,
     "grade_id": "cell-f5d78dcab32f5687",
     "locked": false,
     "schema_version": 3,
     "solution": true,
     "task": false
    }
   },
   "outputs": [
    {
     "data": {
      "text/plain": [
       "defined \u001b[32mfunction\u001b[39m \u001b[36mcfrac_of_list\u001b[39m"
      ]
     },
     "execution_count": 33,
     "metadata": {},
     "output_type": "execute_result"
    }
   ],
   "source": [
    "// YOUR CODE HERE\n",
    "def cfrac_of_list(lst: List[Int]): Cfrac = lst match{ \n",
    "    //use guards to get rid of if else statements\n",
    "    \n",
    "    //empty list case\n",
    "    case lst if(lst.isEmpty == true)  => throw new IllegalArgumentException(\"list cannot be empty\")\n",
    "    // list of one element \n",
    "    case list if(lst.length == 1) =>  OneByNumber(lst.head)\n",
    "    // rest of list \n",
    "    case list if(lst.length > 1) => NumPlusContFrac(lst.head, cfrac_of_list(lst.tail))\n",
    "\n",
    "}"
   ]
  },
  {
   "cell_type": "code",
   "execution_count": 34,
   "id": "c5d1541b",
   "metadata": {
    "deletable": false,
    "editable": false,
    "nbgrader": {
     "cell_type": "code",
     "checksum": "7fe58079bae9ec91e397ed97f83ba5af",
     "grade": true,
     "grade_id": "cell-7499fb1e6729f7d6",
     "locked": true,
     "points": 2,
     "schema_version": 3,
     "solution": false,
     "task": false
    }
   },
   "outputs": [
    {
     "name": "stdout",
     "output_type": "stream",
     "text": [
      "Test Test # 1\n",
      "\t Expected: OneByNumber(5), your code returned: OneByNumber(5)\n",
      "\t Passed!\n",
      "\n",
      "*** Tests Passed (2 points) ***\n"
     ]
    },
    {
     "data": {
      "text/plain": [
       "\u001b[36mg0\u001b[39m: \u001b[32mOneByNumber\u001b[39m = \u001b[33mOneByNumber\u001b[39m(\u001b[32m5\u001b[39m)"
      ]
     },
     "execution_count": 34,
     "metadata": {},
     "output_type": "execute_result"
    }
   ],
   "source": [
    "val g0 = OneByNumber(5)\n",
    "testWithMessage(cfrac_of_list(List(5)), g0, \"Test # 1\")\n",
    "passed(2)"
   ]
  },
  {
   "cell_type": "code",
   "execution_count": 35,
   "id": "41fcb1c6",
   "metadata": {
    "deletable": false,
    "editable": false,
    "nbgrader": {
     "cell_type": "code",
     "checksum": "526444d74027540fa7706ca96b14da27",
     "grade": true,
     "grade_id": "cell-1a80f2fb7454fe99",
     "locked": true,
     "points": 3,
     "schema_version": 3,
     "solution": false,
     "task": false
    }
   },
   "outputs": [
    {
     "name": "stdout",
     "output_type": "stream",
     "text": [
      "Test Test # 2\n",
      "\t Expected: NumPlusContFrac(1,NumPlusContFrac(2,OneByNumber(3))), your code returned: NumPlusContFrac(1,NumPlusContFrac(2,OneByNumber(3)))\n",
      "\t Passed!\n",
      "\n",
      "*** Tests Passed (3 points) ***\n"
     ]
    },
    {
     "data": {
      "text/plain": [
       "\u001b[36mg1\u001b[39m: \u001b[32mNumPlusContFrac\u001b[39m = \u001b[33mNumPlusContFrac\u001b[39m(\u001b[32m1\u001b[39m, \u001b[33mNumPlusContFrac\u001b[39m(\u001b[32m2\u001b[39m, \u001b[33mOneByNumber\u001b[39m(\u001b[32m3\u001b[39m)))"
      ]
     },
     "execution_count": 35,
     "metadata": {},
     "output_type": "execute_result"
    }
   ],
   "source": [
    "val g1 = NumPlusContFrac(1,NumPlusContFrac(2,OneByNumber(3)))\n",
    "testWithMessage(cfrac_of_list(List(1,2,3)), g1, \"Test # 2\")\n",
    "passed(3)"
   ]
  },
  {
   "cell_type": "code",
   "execution_count": 36,
   "id": "ca9783a7",
   "metadata": {
    "deletable": false,
    "editable": false,
    "nbgrader": {
     "cell_type": "code",
     "checksum": "13275b7b30198dd2ce3d94cea2a33c21",
     "grade": true,
     "grade_id": "cell-38afdb2eb86ce2a4",
     "locked": true,
     "points": 2,
     "schema_version": 3,
     "solution": false,
     "task": false
    }
   },
   "outputs": [
    {
     "name": "stdout",
     "output_type": "stream",
     "text": [
      "Calling your function cfrac_of_list on empty list.\n",
      "IllegalArgumentException caught: Expected behavior seen!\n",
      "\n",
      "*** Tests Passed (3 points) ***\n"
     ]
    }
   ],
   "source": [
    "try {\n",
    "    println(\"Calling your function cfrac_of_list on empty list.\")\n",
    "    val g = cfrac_of_list(Nil);\n",
    "    assert(false, \"No IllegalArgumentException thrown on empty list\")\n",
    "} catch {\n",
    "  case e:IllegalArgumentException => {\n",
    "     println(\"IllegalArgumentException caught: Expected behavior seen!\")\n",
    " }\n",
    "  case e: Exception => {println(s\"Wrong type of exception thrown-- $e\")}\n",
    "}\n",
    "\n",
    "passed(3)"
   ]
  },
  {
   "cell_type": "code",
   "execution_count": 37,
   "id": "2a5496a9",
   "metadata": {
    "deletable": false,
    "editable": false,
    "nbgrader": {
     "cell_type": "code",
     "checksum": "061046a94102866b0733526500ab97d3",
     "grade": true,
     "grade_id": "cell-1c6f18c32b93c31a",
     "locked": true,
     "points": 3,
     "schema_version": 3,
     "solution": false,
     "task": false
    }
   },
   "outputs": [
    {
     "name": "stdout",
     "output_type": "stream",
     "text": [
      "Test Test # 3\n",
      "\t Expected: NumPlusContFrac(1,NumPlusContFrac(1,NumPlusContFrac(1,NumPlusContFrac(1,NumPlusContFrac(1,OneByNumber(1)))))), your code returned: NumPlusContFrac(1,NumPlusContFrac(1,NumPlusContFrac(1,NumPlusContFrac(1,NumPlusContFrac(1,OneByNumber(1))))))\n",
      "\t Passed!\n",
      "\n",
      "*** Tests Passed (3 points) ***\n"
     ]
    },
    {
     "data": {
      "text/plain": [
       "\u001b[36mg3\u001b[39m: \u001b[32mNumPlusContFrac\u001b[39m = \u001b[33mNumPlusContFrac\u001b[39m(\n",
       "  \u001b[32m1\u001b[39m,\n",
       "  \u001b[33mNumPlusContFrac\u001b[39m(\n",
       "    \u001b[32m1\u001b[39m,\n",
       "    \u001b[33mNumPlusContFrac\u001b[39m(\u001b[32m1\u001b[39m, \u001b[33mNumPlusContFrac\u001b[39m(\u001b[32m1\u001b[39m, \u001b[33mNumPlusContFrac\u001b[39m(\u001b[32m1\u001b[39m, \u001b[33mOneByNumber\u001b[39m(\u001b[32m1\u001b[39m))))\n",
       "  )\n",
       ")"
      ]
     },
     "execution_count": 37,
     "metadata": {},
     "output_type": "execute_result"
    }
   ],
   "source": [
    "val g3 = NumPlusContFrac(1,\n",
    "            NumPlusContFrac(1, \n",
    "               NumPlusContFrac(1, \n",
    "                 NumPlusContFrac(1, \n",
    "                    NumPlusContFrac(1,OneByNumber(1))))))\n",
    "testWithMessage(cfrac_of_list(List(1,1,1,1,1,1)), g3, \"Test # 3\")\n",
    "passed(3)"
   ]
  },
  {
   "cell_type": "markdown",
   "id": "f4201e0a",
   "metadata": {
    "deletable": false,
    "editable": false,
    "nbgrader": {
     "cell_type": "markdown",
     "checksum": "95fce60704682a241aaaf9574993f222",
     "grade": false,
     "grade_id": "cell-1da17fff652c6b88",
     "locked": true,
     "schema_version": 3,
     "solution": false,
     "task": false
    }
   },
   "source": [
    "## Problem 2\n",
    "\n",
    "In class, we introduced you to the inductive definition of __NumList__ (lists with numbers in them).\n",
    "\n",
    "$$\\begin{array}{rcl}\n",
    "\\nt{NumList} & \\Rightarrow & \\term{EmptyList} \\\\\n",
    "& | & \\term{ConsElt}(\\nt{Integer}, \\term{NumList}) \\\\\n",
    "\\end{array}$$\n",
    "\n",
    "Suppose we extend the grammar by adding two additional rules to the ones already shown above.\n",
    "$$\\begin{array}{rcl}\n",
    "\\nt{NumList} & \\Rightarrow & \\term{ListConcat}(\\nt{NumList}, \\nt{NumList}) \\\\\n",
    "& | & \\term{AppendElt}(\\nt{NumList}, \\nt{Integer}) \\\\\n",
    "\\end{array}$$\n",
    "Here _ListConcat_ models the concatenation of two __NumList__ and\n",
    "_AppendElt_ models the appending of an element to the end of a __NumList__ (as opposed to _ConsElt_ that appends to the beginning).\n",
    "\n",
    "\n",
    "### 2 A (5 points) \n",
    "Implement the Scala inductive definition of the type __NumList__ following the four grammar rules provided above. Ensure that the non-terminal __Integer__ is mapped to the Scala type $\\mathsf{Int}$."
   ]
  },
  {
   "cell_type": "code",
   "execution_count": 38,
   "id": "5542e176",
   "metadata": {
    "deletable": false,
    "nbgrader": {
     "cell_type": "code",
     "checksum": "12c414d548fca6fa1684f5551fb5ad86",
     "grade": false,
     "grade_id": "cell-8b2a3993c4623861",
     "locked": false,
     "schema_version": 3,
     "solution": true,
     "task": false
    }
   },
   "outputs": [
    {
     "data": {
      "text/plain": [
       "defined \u001b[32mtrait\u001b[39m \u001b[36mNumList\u001b[39m\n",
       "defined \u001b[32mobject\u001b[39m \u001b[36mEmptyList\u001b[39m\n",
       "defined \u001b[32mclass\u001b[39m \u001b[36mConsElt\u001b[39m\n",
       "defined \u001b[32mclass\u001b[39m \u001b[36mListConcat\u001b[39m\n",
       "defined \u001b[32mclass\u001b[39m \u001b[36mAppendElt\u001b[39m"
      ]
     },
     "execution_count": 38,
     "metadata": {},
     "output_type": "execute_result"
    }
   ],
   "source": [
    "sealed trait NumList\n",
    "case object EmptyList extends NumList\n",
    "case class ConsElt(elt: Int, lst: NumList) extends NumList\n",
    "case class ListConcat(lst1: NumList, lst2: NumList) extends NumList\n",
    "case class AppendElt(lst1: NumList, appender: Int) extends NumList"
   ]
  },
  {
   "cell_type": "code",
   "execution_count": 39,
   "id": "3e37f1bd",
   "metadata": {
    "deletable": false,
    "editable": false,
    "nbgrader": {
     "cell_type": "code",
     "checksum": "1c8c243fa3cd0af323a64f4f1306e736",
     "grade": true,
     "grade_id": "cell-10401c115fcd5287",
     "locked": true,
     "points": 5,
     "schema_version": 3,
     "solution": false,
     "task": false
    }
   },
   "outputs": [
    {
     "name": "stdout",
     "output_type": "stream",
     "text": [
      "\n",
      "*** Tests Passed (5 points) ***\n"
     ]
    },
    {
     "data": {
      "text/plain": [
       "\u001b[36ml1\u001b[39m: \u001b[32mEmptyList\u001b[39m.type = EmptyList\n",
       "\u001b[36ml2\u001b[39m: \u001b[32mConsElt\u001b[39m = \u001b[33mConsElt\u001b[39m(\u001b[32m2\u001b[39m, \u001b[33mConsElt\u001b[39m(\u001b[32m3\u001b[39m, EmptyList))\n",
       "\u001b[36ml3\u001b[39m: \u001b[32mConsElt\u001b[39m = \u001b[33mConsElt\u001b[39m(\u001b[32m1\u001b[39m, \u001b[33mConsElt\u001b[39m(\u001b[32m2\u001b[39m, \u001b[33mConsElt\u001b[39m(\u001b[32m2\u001b[39m, \u001b[33mConsElt\u001b[39m(\u001b[32m3\u001b[39m, EmptyList))))\n",
       "\u001b[36ml4\u001b[39m: \u001b[32mListConcat\u001b[39m = \u001b[33mListConcat\u001b[39m(\n",
       "  \u001b[33mConsElt\u001b[39m(\u001b[32m2\u001b[39m, \u001b[33mConsElt\u001b[39m(\u001b[32m3\u001b[39m, EmptyList)),\n",
       "  \u001b[33mConsElt\u001b[39m(\u001b[32m1\u001b[39m, \u001b[33mConsElt\u001b[39m(\u001b[32m2\u001b[39m, \u001b[33mConsElt\u001b[39m(\u001b[32m2\u001b[39m, \u001b[33mConsElt\u001b[39m(\u001b[32m3\u001b[39m, EmptyList))))\n",
       ")\n",
       "\u001b[36ml5\u001b[39m: \u001b[32mConsElt\u001b[39m = \u001b[33mConsElt\u001b[39m(\n",
       "  \u001b[32m3\u001b[39m,\n",
       "  \u001b[33mListConcat\u001b[39m(\n",
       "    \u001b[33mConsElt\u001b[39m(\u001b[32m2\u001b[39m, \u001b[33mConsElt\u001b[39m(\u001b[32m3\u001b[39m, EmptyList)),\n",
       "    \u001b[33mConsElt\u001b[39m(\u001b[32m1\u001b[39m, \u001b[33mConsElt\u001b[39m(\u001b[32m2\u001b[39m, \u001b[33mConsElt\u001b[39m(\u001b[32m2\u001b[39m, \u001b[33mConsElt\u001b[39m(\u001b[32m3\u001b[39m, EmptyList))))\n",
       "  )\n",
       ")\n",
       "\u001b[36ml6\u001b[39m: \u001b[32mConsElt\u001b[39m = \u001b[33mConsElt\u001b[39m(\n",
       "  \u001b[32m5\u001b[39m,\n",
       "  \u001b[33mAppendElt\u001b[39m(\n",
       "    \u001b[33mConsElt\u001b[39m(\n",
       "      \u001b[32m3\u001b[39m,\n",
       "      \u001b[33mListConcat\u001b[39m(\n",
       "        \u001b[33mConsElt\u001b[39m(\u001b[32m2\u001b[39m, \u001b[33mConsElt\u001b[39m(\u001b[32m3\u001b[39m, EmptyList)),\n",
       "        \u001b[33mConsElt\u001b[39m(\u001b[32m1\u001b[39m, \u001b[33mConsElt\u001b[39m(\u001b[32m2\u001b[39m, \u001b[33mConsElt\u001b[39m(\u001b[32m2\u001b[39m, \u001b[33mConsElt\u001b[39m(\u001b[32m3\u001b[39m, EmptyList))))\n",
       "      )\n",
       "    ),\n",
       "    \u001b[32m4\u001b[39m\n",
       "  )\n",
       ")\n",
       "\u001b[36ml7\u001b[39m: \u001b[32mConsElt\u001b[39m = \u001b[33mConsElt\u001b[39m(\n",
       "  \u001b[32m6\u001b[39m,\n",
       "  \u001b[33mListConcat\u001b[39m(\n",
       "    \u001b[33mConsElt\u001b[39m(\n",
       "      \u001b[32m5\u001b[39m,\n",
       "      \u001b[33mAppendElt\u001b[39m(\n",
       "        \u001b[33mConsElt\u001b[39m(\n",
       "          \u001b[32m3\u001b[39m,\n",
       "          \u001b[33mListConcat\u001b[39m(\n",
       "            \u001b[33mConsElt\u001b[39m(\u001b[32m2\u001b[39m, \u001b[33mConsElt\u001b[39m(\u001b[32m3\u001b[39m, EmptyList)),\n",
       "            \u001b[33mConsElt\u001b[39m(\u001b[32m1\u001b[39m, \u001b[33mConsElt\u001b[39m(\u001b[32m2\u001b[39m, \u001b[33mConsElt\u001b[39m(\u001b[32m2\u001b[39m, \u001b[33mConsElt\u001b[39m(\u001b[32m3\u001b[39m, EmptyList))))\n",
       "          )\n",
       "        ),\n",
       "        \u001b[32m4\u001b[39m\n",
       "      )\n",
       "    ),\n",
       "    EmptyList\n",
       "  )\n",
       ")"
      ]
     },
     "execution_count": 39,
     "metadata": {},
     "output_type": "execute_result"
    }
   ],
   "source": [
    "val l1 = EmptyList \n",
    "val l2 = ConsElt(2, ConsElt(3, l1))\n",
    "val l3 = ConsElt(1, ConsElt(2, l2))\n",
    "val l4 = ListConcat(l2, l3)\n",
    "val l5 = ConsElt(3, ListConcat(l2, l3))\n",
    "val l6 = ConsElt(5, AppendElt(l5, 4))\n",
    "val l7 = ConsElt(6, ListConcat(l6, EmptyList))\n",
    "passed(5)"
   ]
  },
  {
   "cell_type": "markdown",
   "id": "b2053ade",
   "metadata": {
    "deletable": false,
    "editable": false,
    "nbgrader": {
     "cell_type": "markdown",
     "checksum": "8a4eed11ce9c064b3b4f97a4d3e5b350",
     "grade": false,
     "grade_id": "cell-80a52a37a2da4f0f",
     "locked": true,
     "schema_version": 3,
     "solution": false,
     "task": false
    }
   },
   "source": [
    "### 2 B (10 points) \n",
    "\n",
    "Write a function `scala_list_of_numlist` that given an input of type `NumList` that you defined above, returns a corresponding scala list of type `List[Int]`.\n",
    "\n",
    "#### Example\n",
    "\n",
    "Input: \n",
    "\n",
    "~~~\n",
    " ListConcat(\n",
    "  ConsElt(2, ConsElt(3, EmptyList)),\n",
    "  ConsElt(1, ConsElt(2, ConsElt(2, ConsElt(3, EmptyList))))\n",
    ")\n",
    "~~~\n",
    "\n",
    "Output: `List(2, 3, 1, 2, 2, 3)`\n",
    "\n",
    "#### Restrictions\n",
    "\n",
    "- No loops, var or return.\n",
    "- List operations `::`, `++` and `:+` are allowed, and use of list API functions are allowed as well.\n"
   ]
  },
  {
   "cell_type": "code",
   "execution_count": 40,
   "id": "468772ef",
   "metadata": {
    "deletable": false,
    "nbgrader": {
     "cell_type": "code",
     "checksum": "fddceb1ede3969d41ad84a49079dcd32",
     "grade": false,
     "grade_id": "cell-d62cd672a331c23f",
     "locked": false,
     "schema_version": 3,
     "solution": true,
     "task": false
    }
   },
   "outputs": [
    {
     "data": {
      "text/plain": [
       "defined \u001b[32mfunction\u001b[39m \u001b[36mscala_list_of_numlist\u001b[39m"
      ]
     },
     "execution_count": 40,
     "metadata": {},
     "output_type": "execute_result"
    }
   ],
   "source": [
    "// YOUR CODE HERE\n",
    "def scala_list_of_numlist(lst: NumList): List[Int] = lst match{\n",
    "    case EmptyList => Nil\n",
    "    case ConsElt(elt, lst) => elt :: scala_list_of_numlist(lst)\n",
    "    case ListConcat(numlst1, numlst2) => scala_list_of_numlist(numlst1) ::: scala_list_of_numlist(numlst2)\n",
    "    case AppendElt(numlst, appender) => scala_list_of_numlist(numlst) :+ appender\n",
    "}"
   ]
  },
  {
   "cell_type": "code",
   "execution_count": 41,
   "id": "971ba8d9",
   "metadata": {
    "deletable": false,
    "editable": false,
    "nbgrader": {
     "cell_type": "code",
     "checksum": "6fe81f65b3942c7fa32cb543168a4fb9",
     "grade": true,
     "grade_id": "cell-34bcbbcc3ce0addc",
     "locked": true,
     "points": 3,
     "schema_version": 3,
     "solution": false,
     "task": false
    }
   },
   "outputs": [
    {
     "name": "stdout",
     "output_type": "stream",
     "text": [
      "Test #1\n",
      "\t Expected: List(2, 3, 1, 2, 2, 3), your code returned: List(2, 3, 1, 2, 2, 3)\n",
      "\t Passed!\n",
      "\n",
      "*** Tests Passed (3 points) ***\n"
     ]
    },
    {
     "data": {
      "text/plain": [
       "\u001b[36ml1\u001b[39m: \u001b[32mListConcat\u001b[39m = \u001b[33mListConcat\u001b[39m(\n",
       "  \u001b[33mConsElt\u001b[39m(\u001b[32m2\u001b[39m, \u001b[33mConsElt\u001b[39m(\u001b[32m3\u001b[39m, EmptyList)),\n",
       "  \u001b[33mConsElt\u001b[39m(\u001b[32m1\u001b[39m, \u001b[33mConsElt\u001b[39m(\u001b[32m2\u001b[39m, \u001b[33mConsElt\u001b[39m(\u001b[32m2\u001b[39m, \u001b[33mConsElt\u001b[39m(\u001b[32m3\u001b[39m, EmptyList))))\n",
       ")"
      ]
     },
     "execution_count": 41,
     "metadata": {},
     "output_type": "execute_result"
    }
   ],
   "source": [
    "val l1 = ListConcat(\n",
    "  ConsElt(2, ConsElt(3, EmptyList)),\n",
    "  ConsElt(1, ConsElt(2, ConsElt(2, ConsElt(3, EmptyList))))\n",
    ")\n",
    "\n",
    "testWithMessage(scala_list_of_numlist(l1), List(2, 3, 1, 2, 2, 3), \"#1\")\n",
    "passed(3)"
   ]
  },
  {
   "cell_type": "code",
   "execution_count": 42,
   "id": "d9b5e75c",
   "metadata": {
    "deletable": false,
    "editable": false,
    "nbgrader": {
     "cell_type": "code",
     "checksum": "29b469e99caf9614407f31bd1d1e6ed4",
     "grade": true,
     "grade_id": "cell-e91b81fa277e2d22",
     "locked": true,
     "points": 1,
     "schema_version": 3,
     "solution": false,
     "task": false
    }
   },
   "outputs": [
    {
     "name": "stdout",
     "output_type": "stream",
     "text": [
      "Test #2\n",
      "\t Expected: List(), your code returned: List()\n",
      "\t Passed!\n",
      "\n",
      "*** Tests Passed (1 point) ***\n"
     ]
    },
    {
     "data": {
      "text/plain": [
       "\u001b[36ml2\u001b[39m: \u001b[32mEmptyList\u001b[39m.type = EmptyList"
      ]
     },
     "execution_count": 42,
     "metadata": {},
     "output_type": "execute_result"
    }
   ],
   "source": [
    "val l2 = EmptyList\n",
    "testWithMessage(scala_list_of_numlist(l2), Nil, \"#2\")\n",
    "passed(1)"
   ]
  },
  {
   "cell_type": "code",
   "execution_count": 43,
   "id": "debe087c",
   "metadata": {
    "deletable": false,
    "editable": false,
    "nbgrader": {
     "cell_type": "code",
     "checksum": "2d5051aed80d005a0585d3f66bf2b014",
     "grade": true,
     "grade_id": "cell-e7c4b79aa26999eb",
     "locked": true,
     "points": 3,
     "schema_version": 3,
     "solution": false,
     "task": false
    }
   },
   "outputs": [
    {
     "name": "stdout",
     "output_type": "stream",
     "text": [
      "Test #2\n",
      "\t Expected: List(5, 3, 2, 3, 1, 2, 2, 3, 4), your code returned: List(5, 3, 2, 3, 1, 2, 2, 3, 4)\n",
      "\t Passed!\n",
      "\n",
      "*** Tests Passed (3 points) ***\n"
     ]
    },
    {
     "data": {
      "text/plain": [
       "\u001b[36ml6\u001b[39m: \u001b[32mConsElt\u001b[39m = \u001b[33mConsElt\u001b[39m(\n",
       "  \u001b[32m5\u001b[39m,\n",
       "  \u001b[33mAppendElt\u001b[39m(\n",
       "    \u001b[33mConsElt\u001b[39m(\n",
       "      \u001b[32m3\u001b[39m,\n",
       "      \u001b[33mListConcat\u001b[39m(\n",
       "        \u001b[33mConsElt\u001b[39m(\u001b[32m2\u001b[39m, \u001b[33mConsElt\u001b[39m(\u001b[32m3\u001b[39m, EmptyList)),\n",
       "        \u001b[33mConsElt\u001b[39m(\u001b[32m1\u001b[39m, \u001b[33mConsElt\u001b[39m(\u001b[32m2\u001b[39m, \u001b[33mConsElt\u001b[39m(\u001b[32m2\u001b[39m, \u001b[33mConsElt\u001b[39m(\u001b[32m3\u001b[39m, EmptyList))))\n",
       "      )\n",
       "    ),\n",
       "    \u001b[32m4\u001b[39m\n",
       "  )\n",
       ")"
      ]
     },
     "execution_count": 43,
     "metadata": {},
     "output_type": "execute_result"
    }
   ],
   "source": [
    "val l6 = ConsElt(\n",
    "  5,\n",
    "  AppendElt(\n",
    "    ConsElt(\n",
    "      3,\n",
    "      ListConcat(\n",
    "        ConsElt(2, ConsElt(3, EmptyList)),\n",
    "        ConsElt(1, ConsElt(2, ConsElt(2, ConsElt(3, EmptyList))))\n",
    "      )\n",
    "    ),\n",
    "    4\n",
    "  )\n",
    ")\n",
    "testWithMessage(scala_list_of_numlist(l6), List(5, 3, 2, 3, 1, 2, 2, 3, 4), \"#2\")\n",
    "passed(3)"
   ]
  },
  {
   "cell_type": "code",
   "execution_count": 44,
   "id": "96cc9c03",
   "metadata": {
    "deletable": false,
    "editable": false,
    "nbgrader": {
     "cell_type": "code",
     "checksum": "823eb130f99340a1704cfb9ed2623aba",
     "grade": true,
     "grade_id": "cell-396db004ea367ee7",
     "locked": true,
     "points": 3,
     "schema_version": 3,
     "solution": false,
     "task": false
    }
   },
   "outputs": [
    {
     "name": "stdout",
     "output_type": "stream",
     "text": [
      "Test #2\n",
      "\t Expected: List(6, 5, 3, 2, 3, 1, 2, 3, -1, -4), your code returned: List(6, 5, 3, 2, 3, 1, 2, 3, -1, -4)\n",
      "\t Passed!\n",
      "\n",
      "*** Tests Passed (3 points) ***\n"
     ]
    },
    {
     "data": {
      "text/plain": [
       "\u001b[36ml7\u001b[39m: \u001b[32mConsElt\u001b[39m = \u001b[33mConsElt\u001b[39m(\n",
       "  \u001b[32m6\u001b[39m,\n",
       "  \u001b[33mListConcat\u001b[39m(\n",
       "    \u001b[33mConsElt\u001b[39m(\n",
       "      \u001b[32m5\u001b[39m,\n",
       "      \u001b[33mAppendElt\u001b[39m(\n",
       "        \u001b[33mConsElt\u001b[39m(\n",
       "          \u001b[32m3\u001b[39m,\n",
       "          \u001b[33mListConcat\u001b[39m(\n",
       "            \u001b[33mConsElt\u001b[39m(\u001b[32m2\u001b[39m, \u001b[33mConsElt\u001b[39m(\u001b[32m3\u001b[39m, EmptyList)),\n",
       "            \u001b[33mConsElt\u001b[39m(\u001b[32m1\u001b[39m, \u001b[33mConsElt\u001b[39m(\u001b[32m2\u001b[39m, \u001b[33mConsElt\u001b[39m(\u001b[32m3\u001b[39m, \u001b[33mConsElt\u001b[39m(\u001b[32m-1\u001b[39m, EmptyList))))\n",
       "          )\n",
       "        ),\n",
       "        \u001b[32m-4\u001b[39m\n",
       "      )\n",
       "    ),\n",
       "    EmptyList\n",
       "  )\n",
       ")"
      ]
     },
     "execution_count": 44,
     "metadata": {},
     "output_type": "execute_result"
    }
   ],
   "source": [
    "val l7 =  ConsElt(\n",
    "  6,\n",
    "  ListConcat(\n",
    "    ConsElt(\n",
    "      5,\n",
    "      AppendElt(\n",
    "        ConsElt(\n",
    "          3,\n",
    "          ListConcat(\n",
    "            ConsElt(2, ConsElt(3, EmptyList)),\n",
    "            ConsElt(1, ConsElt(2, ConsElt(3, ConsElt(-1, EmptyList))))\n",
    "          )\n",
    "        ),\n",
    "        -4\n",
    "      )\n",
    "    ),\n",
    "    EmptyList\n",
    "  )\n",
    ")\n",
    "\n",
    "testWithMessage(scala_list_of_numlist(l7), List(6, 5, 3, 2, 3, 1, 2, 3, -1, -4), \"#2\")\n",
    "passed(3)"
   ]
  },
  {
   "cell_type": "markdown",
   "id": "c3ce6e62",
   "metadata": {
    "deletable": false,
    "editable": false,
    "nbgrader": {
     "cell_type": "markdown",
     "checksum": "9bc78aeb0199afe833536db732da4150",
     "grade": false,
     "grade_id": "cell-e4f30ce3a640e50d",
     "locked": true,
     "schema_version": 3,
     "solution": false,
     "task": false
    }
   },
   "source": [
    "## That's All Folks!"
   ]
  }
 ],
 "metadata": {
  "kernelspec": {
   "display_name": "Scala 2.12",
   "language": "scala",
   "name": "scala212"
  },
  "language_info": {
   "codemirror_mode": "text/x-scala",
   "file_extension": ".scala",
   "mimetype": "text/x-scala",
   "name": "scala",
   "nbconvert_exporter": "script",
   "version": "2.12.10"
  }
 },
 "nbformat": 4,
 "nbformat_minor": 5
}
