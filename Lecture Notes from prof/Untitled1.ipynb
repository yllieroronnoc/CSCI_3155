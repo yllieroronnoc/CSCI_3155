{
 "cells": [
  {
   "cell_type": "code",
   "execution_count": 1,
   "metadata": {},
   "outputs": [
    {
     "data": {
      "text/plain": [
       "defined \u001b[32mclass\u001b[39m \u001b[36mA\u001b[39m\n",
       "defined \u001b[32mclass\u001b[39m \u001b[36mB\u001b[39m\n",
       "defined \u001b[32mclass\u001b[39m \u001b[36mC\u001b[39m\n",
       "\u001b[36mc1\u001b[39m: \u001b[32mC\u001b[39m = ammonite.$sess.cmd0$Helper$C@29d53849"
      ]
     },
     "execution_count": 1,
     "metadata": {},
     "output_type": "execute_result"
    }
   ],
   "source": [
    "abstract class A{\n",
    "    val x: Int\n",
    "    def foo(y: Int): Int = {y + x}\n",
    "    def bar(z:String): Int = {z.toInt + x}\n",
    "}\n",
    "class B extends A{\n",
    "    override val x: Int = 25\n",
    "}\n",
    "class C extends B{\n",
    "    override def foo(y: Int): Int = {y - x}\n",
    "}\n",
    "\n",
    "val c1 = new C()"
   ]
  },
  {
   "cell_type": "code",
   "execution_count": 2,
   "metadata": {},
   "outputs": [
    {
     "data": {
      "text/plain": [
       "\u001b[36mres1\u001b[39m: \u001b[32mB\u001b[39m = ammonite.$sess.cmd0$Helper$C@29d53849"
      ]
     },
     "execution_count": 2,
     "metadata": {},
     "output_type": "execute_result"
    }
   ],
   "source": [
    "c1.asInstanceOf[B]"
   ]
  },
  {
   "cell_type": "code",
   "execution_count": null,
   "metadata": {},
   "outputs": [],
   "source": []
  }
 ],
 "metadata": {
  "kernelspec": {
   "display_name": "Scala 2.12",
   "language": "scala",
   "name": "scala212"
  },
  "language_info": {
   "codemirror_mode": "text/x-scala",
   "file_extension": ".sc",
   "mimetype": "text/x-scala",
   "name": "scala",
   "nbconvert_exporter": "script",
   "version": "2.12.12"
  }
 },
 "nbformat": 4,
 "nbformat_minor": 4
}
