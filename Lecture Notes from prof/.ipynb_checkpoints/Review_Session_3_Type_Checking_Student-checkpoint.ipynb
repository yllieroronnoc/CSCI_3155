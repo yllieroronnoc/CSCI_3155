{
 "cells": [
  {
   "cell_type": "markdown",
   "id": "c7edf58d",
   "metadata": {},
   "source": [
    "# Review - Type Checking in Lettuce"
   ]
  },
  {
   "cell_type": "markdown",
   "id": "e8e20647",
   "metadata": {},
   "source": [
    "## References:\n",
    "Lecture Notebook - Week 11 in Canvas, Week 10 repository"
   ]
  },
  {
   "cell_type": "markdown",
   "id": "7f4daeeb",
   "metadata": {},
   "source": [
    "## What is a type system? \n",
    "\n",
    "Types are a fundamental part of programming languages. \n",
    "They are the first line of defense against logical errors. \n",
    "\n",
    "Let's take the following Scala example"
   ]
  },
  {
   "cell_type": "code",
   "execution_count": null,
   "id": "332bb8db",
   "metadata": {},
   "outputs": [],
   "source": [
    "def getOne(): Double = 1.0\n",
    "\n",
    "val result:Int = getOne()"
   ]
  },
  {
   "cell_type": "markdown",
   "id": "408dd8e7",
   "metadata": {},
   "source": [
    "Will there be error or will it run?"
   ]
  },
  {
   "cell_type": "markdown",
   "id": "0807c485",
   "metadata": {},
   "source": [
    "## Why do we need a type system?\n",
    "\n",
    "Type systems help us catch error before we execute them and come face-to-face with them."
   ]
  },
  {
   "cell_type": "markdown",
   "id": "2f215b0d",
   "metadata": {},
   "source": [
    "## When to do typing?\n",
    "Code can be compiled and turned into an executable. (Java, C++, Scala??) or it can be interpreted at runtime (Python, Javascript). \n",
    "\n",
    "Depending on the language and the requirements,  type checking can be done during *compile time* or during *runtime*. \n",
    "\n",
    "### Static Typing - Compile Time Type Checking\n",
    "You can catch errors earlier than with Dynamic Type checking"
   ]
  },
  {
   "cell_type": "markdown",
   "id": "4cf17ed2",
   "metadata": {},
   "source": [
    "# Type in Scala"
   ]
  },
  {
   "cell_type": "markdown",
   "id": "924563a6",
   "metadata": {},
   "source": [
    "'**:**' is used in scala for Type Annotations\n",
    "\n",
    "to *mutables and immutables*\n",
    "\n",
    "~~~\n",
    "val pi: Double = 3.14\n",
    "var golden: Double = 1.618\n",
    "~~~\n",
    "\n",
    "to parameters\n",
    "\n",
    "~~~\n",
    "class Rectangle(length:Int, breadth: Int)\n",
    "~~~\n",
    "\n",
    "return type of functions\n",
    "\n",
    "~~~\n",
    "def getAFunction(): Int => Int = (a:Int) => (a+1)\n",
    "~~~\n",
    "\n"
   ]
  },
  {
   "cell_type": "markdown",
   "id": "aa6729f6",
   "metadata": {},
   "source": [
    "Let's try some slightly convoluted typing\n",
    "\n",
    "### Nested functors\n",
    "~~~\n",
    "def giveAFunctionGetAFunction(give: (Int) => (Int)): (Int) => (Double) = {\n",
    "    (int:Int) => give(int).toDouble\n",
    "}\n",
    "~~~"
   ]
  },
  {
   "cell_type": "code",
   "execution_count": null,
   "id": "3e67c299",
   "metadata": {},
   "outputs": [],
   "source": [
    "def giveAFunctionGetAFunction(give: (Int) => (Int)): (Int) => (Double) = {\n",
    "    (int:Int) => give(int).toDouble\n",
    "}"
   ]
  },
  {
   "cell_type": "code",
   "execution_count": null,
   "id": "38541d44",
   "metadata": {},
   "outputs": [],
   "source": [
    "giveAFunctionGetAFunction((a) => (a+1))(10)"
   ]
  },
  {
   "cell_type": "markdown",
   "id": "8a5ecdb5",
   "metadata": {},
   "source": [
    "# Exercises: Type in Scala"
   ]
  },
  {
   "cell_type": "code",
   "execution_count": null,
   "id": "2c61ceb2",
   "metadata": {},
   "outputs": [],
   "source": [
    "def giveAFunctionGetAnotherFunction(give: Int => Double) : Int => (Double => Double)  = {\n",
    "      (num: Int) => {\n",
    "          (num2: Double) => num.toDouble + num2 \n",
    "      }\n",
    "}"
   ]
  },
  {
   "cell_type": "code",
   "execution_count": null,
   "id": "bab127e4",
   "metadata": {},
   "outputs": [],
   "source": [
    "val function: Double => Double  =  giveAFunctionGetAnotherFunction((int) => int.toDouble)(1)"
   ]
  },
  {
   "cell_type": "markdown",
   "id": "85184c32",
   "metadata": {},
   "source": [
    "# Type System in Lettuce\n",
    "\n",
    "When we want to bring **typing** to our beloved Lettuce, we would want to make sure **every** identifier has a type associated with it. \n",
    "\n",
    "\n",
    "## How do we create identifiers is Lettuce?\n",
    "\n",
    "1. Let - (Lett Uce language)\n",
    "2. FunDef - identifier with a expr\n",
    "\n",
    "So, we can associate type in two places, using the ':' character similar to Scala. \n",
    "\n",
    "\n",
    "This is our grammar before without typing. \n",
    "Grammer would need to change with respect to elements we discussed above. \n",
    "\n",
    "\n",
    "$$\\begin{array}{rcll}\n",
    "\\mathbf{Program} & \\rightarrow & TopLevel(\\mathbf{Expr}) \\\\[5pt]\n",
    "\\mathbf{Expr} & \\rightarrow & Const(\\mathbf{Number}) \\\\\n",
    " & | & Ident(\\mathbf{Identifier}) \\\\\n",
    " & | & Plus(\\mathbf{Expr}, \\mathbf{Expr}) \\\\\n",
    " & | & Mult(\\mathbf{Expr}, \\mathbf{Expr}) \\\\\n",
    " & | & Div(\\mathbf{Expr}, \\mathbf{Expr}) \\\\\n",
    " & | & Eq(\\mathbf{Expr}, \\mathbf{Expr}) \\\\\n",
    " & | & Geq (\\mathbf{Expr}, \\mathbf{Expr}) \\\\\n",
    " & | & IfThenElse(\\mathbf{Expr}, \\mathbf{Expr}, \\mathbf{Expr}) & \\text{if (expr) then expr else expr} \\\\\n",
    " & | & Let( \\mathbf{Identifier}, \\mathbf{Expr}, \\mathbf{Expr}) & \\text{let identifier = expr in expr} \\\\\n",
    " & | & FunDef( \\mathbf{Identifier}, \\mathbf{Expr}) & \\text{function (identifier-formal-parameter) expr } \\\\ \n",
    " & | & FunCall(\\mathbf{Expr}, \\mathbf{Expr}) & \\text{function call - expr(expr)} \\\\\n",
    " & | & LetRec(\\mathbf{Identifier}, \\mathbf{Identifier}, \\mathbf{Expr}, \\mathbf{Expr})  & \\text{argument 1 - function name, argument 2 - parameter}\\\\\n",
    " &&& \\text{argument 3 - function definition expression, argument 4 - body expr} \\\\[5pt]\n",
    "\\end{array}$$"
   ]
  },
  {
   "cell_type": "markdown",
   "id": "5faf763a",
   "metadata": {},
   "source": [
    "1. Let (rule) - type with identifier\n",
    "2. LetRec - Type with identifiers\n",
    "3. FunDef - Type with identifers"
   ]
  },
  {
   "cell_type": "markdown",
   "id": "86333046",
   "metadata": {},
   "source": [
    "We will need to change these, but before that let's introduce types to Lettuce. \n",
    "\n",
    "## Grammar of Types\n",
    "\n",
    "We will first start with a grammar for the types that can be annotated.\n",
    "\n",
    "$$\\begin{array}{rcl}\n",
    "\\mathbf{Type} & \\rightarrow & NumType \\\\\n",
    "& | & BoolType \\\\\n",
    "& | & FunType(\\mathbf{Type}, \\mathbf{Type}) \\\\\n",
    "\\end{array} $$\n",
    "\n",
    "The grammar is simple enough: we have types for numbers `NumType`, booleans `BoolType`,  and\n",
    "functions `FunType(t1, t2)`.\n",
    "\n",
    "A complex type such as __num => ( (num => bool) => bool)__ is expressed as `FunType(NumType\n",
    "    , FunType( \n",
    "        FunType(NumType, BoolType),\n",
    "        BoolType)\n",
    "        )`."
   ]
  },
  {
   "cell_type": "markdown",
   "id": "8bbe37de",
   "metadata": {},
   "source": [
    "<br/>\n",
    "<br/>\n",
    "<br/>\n",
    "<br/>\n",
    "<br/>\n",
    "<br/>\n",
    "<br/>\n",
    "<br/>\n",
    "<br/>\n",
    "<br/>"
   ]
  },
  {
   "cell_type": "markdown",
   "id": "4a4ffab5",
   "metadata": {},
   "source": [
    "## Updating Grammar with Type Annotations\n",
    "\n",
    "We need to change 3 things(**rules**) of the grammar\n",
    "\n",
    "\n",
    "$$\\begin{array}{rcll}\n",
    "\\mathbf{Expr} & \\rightarrow & Let( \\mathbf{Identifier}, \\color{red}{\\mathbf{Type}}, \\mathbf{Expr}, \\mathbf{Expr}) & \\text{let identifier = expr in expr} \\\\\n",
    " & | & FunDef( \\mathbf{Identifier}, \\color{red}{\\mathbf{Type}}, \\mathbf{Expr}) & \\text{function (identifier-formal-parameter) expr } \\\\ \n",
    " & | & LetRec(\\mathbf{Identifier}, \\color{red}{\\mathbf{Type}}, \\mathbf{Identifier}, \\color{red}{\\mathbf{Type}}, \\mathbf{Expr}, \\mathbf{Expr})  & \\text{}\\\\\n",
    " &&& \\text{} \\\\[5pt]\n",
    "\\end{array}$$\n"
   ]
  },
  {
   "cell_type": "markdown",
   "id": "4ba7527f",
   "metadata": {},
   "source": [
    "__Example 1:__  The concrete syntax without type is \n",
    "The concrete syntax without type is \n",
    "~~~\n",
    "let x = 25 in \n",
    "    x + 30\n",
    "~~~\n",
    "\n",
    "The concrete syntax with type is\n",
    "~~~\n",
    "let x: num = 25 in \n",
    "    x + 30\n",
    "~~~\n",
    "\n",
    "The abstract syntax is as below\n",
    "\n",
    "~~~\n",
    "Let(\"x\", NumType, Const(25), Plus(Ident(\"x\"), Const(30)) )\n",
    "~~~"
   ]
  },
  {
   "cell_type": "markdown",
   "id": "cfc59437",
   "metadata": {},
   "source": [
    "## The Semantics of Types in Lettuce\n",
    "\n",
    "We had `eval(Expr, Environment)` for finding **values** of the program or executing it. \n",
    "\n",
    "For type checking we don't `evaluate` code but we try and `identify` types. \n",
    "\n",
    "The equivalent function is $\\typeOf(\\texttt{e}, \\alpha)$ where $\\alpha$ is the *type* environment\n",
    "\n",
    "We write semantics for `typeOf` the same way we did for `eval`\n",
    "\n",
    "$$\\newcommand\\semRule[3]{\\begin{array}{c} #1 \\\\ \\hline #2 \\\\ \\end{array}\\;(\\text{#3}) }$$\n",
    "$$\\newcommand\\typeOf{\\mathbf{typeOf}}$$\n",
    "\n",
    "## Identifier Rule\n",
    "\n",
    "$$\\semRule{x \\in \\mathbf{domain}(\\alpha)}{ \\typeOf(\\texttt{Ident(x)}, \\alpha)  = \\alpha(x)}{ident-ok}$$\n",
    "$$\\semRule{x \\not\\in \\mathbf{domain}(\\alpha)}{ \\typeOf(\\texttt{Ident(x)}, \\alpha)  = \\mathbf{typeerror}}{ident-nok}$$\n",
    "\n",
    "The first rule is straightforward. \n",
    "\n",
    "The second rule says that an undefined variable leads to a __typeerror__"
   ]
  },
  {
   "cell_type": "markdown",
   "id": "ddd3c324",
   "metadata": {},
   "source": [
    "Since this is revision let's jump to a complex rule and break it down.\n",
    "\n",
    "(From the textbook notebooks)\n",
    "\n",
    "## Function Definitions\n",
    "\n",
    "$$\\semRule{\\typeOf(\\texttt{body}, \\alpha[\\texttt{arg} \\mapsto \\texttt{argType}]) = \\texttt{returnType},\\ \\texttt{returnType} \\not= \\mathbf{typeerror}}{\n",
    "\\typeOf(\\texttt{FunDef(arg, argType, body)}) = (\\texttt{argType} => \\texttt{returnType})}{fun-ok}$$\n",
    "\n",
    "\n",
    "$$\\semRule{\\color{red}{\\typeOf(\\texttt{body}, \\alpha[\\texttt{arg} \\mapsto \\texttt{argType}]) =  \\mathbf{typeerror}}}{\n",
    "\\typeOf(\\texttt{FunDef(arg, argType, body))} = \\mathbf{typeerror} }{fun-nok}$$\n",
    "\n",
    "## Function Calls\n",
    "\n",
    "$$\\semRule{\\typeOf(\\texttt{argExpr}, \\alpha) = \\texttt{t1} \\\\ \\typeOf(\\texttt{funcExpr}, \\alpha) = \\texttt{t1} => \\texttt{t2}}{\\typeOf(\\texttt{FunCall(funcExpr, argExpr)}, \\alpha) = \\texttt{t2}}{funcall-ok}$$\n",
    "\n",
    "Note that technically in our type system when we have a function type `t1 => t2`, we know for a fact\n",
    "that `t1` and `t2` cannot be a type error. This makes it redundant to say `t1 != typeerror` or `t2 != typeerror` in the rule.\n",
    "\n",
    "$$\\semRule{\\typeOf(\\texttt{argExpr}, \\alpha) = \\texttt{t1}\\\\ \\color{red}{\\typeOf(\\texttt{funcExpr}, \\alpha) \\not= \\texttt{t1} => \\texttt{t2}}}{\\typeOf(\\texttt{FunCall(funcExpr, argExpr)}, \\alpha) = \\mathbf{typeerror}}{funcall-nok}$$\n",
    "\n",
    "__Exercise__ Write rules when evaluating `funcExpr` or `argExpr` leads to a typeerror."
   ]
  },
  {
   "cell_type": "markdown",
   "id": "34e84ade",
   "metadata": {},
   "source": [
    "#### `argExpr` leads to typeerror\n",
    "$$\\semRule{\\typeOf(\\texttt{argExpr}, \\alpha) = \\color{purple}{\\textbf{???}_1} \\\\ \\typeOf(\\texttt{funcExpr}, \\alpha) = \\texttt{t1} => \\texttt{t2}}{\\typeOf(\\texttt{FunCall(funcExpr, argExpr)}, \\alpha) = \\color{purple}{\\textbf{???}_2}}{argExpr-typeerror}$$"
   ]
  },
  {
   "cell_type": "markdown",
   "id": "5f9a242f",
   "metadata": {},
   "source": [
    "$$???_1 = ???$$ \n",
    "$$???_2 = ???$$ "
   ]
  },
  {
   "cell_type": "markdown",
   "id": "74e3cc16",
   "metadata": {},
   "source": [
    "<br/>\n",
    "<br/>\n",
    "<br/>\n",
    "<br/>\n",
    "<br/>\n",
    "<br/>\n",
    "<br/>\n",
    "<br/>"
   ]
  },
  {
   "cell_type": "markdown",
   "id": "a01109e3",
   "metadata": {},
   "source": [
    "#### Lettuce Program which applies the above rule\n",
    "~~~\n",
    "let foo : num => num = function(y) y + 1 \n",
    "    in\n",
    "        let result: bool = 1 == 1 in \n",
    "            foo(result)\n",
    "\n",
    "~~~"
   ]
  },
  {
   "cell_type": "markdown",
   "id": "6f743375",
   "metadata": {},
   "source": [
    "#### Try to write the rule for `funExpr` leads to a typeerror"
   ]
  },
  {
   "cell_type": "markdown",
   "id": "f1794e95",
   "metadata": {},
   "source": [
    "Let's put our revision to test\n",
    "\n",
    "### Ex: 1\n",
    "~~~\n",
    "let f : num => (num => num) = \n",
    "                     function (x :num) \n",
    "                          function (y : num)\n",
    "                                   x + y \n",
    "in\n",
    "      f(2)(5)\n",
    "~~~\n",
    "\n",
    "### Ex : 2\n",
    "~~~\n",
    " let f : (num => bool) => num => num =\n",
    "     function (g :num => bool)\n",
    "          function (y : num) \n",
    "              g(y)\n",
    " in\n",
    "      f(2) \n",
    "~~~"
   ]
  },
  {
   "cell_type": "code",
   "execution_count": null,
   "id": "13a2eaa2",
   "metadata": {},
   "outputs": [],
   "source": []
  }
 ],
 "metadata": {
  "kernelspec": {
   "display_name": "Scala",
   "language": "scala",
   "name": "scala"
  },
  "language_info": {
   "codemirror_mode": "text/x-scala",
   "file_extension": ".scala",
   "mimetype": "text/x-scala",
   "name": "scala",
   "nbconvert_exporter": "script",
   "version": "2.12.8"
  }
 },
 "nbformat": 4,
 "nbformat_minor": 5
}
