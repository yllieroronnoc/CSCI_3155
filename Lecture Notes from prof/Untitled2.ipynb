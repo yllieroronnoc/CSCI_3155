{
 "cells": [
  {
   "cell_type": "code",
   "execution_count": null,
   "metadata": {},
   "outputs": [],
   "source": []
  },
  {
   "cell_type": "code",
   "execution_count": null,
   "metadata": {},
   "outputs": [],
   "source": []
  },
  {
   "cell_type": "code",
   "execution_count": null,
   "metadata": {},
   "outputs": [],
   "source": []
  },
  {
   "cell_type": "code",
   "execution_count": null,
   "metadata": {},
   "outputs": [],
   "source": []
  },
  {
   "cell_type": "code",
   "execution_count": null,
   "metadata": {},
   "outputs": [],
   "source": []
  },
  {
   "cell_type": "code",
   "execution_count": null,
   "metadata": {},
   "outputs": [],
   "source": []
  },
  {
   "cell_type": "code",
   "execution_count": 7,
   "metadata": {},
   "outputs": [
    {
     "data": {
      "text/plain": [
       "defined \u001b[32mclass\u001b[39m \u001b[36ma\u001b[39m\n",
       "defined \u001b[32mclass\u001b[39m \u001b[36mb\u001b[39m"
      ]
     },
     "execution_count": 7,
     "metadata": {},
     "output_type": "execute_result"
    }
   ],
   "source": [
    "class a{\n",
    "    def foo(x:Int):Int=x+20\n",
    "    def bar(x:Int):String = \"barA\"+x.toString\n",
    "}\n",
    "class b extends a{\n",
    "    override def foo(x:Int):Int = x-20\n",
    "    override def bar(x:Int):String = \"bar\"+ x.toString\n",
    "}"
   ]
  },
  {
   "cell_type": "code",
   "execution_count": 16,
   "metadata": {},
   "outputs": [
    {
     "data": {
      "text/plain": [
       "\u001b[36mb1\u001b[39m: \u001b[32mb\u001b[39m = ammonite.$sess.cmd6$Helper$b@5c78b4e0\n",
       "\u001b[36ma1\u001b[39m: \u001b[32ma\u001b[39m = ammonite.$sess.cmd6$Helper$b@5c78b4e0\n",
       "\u001b[36mb2\u001b[39m: \u001b[32mb\u001b[39m = ammonite.$sess.cmd6$Helper$b@5c78b4e0"
      ]
     },
     "execution_count": 16,
     "metadata": {},
     "output_type": "execute_result"
    }
   ],
   "source": [
    "val b1: b = new b()\n",
    "val a1: a = b1.asInstanceOf[a]\n",
    "val b2 = a1.asInstanceOf[b]"
   ]
  },
  {
   "cell_type": "code",
   "execution_count": 15,
   "metadata": {},
   "outputs": [
    {
     "data": {
      "text/plain": [
       "\u001b[36mb2\u001b[39m: \u001b[32mb\u001b[39m = ammonite.$sess.cmd6$Helper$b@10f2f7b7\n",
       "\u001b[36mres14_1\u001b[39m: \u001b[32mInt\u001b[39m = \u001b[32m-19\u001b[39m"
      ]
     },
     "execution_count": 15,
     "metadata": {},
     "output_type": "execute_result"
    }
   ],
   "source": [
    "val b2 = a1.asInstanceOf[b]\n",
    "a1.foo(1)"
   ]
  },
  {
   "cell_type": "code",
   "execution_count": 13,
   "metadata": {},
   "outputs": [
    {
     "data": {
      "text/plain": [
       "defined \u001b[32mtrait\u001b[39m \u001b[36mT\u001b[39m\n",
       "defined \u001b[32mclass\u001b[39m \u001b[36mA\u001b[39m\n",
       "defined \u001b[32mclass\u001b[39m \u001b[36mB\u001b[39m"
      ]
     },
     "execution_count": 13,
     "metadata": {},
     "output_type": "execute_result"
    }
   ],
   "source": [
    "trait T {\n",
    "   val n : Int\n",
    "   def foo(n: Int): Unit\n",
    "}\n",
    "\n",
    "abstract class A extends T {\n",
    "    val n = 1\n",
    "    override def foo(n:Int):Unit = println(\"hey\")\n",
    "}\n",
    "class B extends A {\n",
    "    ???\n",
    "}"
   ]
  },
  {
   "cell_type": "code",
   "execution_count": null,
   "metadata": {},
   "outputs": [],
   "source": []
  }
 ],
 "metadata": {
  "kernelspec": {
   "display_name": "Scala 2.12",
   "language": "scala",
   "name": "scala212"
  },
  "language_info": {
   "codemirror_mode": "text/x-scala",
   "file_extension": ".sc",
   "mimetype": "text/x-scala",
   "name": "scala",
   "nbconvert_exporter": "script",
   "version": "2.12.12"
  }
 },
 "nbformat": 4,
 "nbformat_minor": 4
}
