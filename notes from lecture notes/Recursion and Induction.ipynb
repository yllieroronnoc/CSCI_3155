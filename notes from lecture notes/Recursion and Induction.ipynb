{
 "cells": [
  {
   "cell_type": "markdown",
   "metadata": {},
   "source": [
    "<pre>\n",
    "a function f is recursive if the body of the definition refers back to f\n",
    "\n",
    "remember for a recursive function there must be a base case and the function must work towards that base case\n",
    "\n",
    "termination definition: a recursive definition of a function f(x) is terminating if and only if the sequence of recursive calls for any value of x eventually hits the base case of recursion\n",
    "\n",
    "Preconditions are constraints that restrict what inputs can be used to call a function, example factorial must be non negative\n",
    "\n",
    "Termination and ranking functions\n",
    "whether a recursive definition terminates is an important and hard problem\n",
    "\n",
    "REcursion Tree stack depth and number of calls\n",
    "\n",
    "REcursive Calls\n",
    "recursive calls are implemented like any other function and because these functions call themselves the stack grows\n",
    "we are interested in two things\n",
    "    Depth of Recursion\n",
    "    Number of Recursive Calls\n",
    "\n",
    "tree for factorial 5\n",
    "\n",
    "fact(5) -> fact(4) -> fact(3)-> fact(2)->fact(1)->fact(0)\n",
    "factorial has a depth of six\n",
    "\n",
    "fibonacci(4)\n",
    "\n",
    "Tail Calls\n",
    "    definition tail call:a function call is said to be a tail call if no further computation is performed when the call to f returns back and the result is passed back to the caller\n",
    "    \n",
    "Tail Recursion\n",
    "\n",
    "</pre>"
   ]
  }
 ],
 "metadata": {
  "kernelspec": {
   "display_name": "Scala 2.12",
   "language": "scala",
   "name": "scala212"
  },
  "language_info": {
   "codemirror_mode": "text/x-scala",
   "file_extension": ".sc",
   "mimetype": "text/x-scala",
   "name": "scala",
   "nbconvert_exporter": "script",
   "version": "2.12.12"
  }
 },
 "nbformat": 4,
 "nbformat_minor": 4
}
