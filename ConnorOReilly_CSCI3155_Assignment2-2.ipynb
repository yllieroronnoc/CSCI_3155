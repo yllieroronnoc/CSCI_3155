{
 "cells": [
  {
   "cell_type": "markdown",
   "id": "varied-history",
   "metadata": {},
   "source": [
    "Before you turn this problem in, make sure everything runs as expected. First, **restart the kernel** (in the menubar, select Kernel$\\rightarrow$Restart) and then **run all cells** (in the menubar, select Cell$\\rightarrow$Run All).\n",
    "\n",
    "Make sure you fill in any place that says `???` or \"YOUR ANSWER HERE\"."
   ]
  },
  {
   "cell_type": "markdown",
   "id": "imperial-sudan",
   "metadata": {},
   "source": [
    "---"
   ]
  },
  {
   "cell_type": "markdown",
   "id": "4f522491",
   "metadata": {
    "deletable": false,
    "editable": false,
    "nbgrader": {
     "cell_type": "markdown",
     "checksum": "e84b8f47803cf99e87b5e7fe8953e0f7",
     "grade": false,
     "grade_id": "cell-23caf73bddab1bd2",
     "locked": true,
     "schema_version": 3,
     "solution": false,
     "task": false
    }
   },
   "source": [
    "# CSCI 3155 Assignment 2 : Recursion and Tail Recursion\n",
    "\n",
    "This assignment asks you to write scala programs. \n",
    "\n",
    "**Restrictions** apply to each problem in terms of forbidden Scala features and API functions. Please read them carefully and ask for clarifications from the course staff over Piazza or during office hours if unsure.\n",
    "\n",
    "Note: `???` indicates that there is a missing function or code fragment that needs to be filled in. In scala, \n",
    "it is also a macro that throws a `NotImplemented` exception. Make sure that you remove the `???` and replace it with the answer. \n",
    "\n",
    "Use the test cases provided to test them. You are also encouraged to write your own test cases to help debug your work. However, please delete any extra cells you may have created lest they break our autograder.\n",
    "\n",
    "**Very Important:** Please run the cell that defines the functions `passed` and `testWithMessage` below whenever you restart the notebook."
   ]
  },
  {
   "cell_type": "markdown",
   "id": "c56c63ad",
   "metadata": {},
   "source": [
    "### Connor O'Reilly"
   ]
  },
  {
   "cell_type": "code",
   "execution_count": 2,
   "id": "11ea0f3c",
   "metadata": {
    "deletable": false,
    "editable": false,
    "nbgrader": {
     "cell_type": "code",
     "checksum": "c600d82e1b82a152fa94debb61b671c6",
     "grade": false,
     "grade_id": "cell-aeddd2cf2ccfdd6a",
     "locked": true,
     "schema_version": 3,
     "solution": false,
     "task": false
    }
   },
   "outputs": [
    {
     "data": {
      "text/plain": [
       "defined \u001b[32mfunction\u001b[39m \u001b[36mpassed\u001b[39m\n",
       "defined \u001b[32mfunction\u001b[39m \u001b[36mtestWithMessage\u001b[39m"
      ]
     },
     "execution_count": 2,
     "metadata": {},
     "output_type": "execute_result"
    }
   ],
   "source": [
    "// TEST HELPER\n",
    "\n",
    "// FIRST RUN THIS CELL EVERY TIME YOU START THE NOTEBOOK\n",
    "def passed(points: Int) {\n",
    "    require(points >=0)\n",
    "    if (points == 1) print(s\"\\n*** Tests Passed (1 point) ***\\n\")\n",
    "    else print(s\"\\n*** Tests Passed ($points points) ***\\n\")\n",
    "}\n",
    "\n",
    "def testWithMessage[T](v1: T, expected: T, testID: String) = { \n",
    "    println(s\"Test $testID\"); \n",
    "    println(s\"\\t Expected: $expected, your code returned: $v1\")\n",
    "    assert (v1 == expected, s\"Test $testID FAILED.\")\n",
    "    println(\"\\t Passed!\")\n",
    "}"
   ]
  },
  {
   "cell_type": "markdown",
   "id": "79b1c77a",
   "metadata": {
    "deletable": false,
    "editable": false,
    "nbgrader": {
     "cell_type": "markdown",
     "checksum": "406d69735d1bc23eaca8b2f56090737e",
     "grade": false,
     "grade_id": "cell-d1cc7d9a1f4ba632",
     "locked": true,
     "schema_version": 3,
     "solution": false,
     "task": false
    }
   },
   "source": [
    "## Problem 1A  (5 points)\n",
    "\n",
    "Write a function `countZeros` that inputs a list of numbers `lst` and counts how many elements of `lst` are equal to zero. \n",
    "\n",
    "\n",
    "### Restrictions \n",
    " - Your function must be recursive (not necessary that it be tail recursive)\n",
    " - You __cannot__ use loops (for-loops, while loops etc..), and  __no__ mutables (var).\n",
    " - You __cannot__ use return statement in your function.\n",
    " - List Operations allowed: \n",
    "    - list.length - length of a list\n",
    "    - list.head - extract the first element of a list\n",
    "    - list.tail - extract the sublist from the second element  to last element of  list.\n",
    " - No other list API functions or API functions of any other datastructure allowed. Eg., do not look to convert your list into an array and use some Array API function."
   ]
  },
  {
   "cell_type": "code",
   "execution_count": 2,
   "id": "1c064622",
   "metadata": {
    "deletable": false,
    "nbgrader": {
     "cell_type": "code",
     "checksum": "8441d5e1478c9211358f1c266852f2b2",
     "grade": false,
     "grade_id": "cell-0cb565560e29312d",
     "locked": false,
     "schema_version": 3,
     "solution": true,
     "task": false
    }
   },
   "outputs": [
    {
     "data": {
      "text/plain": [
       "defined \u001b[32mfunction\u001b[39m \u001b[36mcountZeros\u001b[39m"
      ]
     },
     "execution_count": 2,
     "metadata": {},
     "output_type": "execute_result"
    }
   ],
   "source": [
    "// YOUR CODE HERE\n",
    "def countZeros(lst: List[Int]) : Int = {\n",
    "    \n",
    "    if(lst.length == 0){\n",
    "        //check if list is empty, if so return zero\n",
    "        0\n",
    "    } else{\n",
    "        //if not empty, recursivly call it\n",
    "        if(lst.head == 0){\n",
    "            countZeros(lst.tail) + 1\n",
    "        } else{\n",
    "            countZeros(lst.tail)\n",
    "        }\n",
    "    }   \n",
    "    \n",
    "}"
   ]
  },
  {
   "cell_type": "code",
   "execution_count": 3,
   "id": "6494d233",
   "metadata": {
    "deletable": false,
    "editable": false,
    "nbgrader": {
     "cell_type": "code",
     "checksum": "5737588f0246b2eade5b488b4f3516a0",
     "grade": true,
     "grade_id": "cell-c6190c2906bcedea",
     "locked": true,
     "points": 5,
     "schema_version": 3,
     "solution": false,
     "task": false
    }
   },
   "outputs": [
    {
     "name": "stdout",
     "output_type": "stream",
     "text": [
      "Test  countZeros(List(0, 1, 0, 1, 0, 1)) # 1\n",
      "\t Expected: 3, your code returned: 3\n",
      "\t Passed!\n",
      "Test  countZeros(List(0)) # 2\n",
      "\t Expected: 1, your code returned: 1\n",
      "\t Passed!\n",
      "Test  countZeros(List(2, 3, 4, -2)) # 3\n",
      "\t Expected: 0, your code returned: 0\n",
      "\t Passed!\n",
      "Test  countZeros(List(0, 0, 0, 0, 0, 0)) # 4\n",
      "\t Expected: 6, your code returned: 6\n",
      "\t Passed!\n",
      "Test  countZeros(List(5, 1, 2, 3, 4, 5, 0, 1, 5)) # 5\n",
      "\t Expected: 1, your code returned: 1\n",
      "\t Passed!\n",
      "Test countZeros(List()) # 6\n",
      "\t Expected: 0, your code returned: 0\n",
      "\t Passed!\n",
      "\n",
      "*** Tests Passed (5 points) ***\n"
     ]
    }
   ],
   "source": [
    "testWithMessage( countZeros(List(0, 1, 0, 1, 0, 1)), 3 , \" countZeros(List(0, 1, 0, 1, 0, 1)) # 1\")\n",
    "testWithMessage( countZeros(List(0)), 1, \" countZeros(List(0)) # 2\")\n",
    "testWithMessage( countZeros(List(2, 3, 4, -2)), 0, \" countZeros(List(2, 3, 4, -2)) # 3\")\n",
    "testWithMessage( countZeros(List(0, 0, 0, 0, 0, 0)), 6, \" countZeros(List(0, 0, 0, 0, 0, 0)) # 4\")\n",
    "testWithMessage( countZeros(List(5, 1, 2, 3, 4, 5, 0, 1, 5)), 1, \" countZeros(List(5, 1, 2, 3, 4, 5, 0, 1, 5)) # 5\")\n",
    "testWithMessage( countZeros(List()), 0, \"countZeros(List()) # 6\")\n",
    "passed(5)"
   ]
  },
  {
   "cell_type": "markdown",
   "id": "4577f74b",
   "metadata": {
    "nbgrader": {
     "grade": false,
     "grade_id": "cell-257f5003cdb7f0f3",
     "locked": false,
     "schema_version": 3,
     "solution": false,
     "task": false
    }
   },
   "source": [
    "## Problem 1B (5 points)\n",
    "\n",
    "Write a tail recursive version of the `countZero` function  described in Problem 1A. Call your tail recursive function `countZeroTail`.\n",
    "\n",
    "Place a `@tailrec` decorator in font of your function. \n",
    "Some scala versions (Scala < 2.12?) may require you to declare your function with the `final` keyword in front. \n",
    "\n",
    "~~~\n",
    "final def countZeroTail(lst:List[Int],....): Int = { ... }\n",
    "~~~\n",
    "\n",
    "\n",
    "### Restrictions\n",
    "\n",
    "Same restrictions as problem 1A.\n",
    "\n",
    "Additionally your function must be tail recursive.\n",
    "\n",
    "Calling `countZero` from inside your `countZeroTail` function is not allowed."
   ]
  },
  {
   "cell_type": "code",
   "execution_count": 149,
   "id": "52f49cdb",
   "metadata": {
    "deletable": false,
    "nbgrader": {
     "cell_type": "code",
     "checksum": "3b98a5d5efb146e263153b42e0953f23",
     "grade": false,
     "grade_id": "cell-7326b99db5f0bc73",
     "locked": false,
     "schema_version": 3,
     "solution": true,
     "task": false
    }
   },
   "outputs": [
    {
     "data": {
      "text/plain": [
       "\u001b[32mimport \u001b[39m\u001b[36mscala.annotation.tailrec\n",
       "\n",
       "\u001b[39m\n",
       "defined \u001b[32mfunction\u001b[39m \u001b[36mcountZeroTail\u001b[39m"
      ]
     },
     "execution_count": 149,
     "metadata": {},
     "output_type": "execute_result"
    }
   ],
   "source": [
    "import scala.annotation.tailrec\n",
    "\n",
    "@tailrec\n",
    "def countZeroTail(lst: List[Int] , count: Int = 0) : Int = {\n",
    "    \n",
    "    if(lst.length == 0){\n",
    "        //check if list is empty, if so return zero\n",
    "        count\n",
    "    } else{\n",
    "        //if not empty, recursivly call it\n",
    "        if(lst.head == 0){\n",
    "            countZeroTail(lst.tail, count + 1)\n",
    "        } else{\n",
    "            countZeroTail(lst.tail, count)\n",
    "        }\n",
    "    }   \n",
    "}"
   ]
  },
  {
   "cell_type": "code",
   "execution_count": 150,
   "id": "50257f80",
   "metadata": {
    "deletable": false,
    "editable": false,
    "nbgrader": {
     "cell_type": "code",
     "checksum": "f7babba1ff732b77824a30929e0a53d3",
     "grade": true,
     "grade_id": "cell-96da0d4bea949b29",
     "locked": true,
     "points": 5,
     "schema_version": 3,
     "solution": false,
     "task": false
    }
   },
   "outputs": [
    {
     "name": "stdout",
     "output_type": "stream",
     "text": [
      "Test  countZeroTail(List(0, 1, 0, 1, 0, 1)) # 1\n",
      "\t Expected: 3, your code returned: 3\n",
      "\t Passed!\n",
      "Test  countZeroTail(List(0)) # 2\n",
      "\t Expected: 1, your code returned: 1\n",
      "\t Passed!\n",
      "Test  countZeroTail(List(2, 3, 4, -2)) # 3\n",
      "\t Expected: 0, your code returned: 0\n",
      "\t Passed!\n",
      "Test  countZeroTail(List(0, 0, 0, 0, 0, 0)) # 4\n",
      "\t Expected: 6, your code returned: 6\n",
      "\t Passed!\n",
      "Test  countZeroTail(List(5, 1, 2, 3, 4, 5, 0, 1, 5)) # 5\n",
      "\t Expected: 1, your code returned: 1\n",
      "\t Passed!\n",
      "Test countZeroTail(List()) # 6\n",
      "\t Expected: 0, your code returned: 0\n",
      "\t Passed!\n",
      "\n",
      "*** Tests Passed (5 points) ***\n"
     ]
    }
   ],
   "source": [
    "testWithMessage( countZeroTail(List(0, 1, 0, 1, 0, 1)), 3 , \" countZeroTail(List(0, 1, 0, 1, 0, 1)) # 1\")\n",
    "testWithMessage( countZeroTail(List(0)), 1, \" countZeroTail(List(0)) # 2\")\n",
    "testWithMessage( countZeroTail(List(2, 3, 4, -2)), 0, \" countZeroTail(List(2, 3, 4, -2)) # 3\")\n",
    "testWithMessage( countZeroTail(List(0, 0, 0, 0, 0, 0)), 6, \" countZeroTail(List(0, 0, 0, 0, 0, 0)) # 4\")\n",
    "testWithMessage( countZeroTail(List(5, 1, 2, 3, 4, 5, 0, 1, 5)), 1, \" countZeroTail(List(5, 1, 2, 3, 4, 5, 0, 1, 5)) # 5\")\n",
    "testWithMessage( countZeroTail(List()), 0, \"countZeroTail(List()) # 6\")\n",
    "passed(5)"
   ]
  },
  {
   "cell_type": "markdown",
   "id": "0a97341b",
   "metadata": {
    "deletable": false,
    "editable": false,
    "nbgrader": {
     "cell_type": "markdown",
     "checksum": "e8f6b42b2dfa457a9ba5f589c877c5e8",
     "grade": false,
     "grade_id": "cell-1cb51a426718ec3a",
     "locked": true,
     "schema_version": 3,
     "solution": false,
     "task": false
    }
   },
   "source": [
    "## Problem 1 C (10 points)\n",
    "\n",
    "Write a tail recursive function `extractSubList` that inputs three arguments `lst` of integers, index `i` and length `j`.\n",
    "\n",
    "Given a list of integers `lst`, an index `i` into the list and a length `j`, extract all the elements in the original list `lst(i), ..., lst(i+j-1)` into a new list. Handle corner cases by returning an empty list when (a) `j <= 0` or (b) `i+j` is greater than the length of the list `lst`.\n",
    "\n",
    "__Hint:__ Write a function `extractSubList` that handles all the _corner_ cases above and calls a \"helper\" function `extractSubListHelper` for all the _non corner_ cases. Make sure that `extractSubListHelper` is itself tail recursive. Make sure that the `@tailrec` decorator is applied to the helper function.\n",
    "\n",
    "### Restrictions\n",
    "\n",
    "  - Same restrictions as problem 1A.\n",
    "  - Additionally your helper function must be tail recursive.\n",
    "  - You __can__ use `list.head` and `list.tail` functions. Read about them here: https://www.tutorialspoint.com/scala/scala_lists.htm\n",
    "  - You __can__ use `list.length`\n",
    "  - You __can__ use list cons operator `elt::list` to append an element in front of a list, and also use `:+` operator to append to the back of the list. You __can__ also use `++` operator (or `:::` operator) to append two lists to each other.\n",
    "  - You __can__ reverse a list by calling the List API function `list.reverse`.\n",
    "  - You __cannot__ access list elements using their indices: Eg., `lst(i)` to directly access the ith element is forbidden.\n",
    "  - No other list API functions allowed."
   ]
  },
  {
   "cell_type": "code",
   "execution_count": 143,
   "id": "e57798fc",
   "metadata": {
    "deletable": false,
    "nbgrader": {
     "cell_type": "code",
     "checksum": "c86c557d92bab9d0b3fe1c349f959642",
     "grade": false,
     "grade_id": "cell-2ea676480d0a3998",
     "locked": false,
     "schema_version": 3,
     "solution": true,
     "task": false
    }
   },
   "outputs": [
    {
     "data": {
      "text/plain": [
       "\u001b[32mimport \u001b[39m\u001b[36mscala.annotation.tailrec\n",
       "\n",
       "\n",
       "\u001b[39m\n",
       "defined \u001b[32mfunction\u001b[39m \u001b[36mextractSubList\u001b[39m\n",
       "defined \u001b[32mfunction\u001b[39m \u001b[36mextractSubListHelper\u001b[39m"
      ]
     },
     "execution_count": 143,
     "metadata": {},
     "output_type": "execute_result"
    }
   ],
   "source": [
    "import scala.annotation.tailrec\n",
    "\n",
    "\n",
    "def extractSubList(lst: List[String] , i: Int , j: Int): List[String] = {\n",
    "    //create empty list and deal with corner cases\n",
    "    val empty: List[String] = Nil\n",
    "    if( (j <= 0) || ( (i+j) > lst.length) ){\n",
    "        empty\n",
    "    } else {\n",
    "        //if not corner cases send to helper\n",
    "        extractSubListHelper(lst, empty , i , j)\n",
    "    }\n",
    "    //after complete recurvise call from output of extract sublist to original until it quits\n",
    "}\n",
    "\n",
    "\n",
    "@tailrec\n",
    "def extractSubListHelper(lst: List[String] , lst2: List[String],  i: Int , j: Int , acc: Int = 0): List[String] = {\n",
    "    \n",
    "    // three cases, first function call up until i is reached, i to j, after j \n",
    "    \n",
    "    \n",
    "    if(acc < i){\n",
    "        //if acc is less than but not equal to i shorten list until we reach the first wanted element i\n",
    "        //shorten original list, keep other empty\n",
    "        extractSubListHelper(lst.tail , lst2 , i , j , acc + 1)\n",
    "    }\n",
    "    else if ( (acc >= i) && (acc <= (i + j - 1)) ) {\n",
    "        //if acc is >= i but still less than (i + j - 1), continue to add to new array recursivly and shorten array and append \n",
    "        //to new array until (i + j - 1)  element is reached\n",
    "        extractSubListHelper(lst.tail , lst2 :+ lst.head , i , j, acc + 1)\n",
    "    }else{\n",
    "        //if accumulator is larger than i + j - 1 we are done\n",
    "        lst2\n",
    "    }\n",
    "    \n",
    "}\n"
   ]
  },
  {
   "cell_type": "code",
   "execution_count": 144,
   "id": "807ad05f",
   "metadata": {
    "deletable": false,
    "editable": false,
    "nbgrader": {
     "cell_type": "code",
     "checksum": "1b158463454e22f9e7965435bcd61c9c",
     "grade": true,
     "grade_id": "cell-ea11f3b0e46ecd37",
     "locked": true,
     "points": 10,
     "schema_version": 3,
     "solution": false,
     "task": false
    }
   },
   "outputs": [
    {
     "name": "stdout",
     "output_type": "stream",
     "text": [
      "Test test1\n",
      "\t Expected: List(c, d, e), your code returned: List(c, d, e)\n",
      "\t Passed!\n",
      "Test test2\n",
      "\t Expected: List(), your code returned: List()\n",
      "\t Passed!\n",
      "Test test3\n",
      "\t Expected: List(), your code returned: List()\n",
      "\t Passed!\n",
      "Test test4\n",
      "\t Expected: List(b), your code returned: List(b)\n",
      "\t Passed!\n",
      "Test test5\n",
      "\t Expected: List(), your code returned: List()\n",
      "\t Passed!\n",
      "Test test6\n",
      "\t Expected: List(a, b, c, d, e), your code returned: List(a, b, c, d, e)\n",
      "\t Passed!\n",
      "\n",
      "*** Tests Passed (10 points) ***\n"
     ]
    }
   ],
   "source": [
    "//BEGIN TESTS\n",
    "testWithMessage(\n",
    "    extractSubList(List(\"a\", \"b\", \"c\", \"d\", \"e\"), 2, 3),\n",
    "    List(\"c\",\"d\",\"e\"),\n",
    "    \"test1\"\n",
    "    )\n",
    "\n",
    "testWithMessage(\n",
    "    extractSubList(List(\"a\", \"b\", \"c\", \"d\", \"e\"), 3, 3),\n",
    "    List(),\n",
    "    \"test2\"\n",
    "    )\n",
    "\n",
    "testWithMessage(\n",
    "    extractSubList(List(\"a\", \"b\", \"c\", \"d\", \"e\"), 6, 0),\n",
    "    List(),\n",
    "    \"test3\"\n",
    "    )\n",
    "\n",
    "testWithMessage(\n",
    "    extractSubList(List(\"a\", \"b\", \"c\", \"d\", \"e\"), 1, 1),\n",
    "    List(\"b\"),\n",
    "    \"test4\"\n",
    "    )\n",
    "\n",
    "testWithMessage(\n",
    "    extractSubList(List(), 0, 0),\n",
    "    List(),\n",
    "    \"test5\"\n",
    "    )\n",
    "\n",
    "testWithMessage(\n",
    "    extractSubList(List(\"a\", \"b\", \"c\", \"d\", \"e\"), 0, 5),\n",
    "    List(\"a\",\"b\",\"c\",\"d\",\"e\"),\n",
    "    \"test6\"\n",
    "    )\n",
    "passed(10)\n",
    "//END TESTS"
   ]
  },
  {
   "cell_type": "markdown",
   "id": "ecb733ac",
   "metadata": {
    "deletable": false,
    "editable": false,
    "nbgrader": {
     "cell_type": "markdown",
     "checksum": "7d48bf0787df79c11ebb71d08326b851",
     "grade": false,
     "grade_id": "cell-3bf5488affed2aec",
     "locked": true,
     "schema_version": 3,
     "solution": false,
     "task": false
    }
   },
   "source": [
    "## Problem 2 A (5 points)\n",
    "\n",
    "Write a function `countVowels` that inputs a string `str` and counts the number of vowels `a, e, i, o, u, A, E, I, O, U` in the string. \n",
    "\n",
    "### Restrictions\n",
    " - Must be tail recursive.\n",
    " - You __cannot__ use loops (for-loops, while loops etc..), and  __no__ mutables (var).\n",
    " - You __cannot__ use return statement in your function.\n",
    " - String Operations allowed: \n",
    "    - `string.length` - length of a string\n",
    "    - `string.head` - the first character in a string. Equivalent to `string(0)`\n",
    "    - `string.tail` - extract the substring from the second character to end of string. Equivalent to `string.substring(1, string.length)`\n",
    "    - No other string API functions are allowed.\n",
    " - Char Operations: \n",
    "    - `char.toLower` - Convert a char to lower case. Has no effect if char is already lower case or is not an alphabet.\n",
    " - No other list API functions or API functions of any other data structures allowed. Eg., do not look to convert your string into an array/list and use some Array/List API function.\n"
   ]
  },
  {
   "cell_type": "code",
   "execution_count": 162,
   "id": "c26719dc",
   "metadata": {
    "deletable": false,
    "nbgrader": {
     "cell_type": "code",
     "checksum": "e3b87da8a44e94e6a87c5eebfde75990",
     "grade": false,
     "grade_id": "cell-2e7bb9392d8c5bd3",
     "locked": false,
     "schema_version": 3,
     "solution": true,
     "task": false
    },
    "tags": []
   },
   "outputs": [
    {
     "data": {
      "text/plain": [
       "\u001b[32mimport \u001b[39m\u001b[36mscala.annotation.tailrec\n",
       "\n",
       "\n",
       "\u001b[39m\n",
       "defined \u001b[32mfunction\u001b[39m \u001b[36mdetermineVowel\u001b[39m\n",
       "defined \u001b[32mfunction\u001b[39m \u001b[36mcountVowels\u001b[39m"
      ]
     },
     "execution_count": 162,
     "metadata": {},
     "output_type": "execute_result"
    }
   ],
   "source": [
    "import scala.annotation.tailrec\n",
    "\n",
    "\n",
    "def determineVowel(s: Char) : Boolean = {\n",
    "    //just determines if a char is a vowel, assumes input is a char\n",
    "    if( (s == 'a') || (s == 'e') || (s == 'i') || (s == 'o') || (s == 'u') ){\n",
    "        true\n",
    "    } else {\n",
    "        false\n",
    "    }\n",
    "}\n",
    "@tailrec\n",
    "def countVowels(s: String, acc: Int = 0): Int = {\n",
    "    if(s.isEmpty){\n",
    "        //if empty just return default param\n",
    "        acc\n",
    "    }\n",
    "    else{\n",
    "        //if not empty, convert current first char in string to lower case and adjust parameter\n",
    "        \n",
    "        if( determineVowel(s.head.toLower) ) {\n",
    "            // is a vowel, add to accumulator \n",
    "            countVowels(s.tail, acc + 1)\n",
    "        } else {\n",
    "            //is not a vowel\n",
    "            countVowels(s.tail, acc)\n",
    "        }\n",
    "    }\n",
    "}"
   ]
  },
  {
   "cell_type": "code",
   "execution_count": 163,
   "id": "b4ee8c7a",
   "metadata": {
    "deletable": false,
    "editable": false,
    "nbgrader": {
     "cell_type": "code",
     "checksum": "68c269cc9a4bec8e1afce599e5d3c8ae",
     "grade": true,
     "grade_id": "cell-4ba3adff731ac05c",
     "locked": true,
     "points": 5,
     "schema_version": 3,
     "solution": false,
     "task": false
    }
   },
   "outputs": [
    {
     "name": "stdout",
     "output_type": "stream",
     "text": [
      "Test \"atchou\" must have three vowels in it\n",
      "\t Expected: 3, your code returned: 3\n",
      "\t Passed!\n",
      "Test Empty string has no vowels\n",
      "\t Expected: 0, your code returned: 0\n",
      "\t Passed!\n",
      "Test Non alphabet chars handled\n",
      "\t Expected: 0, your code returned: 0\n",
      "\t Passed!\n",
      "Test Capitalized vowels handled\n",
      "\t Expected: 6, your code returned: 6\n",
      "\t Passed!\n",
      "Test \"Grzzly\" has no vowels\n",
      "\t Expected: 0, your code returned: 0\n",
      "\t Passed!\n",
      "Test Handling commas and spaces?\n",
      "\t Expected: 12, your code returned: 12\n",
      "\t Passed!\n",
      "\n",
      "*** Tests Passed (5 points) ***\n"
     ]
    }
   ],
   "source": [
    "//BEGIN TEST\n",
    "testWithMessage( countVowels(\"atchou\") , 3, \"\\\"atchou\\\" must have three vowels in it\" )\n",
    "testWithMessage( countVowels(\"\"), 0, \"Empty string has no vowels\")\n",
    "testWithMessage( countVowels(\"$%!%@!1125122^^&&\"), 0, \"Non alphabet chars handled\")\n",
    "testWithMessage( countVowels(\"AAEIOU\"), 6, \"Capitalized vowels handled\")\n",
    "testWithMessage( countVowels(\"Grzzly\"), 0, \"\\\"Grzzly\\\" has no vowels\")\n",
    "testWithMessage( countVowels(\"Meow, Meow, says the alley cat next door!!\"), 12, \"Handling commas and spaces?\")\n",
    "passed(5)\n",
    "//END TEST"
   ]
  },
  {
   "cell_type": "markdown",
   "id": "09cb6ca8",
   "metadata": {
    "deletable": false,
    "editable": false,
    "nbgrader": {
     "cell_type": "markdown",
     "checksum": "50deca60e5fa3a8148e7f3a999eb5077",
     "grade": false,
     "grade_id": "cell-4c8610b981068620",
     "locked": true,
     "schema_version": 3,
     "solution": false,
     "task": false
    }
   },
   "source": [
    "## Problem 2B (10 points)\n",
    "\n",
    "Write a function `extractPrefix` that takes in a string `str`, and a length `j`. It extracts the first `j` characters of the string if `j < str.length` or else returns the entire string if `j >= str.length`.\n",
    "\n",
    "### Examples\n",
    "\n",
    "  - `extractPrefix(\"Hello\", 3)` should return `\"Hel\"`\n",
    "  - `extractPrefix(\"Yallooo\", 1)` should return `\"Y\"`\n",
    "  - `extractPrefix(\"AnyongHaseyo\", 0)` should return `\"\"` (empty string)\n",
    "  - `extractPrefix(\"hello\", 10)` should return `\"hello\"` (entire string)\n",
    " \n",
    "### Restrictions\n",
    "- Must be tail recursive.\n",
    "- You __cannot__ use loops (for-loops, while loops etc..), and  __no__ mutables (var).\n",
    "- You __cannot__ use return statement in your function.\n",
    "- String Operations allowed: \n",
    "    - `string.length` - length of a string\n",
    "    - `string.head` - the first character in a string. Equivalent to `string(0)`\n",
    "    - `string.tail` - extract the substring from the second character to end of string. Equivalent to `string.substring(1, string.length)`\n",
    "    - Appending two strings `s1 + s2` is permitted. It is also permitted to append `s + c` where `s` is a string and `c` is a Char. This will yield a new string with the character concatenated  to the end of the string.\n",
    "- No other list API functions or API functions of any other data structures allowed. Eg., do not look to convert your string into an array/list and use some Array/List API function.\n",
    "\n",
    "\n"
   ]
  },
  {
   "cell_type": "code",
   "execution_count": 23,
   "id": "d980fa69",
   "metadata": {
    "deletable": false,
    "nbgrader": {
     "cell_type": "code",
     "checksum": "c8b3c8376964e03fc1e443375ef6b19b",
     "grade": false,
     "grade_id": "cell-d6dc9fd0bc67aa68",
     "locked": false,
     "schema_version": 3,
     "solution": true,
     "task": false
    }
   },
   "outputs": [
    {
     "data": {
      "text/plain": [
       "\u001b[32mimport \u001b[39m\u001b[36mscala.annotation.tailrec\n",
       "\n",
       "\u001b[39m\n",
       "defined \u001b[32mfunction\u001b[39m \u001b[36mextractPrefix\u001b[39m"
      ]
     },
     "execution_count": 23,
     "metadata": {},
     "output_type": "execute_result"
    }
   ],
   "source": [
    "import scala.annotation.tailrec\n",
    "\n",
    "@tailrec\n",
    "def extractPrefix(s:String, j: Int ,ret_string: String = \"\", acc: Int = 0): String = {\n",
    "    if(j == 0){\n",
    "        //if wanted length is zero, return empty string\n",
    "        ret_string\n",
    "    } else if((j >= s.length) && (acc ==0)) {\n",
    "        //if wanted length is larger than or equal to the string itself return entire string, and accumulator has not changed\n",
    "        s\n",
    "    } else{\n",
    "        //if length is greater than zero and also less than the length call tail recursive function\n",
    "        if(acc < j){\n",
    "            extractPrefix(s.tail,  j ,ret_string + s.head, acc + 1)\n",
    "        }else{\n",
    "            ret_string\n",
    "        }\n",
    "    }   \n",
    "}\n",
    "\n",
    "\n",
    "\n",
    "\n",
    "\n",
    "// YOUR CODE HERE\n"
   ]
  },
  {
   "cell_type": "code",
   "execution_count": 24,
   "id": "a9dda121",
   "metadata": {
    "deletable": false,
    "editable": false,
    "nbgrader": {
     "cell_type": "code",
     "checksum": "940375da822b0eb0835c707ed1d603b2",
     "grade": true,
     "grade_id": "cell-c350ba564b712141",
     "locked": true,
     "points": 10,
     "schema_version": 3,
     "solution": false,
     "task": false
    }
   },
   "outputs": [
    {
     "name": "stdout",
     "output_type": "stream",
     "text": [
      "Test Test # 1\n",
      "\t Expected: Hel, your code returned: Hel\n",
      "\t Passed!\n",
      "Test Test # 2\n",
      "\t Expected: Hel, your code returned: Hel\n",
      "\t Passed!\n",
      "Test Test # 3\n",
      "\t Expected: , your code returned: \n",
      "\t Passed!\n",
      "Test Test # 4\n",
      "\t Expected: , your code returned: \n",
      "\t Passed!\n",
      "Test Test # 5\n",
      "\t Expected: Papa, your code returned: Papa\n",
      "\t Passed!\n",
      "Test Test # 6\n",
      "\t Expected: Papa, your code returned: Papa\n",
      "\t Passed!\n",
      "\n",
      "*** Tests Passed (10 points) ***\n"
     ]
    }
   ],
   "source": [
    "testWithMessage(extractPrefix(\"Hello\", 3), \"Hel\", \"Test # 1\")\n",
    "testWithMessage(extractPrefix(\"Hel\", 6), \"Hel\", \"Test # 2\")\n",
    "testWithMessage(extractPrefix(\"\", 10), \"\", \"Test # 3\")\n",
    "testWithMessage(extractPrefix(\"Papa\", 0), \"\", \"Test # 4\")\n",
    "\n",
    "testWithMessage(extractPrefix(\"Papa\", 5), \"Papa\", \"Test # 5\")\n",
    "testWithMessage(extractPrefix(\"Papa\", 4), \"Papa\", \"Test # 6\")\n",
    "\n",
    "passed(10)"
   ]
  },
  {
   "cell_type": "markdown",
   "id": "e2f079d0",
   "metadata": {
    "deletable": false,
    "editable": false,
    "nbgrader": {
     "cell_type": "markdown",
     "checksum": "e41a9a0e96a147d94337f5e00b76ee11",
     "grade": false,
     "grade_id": "cell-1a8d7b3d6bd2f23b",
     "locked": true,
     "schema_version": 3,
     "solution": false,
     "task": false
    }
   },
   "source": [
    "## Problem 3 (15 points)\n",
    "\n",
    "The Newton-Raphson method for finding the square root of a positive number $s > 0$ works as follows:\n",
    "\n",
    "  - Set $x_0 = s$ as the starting value.\n",
    "  - At each step $n$, set $x_n = 0.5 ( x_{n-1} + \\frac{s}{x_{n-1}}) $.\n",
    "  - Terminate whenever $| x_n^2 - s| \\leq \\epsilon$, where $\\epsilon $ is a small error tolerance (typically $10^{-10}$).\n",
    "\n",
    "For your convenience we provide you with a while loop based version of this method to find square root. Your goal is to implement it as a tail recursive function.\n"
   ]
  },
  {
   "cell_type": "code",
   "execution_count": 4,
   "id": "dad91991",
   "metadata": {
    "deletable": false,
    "editable": false,
    "nbgrader": {
     "cell_type": "code",
     "checksum": "49c719b350c4a93d72c712f01558cd70",
     "grade": false,
     "grade_id": "cell-0dc02150f63834aa",
     "locked": true,
     "schema_version": 3,
     "solution": false,
     "task": false
    }
   },
   "outputs": [
    {
     "data": {
      "text/plain": [
       "defined \u001b[32mfunction\u001b[39m \u001b[36msqrtLoop\u001b[39m"
      ]
     },
     "execution_count": 4,
     "metadata": {},
     "output_type": "execute_result"
    }
   ],
   "source": [
    "def sqrtLoop(s: Double, epsilon: Double = 1E-10): Double = {\n",
    "    require (s >= 0.0) // This is just a fancy assert statement that expresses a precondition\n",
    "    var x:Double = s\n",
    "    while ( math.abs(x*x - s) > epsilon) {\n",
    "        x = 0.5 * (x + s/x)\n",
    "    }\n",
    "    x\n",
    "}"
   ]
  },
  {
   "cell_type": "code",
   "execution_count": null,
   "id": "74b07f96",
   "metadata": {
    "deletable": false,
    "editable": false,
    "nbgrader": {
     "cell_type": "code",
     "checksum": "b7e11d121628fcdf85cfe3d2b83f343a",
     "grade": false,
     "grade_id": "cell-56e05cc5a98185cc",
     "locked": true,
     "schema_version": 3,
     "solution": false,
     "task": false
    }
   },
   "outputs": [],
   "source": [
    "/* -- Let's test our loopy version --*/\n",
    "for (i <- 0 to 100){\n",
    "    val x = i/10.0\n",
    "    println(s\"sqrt($x) = ${sqrtLoop(x)}\" )\n",
    "}"
   ]
  },
  {
   "cell_type": "markdown",
   "id": "89d881b9",
   "metadata": {
    "deletable": false,
    "editable": false,
    "nbgrader": {
     "cell_type": "markdown",
     "checksum": "4f394d0cbd2ee3860b60d2a49171c672",
     "grade": false,
     "grade_id": "cell-edd7b59fb5610cf5",
     "locked": true,
     "schema_version": 3,
     "solution": false,
     "task": false
    }
   },
   "source": [
    "Implement a tail recursive function `sqrtRec` which takes as an argument a double precision number `s` that is assumed to be non-negative, and optional argument `epsilon` which has a default value of `1E-10`.  You may implement a tail recursive _helper_ function and call that from your `sqrtRec` function.\n",
    "\n",
    "### Restrictions\n",
    "\n",
    " - Use of any math function other than `math.abs` is disallowed. You cannot, for instance, use `math.sqrt` or `math.log`. However, you can use `math.abs` function.\n",
    " - You __cannot__ use loops (for-loops, while loops etc..), and  __no__ mutables (var).\n",
    " - You __cannot__ use return statement in your function.\n",
    " - Your functions must be tail recursive.\n",
    " - Use of any other data-structure/number API function is also disallowed.\n",
    " - If it is more convenient,  make a tail recursive function `sqrtRecHelper` and call that function from the desired `sqrtRec` function."
   ]
  },
  {
   "cell_type": "code",
   "execution_count": 13,
   "id": "57ccc84f",
   "metadata": {
    "deletable": false,
    "nbgrader": {
     "cell_type": "code",
     "checksum": "78b7fcf50ad4613ca3d3450136d7d1dd",
     "grade": false,
     "grade_id": "cell-9793083fbebd61ef",
     "locked": false,
     "schema_version": 3,
     "solution": true,
     "task": false
    }
   },
   "outputs": [
    {
     "data": {
      "text/plain": [
       "\u001b[32mimport \u001b[39m\u001b[36mscala.annotation.tailrec\n",
       "\n",
       "\u001b[39m\n",
       "defined \u001b[32mfunction\u001b[39m \u001b[36msqrtRec\u001b[39m"
      ]
     },
     "execution_count": 13,
     "metadata": {},
     "output_type": "execute_result"
    }
   ],
   "source": [
    "import scala.annotation.tailrec\n",
    "\n",
    "@tailrec\n",
    "def sqrtRec(s: Double, epsilon: Double = 1E-10, new_guess: Double = 0): Double = {\n",
    "    require (s >= 0.0) // This is just a fancy assert statement that expresses a precondition\n",
    "    if(new_guess == 0){ // for \"accumulator\" updates estimate after initial run so we can store s\n",
    "        //initial run\n",
    "        val guess: Double = (s + s/s) * 0.5\n",
    "        sqrtRec(s, epsilon, guess)\n",
    "    }\n",
    "    else{\n",
    "        //not initial run\n",
    "        if( math.abs(new_guess * new_guess - s) < epsilon){\n",
    "            //if it falls within the correct tolerance ret\n",
    "            new_guess\n",
    "        }else{\n",
    "            //otherwise guess and check again\n",
    "            val guess: Double = (new_guess + s/new_guess) * 0.5\n",
    "            sqrtRec(s, epsilon, guess)\n",
    "        }\n",
    "    }\n",
    "}\n"
   ]
  },
  {
   "cell_type": "code",
   "execution_count": 11,
   "id": "0500bc13",
   "metadata": {
    "deletable": false,
    "editable": false,
    "nbgrader": {
     "cell_type": "code",
     "checksum": "8d565776ee7219e73c1b701426555d18",
     "grade": true,
     "grade_id": "cell-d296cb8a424fbeb2",
     "locked": true,
     "points": 15,
     "schema_version": 3,
     "solution": false,
     "task": false
    }
   },
   "outputs": [
    {
     "ename": "",
     "evalue": "",
     "output_type": "error",
     "traceback": [
      "Interrupted!\n  ammonite.$sess.cmd9$Helper.sqrtRec(\u001b[32mcmd9.sc\u001b[39m:\u001b[32m12\u001b[39m)\n  ammonite.$sess.cmd10$Helper.$anonfun$res10_1$1(\u001b[32mcmd10.sc\u001b[39m:\u001b[32m12\u001b[39m)\n  ammonite.$sess.cmd10$Helper$$Lambda$2512/0x0000000840b7c040.apply$mcVI$sp(\u001b[32mUnknown Source\u001b[39m)\n  scala.collection.immutable.Range.foreach$mVc$sp(\u001b[32mRange.scala\u001b[39m:\u001b[32m158\u001b[39m)\n  ammonite.$sess.cmd10$Helper.<init>(\u001b[32mcmd10.sc\u001b[39m:\u001b[32m10\u001b[39m)\n  ammonite.$sess.cmd10$.<init>(\u001b[32mcmd10.sc\u001b[39m:\u001b[32m7\u001b[39m)\n  ammonite.$sess.cmd10$.<clinit>(\u001b[32mcmd10.sc\u001b[39m:\u001b[32m-1\u001b[39m)"
     ]
    }
   ],
   "source": [
    "def sqrtLoop(s: Double, epsilon: Double = 1E-10): Double = {\n",
    "    require (s >= 0.0) // This is just a fancy assert statement that expresses a precondition\n",
    "    var x:Double = s\n",
    "    while ( math.abs(x*x - s) > epsilon) {\n",
    "        x = 0.5 * (x + s/x)\n",
    "    }\n",
    "    x\n",
    "}\n",
    "\n",
    "for (i <- 0 to 100){\n",
    "    val x:Double = i.toDouble/10.0 + 0.05\n",
    "    val y = sqrtRec(x, 1E-10)\n",
    "    println(s\"Computing sqrt($x)\")\n",
    "    if ( math.abs(y * y - x) > 1E-10){\n",
    "        println(s\"Your Implementation failed for s = $x, it returned $y, the expected answer is ${sqrtLoop(x)}\" )\n",
    "        assert (false)\n",
    "    }\n",
    "}\n",
    "passed(15)"
   ]
  },
  {
   "cell_type": "markdown",
   "id": "de2e2636",
   "metadata": {
    "deletable": false,
    "editable": false,
    "nbgrader": {
     "cell_type": "markdown",
     "checksum": "2e4cab31d6b38e669b49d4389d242365",
     "grade": false,
     "grade_id": "cell-2a1e0ab7da03023d",
     "locked": true,
     "schema_version": 3,
     "solution": false,
     "task": false
    }
   },
   "source": [
    "## That's All Folks"
   ]
  }
 ],
 "metadata": {
  "kernelspec": {
   "display_name": "Scala 2.12",
   "language": "scala",
   "name": "scala212"
  },
  "language_info": {
   "codemirror_mode": "text/x-scala",
   "file_extension": ".scala",
   "mimetype": "text/x-scala",
   "name": "scala",
   "nbconvert_exporter": "script",
   "version": "2.12.10"
  }
 },
 "nbformat": 4,
 "nbformat_minor": 5
}
