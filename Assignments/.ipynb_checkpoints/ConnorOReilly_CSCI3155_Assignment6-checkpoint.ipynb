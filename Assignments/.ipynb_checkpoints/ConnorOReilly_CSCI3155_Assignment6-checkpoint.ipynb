{
 "cells": [
  {
   "cell_type": "markdown",
   "metadata": {},
   "source": [
    "Before you turn this problem in, make sure everything runs as expected. First, **restart the kernel** (in the menubar, select Kernel$\\rightarrow$Restart) and then **run all cells** (in the menubar, select Cell$\\rightarrow$Run All).\n",
    "\n",
    "Make sure you fill in any place that says `???` or \"YOUR ANSWER HERE\"."
   ]
  },
  {
   "cell_type": "markdown",
   "metadata": {},
   "source": [
    "---"
   ]
  },
  {
   "cell_type": "markdown",
   "metadata": {},
   "source": [
    "__Connor O'Reilly__\n",
    "\n",
    "Note: Please first run the `TEST HELPER` cell that defines the `passed` function below. Failing to run this cell will make it hard for you to check your work."
   ]
  },
  {
   "cell_type": "code",
   "execution_count": 1,
   "metadata": {
    "deletable": false,
    "editable": false,
    "nbgrader": {
     "cell_type": "code",
     "checksum": "86ef6ac50594512173d959494dba3da6",
     "grade": false,
     "grade_id": "cell-78353727eb378a16",
     "locked": true,
     "schema_version": 3,
     "solution": false,
     "task": false
    }
   },
   "outputs": [
    {
     "data": {
      "text/plain": [
       "defined \u001b[32mfunction\u001b[39m \u001b[36mpassed\u001b[39m"
      ]
     },
     "execution_count": 1,
     "metadata": {},
     "output_type": "execute_result"
    }
   ],
   "source": [
    "// TEST HELPER\n",
    "def passed(points: Int) {\n",
    "    require(points >=0)\n",
    "    if (points == 1) print(s\"Tests Passed (1 point)\")\n",
    "    else print(s\"Tests Passed ($points points)\") \n",
    "}"
   ]
  },
  {
   "cell_type": "markdown",
   "metadata": {
    "deletable": false,
    "editable": false,
    "nbgrader": {
     "cell_type": "markdown",
     "checksum": "5609323eb92dec3b383625628cfa6a35",
     "grade": false,
     "grade_id": "cell-fbc647b0aaee3fc6",
     "locked": true,
     "schema_version": 3,
     "solution": false,
     "task": false
    }
   },
   "source": [
    "## Problem 1: Multiple Simultaneous Let Bindings (20 points)"
   ]
  },
  {
   "cell_type": "markdown",
   "metadata": {
    "deletable": false,
    "editable": false,
    "nbgrader": {
     "cell_type": "markdown",
     "checksum": "888397ce8f415a1296a146d04773528f",
     "grade": false,
     "grade_id": "cell-23c9f7992612ebe8",
     "locked": true,
     "schema_version": 3,
     "solution": false,
     "task": false
    }
   },
   "source": [
    "In class, we studied let bindings that assigned a \"single\" identifier to a \"single\" expression. Here, we will extend lettuce with multiple let bindings at the same time:\n",
    "\n",
    "## Example 1 \n",
    "~~~\n",
    "let (x, y, z) = (10, 25.6, 30.3) in \n",
    "   x - y * z\n",
    "~~~\n",
    "\n",
    "The program computes `10 - 25.6 * 30.3`.\n",
    "\n",
    "## Example 2\n",
    "\n",
    " In multi-let binding, we treat all the assignments as happening \"simultaneously\". For instance, the program \n",
    "\n",
    "~~~\n",
    "let (x, y, z) = (10, x, y - x) in \n",
    "  x - y * z\n",
    "~~~\n",
    "\n",
    "is disallowed since neither `x` nor `y` are in scope in the right hand side of the multi-let binding. Example 2 above produces an `error` value since `x` and `y` are out of scope on the right hand side of the assignment.\n",
    "\n",
    "## Example 3\n",
    "\n",
    "~~~\n",
    "let x = 15 in \n",
    "  let (x, y, z) = (x*x, -10 *x, -2*x) in \n",
    "     x + y + z\n",
    "~~~\n",
    "\n",
    "Note that the usage `x*x`, `-10*x` and `-2*x` refer back to `let x = 15` definition. However, the usages `x+y+z` refer to the result of the \"multi-let\" binding. Verify that this program will evaluate to \"45\".\n",
    "\n",
    "## Grammar of Lettuce\n",
    "\n",
    "Let us extend a minimalistic subset of Lettuce by adding a `MultiLet` statement as shown below.\n",
    "$$\\newcommand\\Expr{\\mathbf{Expr}}$$\n",
    "\n",
    "$$\\begin{array}{rcll}\n",
    "  \\Expr & \\Rightarrow & \\text{Const}(\\mathbf{Double}) \\\\\n",
    "  & | & \\text{Ident}(\\mathbf{String}) \\\\\n",
    "  & | & \\text{Plus}(\\mathbf{Expr}, \\mathbf{Expr}) \\\\\n",
    "  & | & \\text{Mult}(\\mathbf{Expr}, \\mathbf{Expr})\\\\\n",
    "  & | & \\text{Let}(\\mathbf{Ident}, \\mathbf{Expr}, \\mathbf{Expr}) \\\\\n",
    "  & | & \\text{MultiLet}(\\mathbf{Ident}*, \\mathbf{Expr}*, \\mathbf{Expr}) & \\leftarrow\\ \\text{ let (x1, .., xn) = (e1, ...,en) in e } \\\\\n",
    "  & & & \\text{Note: Number of identifiers n must match number of expressions n, or else evaluate to error }\\\\\n",
    "  \\end{array}$$\n",
    "  \n",
    "The scala definitions are given below."
   ]
  },
  {
   "cell_type": "code",
   "execution_count": 2,
   "metadata": {
    "deletable": false,
    "editable": false,
    "nbgrader": {
     "cell_type": "code",
     "checksum": "2a5c631886fc39fdf4658d9aad788032",
     "grade": false,
     "grade_id": "cell-0721126a00877145",
     "locked": true,
     "schema_version": 3,
     "solution": false,
     "task": false
    }
   },
   "outputs": [
    {
     "data": {
      "text/plain": [
       "defined \u001b[32mtrait\u001b[39m \u001b[36mExpr\u001b[39m\n",
       "defined \u001b[32mclass\u001b[39m \u001b[36mConst\u001b[39m\n",
       "defined \u001b[32mclass\u001b[39m \u001b[36mIdent\u001b[39m\n",
       "defined \u001b[32mclass\u001b[39m \u001b[36mPlus\u001b[39m\n",
       "defined \u001b[32mclass\u001b[39m \u001b[36mMult\u001b[39m\n",
       "defined \u001b[32mclass\u001b[39m \u001b[36mLet\u001b[39m\n",
       "defined \u001b[32mclass\u001b[39m \u001b[36mMultiLet\u001b[39m"
      ]
     },
     "execution_count": 2,
     "metadata": {},
     "output_type": "execute_result"
    }
   ],
   "source": [
    "sealed trait Expr\n",
    "case class Const(d: Double) extends Expr\n",
    "case class Ident(s: String) extends Expr\n",
    "case class Plus(e1: Expr, e2: Expr) extends Expr\n",
    "case class Mult(e1: Expr, e2: Expr) extends Expr \n",
    "case class Let(id: String, e1: Expr, e2: Expr) extends Expr\n",
    "case class MultiLet(id: List[String], eList: List[Expr], e2: Expr) extends Expr"
   ]
  },
  {
   "cell_type": "markdown",
   "metadata": {
    "deletable": false,
    "editable": false,
    "nbgrader": {
     "cell_type": "markdown",
     "checksum": "64f38a82614f70cef185f564ec65d1ac",
     "grade": false,
     "grade_id": "cell-ff5684de0dab161b",
     "locked": true,
     "schema_version": 3,
     "solution": false,
     "task": false
    }
   },
   "source": [
    "## Semantics for MultiLet\n",
    "\n",
    "$$\\newcommand\\semrule[3]{\\begin{array}{c} #1 \\\\ \\hline #2 \\\\ \\end{array}(\\text{#3})} $$\n",
    "\n",
    "Let us write down the semantic rules for a multilet statement:\n",
    "\n",
    "$$\\newcommand\\eval{\\textit{eval}}$$\n",
    "$$\\semrule{ \\eval(\\texttt{ei}, \\texttt{env})= v_i,\\ v_i \\not= \\mathbf{error}, \\text{for}\\ i = 1, \\ldots, n,\\ \\texttt{newenv} = env \\circ \\{ \\texttt{x1} \\mapsto v_1, \\ldots, \\texttt{xn} \\mapsto v_n \\} }{ \\eval( \\texttt{MultiLet([x1,..,xn], [e1,...,en], e2), env}) = \\eval(\\texttt{e2, newenv})}{multilet-ok}$$\n",
    "\n",
    "The semantic rule above tells you to \n",
    "  - Evaluate each of the expressions from `e1`, ..., `en` under the environment `env`.\n",
    "  - Next, if all the expressions above evaluated without an error, it tells you to update the map `env` by binding each `xi` to $v_i$, the result of evaluating `ei`. You can use the Scala Map \"++\" operator to achieve this in one shot.\n",
    "  - Finally, you should evaluate `e2` under the new environment created.\n",
    "\n",
    "For convenience, we write a single \"generic\" semantic rule that shows that if some argument `ej` evaluates to an error, the whole expression is erroneous.\n",
    "\n",
    "$$\\semrule{ \\eval(\\texttt{ei}, \\texttt{env})= v_i,\\ v_i \\not= \\mathbf{error}, \\text{for}\\ i = 1, \\ldots, j-1,\\ \\ eval(\\texttt{ej}, \\texttt{env})= \\mathbf{error} }{ \\eval( \\texttt{MultiLet([x1,..,xn], [e1,...,en], e2), env}) = \\mathbf{error}}{multilet-err-j}$$\n",
    "\n",
    "### Interpreter for MultiLet Statements\n",
    "\n",
    "Implement an interpreter for the lettuce language with `multi-let` statements. Your interpreter does not need to \"propagate\" error: instead you should throw an `IllegalArgumentException` whenever an error is encountered. \n",
    "\n",
    "### Style Guide\n",
    "\n",
    "Use of var/while/for loops in your solution below is disallowed.\n",
    "\n",
    "Suggestion: use functors to implement multi-let"
   ]
  },
  {
   "cell_type": "code",
   "execution_count": 3,
   "metadata": {
    "deletable": false,
    "nbgrader": {
     "cell_type": "code",
     "checksum": "5298c90883fc01732b5e3e679f75dfbc",
     "grade": false,
     "grade_id": "cell-b0c581e7fd05ee58",
     "locked": false,
     "schema_version": 3,
     "solution": true,
     "task": false
    }
   },
   "outputs": [
    {
     "data": {
      "text/plain": [
       "defined \u001b[32mtrait\u001b[39m \u001b[36mValue\u001b[39m\n",
       "defined \u001b[32mclass\u001b[39m \u001b[36mNumValue\u001b[39m\n",
       "defined \u001b[32mobject\u001b[39m \u001b[36mError\u001b[39m\n",
       "defined \u001b[32mtype\u001b[39m \u001b[36mEnvironment\u001b[39m\n",
       "defined \u001b[32mfunction\u001b[39m \u001b[36mevalExpr\u001b[39m"
      ]
     },
     "execution_count": 3,
     "metadata": {},
     "output_type": "execute_result"
    }
   ],
   "source": [
    "sealed trait Value\n",
    "case class NumValue(f: Double) extends Value\n",
    "case object Error extends Value /* -- Do not return Error -- simply throw an new IllegalArgumentException whenever you encounter an erroneous case --*/\n",
    "\n",
    "type Environment = Map[String, Value]\n",
    "\n",
    "def evalExpr(e: Expr, env: Environment): Value = {\n",
    "    \n",
    "    e match {\n",
    "        case Const(f) => NumValue(f)\n",
    "        case Ident(x) => { \n",
    "            if (env.contains(x)) { \n",
    "                env(x)\n",
    "            } else {\n",
    "                throw new IllegalArgumentException(\"Not found identifier\")\n",
    "            }\n",
    "        }\n",
    "        case Plus(e1, e2) => {\n",
    "            val v1 = evalExpr(e1, env)\n",
    "            val v2 = evalExpr(e2, env)\n",
    "            (v1, v2) match {\n",
    "                case (NumValue(f1), NumValue(f2)) => NumValue(f1 + f2)\n",
    "                case _ => throw new IllegalArgumentException(\"plus failed\")\n",
    "            }\n",
    "        }\n",
    "        case Mult(e1, e2) => {\n",
    "            val v1 = evalExpr(e1, env)\n",
    "            val v2 = evalExpr(e2, env)\n",
    "            (v1, v2) match {\n",
    "                case (NumValue(f1), NumValue(f2)) => NumValue(f1 * f2)\n",
    "                case _ => throw new IllegalArgumentException(\"mult failed\")\n",
    "            }\n",
    "        }\n",
    "        case Let(x, e1, e2) => {\n",
    "            val v1 = evalExpr(e1, env)\n",
    "            val new_env = env + (x -> v1)\n",
    "            evalExpr(e2, new_env)\n",
    "            \n",
    "        }\n",
    "        case MultiLet(xList, eList, e2) => {\n",
    "            //change list eList to evaluated expressions\n",
    "            \n",
    "                val evaluated_lst = eList.map((e: Expr) => {evalExpr(e, env)})\n",
    "                //hopefully try and catch catch errors\n",
    "                val combined_lst = xList.zip(evaluated_lst)\n",
    "                val new_env = combined_lst.foldLeft[Environment](env)( (acc:Environment, x:(String, Value)) => {acc + (x._1 -> x._2)} )\n",
    "                evalExpr(e2, new_env)\n",
    "            \n",
    "        }\n",
    "    }\n",
    "   \n",
    "}"
   ]
  },
  {
   "cell_type": "code",
   "execution_count": 4,
   "metadata": {
    "deletable": false,
    "editable": false,
    "nbgrader": {
     "cell_type": "code",
     "checksum": "27adccc5460fb2fa55e8194794b6ead6",
     "grade": true,
     "grade_id": "cell-057ff52ae71bca9f",
     "locked": true,
     "points": 7,
     "schema_version": 3,
     "solution": false,
     "task": false
    }
   },
   "outputs": [
    {
     "name": "stdout",
     "output_type": "stream",
     "text": [
      "Tests Passed (7 points)"
     ]
    },
    {
     "data": {
      "text/plain": [
       "\u001b[36mx\u001b[39m: \u001b[32mIdent\u001b[39m = \u001b[33mIdent\u001b[39m(\u001b[32m\"x\"\u001b[39m)\n",
       "\u001b[36my\u001b[39m: \u001b[32mIdent\u001b[39m = \u001b[33mIdent\u001b[39m(\u001b[32m\"y\"\u001b[39m)\n",
       "\u001b[36mlet1\u001b[39m: \u001b[32mLet\u001b[39m = \u001b[33mLet\u001b[39m(\u001b[32m\"x\"\u001b[39m, \u001b[33mIdent\u001b[39m(\u001b[32m\"y\"\u001b[39m), \u001b[33mPlus\u001b[39m(\u001b[33mIdent\u001b[39m(\u001b[32m\"x\"\u001b[39m), \u001b[33mMult\u001b[39m(\u001b[33mIdent\u001b[39m(\u001b[32m\"x\"\u001b[39m), \u001b[33mIdent\u001b[39m(\u001b[32m\"y\"\u001b[39m))))\n",
       "\u001b[36mmlet1\u001b[39m: \u001b[32mMultiLet\u001b[39m = \u001b[33mMultiLet\u001b[39m(\n",
       "  \u001b[33mList\u001b[39m(\u001b[32m\"x\"\u001b[39m, \u001b[32m\"y\"\u001b[39m),\n",
       "  \u001b[33mList\u001b[39m(\u001b[33mConst\u001b[39m(\u001b[32m10.0\u001b[39m), \u001b[33mConst\u001b[39m(\u001b[32m20.0\u001b[39m)),\n",
       "  \u001b[33mLet\u001b[39m(\u001b[32m\"x\"\u001b[39m, \u001b[33mIdent\u001b[39m(\u001b[32m\"y\"\u001b[39m), \u001b[33mPlus\u001b[39m(\u001b[33mIdent\u001b[39m(\u001b[32m\"x\"\u001b[39m), \u001b[33mMult\u001b[39m(\u001b[33mIdent\u001b[39m(\u001b[32m\"x\"\u001b[39m), \u001b[33mIdent\u001b[39m(\u001b[32m\"y\"\u001b[39m))))\n",
       ")\n",
       "\u001b[36mv\u001b[39m: \u001b[32mValue\u001b[39m = \u001b[33mNumValue\u001b[39m(\u001b[32m420.0\u001b[39m)"
      ]
     },
     "execution_count": 4,
     "metadata": {},
     "output_type": "execute_result"
    }
   ],
   "source": [
    "//BEGIN TEST\n",
    "/*\n",
    " let (x, y) = (10, 20) in \n",
    "    let x = y in \n",
    "      x +  x * y\n",
    "*/\n",
    "val x = Ident(\"x\")\n",
    "val y = Ident(\"y\")\n",
    "val let1 = Let(\"x\", y, Plus(x, Mult(x, y)) )\n",
    "val mlet1 = MultiLet( List(\"x\", \"y\"), List(Const(10.0), Const(20.0)), let1)\n",
    "val v = evalExpr(mlet1, Map.empty)\n",
    "assert(v == NumValue(420.0), s\"Test 1 failed expected: NumValue(420.0), obtained $v\")\n",
    "\n",
    "passed(7)\n",
    "//END TEST"
   ]
  },
  {
   "cell_type": "code",
   "execution_count": 5,
   "metadata": {
    "deletable": false,
    "editable": false,
    "nbgrader": {
     "cell_type": "code",
     "checksum": "ce6cf8e7a46aebc54cf81ed407b9f7c4",
     "grade": true,
     "grade_id": "cell-0e289e2aff61b5b0",
     "locked": true,
     "points": 7,
     "schema_version": 3,
     "solution": false,
     "task": false
    }
   },
   "outputs": [
    {
     "name": "stdout",
     "output_type": "stream",
     "text": [
      "Illegal argument exception caught -- as expected!!\n",
      "Tests Passed (7 points)"
     ]
    },
    {
     "data": {
      "text/plain": [
       "\u001b[36mx\u001b[39m: \u001b[32mIdent\u001b[39m = \u001b[33mIdent\u001b[39m(\u001b[32m\"x\"\u001b[39m)\n",
       "\u001b[36my\u001b[39m: \u001b[32mIdent\u001b[39m = \u001b[33mIdent\u001b[39m(\u001b[32m\"y\"\u001b[39m)\n",
       "\u001b[36mlet1\u001b[39m: \u001b[32mLet\u001b[39m = \u001b[33mLet\u001b[39m(\u001b[32m\"x\"\u001b[39m, \u001b[33mIdent\u001b[39m(\u001b[32m\"y\"\u001b[39m), \u001b[33mPlus\u001b[39m(\u001b[33mIdent\u001b[39m(\u001b[32m\"x\"\u001b[39m), \u001b[33mMult\u001b[39m(\u001b[33mIdent\u001b[39m(\u001b[32m\"x\"\u001b[39m), \u001b[33mIdent\u001b[39m(\u001b[32m\"y\"\u001b[39m))))\n",
       "\u001b[36mmlet1\u001b[39m: \u001b[32mMultiLet\u001b[39m = \u001b[33mMultiLet\u001b[39m(\n",
       "  \u001b[33mList\u001b[39m(\u001b[32m\"x\"\u001b[39m, \u001b[32m\"y\"\u001b[39m),\n",
       "  \u001b[33mList\u001b[39m(\u001b[33mConst\u001b[39m(\u001b[32m10.0\u001b[39m), \u001b[33mIdent\u001b[39m(\u001b[32m\"x\"\u001b[39m)),\n",
       "  \u001b[33mLet\u001b[39m(\u001b[32m\"x\"\u001b[39m, \u001b[33mIdent\u001b[39m(\u001b[32m\"y\"\u001b[39m), \u001b[33mPlus\u001b[39m(\u001b[33mIdent\u001b[39m(\u001b[32m\"x\"\u001b[39m), \u001b[33mMult\u001b[39m(\u001b[33mIdent\u001b[39m(\u001b[32m\"x\"\u001b[39m), \u001b[33mIdent\u001b[39m(\u001b[32m\"y\"\u001b[39m))))\n",
       ")"
      ]
     },
     "execution_count": 5,
     "metadata": {},
     "output_type": "execute_result"
    }
   ],
   "source": [
    "//BEGIN TEST\n",
    "/*\n",
    " let (x, y) = (10, x) in \n",
    "    let x = y in \n",
    "      x +  x * y\n",
    "*/\n",
    "val x = Ident(\"x\")\n",
    "val y = Ident(\"y\")\n",
    "val let1 = Let(\"x\", y, Plus(x, Mult(x, y)) )\n",
    "val mlet1 = MultiLet( List(\"x\", \"y\"), List(Const(10.0), x), let1)\n",
    "try {\n",
    "    val v = evalExpr(mlet1, Map.empty)\n",
    "    assert(false, \"Test 2 failed -- your code should detect a usage of x that is out of scope\")\n",
    "} catch {\n",
    "    case e:IllegalArgumentException => { println(\"Illegal argument exception caught -- as expected!!\") }\n",
    "    case _ => {println(\"Wrong type of exception thrown\")}\n",
    "}\n",
    "\n",
    "passed(7)\n",
    "//END TEST"
   ]
  },
  {
   "cell_type": "code",
   "execution_count": 6,
   "metadata": {
    "deletable": false,
    "editable": false,
    "nbgrader": {
     "cell_type": "code",
     "checksum": "d7d3be714ad4a36eee0192e5e15861d1",
     "grade": true,
     "grade_id": "cell-0b8bac4591e81507",
     "locked": true,
     "points": 6,
     "schema_version": 3,
     "solution": false,
     "task": false
    }
   },
   "outputs": [
    {
     "name": "stdout",
     "output_type": "stream",
     "text": [
      "Tests Passed (6 points)"
     ]
    },
    {
     "data": {
      "text/plain": [
       "\u001b[36mx\u001b[39m: \u001b[32mIdent\u001b[39m = \u001b[33mIdent\u001b[39m(\u001b[32m\"x\"\u001b[39m)\n",
       "\u001b[36my\u001b[39m: \u001b[32mIdent\u001b[39m = \u001b[33mIdent\u001b[39m(\u001b[32m\"y\"\u001b[39m)\n",
       "\u001b[36mz\u001b[39m: \u001b[32mIdent\u001b[39m = \u001b[33mIdent\u001b[39m(\u001b[32m\"z\"\u001b[39m)\n",
       "\u001b[36mw\u001b[39m: \u001b[32mIdent\u001b[39m = \u001b[33mIdent\u001b[39m(\u001b[32m\"w\"\u001b[39m)\n",
       "\u001b[36mten\u001b[39m: \u001b[32mConst\u001b[39m = \u001b[33mConst\u001b[39m(\u001b[32m10.0\u001b[39m)\n",
       "\u001b[36mtwenty\u001b[39m: \u001b[32mConst\u001b[39m = \u001b[33mConst\u001b[39m(\u001b[32m20.0\u001b[39m)\n",
       "\u001b[36minnerLet2\u001b[39m: \u001b[32mLet\u001b[39m = \u001b[33mLet\u001b[39m(\n",
       "  \u001b[32m\"w\"\u001b[39m,\n",
       "  \u001b[33mIdent\u001b[39m(\u001b[32m\"w\"\u001b[39m),\n",
       "  \u001b[33mMult\u001b[39m(\u001b[33mIdent\u001b[39m(\u001b[32m\"x\"\u001b[39m), \u001b[33mPlus\u001b[39m(\u001b[33mIdent\u001b[39m(\u001b[32m\"y\"\u001b[39m), \u001b[33mIdent\u001b[39m(\u001b[32m\"w\"\u001b[39m)))\n",
       ")\n",
       "\u001b[36mmultiLet1\u001b[39m: \u001b[32mMultiLet\u001b[39m = \u001b[33mMultiLet\u001b[39m(\n",
       "  \u001b[33mList\u001b[39m(),\n",
       "  \u001b[33mList\u001b[39m(),\n",
       "  \u001b[33mLet\u001b[39m(\u001b[32m\"w\"\u001b[39m, \u001b[33mIdent\u001b[39m(\u001b[32m\"w\"\u001b[39m), \u001b[33mMult\u001b[39m(\u001b[33mIdent\u001b[39m(\u001b[32m\"x\"\u001b[39m), \u001b[33mPlus\u001b[39m(\u001b[33mIdent\u001b[39m(\u001b[32m\"y\"\u001b[39m), \u001b[33mIdent\u001b[39m(\u001b[32m\"w\"\u001b[39m))))\n",
       ")\n",
       "\u001b[36me\u001b[39m: \u001b[32mMultiLet\u001b[39m = \u001b[33mMultiLet\u001b[39m(\n",
       "  \u001b[33mList\u001b[39m(\u001b[32m\"x\"\u001b[39m, \u001b[32m\"y\"\u001b[39m, \u001b[32m\"z\"\u001b[39m, \u001b[32m\"w\"\u001b[39m),\n",
       "  \u001b[33mList\u001b[39m(\u001b[33mConst\u001b[39m(\u001b[32m10.0\u001b[39m), \u001b[33mConst\u001b[39m(\u001b[32m10.0\u001b[39m), \u001b[33mConst\u001b[39m(\u001b[32m10.0\u001b[39m), \u001b[33mConst\u001b[39m(\u001b[32m20.0\u001b[39m)),\n",
       "  \u001b[33mMultiLet\u001b[39m(\n",
       "    \u001b[33mList\u001b[39m(),\n",
       "    \u001b[33mList\u001b[39m(),\n",
       "    \u001b[33mLet\u001b[39m(\u001b[32m\"w\"\u001b[39m, \u001b[33mIdent\u001b[39m(\u001b[32m\"w\"\u001b[39m), \u001b[33mMult\u001b[39m(\u001b[33mIdent\u001b[39m(\u001b[32m\"x\"\u001b[39m), \u001b[33mPlus\u001b[39m(\u001b[33mIdent\u001b[39m(\u001b[32m\"y\"\u001b[39m), \u001b[33mIdent\u001b[39m(\u001b[32m\"w\"\u001b[39m))))\n",
       "  )\n",
       ")\n",
       "\u001b[36mv\u001b[39m: \u001b[32mValue\u001b[39m = \u001b[33mNumValue\u001b[39m(\u001b[32m300.0\u001b[39m)"
      ]
     },
     "execution_count": 6,
     "metadata": {},
     "output_type": "execute_result"
    }
   ],
   "source": [
    "//BEGIN TEST\n",
    "/*\n",
    "let (x, y, z, w) = (10, 10, 10, 20 ) in \n",
    "  let () = () in \n",
    "    let w = w in \n",
    "       x *( y + w )\n",
    "*/\n",
    "\n",
    "val x = Ident(\"x\")\n",
    "val y = Ident(\"y\")\n",
    "val z = Ident(\"z\")\n",
    "val w = Ident(\"w\")\n",
    "val ten = Const(10.0)\n",
    "val twenty = Const(20.0)\n",
    "val innerLet2 = Let(\"w\", w, Mult(x, Plus(y, w)))\n",
    "val multiLet1 = MultiLet(Nil, Nil, innerLet2)\n",
    "val e = MultiLet(List(\"x\",\"y\",\"z\",\"w\"), List(ten, ten, ten, twenty), multiLet1)\n",
    "val v = evalExpr(e, Map.empty)\n",
    "assert(v == NumValue(300.0), \"Test2 Failed -- expected value NumValue(300.0), obtained value $v\")\n",
    "\n",
    "passed(6)\n",
    "//END TEST"
   ]
  },
  {
   "cell_type": "markdown",
   "metadata": {
    "deletable": false,
    "editable": false,
    "nbgrader": {
     "cell_type": "markdown",
     "checksum": "98b4509776a59bd8feb1a14da30bba18",
     "grade": false,
     "grade_id": "cell-dd929d42e73e7730",
     "locked": true,
     "schema_version": 3,
     "solution": false
    }
   },
   "source": [
    "## Problem 2 (40 Points): Auto-Curry\n",
    "\n",
    "In class, we have explored just single argument functions in lettuce. In this problem, we will \n",
    "explore, multiple argument functions.\n",
    "\n",
    "Consider: \n",
    "\n",
    "~~~\n",
    "let foo1 = function (x, y)\n",
    "            x - 2 * y\n",
    "          in \n",
    "       foo1(10, 15)\n",
    "~~~\n",
    "\n",
    "this code should return -20\n",
    "\n",
    "We will allow zero arguments as well.\n",
    "\n",
    "~~~\n",
    "let x = 5 in \n",
    "let bar1 = function()\n",
    "           x \n",
    "           in \n",
    "    bar1()\n",
    "~~~\n",
    "\n",
    "This code should return 5."
   ]
  },
  {
   "cell_type": "markdown",
   "metadata": {
    "deletable": false,
    "editable": false,
    "nbgrader": {
     "cell_type": "markdown",
     "checksum": "741cb493d7b19c4f187e728dc1822a5e",
     "grade": false,
     "grade_id": "cell-6b9f8af95e1ee726",
     "locked": true,
     "schema_version": 3,
     "solution": false
    }
   },
   "source": [
    "## 2 A (10 points): Extending the Abstract Syntax\n",
    "\n",
    "Consider the grammar specification we have seen thus far.\n",
    "\n",
    "$$\\begin{array}{rcll}\n",
    "\\mathbf{Program} & \\rightarrow & TopLevel(\\mathbf{Expr}) \\\\[5pt]\n",
    "\\mathbf{Expr} & \\rightarrow & Const(\\mathbf{Number}) \\\\\n",
    " & | & Ident(\\mathbf{Identifier}) \\\\\n",
    " & | & Plus(\\mathbf{Expr}, \\mathbf{Expr}) \\\\\n",
    " & | & FunDef( \\mathbf{Identifier}, \\mathbf{Expr}) & \\text{Just one parameter } \\\\ \n",
    " & | & FunCall(\\mathbf{Expr}, \\mathbf{Expr}) & \\text{function call - for just one parameter} \\\\\n",
    " & | & FunDefMulti( \\mathbf{Identifier}*, \\mathbf{Expr}) & \\text{Note multiple parameters possible}\\\\\n",
    " & | &  FunCallMulti(\\mathbf{Expr}, \\mathbf{Expr}^*) & \\text{function call with multiple expressions - expr(expr1, ... , exprn)} \\\\\n",
    " & | & Let(\\mathbf{Identifier},\\mathbf{Expr}, \\mathbf{Expr})  \\\\\n",
    "\\end{array}$$\n",
    "\n",
    "Write the scala definition for the grammar above. Please use lists to implement the Kleene Star."
   ]
  },
  {
   "cell_type": "code",
   "execution_count": 7,
   "metadata": {
    "deletable": false,
    "nbgrader": {
     "cell_type": "code",
     "checksum": "816e5222dc23d75feb4865e3b40ab2bb",
     "grade": false,
     "grade_id": "cell-925e2ee1e5248e66",
     "locked": false,
     "schema_version": 3,
     "solution": true
    }
   },
   "outputs": [
    {
     "data": {
      "text/plain": [
       "defined \u001b[32mtrait\u001b[39m \u001b[36mProgram\u001b[39m\n",
       "defined \u001b[32mtrait\u001b[39m \u001b[36mExpr\u001b[39m\n",
       "defined \u001b[32mclass\u001b[39m \u001b[36mConst\u001b[39m\n",
       "defined \u001b[32mclass\u001b[39m \u001b[36mIdent\u001b[39m\n",
       "defined \u001b[32mclass\u001b[39m \u001b[36mPlus\u001b[39m\n",
       "defined \u001b[32mclass\u001b[39m \u001b[36mFunDef\u001b[39m\n",
       "defined \u001b[32mclass\u001b[39m \u001b[36mFunCall\u001b[39m\n",
       "defined \u001b[32mclass\u001b[39m \u001b[36mFunDefMulti\u001b[39m\n",
       "defined \u001b[32mclass\u001b[39m \u001b[36mFunCallMulti\u001b[39m\n",
       "defined \u001b[32mclass\u001b[39m \u001b[36mLet\u001b[39m\n",
       "defined \u001b[32mclass\u001b[39m \u001b[36mTopLevel\u001b[39m"
      ]
     },
     "execution_count": 7,
     "metadata": {},
     "output_type": "execute_result"
    }
   ],
   "source": [
    "sealed trait Program\n",
    "sealed trait Expr\n",
    "case class Const(d: Double) extends Expr\n",
    "case class Ident(s: String) extends Expr\n",
    "case class Plus(e1: Expr, e2: Expr) extends Expr\n",
    "case class FunDef(s: String, e: Expr) extends Expr\n",
    "case class FunCall(e1: Expr, e2: Expr) extends Expr\n",
    "case class FunDefMulti(li: List[String], e: Expr) extends Expr\n",
    "case class FunCallMulti(e1: Expr, e2: List[Expr]) extends Expr\n",
    "case class Let(s: String, e1: Expr, e2: Expr) extends Expr\n",
    "case class TopLevel(e: Expr) extends Program"
   ]
  },
  {
   "cell_type": "code",
   "execution_count": 8,
   "metadata": {
    "deletable": false,
    "editable": false,
    "nbgrader": {
     "cell_type": "code",
     "checksum": "504ff8eb941629656095d89f893a941a",
     "grade": true,
     "grade_id": "cell-dc4ae86dafe8e4b8",
     "locked": true,
     "points": 4,
     "schema_version": 3,
     "solution": false,
     "task": false
    }
   },
   "outputs": [
    {
     "name": "stdout",
     "output_type": "stream",
     "text": [
      "Tests Passed (3 points)"
     ]
    },
    {
     "data": {
      "text/plain": [
       "\u001b[36mx\u001b[39m: \u001b[32mIdent\u001b[39m = \u001b[33mIdent\u001b[39m(\u001b[32m\"x\"\u001b[39m)\n",
       "\u001b[36my\u001b[39m: \u001b[32mIdent\u001b[39m = \u001b[33mIdent\u001b[39m(\u001b[32m\"y\"\u001b[39m)\n",
       "\u001b[36mfoo\u001b[39m: \u001b[32mIdent\u001b[39m = \u001b[33mIdent\u001b[39m(\u001b[32m\"foo\"\u001b[39m)\n",
       "\u001b[36mfun1\u001b[39m: \u001b[32mFunDefMulti\u001b[39m = \u001b[33mFunDefMulti\u001b[39m(\u001b[33mList\u001b[39m(\u001b[32m\"x\"\u001b[39m, \u001b[32m\"y\"\u001b[39m), \u001b[33mPlus\u001b[39m(\u001b[33mIdent\u001b[39m(\u001b[32m\"x\"\u001b[39m), \u001b[33mIdent\u001b[39m(\u001b[32m\"y\"\u001b[39m)))\n",
       "\u001b[36ml1\u001b[39m: \u001b[32mLet\u001b[39m = \u001b[33mLet\u001b[39m(\n",
       "  \u001b[32m\"foo\"\u001b[39m,\n",
       "  \u001b[33mFunDefMulti\u001b[39m(\u001b[33mList\u001b[39m(\u001b[32m\"x\"\u001b[39m, \u001b[32m\"y\"\u001b[39m), \u001b[33mPlus\u001b[39m(\u001b[33mIdent\u001b[39m(\u001b[32m\"x\"\u001b[39m), \u001b[33mIdent\u001b[39m(\u001b[32m\"y\"\u001b[39m))),\n",
       "  \u001b[33mFunCallMulti\u001b[39m(\u001b[33mIdent\u001b[39m(\u001b[32m\"foo\"\u001b[39m), \u001b[33mList\u001b[39m(\u001b[33mConst\u001b[39m(\u001b[32m10.0\u001b[39m), \u001b[33mConst\u001b[39m(\u001b[32m20.0\u001b[39m)))\n",
       ")\n",
       "\u001b[36mp1\u001b[39m: \u001b[32mTopLevel\u001b[39m = \u001b[33mTopLevel\u001b[39m(\n",
       "  \u001b[33mLet\u001b[39m(\n",
       "    \u001b[32m\"foo\"\u001b[39m,\n",
       "    \u001b[33mFunDefMulti\u001b[39m(\u001b[33mList\u001b[39m(\u001b[32m\"x\"\u001b[39m, \u001b[32m\"y\"\u001b[39m), \u001b[33mPlus\u001b[39m(\u001b[33mIdent\u001b[39m(\u001b[32m\"x\"\u001b[39m), \u001b[33mIdent\u001b[39m(\u001b[32m\"y\"\u001b[39m))),\n",
       "    \u001b[33mFunCallMulti\u001b[39m(\u001b[33mIdent\u001b[39m(\u001b[32m\"foo\"\u001b[39m), \u001b[33mList\u001b[39m(\u001b[33mConst\u001b[39m(\u001b[32m10.0\u001b[39m), \u001b[33mConst\u001b[39m(\u001b[32m20.0\u001b[39m)))\n",
       "  )\n",
       ")"
      ]
     },
     "execution_count": 8,
     "metadata": {},
     "output_type": "execute_result"
    }
   ],
   "source": [
    "//BEGIN TEST\n",
    "// TEST Two arguments\n",
    "val x = Ident(\"x\")\n",
    "val y = Ident(\"y\")\n",
    "val foo = Ident(\"foo\")\n",
    "val fun1 = FunDefMulti(List(\"x\", \"y\"), Plus(x, y))\n",
    "val l1 = Let(\"foo\", fun1, FunCallMulti(foo, List(Const(10.0), Const(20.0))))\n",
    "val p1 = TopLevel(l1)\n",
    "passed(3)\n",
    "//END TEST"
   ]
  },
  {
   "cell_type": "code",
   "execution_count": 9,
   "metadata": {
    "deletable": false,
    "editable": false,
    "nbgrader": {
     "cell_type": "code",
     "checksum": "d875b7ea53241d06964342ca2f8d47c8",
     "grade": true,
     "grade_id": "cell-0a323348d10eb569",
     "locked": true,
     "points": 4,
     "schema_version": 3,
     "solution": false
    }
   },
   "outputs": [
    {
     "name": "stdout",
     "output_type": "stream",
     "text": [
      "Tests Passed (4 points)"
     ]
    },
    {
     "data": {
      "text/plain": [
       "\u001b[36mx\u001b[39m: \u001b[32mIdent\u001b[39m = \u001b[33mIdent\u001b[39m(\u001b[32m\"x\"\u001b[39m)\n",
       "\u001b[36mfoo\u001b[39m: \u001b[32mIdent\u001b[39m = \u001b[33mIdent\u001b[39m(\u001b[32m\"foo\"\u001b[39m)\n",
       "\u001b[36mfcall\u001b[39m: \u001b[32mFunCallMulti\u001b[39m = \u001b[33mFunCallMulti\u001b[39m(\u001b[33mIdent\u001b[39m(\u001b[32m\"foo\"\u001b[39m), \u001b[33mList\u001b[39m())\n",
       "\u001b[36mfdef\u001b[39m: \u001b[32mFunDefMulti\u001b[39m = \u001b[33mFunDefMulti\u001b[39m(\u001b[33mList\u001b[39m(), \u001b[33mIdent\u001b[39m(\u001b[32m\"x\"\u001b[39m))\n",
       "\u001b[36ml2\u001b[39m: \u001b[32mLet\u001b[39m = \u001b[33mLet\u001b[39m(\n",
       "  \u001b[32m\"foo\"\u001b[39m,\n",
       "  \u001b[33mFunDefMulti\u001b[39m(\u001b[33mList\u001b[39m(), \u001b[33mIdent\u001b[39m(\u001b[32m\"x\"\u001b[39m)),\n",
       "  \u001b[33mFunCallMulti\u001b[39m(\u001b[33mIdent\u001b[39m(\u001b[32m\"foo\"\u001b[39m), \u001b[33mList\u001b[39m())\n",
       ")\n",
       "\u001b[36ml3\u001b[39m: \u001b[32mLet\u001b[39m = \u001b[33mLet\u001b[39m(\n",
       "  \u001b[32m\"x\"\u001b[39m,\n",
       "  \u001b[33mConst\u001b[39m(\u001b[32m10.0\u001b[39m),\n",
       "  \u001b[33mLet\u001b[39m(\n",
       "    \u001b[32m\"foo\"\u001b[39m,\n",
       "    \u001b[33mFunDefMulti\u001b[39m(\u001b[33mList\u001b[39m(), \u001b[33mIdent\u001b[39m(\u001b[32m\"x\"\u001b[39m)),\n",
       "    \u001b[33mFunCallMulti\u001b[39m(\u001b[33mIdent\u001b[39m(\u001b[32m\"foo\"\u001b[39m), \u001b[33mList\u001b[39m())\n",
       "  )\n",
       ")\n",
       "\u001b[36mp2\u001b[39m: \u001b[32mTopLevel\u001b[39m = \u001b[33mTopLevel\u001b[39m(\n",
       "  \u001b[33mLet\u001b[39m(\n",
       "    \u001b[32m\"x\"\u001b[39m,\n",
       "    \u001b[33mConst\u001b[39m(\u001b[32m10.0\u001b[39m),\n",
       "    \u001b[33mLet\u001b[39m(\n",
       "      \u001b[32m\"foo\"\u001b[39m,\n",
       "      \u001b[33mFunDefMulti\u001b[39m(\u001b[33mList\u001b[39m(), \u001b[33mIdent\u001b[39m(\u001b[32m\"x\"\u001b[39m)),\n",
       "      \u001b[33mFunCallMulti\u001b[39m(\u001b[33mIdent\u001b[39m(\u001b[32m\"foo\"\u001b[39m), \u001b[33mList\u001b[39m())\n",
       "    )\n",
       "  )\n",
       ")"
      ]
     },
     "execution_count": 9,
     "metadata": {},
     "output_type": "execute_result"
    }
   ],
   "source": [
    "//BEGIN TEST\n",
    "//Test zero arguments\n",
    "val x = Ident(\"x\")\n",
    "val foo = Ident(\"foo\")\n",
    "val fcall = FunCallMulti(foo, List())\n",
    "val fdef = FunDefMulti(List(), x)\n",
    "val l2 = Let(\"foo\", fdef, fcall)\n",
    "val l3 = Let(\"x\", Const(10), l2)\n",
    "val p2 = TopLevel(l3)\n",
    "passed(4)\n",
    "//END TEST"
   ]
  },
  {
   "cell_type": "code",
   "execution_count": 10,
   "metadata": {
    "deletable": false,
    "editable": false,
    "nbgrader": {
     "cell_type": "code",
     "checksum": "6e729fbeefae18cfa9c63abaf9ca9af4",
     "grade": true,
     "grade_id": "cell-77e32330908c6ce2",
     "locked": true,
     "points": 2,
     "schema_version": 3,
     "solution": false,
     "task": false
    }
   },
   "outputs": [
    {
     "name": "stdout",
     "output_type": "stream",
     "text": [
      "Tests Passed (4 points)"
     ]
    },
    {
     "data": {
      "text/plain": [
       "\u001b[36mx\u001b[39m: \u001b[32mIdent\u001b[39m = \u001b[33mIdent\u001b[39m(\u001b[32m\"x\"\u001b[39m)\n",
       "\u001b[36mfoo\u001b[39m: \u001b[32mIdent\u001b[39m = \u001b[33mIdent\u001b[39m(\u001b[32m\"foo\"\u001b[39m)\n",
       "\u001b[36mfcall\u001b[39m: \u001b[32mFunCall\u001b[39m = \u001b[33mFunCall\u001b[39m(\u001b[33mIdent\u001b[39m(\u001b[32m\"foo\"\u001b[39m), \u001b[33mConst\u001b[39m(\u001b[32m10.0\u001b[39m))\n",
       "\u001b[36mfdef\u001b[39m: \u001b[32mFunDef\u001b[39m = \u001b[33mFunDef\u001b[39m(\u001b[32m\"x\"\u001b[39m, \u001b[33mPlus\u001b[39m(\u001b[33mIdent\u001b[39m(\u001b[32m\"x\"\u001b[39m), \u001b[33mConst\u001b[39m(\u001b[32m10.0\u001b[39m)))\n",
       "\u001b[36ml2\u001b[39m: \u001b[32mLet\u001b[39m = \u001b[33mLet\u001b[39m(\n",
       "  \u001b[32m\"foo\"\u001b[39m,\n",
       "  \u001b[33mFunDef\u001b[39m(\u001b[32m\"x\"\u001b[39m, \u001b[33mPlus\u001b[39m(\u001b[33mIdent\u001b[39m(\u001b[32m\"x\"\u001b[39m), \u001b[33mConst\u001b[39m(\u001b[32m10.0\u001b[39m))),\n",
       "  \u001b[33mFunCall\u001b[39m(\u001b[33mIdent\u001b[39m(\u001b[32m\"foo\"\u001b[39m), \u001b[33mConst\u001b[39m(\u001b[32m10.0\u001b[39m))\n",
       ")\n",
       "\u001b[36ml3\u001b[39m: \u001b[32mLet\u001b[39m = \u001b[33mLet\u001b[39m(\n",
       "  \u001b[32m\"x\"\u001b[39m,\n",
       "  \u001b[33mConst\u001b[39m(\u001b[32m10.0\u001b[39m),\n",
       "  \u001b[33mLet\u001b[39m(\n",
       "    \u001b[32m\"foo\"\u001b[39m,\n",
       "    \u001b[33mFunDef\u001b[39m(\u001b[32m\"x\"\u001b[39m, \u001b[33mPlus\u001b[39m(\u001b[33mIdent\u001b[39m(\u001b[32m\"x\"\u001b[39m), \u001b[33mConst\u001b[39m(\u001b[32m10.0\u001b[39m))),\n",
       "    \u001b[33mFunCall\u001b[39m(\u001b[33mIdent\u001b[39m(\u001b[32m\"foo\"\u001b[39m), \u001b[33mConst\u001b[39m(\u001b[32m10.0\u001b[39m))\n",
       "  )\n",
       ")\n",
       "\u001b[36mp2\u001b[39m: \u001b[32mTopLevel\u001b[39m = \u001b[33mTopLevel\u001b[39m(\n",
       "  \u001b[33mLet\u001b[39m(\n",
       "    \u001b[32m\"x\"\u001b[39m,\n",
       "    \u001b[33mConst\u001b[39m(\u001b[32m10.0\u001b[39m),\n",
       "    \u001b[33mLet\u001b[39m(\n",
       "      \u001b[32m\"foo\"\u001b[39m,\n",
       "      \u001b[33mFunDef\u001b[39m(\u001b[32m\"x\"\u001b[39m, \u001b[33mPlus\u001b[39m(\u001b[33mIdent\u001b[39m(\u001b[32m\"x\"\u001b[39m), \u001b[33mConst\u001b[39m(\u001b[32m10.0\u001b[39m))),\n",
       "      \u001b[33mFunCall\u001b[39m(\u001b[33mIdent\u001b[39m(\u001b[32m\"foo\"\u001b[39m), \u001b[33mConst\u001b[39m(\u001b[32m10.0\u001b[39m))\n",
       "    )\n",
       "  )\n",
       ")"
      ]
     },
     "execution_count": 10,
     "metadata": {},
     "output_type": "execute_result"
    }
   ],
   "source": [
    "//BEGIN TEST\n",
    "//Test one arguments\n",
    "val x = Ident(\"x\")\n",
    "val foo = Ident(\"foo\")\n",
    "val fcall = FunCall(foo, Const(10))\n",
    "val fdef = FunDef(\"x\", Plus(x, Const(10)))\n",
    "val l2 = Let(\"foo\", fdef, fcall)\n",
    "val l3 = Let(\"x\", Const(10), l2)\n",
    "val p2 = TopLevel(l3)\n",
    "passed(4)\n",
    "//END TEST"
   ]
  },
  {
   "cell_type": "markdown",
   "metadata": {
    "deletable": false,
    "editable": false,
    "nbgrader": {
     "cell_type": "markdown",
     "checksum": "31d4b59c8cdc0bdae4589324e944cbe9",
     "grade": false,
     "grade_id": "cell-68119914e81442e8",
     "locked": true,
     "schema_version": 3,
     "solution": false,
     "task": false
    }
   },
   "source": [
    "## 2 B: Converting Multi Argument Functions into Curried Functions\n",
    "\n",
    "The goal is to convert functions with multiple arguments into curried functions and likewise transform function calls.\n",
    "\n",
    "### Example -1 \n",
    "\n",
    "~~~\n",
    " let f = function (x, y) \n",
    "            x - y \n",
    "        in \n",
    "     f (10, 20)\n",
    "~~~\n",
    "\n",
    "Will transform into \n",
    "\n",
    "~~~\n",
    " let f = function (x) \n",
    "            function (y)\n",
    "               x - y \n",
    "       in \n",
    "    f(10)(20)\n",
    "~~~\n",
    "\n",
    "### Example-2\n",
    "\n",
    "~~~\n",
    " let f = function () 10 in \n",
    "    f()\n",
    "~~~\n",
    "\n",
    "will transform into \n",
    "\n",
    "~~~\n",
    "  let f = function (__dummy) 10 in \n",
    "      f (-1)\n",
    "~~~\n",
    "\n",
    "Note that the `__dummy` parameter you introduce should not be used in the code. However, you may safely assume some variable name such as `__dummy` is used nowhere else. Likewise for function calls with no arguments, the exact value we pass into the dummy parameter does not matter. \n",
    "\n",
    "\n",
    "### Semantics of AutoCurry\n",
    "\n",
    "\n",
    "$$\\newcommand\\semrule[3]{\\begin{array}{c} #1 \\\\ \\hline #2 \\\\ \\end{array}(\\text{#3})} $$\n",
    "$$\\newcommand\\autoCurry{\\textsf{AutoCurry}}$$\n",
    "Here are the semantic rules for the $\\autoCurry$ function which takes in an expression and returns\n",
    "an expression.\n",
    "\n",
    "$$\\semrule{}{\\autoCurry( \\texttt{Const(f)} ) = \\texttt{Const(f)} } {autocurry-const} $$\n",
    "$$\\semrule{}{\\autoCurry( \\texttt{Ident(x)} ) = \\texttt{Ident(x)} } {autocurry-ident} $$\n",
    "$$\\semrule{\\autoCurry(\\texttt{e1}) = \\texttt{f1}, \\autoCurry(\\texttt{e2}) = \\texttt{f2}}{\\autoCurry( \\texttt{Plus(e1, e2)} ) = \\texttt{Plus(f1, f2)} } {autocurry-plus} $$\n",
    "$$\\semrule{\\autoCurry(\\texttt{e1}) = \\texttt{f1}, \\autoCurry(\\texttt{e2}) = \\texttt{f2}}{\\autoCurry( \\texttt{Let(x, e1, e2)} ) = \\texttt{Let(x, f1, f2)} } {autocurry-let} $$\n",
    "$$\\semrule{\\autoCurry(\\texttt{e}) = \\texttt{f}}{\\autoCurry( \\texttt{FunDef(x, e)} ) = \\texttt{FunDef(x, f)} } {autocurry-fundef} $$\n",
    "$$\\semrule{\\autoCurry(\\texttt{e1}) = \\texttt{f1}, \\autoCurry(\\texttt{e2}) = \\texttt{f2}}{\\autoCurry( \\texttt{FunCall(e1, e2)} ) = \\texttt{FunCall(f1, f2)} } {autocurry-funcall} $$\n",
    "\n",
    "The important rules are for `FunDefMulti` and `FunCallMulti`: \n",
    "\n",
    "$$\\semrule{\\autoCurry(\\texttt{e}) = \\texttt{f}, n \\geq 1}{\\autoCurry( \\texttt{FunDefMulti([x1, x2,..,xn], e)} ) = \\texttt{FunDef(x1, FunDef( x2, ..., FunDef(xn, f))))} } {autocurry-fundef-one-or-more-params} $$\n",
    "\n",
    "Let `_dummy_` be a string that does not appear as an identifier anywhere in the expression `e`. \n",
    "$$\\semrule{\\autoCurry(\\texttt{e}) = \\texttt{f}}{\\autoCurry( \\texttt{FunDefMulti([], e)} ) = \\texttt{FunDef}(\\text{_dummy_}, \\texttt{f})}  {autocurry-fundef-zero-params} $$\n",
    "\n",
    "\n",
    "\n",
    "$$\\semrule{\\autoCurry(\\texttt{eCall}) = \\texttt{fCall},\\ n \\geq 1,\\ \\autoCurry(\\texttt{e1}) = \\texttt{f1}, \\ldots, \\autoCurry(\\texttt{en}) = \\texttt{fn} }{\\autoCurry( \\texttt{FunCallMulti(eCall, [e1, ..., en])} ) = \\texttt{FunCall}( \\cdots \\texttt{FunCall}(\\texttt{FunCall}(\\texttt{fCall}, \\texttt{f1}), \\texttt{f2}) \\cdots, , \\texttt{fn}) } {autocurry-funcall-one-or-more-params} $$\n",
    "\n",
    "$$\\semrule{\\autoCurry(\\texttt{eCall}) = \\texttt{fCall} }{\\autoCurry( \\texttt{FunCallMulti(eCall, [])} ) = \\texttt{FunCall}(\\texttt{fCall}, \\texttt{Const}(-1)) } {autocurry-funcall-no-params} $$\n",
    "\n",
    "Once an expression has been completely \"autoCurried\", there are no more instances of `FunDefMulti` or `FunCallMulti` left."
   ]
  },
  {
   "cell_type": "code",
   "execution_count": 11,
   "metadata": {
    "deletable": false,
    "nbgrader": {
     "cell_type": "code",
     "checksum": "5124d6936540754a7df0f512da81b191",
     "grade": false,
     "grade_id": "cell-9b5bb8323bc4e3bb",
     "locked": false,
     "schema_version": 3,
     "solution": true,
     "task": false
    }
   },
   "outputs": [
    {
     "data": {
      "text/plain": [
       "defined \u001b[32mfunction\u001b[39m \u001b[36mautoCurryProgram\u001b[39m\n",
       "defined \u001b[32mfunction\u001b[39m \u001b[36mautoCurry\u001b[39m"
      ]
     },
     "execution_count": 11,
     "metadata": {},
     "output_type": "execute_result"
    }
   ],
   "source": [
    "def autoCurryProgram(p: Program ): Program = p match {\n",
    "    case TopLevel(e) => TopLevel(autoCurry(e))\n",
    "}\n",
    "def autoCurry(e: Expr): Expr = e match{\n",
    "    case Const(v) => Const(v)\n",
    "    case Ident(s) => Ident(s)\n",
    "    case Plus(e1, e2) => {\n",
    "        Plus(autoCurry(e1),autoCurry(e2))\n",
    "    }\n",
    "    case Let(s, e1, e2) => {\n",
    "        Let(s, autoCurry(e1), autoCurry(e2))\n",
    "    }\n",
    "    case FunDef(s , e) => {\n",
    "        FunDef(s, autoCurry(e))\n",
    "    }\n",
    "    case FunCall(e1, e2) => {\n",
    "        FunCall(autoCurry(e1), autoCurry(e2))\n",
    "    }\n",
    "    case FunDefMulti(li, e1) => {\n",
    "        \n",
    "        if(li == List()){\n",
    "            \n",
    "            FunDef(\"_dummy_\" , autoCurry(e1) )//is empty\n",
    "        } else{\n",
    "            val new_env = autoCurry(e1)\n",
    "            val new_lst = li.reverse\n",
    "            new_lst match{\n",
    "                case head::tail => {\n",
    "                tail.foldLeft[Expr]( FunDef(head, new_env) )((acc: Expr, el: String) => {FunDef(el, acc)})\n",
    "        \n",
    "                }\n",
    "                case List(h) => {FunDef(h, autoCurry(e1))} //only one element\n",
    "            }\n",
    "        }\n",
    "        \n",
    "        \n",
    "    }\n",
    "    case FunCallMulti(e1, e2) => {\n",
    "        if(e2 == List()){\n",
    "            \n",
    "            //if arguments are empty\n",
    "            FunCall(autoCurry(e1), Const(-1))  \n",
    "            \n",
    "        } else{\n",
    "            \n",
    "            //if arguments are not empty\n",
    "            e2 match{\n",
    "                case head::tail => {\n",
    "                    tail.foldLeft[Expr](FunCall(autoCurry(e1), autoCurry(head)))( (acc: Expr, el: Expr) => {\n",
    "                        FunCall(acc, autoCurry(el))\n",
    "                    } )\n",
    "                    \n",
    "                }\n",
    "                case List(h) => {FunCall(autoCurry(e1), autoCurry(h))} //only one element\n",
    "                \n",
    "            \n",
    "            }\n",
    "            \n",
    "        }\n",
    "        \n",
    "    }\n",
    "    \n",
    "\n",
    "}"
   ]
  },
  {
   "cell_type": "markdown",
   "metadata": {
    "deletable": false,
    "editable": false,
    "nbgrader": {
     "cell_type": "markdown",
     "checksum": "655eba37ae697a195626bcf7acf9c990",
     "grade": false,
     "grade_id": "cell-2e0a217745679fdf",
     "locked": true,
     "schema_version": 3,
     "solution": false,
     "task": false
    }
   },
   "source": [
    "### Important\n",
    "\n",
    "Please run the cell below to define `evalExpr`  and `testSanity` before we proceed."
   ]
  },
  {
   "cell_type": "code",
   "execution_count": 12,
   "metadata": {
    "deletable": false,
    "editable": false,
    "nbgrader": {
     "cell_type": "code",
     "checksum": "4d1c98b031eb36fccf353fdcc7854b98",
     "grade": false,
     "grade_id": "cell-c069e5afd68b68a3",
     "locked": true,
     "schema_version": 3,
     "solution": false,
     "task": false
    }
   },
   "outputs": [
    {
     "data": {
      "text/plain": [
       "defined \u001b[32mclass\u001b[39m \u001b[36mRuntimeError\u001b[39m\n",
       "defined \u001b[32mtrait\u001b[39m \u001b[36mValue\u001b[39m\n",
       "defined \u001b[32mclass\u001b[39m \u001b[36mNum\u001b[39m\n",
       "defined \u001b[32mclass\u001b[39m \u001b[36mClosure\u001b[39m\n",
       "defined \u001b[32mfunction\u001b[39m \u001b[36mbinop\u001b[39m\n",
       "defined \u001b[32mfunction\u001b[39m \u001b[36mevalExpr\u001b[39m\n",
       "defined \u001b[32mfunction\u001b[39m \u001b[36mtestResultHasNoMultiFun\u001b[39m"
      ]
     },
     "execution_count": 12,
     "metadata": {},
     "output_type": "execute_result"
    }
   ],
   "source": [
    "case class RuntimeError(s: String) extends Exception {\n",
    "    override def toString(): String = f\"Runtime error: $s\"\n",
    "}\n",
    "\n",
    "sealed trait Value\n",
    "case class Num(f: Double) extends Value\n",
    "case class Closure(x: String, e:Expr, env: Map[String, Value]) extends Value \n",
    "\n",
    "def binop(v1: Value)(v2: Value)(op: (Double, Double) => Double) = (v1, v2) match {\n",
    "    case (Num(f1), Num(f2)) => Num(op(f1, f2))\n",
    "    case _ =>  throw new RuntimeError(\"Runtime type mismatch\")\n",
    "}\n",
    "def evalExpr(e: Expr, env: Map[String, Value]): Value = e match {\n",
    "    case Const(f) => Num(f)\n",
    "    case Ident(x) => if (env contains x) { env(x)} else { throw new RuntimeError(\"Unknown identifer\")}\n",
    "    case Plus(e1, e2) => binop(evalExpr(e1, env))(evalExpr(e2, env))(_ + _)\n",
    "    case Let(x, e1, e2) => {\n",
    "        val v1 = evalExpr(e1, env)\n",
    "        evalExpr(e2, env +(x -> v1))\n",
    "    }\n",
    "    case FunDef(x, e) => Closure(x, e, env)\n",
    "    case FunCall(e1, e2) => {\n",
    "        val v1 = evalExpr(e1, env)\n",
    "        v1 match {\n",
    "            case Closure(p, eBody, envClosure) => {\n",
    "                val v2 = evalExpr(e2, env)\n",
    "                evalExpr(eBody, envClosure+( p -> v2))\n",
    "            }\n",
    "            case _ => throw new RuntimeError(\"Runtime function call type mismatch\")\n",
    "        }\n",
    "    }\n",
    "    case FunDefMulti(_, _) => throw new RuntimeError(\"You were supposed to get rid of multiple function calls\")\n",
    "    case FunCallMulti(_, _) => throw new RuntimeError(\"You were supposed to get rid of multiple function calls\")\n",
    "    \n",
    "}\n",
    "\n",
    "\n",
    "def testResultHasNoMultiFun(e: Expr): Boolean = e match {\n",
    "    case Const(_) => true\n",
    "    case Ident(_) => true\n",
    "    case Plus(e1, e2) => testResultHasNoMultiFun(e1) && testResultHasNoMultiFun(e2)\n",
    "    case Let(x, e1, e2) => testResultHasNoMultiFun(e1) && testResultHasNoMultiFun(e2)\n",
    "    case FunDef(x, e1) => testResultHasNoMultiFun(e1)\n",
    "    case FunCall(e1, e2) => testResultHasNoMultiFun(e1) && testResultHasNoMultiFun(e2)\n",
    "    case FunDefMulti(_, _) => throw new RuntimeError(\"You were supposed to get rid of multiple function calls\")\n",
    "    case FunCallMulti(_, _) => throw new RuntimeError(\"You were supposed to get rid of multiple function calls\")\n",
    "    \n",
    "}"
   ]
  },
  {
   "cell_type": "code",
   "execution_count": 13,
   "metadata": {
    "deletable": false,
    "editable": false,
    "nbgrader": {
     "cell_type": "code",
     "checksum": "d1615cca0ee112d376e28914184be1fd",
     "grade": true,
     "grade_id": "cell-a0205b3b2567ba91",
     "locked": true,
     "points": 4,
     "schema_version": 3,
     "solution": false,
     "task": false
    }
   },
   "outputs": [
    {
     "name": "stdout",
     "output_type": "stream",
     "text": [
      "Checking that result from your function has no multiple arg functions left.\n",
      "Success!!\n",
      "Checking result is correct:\n",
      "Tests Passed (3 points)"
     ]
    },
    {
     "data": {
      "text/plain": [
       "\u001b[36mx1\u001b[39m: \u001b[32mIdent\u001b[39m = \u001b[33mIdent\u001b[39m(\u001b[32m\"x1\"\u001b[39m)\n",
       "\u001b[36mx2\u001b[39m: \u001b[32mIdent\u001b[39m = \u001b[33mIdent\u001b[39m(\u001b[32m\"x2\"\u001b[39m)\n",
       "\u001b[36mx3\u001b[39m: \u001b[32mIdent\u001b[39m = \u001b[33mIdent\u001b[39m(\u001b[32m\"x3\"\u001b[39m)\n",
       "\u001b[36me1\u001b[39m: \u001b[32mFunDefMulti\u001b[39m = \u001b[33mFunDefMulti\u001b[39m(\n",
       "  \u001b[33mList\u001b[39m(\u001b[32m\"x1\"\u001b[39m, \u001b[32m\"x2\"\u001b[39m, \u001b[32m\"x3\"\u001b[39m),\n",
       "  \u001b[33mPlus\u001b[39m(\u001b[33mIdent\u001b[39m(\u001b[32m\"x1\"\u001b[39m), \u001b[33mPlus\u001b[39m(\u001b[33mIdent\u001b[39m(\u001b[32m\"x2\"\u001b[39m), \u001b[33mIdent\u001b[39m(\u001b[32m\"x3\"\u001b[39m)))\n",
       ")\n",
       "\u001b[36mf1\u001b[39m: \u001b[32mExpr\u001b[39m = \u001b[33mFunDef\u001b[39m(\n",
       "  \u001b[32m\"x1\"\u001b[39m,\n",
       "  \u001b[33mFunDef\u001b[39m(\u001b[32m\"x2\"\u001b[39m, \u001b[33mFunDef\u001b[39m(\u001b[32m\"x3\"\u001b[39m, \u001b[33mPlus\u001b[39m(\u001b[33mIdent\u001b[39m(\u001b[32m\"x1\"\u001b[39m), \u001b[33mPlus\u001b[39m(\u001b[33mIdent\u001b[39m(\u001b[32m\"x2\"\u001b[39m), \u001b[33mIdent\u001b[39m(\u001b[32m\"x3\"\u001b[39m)))))\n",
       ")\n",
       "\u001b[36mres12_6\u001b[39m: \u001b[32mBoolean\u001b[39m = true"
      ]
     },
     "execution_count": 13,
     "metadata": {},
     "output_type": "execute_result"
    }
   ],
   "source": [
    "val x1 = Ident(\"x1\")\n",
    "val x2 = Ident(\"x2\")\n",
    "val x3 = Ident(\"x3\")\n",
    "\n",
    "// function (x1, x2, x3) (x1 + x2 + x3)\n",
    "\n",
    "val e1 = FunDefMulti(List(\"x1\", \"x2\", \"x3\"), Plus(x1, Plus(x2, x3)) )\n",
    "\n",
    "val f1 = autoCurry(e1)\n",
    "\n",
    "println(\"Checking that result from your function has no multiple arg functions left.\")\n",
    "testResultHasNoMultiFun(f1)\n",
    "println(\"Success!!\")\n",
    "println(\"Checking result is correct:\")\n",
    "// check that result is function (x1) function (x2) function (x3) x1 + x2 + x3\n",
    "assert(f1 == FunDef(\"x1\", FunDef(\"x2\", FunDef(\"x3\",Plus(x1, Plus(x2, x3))  ))))\n",
    "\n",
    "passed(3)"
   ]
  },
  {
   "cell_type": "code",
   "execution_count": 14,
   "metadata": {
    "deletable": false,
    "editable": false,
    "nbgrader": {
     "cell_type": "code",
     "checksum": "5c165ea25ac13ba5b4a10b8afd30cd8f",
     "grade": true,
     "grade_id": "cell-beb475ef3e1ef604",
     "locked": true,
     "points": 4,
     "schema_version": 3,
     "solution": false,
     "task": false
    }
   },
   "outputs": [
    {
     "name": "stdout",
     "output_type": "stream",
     "text": [
      "Checking that result from your function has no multiple arg functions left.\n",
      "Success!!\n",
      "Checking result is correct:\n",
      "Tests Passed (3 points)"
     ]
    },
    {
     "data": {
      "text/plain": [
       "\u001b[36mx1\u001b[39m: \u001b[32mIdent\u001b[39m = \u001b[33mIdent\u001b[39m(\u001b[32m\"x1\"\u001b[39m)\n",
       "\u001b[36mx2\u001b[39m: \u001b[32mIdent\u001b[39m = \u001b[33mIdent\u001b[39m(\u001b[32m\"x2\"\u001b[39m)\n",
       "\u001b[36mx3\u001b[39m: \u001b[32mIdent\u001b[39m = \u001b[33mIdent\u001b[39m(\u001b[32m\"x3\"\u001b[39m)\n",
       "\u001b[36me1\u001b[39m: \u001b[32mFunDefMulti\u001b[39m = \u001b[33mFunDefMulti\u001b[39m(\n",
       "  \u001b[33mList\u001b[39m(\u001b[32m\"x1\"\u001b[39m, \u001b[32m\"x2\"\u001b[39m, \u001b[32m\"x3\"\u001b[39m),\n",
       "  \u001b[33mPlus\u001b[39m(\u001b[33mIdent\u001b[39m(\u001b[32m\"x1\"\u001b[39m), \u001b[33mPlus\u001b[39m(\u001b[33mIdent\u001b[39m(\u001b[32m\"x2\"\u001b[39m), \u001b[33mPlus\u001b[39m(\u001b[33mIdent\u001b[39m(\u001b[32m\"x3\"\u001b[39m), \u001b[33mIdent\u001b[39m(\u001b[32m\"x3\"\u001b[39m))))\n",
       ")\n",
       "\u001b[36me2\u001b[39m: \u001b[32mFunCallMulti\u001b[39m = \u001b[33mFunCallMulti\u001b[39m(\n",
       "  \u001b[33mFunDefMulti\u001b[39m(\n",
       "    \u001b[33mList\u001b[39m(\u001b[32m\"x1\"\u001b[39m, \u001b[32m\"x2\"\u001b[39m, \u001b[32m\"x3\"\u001b[39m),\n",
       "    \u001b[33mPlus\u001b[39m(\u001b[33mIdent\u001b[39m(\u001b[32m\"x1\"\u001b[39m), \u001b[33mPlus\u001b[39m(\u001b[33mIdent\u001b[39m(\u001b[32m\"x2\"\u001b[39m), \u001b[33mPlus\u001b[39m(\u001b[33mIdent\u001b[39m(\u001b[32m\"x3\"\u001b[39m), \u001b[33mIdent\u001b[39m(\u001b[32m\"x3\"\u001b[39m))))\n",
       "  ),\n",
       "  \u001b[33mList\u001b[39m(\u001b[33mConst\u001b[39m(\u001b[32m1.0\u001b[39m), \u001b[33mConst\u001b[39m(\u001b[32m2.0\u001b[39m), \u001b[33mConst\u001b[39m(\u001b[32m3.0\u001b[39m))\n",
       ")\n",
       "\u001b[36mf2\u001b[39m: \u001b[32mExpr\u001b[39m = \u001b[33mFunCall\u001b[39m(\n",
       "  \u001b[33mFunCall\u001b[39m(\n",
       "    \u001b[33mFunCall\u001b[39m(\n",
       "      \u001b[33mFunDef\u001b[39m(\n",
       "        \u001b[32m\"x1\"\u001b[39m,\n",
       "        \u001b[33mFunDef\u001b[39m(\n",
       "          \u001b[32m\"x2\"\u001b[39m,\n",
       "          \u001b[33mFunDef\u001b[39m(\n",
       "            \u001b[32m\"x3\"\u001b[39m,\n",
       "            \u001b[33mPlus\u001b[39m(\u001b[33mIdent\u001b[39m(\u001b[32m\"x1\"\u001b[39m), \u001b[33mPlus\u001b[39m(\u001b[33mIdent\u001b[39m(\u001b[32m\"x2\"\u001b[39m), \u001b[33mPlus\u001b[39m(\u001b[33mIdent\u001b[39m(\u001b[32m\"x3\"\u001b[39m), \u001b[33mIdent\u001b[39m(\u001b[32m\"x3\"\u001b[39m))))\n",
       "          )\n",
       "        )\n",
       "      ),\n",
       "      \u001b[33mConst\u001b[39m(\u001b[32m1.0\u001b[39m)\n",
       "    ),\n",
       "    \u001b[33mConst\u001b[39m(\u001b[32m2.0\u001b[39m)\n",
       "  ),\n",
       "  \u001b[33mConst\u001b[39m(\u001b[32m3.0\u001b[39m)\n",
       ")\n",
       "\u001b[36mres13_7\u001b[39m: \u001b[32mBoolean\u001b[39m = true"
      ]
     },
     "execution_count": 14,
     "metadata": {},
     "output_type": "execute_result"
    }
   ],
   "source": [
    "val x1 = Ident(\"x1\")\n",
    "val x2 = Ident(\"x2\")\n",
    "val x3 = Ident(\"x3\")\n",
    "// ( (x1, x2, x3) => (x1+ x2+ x3 + x3)) (1, 2, 3)\n",
    "val e1 = FunDefMulti(List(\"x1\", \"x2\", \"x3\"), Plus(x1, Plus(x2, Plus(x3, x3)) ))\n",
    "val e2 = FunCallMulti(e1, List(Const(1), Const(2), Const(3)))\n",
    "\n",
    "val f2 = autoCurry(e2)\n",
    "\n",
    "println(\"Checking that result from your function has no multiple arg functions left.\")\n",
    "testResultHasNoMultiFun(f2)\n",
    "println(\"Success!!\")\n",
    "println(\"Checking result is correct:\")\n",
    "assert(evalExpr(f2, Map.empty)== Num(9.0))\n",
    "passed(3)"
   ]
  },
  {
   "cell_type": "code",
   "execution_count": 15,
   "metadata": {
    "deletable": false,
    "editable": false,
    "nbgrader": {
     "cell_type": "code",
     "checksum": "44bc267dce1fdece3855f77370a171b3",
     "grade": true,
     "grade_id": "cell-514d2d45f4e4af94",
     "locked": true,
     "points": 3,
     "schema_version": 3,
     "solution": false,
     "task": false
    }
   },
   "outputs": [
    {
     "name": "stdout",
     "output_type": "stream",
     "text": [
      "Checking that result from your function has no multiple arg functions left.\n",
      "Success!!\n",
      "Checking result is correct:\n",
      "Tests Passed (3 points)"
     ]
    },
    {
     "data": {
      "text/plain": [
       "\u001b[36me1\u001b[39m: \u001b[32mFunDefMulti\u001b[39m = \u001b[33mFunDefMulti\u001b[39m(\u001b[33mList\u001b[39m(), \u001b[33mConst\u001b[39m(\u001b[32m15.0\u001b[39m))\n",
       "\u001b[36me2\u001b[39m: \u001b[32mFunCallMulti\u001b[39m = \u001b[33mFunCallMulti\u001b[39m(\u001b[33mIdent\u001b[39m(\u001b[32m\"foo\"\u001b[39m), \u001b[33mList\u001b[39m())\n",
       "\u001b[36me\u001b[39m: \u001b[32mLet\u001b[39m = \u001b[33mLet\u001b[39m(\n",
       "  \u001b[32m\"foo\"\u001b[39m,\n",
       "  \u001b[33mFunDefMulti\u001b[39m(\u001b[33mList\u001b[39m(), \u001b[33mConst\u001b[39m(\u001b[32m15.0\u001b[39m)),\n",
       "  \u001b[33mFunCallMulti\u001b[39m(\u001b[33mIdent\u001b[39m(\u001b[32m\"foo\"\u001b[39m), \u001b[33mList\u001b[39m())\n",
       ")\n",
       "\u001b[36mf\u001b[39m: \u001b[32mExpr\u001b[39m = \u001b[33mLet\u001b[39m(\n",
       "  \u001b[32m\"foo\"\u001b[39m,\n",
       "  \u001b[33mFunDef\u001b[39m(\u001b[32m\"_dummy_\"\u001b[39m, \u001b[33mConst\u001b[39m(\u001b[32m15.0\u001b[39m)),\n",
       "  \u001b[33mFunCall\u001b[39m(\u001b[33mIdent\u001b[39m(\u001b[32m\"foo\"\u001b[39m), \u001b[33mConst\u001b[39m(\u001b[32m-1.0\u001b[39m))\n",
       ")\n",
       "\u001b[36mres14_5\u001b[39m: \u001b[32mBoolean\u001b[39m = true"
      ]
     },
     "execution_count": 15,
     "metadata": {},
     "output_type": "execute_result"
    }
   ],
   "source": [
    "val e1 = FunDefMulti(Nil, Const(15))\n",
    "val e2 = FunCallMulti(Ident(\"foo\"), Nil)\n",
    "val e = Let(\"foo\", e1, e2)\n",
    "\n",
    "// let foo = function () 15 in foo()\n",
    "val f = autoCurry(e)\n",
    "\n",
    "\n",
    "println(\"Checking that result from your function has no multiple arg functions left.\")\n",
    "testResultHasNoMultiFun(f)\n",
    "println(\"Success!!\")\n",
    "println(\"Checking result is correct:\")\n",
    "assert(evalExpr(f, Map.empty) == Num(15.0))\n",
    "passed(3)"
   ]
  },
  {
   "cell_type": "code",
   "execution_count": 16,
   "metadata": {
    "deletable": false,
    "editable": false,
    "nbgrader": {
     "cell_type": "code",
     "checksum": "98379242a18807d97b69044e1785fc75",
     "grade": true,
     "grade_id": "cell-047ffaf965446b7c",
     "locked": true,
     "points": 4,
     "schema_version": 3,
     "solution": false,
     "task": false
    }
   },
   "outputs": [
    {
     "name": "stdout",
     "output_type": "stream",
     "text": [
      "Checking that result from your function has no multiple arg functions left.\n",
      "Success!!\n",
      "Checking result is correct:\n",
      "Tests Passed (3 points)"
     ]
    },
    {
     "data": {
      "text/plain": [
       "\u001b[36mx1\u001b[39m: \u001b[32mIdent\u001b[39m = \u001b[33mIdent\u001b[39m(\u001b[32m\"x1\"\u001b[39m)\n",
       "\u001b[36mx2\u001b[39m: \u001b[32mIdent\u001b[39m = \u001b[33mIdent\u001b[39m(\u001b[32m\"x2\"\u001b[39m)\n",
       "\u001b[36mx3\u001b[39m: \u001b[32mIdent\u001b[39m = \u001b[33mIdent\u001b[39m(\u001b[32m\"x3\"\u001b[39m)\n",
       "\u001b[36me1\u001b[39m: \u001b[32mFunDefMulti\u001b[39m = \u001b[33mFunDefMulti\u001b[39m(\n",
       "  \u001b[33mList\u001b[39m(\u001b[32m\"x1\"\u001b[39m, \u001b[32m\"x2\"\u001b[39m, \u001b[32m\"x3\"\u001b[39m),\n",
       "  \u001b[33mPlus\u001b[39m(\u001b[33mIdent\u001b[39m(\u001b[32m\"x1\"\u001b[39m), \u001b[33mPlus\u001b[39m(\u001b[33mIdent\u001b[39m(\u001b[32m\"x2\"\u001b[39m), \u001b[33mPlus\u001b[39m(\u001b[33mIdent\u001b[39m(\u001b[32m\"x3\"\u001b[39m), \u001b[33mIdent\u001b[39m(\u001b[32m\"x3\"\u001b[39m))))\n",
       ")\n",
       "\u001b[36me2\u001b[39m: \u001b[32mFunCallMulti\u001b[39m = \u001b[33mFunCallMulti\u001b[39m(\n",
       "  \u001b[33mFunDefMulti\u001b[39m(\n",
       "    \u001b[33mList\u001b[39m(\u001b[32m\"x1\"\u001b[39m, \u001b[32m\"x2\"\u001b[39m, \u001b[32m\"x3\"\u001b[39m),\n",
       "    \u001b[33mPlus\u001b[39m(\u001b[33mIdent\u001b[39m(\u001b[32m\"x1\"\u001b[39m), \u001b[33mPlus\u001b[39m(\u001b[33mIdent\u001b[39m(\u001b[32m\"x2\"\u001b[39m), \u001b[33mPlus\u001b[39m(\u001b[33mIdent\u001b[39m(\u001b[32m\"x3\"\u001b[39m), \u001b[33mIdent\u001b[39m(\u001b[32m\"x3\"\u001b[39m))))\n",
       "  ),\n",
       "  \u001b[33mList\u001b[39m(\u001b[33mConst\u001b[39m(\u001b[32m1.0\u001b[39m), \u001b[33mConst\u001b[39m(\u001b[32m2.0\u001b[39m), \u001b[33mConst\u001b[39m(\u001b[32m3.0\u001b[39m))\n",
       ")\n",
       "\u001b[36me3\u001b[39m: \u001b[32mFunDef\u001b[39m = \u001b[33mFunDef\u001b[39m(\n",
       "  \u001b[32m\"x\"\u001b[39m,\n",
       "  \u001b[33mPlus\u001b[39m(\n",
       "    \u001b[33mFunCallMulti\u001b[39m(\n",
       "      \u001b[33mFunDefMulti\u001b[39m(\n",
       "        \u001b[33mList\u001b[39m(\u001b[32m\"x1\"\u001b[39m, \u001b[32m\"x2\"\u001b[39m, \u001b[32m\"x3\"\u001b[39m),\n",
       "        \u001b[33mPlus\u001b[39m(\u001b[33mIdent\u001b[39m(\u001b[32m\"x1\"\u001b[39m), \u001b[33mPlus\u001b[39m(\u001b[33mIdent\u001b[39m(\u001b[32m\"x2\"\u001b[39m), \u001b[33mPlus\u001b[39m(\u001b[33mIdent\u001b[39m(\u001b[32m\"x3\"\u001b[39m), \u001b[33mIdent\u001b[39m(\u001b[32m\"x3\"\u001b[39m))))\n",
       "      ),\n",
       "      \u001b[33mList\u001b[39m(\u001b[33mConst\u001b[39m(\u001b[32m1.0\u001b[39m), \u001b[33mConst\u001b[39m(\u001b[32m2.0\u001b[39m), \u001b[33mConst\u001b[39m(\u001b[32m3.0\u001b[39m))\n",
       "    ),\n",
       "    \u001b[33mIdent\u001b[39m(\u001b[32m\"x\"\u001b[39m)\n",
       "  )\n",
       ")\n",
       "\u001b[36me4\u001b[39m: \u001b[32mLet\u001b[39m = \u001b[33mLet\u001b[39m(\n",
       "  \u001b[32m\"foo\"\u001b[39m,\n",
       "  \u001b[33mFunDef\u001b[39m(\n",
       "    \u001b[32m\"x\"\u001b[39m,\n",
       "    \u001b[33mPlus\u001b[39m(\n",
       "      \u001b[33mFunCallMulti\u001b[39m(\n",
       "        \u001b[33mFunDefMulti\u001b[39m(\n",
       "          \u001b[33mList\u001b[39m(\u001b[32m\"x1\"\u001b[39m, \u001b[32m\"x2\"\u001b[39m, \u001b[32m\"x3\"\u001b[39m),\n",
       "          \u001b[33mPlus\u001b[39m(\u001b[33mIdent\u001b[39m(\u001b[32m\"x1\"\u001b[39m), \u001b[33mPlus\u001b[39m(\u001b[33mIdent\u001b[39m(\u001b[32m\"x2\"\u001b[39m), \u001b[33mPlus\u001b[39m(\u001b[33mIdent\u001b[39m(\u001b[32m\"x3\"\u001b[39m), \u001b[33mIdent\u001b[39m(\u001b[32m\"x3\"\u001b[39m))))\n",
       "        ),\n",
       "        \u001b[33mList\u001b[39m(\u001b[33mConst\u001b[39m(\u001b[32m1.0\u001b[39m), \u001b[33mConst\u001b[39m(\u001b[32m2.0\u001b[39m), \u001b[33mConst\u001b[39m(\u001b[32m3.0\u001b[39m))\n",
       "      ),\n",
       "      \u001b[33mIdent\u001b[39m(\u001b[32m\"x\"\u001b[39m)\n",
       "    )\n",
       "  ),\n",
       "  \u001b[33mFunCall\u001b[39m(\u001b[33mIdent\u001b[39m(\u001b[32m\"foo\"\u001b[39m), \u001b[33mConst\u001b[39m(\u001b[32m10.0\u001b[39m))\n",
       ")\n",
       "\u001b[36mf4\u001b[39m: \u001b[32mExpr\u001b[39m = \u001b[33mLet\u001b[39m(\n",
       "  \u001b[32m\"foo\"\u001b[39m,\n",
       "  \u001b[33mFunDef\u001b[39m(\n",
       "    \u001b[32m\"x\"\u001b[39m,\n",
       "    \u001b[33mPlus\u001b[39m(\n",
       "      \u001b[33mFunCall\u001b[39m(\n",
       "        \u001b[33mFunCall\u001b[39m(\n",
       "          \u001b[33mFunCall\u001b[39m(\n",
       "            \u001b[33mFunDef\u001b[39m(\n",
       "              \u001b[32m\"x1\"\u001b[39m,\n",
       "              \u001b[33mFunDef\u001b[39m(\n",
       "                \u001b[32m\"x2\"\u001b[39m,\n",
       "                \u001b[33mFunDef\u001b[39m(\n",
       "                  \u001b[32m\"x3\"\u001b[39m,\n",
       "                  \u001b[33mPlus\u001b[39m(\n",
       "                    \u001b[33mIdent\u001b[39m(\u001b[32m\"x1\"\u001b[39m),\n",
       "                    \u001b[33mPlus\u001b[39m(\u001b[33mIdent\u001b[39m(\u001b[32m\"x2\"\u001b[39m), \u001b[33mPlus\u001b[39m(\u001b[33mIdent\u001b[39m(\u001b[32m\"x3\"\u001b[39m), \u001b[33mIdent\u001b[39m(\u001b[32m\"x3\"\u001b[39m)))\n",
       "                  )\n",
       "                )\n",
       "              )\n",
       "            ),\n",
       "            \u001b[33mConst\u001b[39m(\u001b[32m1.0\u001b[39m)\n",
       "          ),\n",
       "          \u001b[33mConst\u001b[39m(\u001b[32m2.0\u001b[39m)\n",
       "        ),\n",
       "        \u001b[33mConst\u001b[39m(\u001b[32m3.0\u001b[39m)\n",
       "      ),\n",
       "      \u001b[33mIdent\u001b[39m(\u001b[32m\"x\"\u001b[39m)\n",
       "    )\n",
       "  ),\n",
       "  \u001b[33mFunCall\u001b[39m(\u001b[33mIdent\u001b[39m(\u001b[32m\"foo\"\u001b[39m), \u001b[33mConst\u001b[39m(\u001b[32m10.0\u001b[39m))\n",
       ")\n",
       "\u001b[36mres15_9\u001b[39m: \u001b[32mBoolean\u001b[39m = true"
      ]
     },
     "execution_count": 16,
     "metadata": {},
     "output_type": "execute_result"
    }
   ],
   "source": [
    "val x1 = Ident(\"x1\")\n",
    "val x2 = Ident(\"x2\")\n",
    "val x3 = Ident(\"x3\")\n",
    "\n",
    "/*\n",
    "  let foo = function (x) {\n",
    "           (function (x1, x2, x3) x1 + x2 + x3 + x3) (1, 2, 3) + x\n",
    "  } in \n",
    "    foo(10)\n",
    "*/\n",
    "\n",
    "val e1 = FunDefMulti(List(\"x1\", \"x2\", \"x3\"), Plus(x1, Plus(x2, Plus(x3, x3)) ))\n",
    "val e2 = FunCallMulti(e1, List(Const(1), Const(2), Const(3)))\n",
    "\n",
    "val e3 = FunDef(\"x\", Plus(e2, Ident(\"x\")))\n",
    "\n",
    "val e4 = Let(\"foo\", e3 , FunCall(Ident(\"foo\"), Const(10)))\n",
    "\n",
    "val f4 = autoCurry(e4)\n",
    "\n",
    "\n",
    "println(\"Checking that result from your function has no multiple arg functions left.\")\n",
    "testResultHasNoMultiFun(f4)\n",
    "println(\"Success!!\")\n",
    "println(\"Checking result is correct:\")\n",
    "assert( evalExpr(f4, Map.empty) == Num(19.0))\n",
    "\n",
    "passed(3)"
   ]
  },
  {
   "cell_type": "code",
   "execution_count": 17,
   "metadata": {
    "deletable": false,
    "editable": false,
    "nbgrader": {
     "cell_type": "code",
     "checksum": "692c7f22e9b39c16c2e61493b87e2e00",
     "grade": true,
     "grade_id": "cell-13d840960f09ca09",
     "locked": true,
     "points": 5,
     "schema_version": 3,
     "solution": false,
     "task": false
    }
   },
   "outputs": [
    {
     "name": "stdout",
     "output_type": "stream",
     "text": [
      "Checking that result from your function has no multiple arg functions left.\n",
      "Success!!\n",
      "Checking result is correct:\n",
      "Tests Passed (3 points)"
     ]
    },
    {
     "data": {
      "text/plain": [
       "\u001b[36mx1\u001b[39m: \u001b[32mIdent\u001b[39m = \u001b[33mIdent\u001b[39m(\u001b[32m\"x1\"\u001b[39m)\n",
       "\u001b[36mx2\u001b[39m: \u001b[32mIdent\u001b[39m = \u001b[33mIdent\u001b[39m(\u001b[32m\"x2\"\u001b[39m)\n",
       "\u001b[36mx3\u001b[39m: \u001b[32mIdent\u001b[39m = \u001b[33mIdent\u001b[39m(\u001b[32m\"x3\"\u001b[39m)\n",
       "\u001b[36mx4\u001b[39m: \u001b[32mIdent\u001b[39m = \u001b[33mIdent\u001b[39m(\u001b[32m\"x4\"\u001b[39m)\n",
       "\u001b[36mx5\u001b[39m: \u001b[32mIdent\u001b[39m = \u001b[33mIdent\u001b[39m(\u001b[32m\"x5\"\u001b[39m)\n",
       "\u001b[36me1\u001b[39m: \u001b[32mFunDefMulti\u001b[39m = \u001b[33mFunDefMulti\u001b[39m(\n",
       "  \u001b[33mList\u001b[39m(\u001b[32m\"x1\"\u001b[39m, \u001b[32m\"x2\"\u001b[39m),\n",
       "  \u001b[33mFunDefMulti\u001b[39m(\n",
       "    \u001b[33mList\u001b[39m(\u001b[32m\"x3\"\u001b[39m, \u001b[32m\"x4\"\u001b[39m, \u001b[32m\"x5\"\u001b[39m),\n",
       "    \u001b[33mPlus\u001b[39m(\n",
       "      \u001b[33mIdent\u001b[39m(\u001b[32m\"x1\"\u001b[39m),\n",
       "      \u001b[33mPlus\u001b[39m(\n",
       "        \u001b[33mIdent\u001b[39m(\u001b[32m\"x2\"\u001b[39m),\n",
       "        \u001b[33mPlus\u001b[39m(\n",
       "          \u001b[33mIdent\u001b[39m(\u001b[32m\"x2\"\u001b[39m),\n",
       "          \u001b[33mPlus\u001b[39m(\u001b[33mIdent\u001b[39m(\u001b[32m\"x3\"\u001b[39m), \u001b[33mPlus\u001b[39m(\u001b[33mIdent\u001b[39m(\u001b[32m\"x4\"\u001b[39m), \u001b[33mPlus\u001b[39m(\u001b[33mIdent\u001b[39m(\u001b[32m\"x5\"\u001b[39m), \u001b[33mIdent\u001b[39m(\u001b[32m\"x5\"\u001b[39m))))\n",
       "        )\n",
       "      )\n",
       "    )\n",
       "  )\n",
       ")\n",
       "\u001b[36me2\u001b[39m: \u001b[32mFunCallMulti\u001b[39m = \u001b[33mFunCallMulti\u001b[39m(\u001b[33mIdent\u001b[39m(\u001b[32m\"foo\"\u001b[39m), \u001b[33mList\u001b[39m(\u001b[33mConst\u001b[39m(\u001b[32m10.0\u001b[39m), \u001b[33mConst\u001b[39m(\u001b[32m20.0\u001b[39m)))\n",
       "\u001b[36me3\u001b[39m: \u001b[32mFunCallMulti\u001b[39m = \u001b[33mFunCallMulti\u001b[39m(\n",
       "  \u001b[33mFunCallMulti\u001b[39m(\u001b[33mIdent\u001b[39m(\u001b[32m\"foo\"\u001b[39m), \u001b[33mList\u001b[39m(\u001b[33mConst\u001b[39m(\u001b[32m10.0\u001b[39m), \u001b[33mConst\u001b[39m(\u001b[32m20.0\u001b[39m))),\n",
       "  \u001b[33mList\u001b[39m(\u001b[33mConst\u001b[39m(\u001b[32m30.0\u001b[39m), \u001b[33mConst\u001b[39m(\u001b[32m40.0\u001b[39m), \u001b[33mConst\u001b[39m(\u001b[32m50.0\u001b[39m))\n",
       ")\n",
       "\u001b[36me4\u001b[39m: \u001b[32mLet\u001b[39m = \u001b[33mLet\u001b[39m(\n",
       "  \u001b[32m\"foo\"\u001b[39m,\n",
       "  \u001b[33mFunDefMulti\u001b[39m(\n",
       "    \u001b[33mList\u001b[39m(\u001b[32m\"x1\"\u001b[39m, \u001b[32m\"x2\"\u001b[39m),\n",
       "    \u001b[33mFunDefMulti\u001b[39m(\n",
       "      \u001b[33mList\u001b[39m(\u001b[32m\"x3\"\u001b[39m, \u001b[32m\"x4\"\u001b[39m, \u001b[32m\"x5\"\u001b[39m),\n",
       "      \u001b[33mPlus\u001b[39m(\n",
       "        \u001b[33mIdent\u001b[39m(\u001b[32m\"x1\"\u001b[39m),\n",
       "        \u001b[33mPlus\u001b[39m(\n",
       "          \u001b[33mIdent\u001b[39m(\u001b[32m\"x2\"\u001b[39m),\n",
       "          \u001b[33mPlus\u001b[39m(\n",
       "            \u001b[33mIdent\u001b[39m(\u001b[32m\"x2\"\u001b[39m),\n",
       "            \u001b[33mPlus\u001b[39m(\u001b[33mIdent\u001b[39m(\u001b[32m\"x3\"\u001b[39m), \u001b[33mPlus\u001b[39m(\u001b[33mIdent\u001b[39m(\u001b[32m\"x4\"\u001b[39m), \u001b[33mPlus\u001b[39m(\u001b[33mIdent\u001b[39m(\u001b[32m\"x5\"\u001b[39m), \u001b[33mIdent\u001b[39m(\u001b[32m\"x5\"\u001b[39m))))\n",
       "          )\n",
       "        )\n",
       "      )\n",
       "    )\n",
       "  ),\n",
       "  \u001b[33mFunCallMulti\u001b[39m(\n",
       "    \u001b[33mFunCallMulti\u001b[39m(\u001b[33mIdent\u001b[39m(\u001b[32m\"foo\"\u001b[39m), \u001b[33mList\u001b[39m(\u001b[33mConst\u001b[39m(\u001b[32m10.0\u001b[39m), \u001b[33mConst\u001b[39m(\u001b[32m20.0\u001b[39m))),\n",
       "    \u001b[33mList\u001b[39m(\u001b[33mConst\u001b[39m(\u001b[32m30.0\u001b[39m), \u001b[33mConst\u001b[39m(\u001b[32m40.0\u001b[39m), \u001b[33mConst\u001b[39m(\u001b[32m50.0\u001b[39m))\n",
       "  )\n",
       ")\n",
       "\u001b[36mf4\u001b[39m: \u001b[32mExpr\u001b[39m = \u001b[33mLet\u001b[39m(\n",
       "  \u001b[32m\"foo\"\u001b[39m,\n",
       "  \u001b[33mFunDef\u001b[39m(\n",
       "    \u001b[32m\"x1\"\u001b[39m,\n",
       "    \u001b[33mFunDef\u001b[39m(\n",
       "      \u001b[32m\"x2\"\u001b[39m,\n",
       "      \u001b[33mFunDef\u001b[39m(\n",
       "        \u001b[32m\"x3\"\u001b[39m,\n",
       "        \u001b[33mFunDef\u001b[39m(\n",
       "          \u001b[32m\"x4\"\u001b[39m,\n",
       "          \u001b[33mFunDef\u001b[39m(\n",
       "            \u001b[32m\"x5\"\u001b[39m,\n",
       "            \u001b[33mPlus\u001b[39m(\n",
       "              \u001b[33mIdent\u001b[39m(\u001b[32m\"x1\"\u001b[39m),\n",
       "              \u001b[33mPlus\u001b[39m(\n",
       "                \u001b[33mIdent\u001b[39m(\u001b[32m\"x2\"\u001b[39m),\n",
       "                \u001b[33mPlus\u001b[39m(\n",
       "                  \u001b[33mIdent\u001b[39m(\u001b[32m\"x2\"\u001b[39m),\n",
       "                  \u001b[33mPlus\u001b[39m(\n",
       "                    \u001b[33mIdent\u001b[39m(\u001b[32m\"x3\"\u001b[39m),\n",
       "                    \u001b[33mPlus\u001b[39m(\u001b[33mIdent\u001b[39m(\u001b[32m\"x4\"\u001b[39m), \u001b[33mPlus\u001b[39m(\u001b[33mIdent\u001b[39m(\u001b[32m\"x5\"\u001b[39m), \u001b[33mIdent\u001b[39m(\u001b[32m\"x5\"\u001b[39m)))\n",
       "                  )\n",
       "                )\n",
       "              )\n",
       "            )\n",
       "          )\n",
       "        )\n",
       "      )\n",
       "    )\n",
       "  ),\n",
       "  \u001b[33mFunCall\u001b[39m(\n",
       "    \u001b[33mFunCall\u001b[39m(\n",
       "      \u001b[33mFunCall\u001b[39m(\n",
       "        \u001b[33mFunCall\u001b[39m(\u001b[33mFunCall\u001b[39m(\u001b[33mIdent\u001b[39m(\u001b[32m\"foo\"\u001b[39m), \u001b[33mConst\u001b[39m(\u001b[32m10.0\u001b[39m)), \u001b[33mConst\u001b[39m(\u001b[32m20.0\u001b[39m)),\n",
       "        \u001b[33mConst\u001b[39m(\u001b[32m30.0\u001b[39m)\n",
       "      ),\n",
       "      \u001b[33mConst\u001b[39m(\u001b[32m40.0\u001b[39m)\n",
       "    ),\n",
       "    \u001b[33mConst\u001b[39m(\u001b[32m50.0\u001b[39m)\n",
       "...\n",
       "\u001b[36mres16_11\u001b[39m: \u001b[32mBoolean\u001b[39m = true"
      ]
     },
     "execution_count": 17,
     "metadata": {},
     "output_type": "execute_result"
    }
   ],
   "source": [
    "val x1 = Ident(\"x1\")\n",
    "val x2 = Ident(\"x2\")\n",
    "val x3 = Ident(\"x3\")\n",
    "val x4 = Ident(\"x4\")\n",
    "val x5 = Ident(\"x5\")\n",
    "\n",
    "\n",
    "/*\n",
    "  let foo = function (x1, x2) {\n",
    "           (function (x3, x4, x5) x1 + x2 + x2 + x3 + x4 + x5 + x5 )\n",
    "  } in \n",
    "    foo(10,20)(30, 40, 50)\n",
    "*/\n",
    "\n",
    "val e1 = FunDefMulti(List(\"x1\", \"x2\"), FunDefMulti(List(\"x3\", \"x4\", \"x5\"), \n",
    "                                                   Plus(x1, \n",
    "                                                        Plus(x2, Plus(x2, \n",
    "                                                            Plus(x3, \n",
    "                                                                 Plus(x4, Plus(x5, x5))\n",
    "                                                                )))\n",
    "                                                       ) ))\n",
    "\n",
    "val e2 = FunCallMulti(Ident(\"foo\"), List(Const(10), Const(20)))\n",
    "\n",
    "val e3 = FunCallMulti(e2, List(Const(30), Const(40), Const(50)))\n",
    "\n",
    "val e4 = Let(\"foo\", e1 , e3)\n",
    "\n",
    "val f4 = autoCurry(e4)\n",
    "\n",
    "println(\"Checking that result from your function has no multiple arg functions left.\")\n",
    "testResultHasNoMultiFun(f4)\n",
    "println(\"Success!!\")\n",
    "println(\"Checking result is correct:\")\n",
    "\n",
    "assert( evalExpr(f4, Map.empty) == Num(220.0))\n",
    "\n",
    "passed(3)"
   ]
  },
  {
   "cell_type": "code",
   "execution_count": 18,
   "metadata": {
    "deletable": false,
    "editable": false,
    "nbgrader": {
     "cell_type": "code",
     "checksum": "d24f9d1971f36cf4d03ca1dfee59b738",
     "grade": true,
     "grade_id": "cell-5d130a06bb422f77",
     "locked": true,
     "points": 10,
     "schema_version": 3,
     "solution": false,
     "task": false
    }
   },
   "outputs": [
    {
     "name": "stdout",
     "output_type": "stream",
     "text": [
      "Checking that result from your function has no multiple arg functions left.\n",
      "Success!!\n",
      "Checking result is correct:\n",
      "Num(33.0)\n",
      "Tests Passed (10 points)"
     ]
    },
    {
     "data": {
      "text/plain": [
       "\u001b[36mx1\u001b[39m: \u001b[32mIdent\u001b[39m = \u001b[33mIdent\u001b[39m(\u001b[32m\"x1\"\u001b[39m)\n",
       "\u001b[36mx2\u001b[39m: \u001b[32mIdent\u001b[39m = \u001b[33mIdent\u001b[39m(\u001b[32m\"x2\"\u001b[39m)\n",
       "\u001b[36mx3\u001b[39m: \u001b[32mIdent\u001b[39m = \u001b[33mIdent\u001b[39m(\u001b[32m\"x3\"\u001b[39m)\n",
       "\u001b[36mx4\u001b[39m: \u001b[32mIdent\u001b[39m = \u001b[33mIdent\u001b[39m(\u001b[32m\"x4\"\u001b[39m)\n",
       "\u001b[36mx5\u001b[39m: \u001b[32mIdent\u001b[39m = \u001b[33mIdent\u001b[39m(\u001b[32m\"x5\"\u001b[39m)\n",
       "\u001b[36me1\u001b[39m: \u001b[32mFunDefMulti\u001b[39m = \u001b[33mFunDefMulti\u001b[39m(\n",
       "  \u001b[33mList\u001b[39m(\u001b[32m\"x1\"\u001b[39m, \u001b[32m\"x2\"\u001b[39m, \u001b[32m\"x3\"\u001b[39m),\n",
       "  \u001b[33mFunDefMulti\u001b[39m(\n",
       "    \u001b[33mList\u001b[39m(),\n",
       "    \u001b[33mPlus\u001b[39m(\u001b[33mIdent\u001b[39m(\u001b[32m\"x1\"\u001b[39m), \u001b[33mPlus\u001b[39m(\u001b[33mIdent\u001b[39m(\u001b[32m\"x1\"\u001b[39m), \u001b[33mPlus\u001b[39m(\u001b[33mIdent\u001b[39m(\u001b[32m\"x2\"\u001b[39m), \u001b[33mIdent\u001b[39m(\u001b[32m\"x3\"\u001b[39m))))\n",
       "  )\n",
       ")\n",
       "\u001b[36me2\u001b[39m: \u001b[32mFunDefMulti\u001b[39m = \u001b[33mFunDefMulti\u001b[39m(\n",
       "  \u001b[33mList\u001b[39m(),\n",
       "  \u001b[33mPlus\u001b[39m(\n",
       "    \u001b[33mConst\u001b[39m(\u001b[32m10.0\u001b[39m),\n",
       "    \u001b[33mFunCallMulti\u001b[39m(\n",
       "      \u001b[33mFunCallMulti\u001b[39m(\u001b[33mIdent\u001b[39m(\u001b[32m\"foo\"\u001b[39m), \u001b[33mList\u001b[39m(\u001b[33mConst\u001b[39m(\u001b[32m5.0\u001b[39m), \u001b[33mConst\u001b[39m(\u001b[32m2.0\u001b[39m), \u001b[33mConst\u001b[39m(\u001b[32m1.0\u001b[39m))),\n",
       "      \u001b[33mList\u001b[39m()\n",
       "    )\n",
       "  )\n",
       ")\n",
       "\u001b[36me3\u001b[39m: \u001b[32mPlus\u001b[39m = \u001b[33mPlus\u001b[39m(\n",
       "  \u001b[33mFunCallMulti\u001b[39m(\u001b[33mIdent\u001b[39m(\u001b[32m\"bar\"\u001b[39m), \u001b[33mList\u001b[39m()),\n",
       "  \u001b[33mFunCallMulti\u001b[39m(\u001b[33mFunDefMulti\u001b[39m(\u001b[33mList\u001b[39m(), \u001b[33mConst\u001b[39m(\u001b[32m10.0\u001b[39m)), \u001b[33mList\u001b[39m())\n",
       ")\n",
       "\u001b[36me\u001b[39m: \u001b[32mLet\u001b[39m = \u001b[33mLet\u001b[39m(\n",
       "  \u001b[32m\"foo\"\u001b[39m,\n",
       "  \u001b[33mFunDefMulti\u001b[39m(\n",
       "    \u001b[33mList\u001b[39m(\u001b[32m\"x1\"\u001b[39m, \u001b[32m\"x2\"\u001b[39m, \u001b[32m\"x3\"\u001b[39m),\n",
       "    \u001b[33mFunDefMulti\u001b[39m(\n",
       "      \u001b[33mList\u001b[39m(),\n",
       "      \u001b[33mPlus\u001b[39m(\u001b[33mIdent\u001b[39m(\u001b[32m\"x1\"\u001b[39m), \u001b[33mPlus\u001b[39m(\u001b[33mIdent\u001b[39m(\u001b[32m\"x1\"\u001b[39m), \u001b[33mPlus\u001b[39m(\u001b[33mIdent\u001b[39m(\u001b[32m\"x2\"\u001b[39m), \u001b[33mIdent\u001b[39m(\u001b[32m\"x3\"\u001b[39m))))\n",
       "    )\n",
       "  ),\n",
       "  \u001b[33mLet\u001b[39m(\n",
       "    \u001b[32m\"bar\"\u001b[39m,\n",
       "    \u001b[33mFunDefMulti\u001b[39m(\n",
       "      \u001b[33mList\u001b[39m(),\n",
       "      \u001b[33mPlus\u001b[39m(\n",
       "        \u001b[33mConst\u001b[39m(\u001b[32m10.0\u001b[39m),\n",
       "        \u001b[33mFunCallMulti\u001b[39m(\n",
       "          \u001b[33mFunCallMulti\u001b[39m(\u001b[33mIdent\u001b[39m(\u001b[32m\"foo\"\u001b[39m), \u001b[33mList\u001b[39m(\u001b[33mConst\u001b[39m(\u001b[32m5.0\u001b[39m), \u001b[33mConst\u001b[39m(\u001b[32m2.0\u001b[39m), \u001b[33mConst\u001b[39m(\u001b[32m1.0\u001b[39m))),\n",
       "          \u001b[33mList\u001b[39m()\n",
       "        )\n",
       "      )\n",
       "    ),\n",
       "    \u001b[33mPlus\u001b[39m(\n",
       "      \u001b[33mFunCallMulti\u001b[39m(\u001b[33mIdent\u001b[39m(\u001b[32m\"bar\"\u001b[39m), \u001b[33mList\u001b[39m()),\n",
       "      \u001b[33mFunCallMulti\u001b[39m(\u001b[33mFunDefMulti\u001b[39m(\u001b[33mList\u001b[39m(), \u001b[33mConst\u001b[39m(\u001b[32m10.0\u001b[39m)), \u001b[33mList\u001b[39m())\n",
       "    )\n",
       "  )\n",
       ")\n",
       "\u001b[36mf\u001b[39m: \u001b[32mExpr\u001b[39m = \u001b[33mLet\u001b[39m(\n",
       "  \u001b[32m\"foo\"\u001b[39m,\n",
       "  \u001b[33mFunDef\u001b[39m(\n",
       "    \u001b[32m\"x1\"\u001b[39m,\n",
       "    \u001b[33mFunDef\u001b[39m(\n",
       "      \u001b[32m\"x2\"\u001b[39m,\n",
       "      \u001b[33mFunDef\u001b[39m(\n",
       "        \u001b[32m\"x3\"\u001b[39m,\n",
       "        \u001b[33mFunDef\u001b[39m(\n",
       "          \u001b[32m\"_dummy_\"\u001b[39m,\n",
       "          \u001b[33mPlus\u001b[39m(\u001b[33mIdent\u001b[39m(\u001b[32m\"x1\"\u001b[39m), \u001b[33mPlus\u001b[39m(\u001b[33mIdent\u001b[39m(\u001b[32m\"x1\"\u001b[39m), \u001b[33mPlus\u001b[39m(\u001b[33mIdent\u001b[39m(\u001b[32m\"x2\"\u001b[39m), \u001b[33mIdent\u001b[39m(\u001b[32m\"x3\"\u001b[39m))))\n",
       "        )\n",
       "      )\n",
       "    )\n",
       "  ),\n",
       "  \u001b[33mLet\u001b[39m(\n",
       "    \u001b[32m\"bar\"\u001b[39m,\n",
       "    \u001b[33mFunDef\u001b[39m(\n",
       "      \u001b[32m\"_dummy_\"\u001b[39m,\n",
       "      \u001b[33mPlus\u001b[39m(\n",
       "        \u001b[33mConst\u001b[39m(\u001b[32m10.0\u001b[39m),\n",
       "        \u001b[33mFunCall\u001b[39m(\n",
       "          \u001b[33mFunCall\u001b[39m(\n",
       "            \u001b[33mFunCall\u001b[39m(\u001b[33mFunCall\u001b[39m(\u001b[33mIdent\u001b[39m(\u001b[32m\"foo\"\u001b[39m), \u001b[33mConst\u001b[39m(\u001b[32m5.0\u001b[39m)), \u001b[33mConst\u001b[39m(\u001b[32m2.0\u001b[39m)),\n",
       "            \u001b[33mConst\u001b[39m(\u001b[32m1.0\u001b[39m)\n",
       "          ),\n",
       "          \u001b[33mConst\u001b[39m(\u001b[32m-1.0\u001b[39m)\n",
       "        )\n",
       "      )\n",
       "    ),\n",
       "    \u001b[33mPlus\u001b[39m(\n",
       "      \u001b[33mFunCall\u001b[39m(\u001b[33mIdent\u001b[39m(\u001b[32m\"bar\"\u001b[39m), \u001b[33mConst\u001b[39m(\u001b[32m-1.0\u001b[39m)),\n",
       "      \u001b[33mFunCall\u001b[39m(\u001b[33mFunDef\u001b[39m(\u001b[32m\"_dummy_\"\u001b[39m, \u001b[33mConst\u001b[39m(\u001b[32m10.0\u001b[39m)), \u001b[33mConst\u001b[39m(\u001b[32m-1.0\u001b[39m))\n",
       "    )\n",
       "  )\n",
       ")\n",
       "\u001b[36mres17_11\u001b[39m: \u001b[32mBoolean\u001b[39m = true\n",
       "\u001b[36mv\u001b[39m: \u001b[32mValue\u001b[39m = \u001b[33mNum\u001b[39m(\u001b[32m33.0\u001b[39m)"
      ]
     },
     "execution_count": 18,
     "metadata": {},
     "output_type": "execute_result"
    }
   ],
   "source": [
    "/*\n",
    "  let foo = function (x1, x2, x3){ \n",
    "              function () {\n",
    "                   x1 + x1 + x2 + x3 \n",
    "              }\n",
    "        } in \n",
    "  let bar = function() ( 10 + foo(5, 2, 1)()) in \n",
    "   bar() + ( (function() 10) () )\n",
    "*/\n",
    "\n",
    "val x1 = Ident(\"x1\")\n",
    "val x2 = Ident(\"x2\")\n",
    "val x3 = Ident(\"x3\")\n",
    "val x4 = Ident(\"x4\")\n",
    "val x5 = Ident(\"x5\")\n",
    "\n",
    "val e1 = FunDefMulti(List(\"x1\", \"x2\", \"x3\"), FunDefMulti(Nil, Plus(x1, Plus(x1, Plus(x2, x3)))))\n",
    "val e2 = FunDefMulti(Nil, Plus(Const(10), FunCallMulti(FunCallMulti(Ident(\"foo\"), List(Const(5),Const(2), Const(1))), Nil)))\n",
    "val e3 = Plus(FunCallMulti(Ident(\"bar\"), Nil), FunCallMulti( FunDefMulti(Nil, Const(10)), Nil))\n",
    "\n",
    "val e = Let(\"foo\", e1, Let(\"bar\", e2, e3))\n",
    "\n",
    "val f = autoCurry(e)\n",
    "\n",
    "println(\"Checking that result from your function has no multiple arg functions left.\")\n",
    "testResultHasNoMultiFun(f)\n",
    "println(\"Success!!\")\n",
    "println(\"Checking result is correct:\")\n",
    "\n",
    "val v = evalExpr(f, Map.empty)\n",
    "println(v )\n",
    "assert( v == Num(33.0))\n",
    "\n",
    "passed(10)\n"
   ]
  },
  {
   "cell_type": "markdown",
   "metadata": {
    "deletable": false,
    "editable": false,
    "nbgrader": {
     "cell_type": "markdown",
     "checksum": "673db6a6e55088a84afcc1e0087d4ad7",
     "grade": false,
     "grade_id": "cell-93e362a6b236e79b",
     "locked": true,
     "schema_version": 3,
     "solution": false,
     "task": false
    }
   },
   "source": [
    "### That's all Folks!!"
   ]
  },
  {
   "cell_type": "code",
   "execution_count": null,
   "metadata": {},
   "outputs": [],
   "source": []
  }
 ],
 "metadata": {
  "kernelspec": {
   "display_name": "Scala 2.12",
   "language": "scala",
   "name": "scala212"
  },
  "language_info": {
   "codemirror_mode": "text/x-scala",
   "file_extension": ".sc",
   "mimetype": "text/x-scala",
   "name": "scala",
   "nbconvert_exporter": "script",
   "version": "2.12.12"
  }
 },
 "nbformat": 4,
 "nbformat_minor": 5
}
