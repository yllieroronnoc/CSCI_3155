{
 "cells": [
  {
   "cell_type": "markdown",
   "id": "bf062577-e0b6-4cde-b116-fe6e129220f5",
   "metadata": {},
   "source": [
    "# CSCI 3155: Assignment 9\n",
    "\n",
    "Topics: \n",
    "- Basics of Objects\n",
    "- Traits\n",
    "\n",
    "Readings: Notes posted on canvas."
   ]
  },
  {
   "cell_type": "markdown",
   "id": "b5c49ea9-0f1e-4bad-abe1-263bef945410",
   "metadata": {},
   "source": [
    "__Name__: WRITE YOUR NAME HERE"
   ]
  },
  {
   "cell_type": "code",
   "execution_count": 41,
   "id": "9292668e-3cde-455b-9e01-4d0b25ca8d4f",
   "metadata": {},
   "outputs": [
    {
     "data": {
      "text/plain": [
       "defined \u001b[32mfunction\u001b[39m \u001b[36mpassed\u001b[39m"
      ]
     },
     "execution_count": 41,
     "metadata": {},
     "output_type": "execute_result"
    }
   ],
   "source": [
    "// TEST HELPER\n",
    "def passed(points: Int) {\n",
    "    require(points >=0)\n",
    "    if (points == 1) print(s\"\\n*** Tests Passed (1 point) ***\\n\")\n",
    "    else print(s\"\\n*** Tests Passed ($points points) ***\\n\")\n",
    "}"
   ]
  },
  {
   "cell_type": "markdown",
   "id": "ea64245c-76c9-4fdc-a133-b61078a47283",
   "metadata": {},
   "source": [
    "## Problem 1 (30 points): Objects in Scala\n",
    "\n",
    "### A (12 points)\n",
    "Consider a inventory tracking application for a store like Home Depot. Below is an `Item` class with one field called `name` which is a string.  \n",
    "1) Fill in the definition of its `equals` method such that it returns true if and only if its argument is an item with the same name. \n",
    "\n",
    "Next, we define a `Product` class that has three fields: `name`, `skn` (stock-keeping number), `qty` (quantity in stock), and `price`.\n",
    "\n",
    "1) As given, scala will complain that class Product cannot extend the abstract class Item. Add the missing methods to enable the class Product to properly extend Item\n",
    "\n",
    "2) Write a factory pattern that takes in a formatted string of the form \"Item Name, SKN, Qty, Price\" and builds a Product object with these attributes. \n",
    "    - Item name is a string with possible white spaces, e.g., \" Lint Roller \"\n",
    "    - SKN is an alpha-numeric string, .e.g., \"1a98hn6\", \n",
    "    - Qty is an integer, e.g., 98.\n",
    "    - Price is a Double, e.g., 23.35.\n",
    "    \n",
    "   You may want to use `scala.util.matching.Regex` [https://www.scala-lang.org/api/2.12.5/scala/util/matching/Regex.html] If the input fails to match the pattern, an `IllegalArgumentException` must be thrown\n",
    "\n",
    "Companion objects are covered in scala book Chapter 4.3. Also lookup here: https://alvinalexander.com/scala/factory-pattern-in-scala-design-patterns"
   ]
  },
  {
   "cell_type": "code",
   "execution_count": 42,
   "id": "fb5f2c30-12cc-4ff6-916e-56cb918472bd",
   "metadata": {},
   "outputs": [
    {
     "data": {
      "text/plain": [
       "\u001b[32mimport \u001b[39m\u001b[36mscala.util.matching.Regex\n",
       "\n",
       "\u001b[39m\n",
       "defined \u001b[32mclass\u001b[39m \u001b[36mItem\u001b[39m\n",
       "defined \u001b[32mclass\u001b[39m \u001b[36mProduct\u001b[39m\n",
       "defined \u001b[32mobject\u001b[39m \u001b[36mProduct\u001b[39m"
      ]
     },
     "execution_count": 42,
     "metadata": {},
     "output_type": "execute_result"
    }
   ],
   "source": [
    "import scala.util.matching.Regex\n",
    "\n",
    "abstract class Item(val name: String) {\n",
    "    /* Needs a method to return a string describing the product */\n",
    "    def toString: String\n",
    "    /* Two products are equal if their SKNs are equal */\n",
    "    def equals (p: Item): Boolean = {\n",
    "        //BEGIN SOLUTION\n",
    "        \n",
    "        \n",
    "        //END SOLUTION        \n",
    "    }\n",
    "}\n",
    "\n",
    "/* \n",
    "  Note that for a product to be equal to an object of type Item, that object\n",
    "  must be a product with matching skn \n",
    "*/\n",
    "\n",
    "class Product(override val name: String, \n",
    "              val skn: String, \n",
    "              val qty: Int,\n",
    "              val price: Double) extends Item(name) {\n",
    "    //BEGIN SOLUTION\n",
    "    \n",
    "    //END SOLUTION\n",
    "}\n",
    "\n",
    "\n",
    "object Product {\n",
    "    def apply(formattedInput: String): Product = {\n",
    "        /* \n",
    "        Input format must be \n",
    "            (name with possible spaces)[optional whitespaces],[optional whitespaces](SKN)[optional whitespaces],[optional whitespaces](quantity)[optional whitespaces],[optional whitespaces](price)\n",
    "        */\n",
    "        //BEGIN SOLUTION\n",
    "        \n",
    "        //END SOLUTION\n",
    "    }\n",
    "}"
   ]
  },
  {
   "cell_type": "code",
   "execution_count": 43,
   "id": "9a0702d0-1add-4e7f-bd1f-816709caf3bd",
   "metadata": {},
   "outputs": [
    {
     "name": "stdout",
     "output_type": "stream",
     "text": [
      "\n",
      "*** Tests Passed (3 points) ***\n"
     ]
    },
    {
     "data": {
      "text/plain": [
       "defined \u001b[32mclass\u001b[39m \u001b[36mMyItem\u001b[39m\n",
       "\u001b[36mp1\u001b[39m: \u001b[32mMyItem\u001b[39m = Eggs"
      ]
     },
     "execution_count": 43,
     "metadata": {},
     "output_type": "execute_result"
    }
   ],
   "source": [
    "class MyItem(override val name: String) extends Item(name){\n",
    "        override def toString: String = {\n",
    "        name\n",
    "    }\n",
    "}\n",
    "val p1 = new MyItem(\"Eggs\")\n",
    "assert(p1.equals(new MyItem(\"Eggs\")), \"Failed\")\n",
    "assert(!p1.equals(new MyItem(\"Not Eggs\")), \"Failed\")\n",
    "passed(3)"
   ]
  },
  {
   "cell_type": "code",
   "execution_count": 44,
   "id": "88406eaf-c3b5-463f-bbaa-3997d0ef574a",
   "metadata": {},
   "outputs": [
    {
     "name": "stdout",
     "output_type": "stream",
     "text": [
      "Product Name: Baby Wipes, SKN: 1a2e34, Quantity: 100, Price: 22.03\n",
      "\n",
      "*** Tests Passed (3 points) ***\n"
     ]
    },
    {
     "data": {
      "text/plain": [
       "\u001b[36mp1\u001b[39m: \u001b[32mProduct\u001b[39m = Product Name: Baby Wipes, SKN: 1a2e34, Quantity: 100, Price: 22.03"
      ]
     },
     "execution_count": 44,
     "metadata": {},
     "output_type": "execute_result"
    }
   ],
   "source": [
    "//BEGIN TEST\n",
    "val p1 = Product(\"Baby Wipes, 1a2e34, 100, 22.03\")\n",
    "println(p1.toString)\n",
    "assert(p1.name == \"Baby Wipes\", \"Name not parsed correctly\")\n",
    "assert(p1.skn == \"1a2e34\", \"SKN not parsed correctly\")\n",
    "assert(p1.qty == 100, \"qty not parsed correctly\")\n",
    "assert(p1.equals(new Product(\"Infant Wet Wipes\", \"1a2e34\", 9, 22.04)))\n",
    "passed(3)\n",
    "//END TEST"
   ]
  },
  {
   "cell_type": "code",
   "execution_count": 45,
   "id": "83e817d1-d950-4b42-9330-ec64771e6d88",
   "metadata": {},
   "outputs": [
    {
     "name": "stdout",
     "output_type": "stream",
     "text": [
      "Expected behavior seen\n",
      "\n",
      "*** Tests Passed (3 points) ***\n"
     ]
    }
   ],
   "source": [
    "//BEGIN TEST\n",
    "try {\n",
    "    val p2 = Product(\"Badly Formatted String, 2bce54, $3102, 45.89\")\n",
    "    assert(false, \"Failed, the string is badly formatted but your code is OK with it.\")\n",
    "} catch {\n",
    "    case e => println(s\"Expected behavior seen\")\n",
    "}\n",
    "passed(3)\n",
    "//END TEST"
   ]
  },
  {
   "cell_type": "code",
   "execution_count": 46,
   "id": "4407ea48-ec06-40cc-ba9a-a3973bae4886",
   "metadata": {},
   "outputs": [
    {
     "name": "stdout",
     "output_type": "stream",
     "text": [
      "Product Name: Wiper Blades, SKN: 99a2ef2, Quantity: 119, Price: 100.0\n",
      "\n",
      "*** Tests Passed (3 points) ***\n"
     ]
    },
    {
     "data": {
      "text/plain": [
       "\u001b[36me1\u001b[39m: \u001b[32mProduct\u001b[39m = Product Name: Wiper Blades, SKN: 99a2ef2, Quantity: 119, Price: 100.0"
      ]
     },
     "execution_count": 46,
     "metadata": {},
     "output_type": "execute_result"
    }
   ],
   "source": [
    "//BEGIN TEST\n",
    "val e1 = Product(\"Wiper Blades    , 99a2ef2   , 119,  100.00\")\n",
    "println(e1.toString)\n",
    "assert(e1.name == \"Wiper Blades\", \"Product name not parsed correctly\")\n",
    "assert(e1.skn == \"99a2ef2\", \"SKN not parsed correctly\")\n",
    "assert(e1.qty == 119, \"Qty not parsed correctly\")\n",
    "assert(!e1.equals(new Product(\"Wiper Blades\", \"random\", 119, 100.00)))\n",
    "passed(3)\n",
    "//END TEST"
   ]
  },
  {
   "cell_type": "markdown",
   "id": "6cd73dbd-0898-4f79-b77b-541fe6ba4855",
   "metadata": {},
   "source": [
    "### B (8 points)\n",
    "A store like Home Depot sells services too, .e.g., Door installation. We therefore wish to add a new subclass of `Item` to our system. The subclass must be named \"Service\" with the information associated should involve their name (string), service_id (string) and rate (double).\n",
    "\n",
    "Write a new class named `Service` whose constructor should take in the name of the service (String), its serviceId (string), and its rate (i.e., its price per hour) which is a Double. It has to extend `Item` class. \n",
    "\n",
    "A Service object is equal to an object p of type Item, only if p is actually an instance of Service, and if their names are the same and they have the same serviceId number."
   ]
  },
  {
   "cell_type": "code",
   "execution_count": 47,
   "id": "b286fc6a-193f-4db3-825e-7c99400aa18a",
   "metadata": {},
   "outputs": [
    {
     "data": {
      "text/plain": [
       "defined \u001b[32mclass\u001b[39m \u001b[36mService\u001b[39m"
      ]
     },
     "execution_count": 47,
     "metadata": {},
     "output_type": "execute_result"
    }
   ],
   "source": [
    "//BEGIN SOLUTION\n",
    "\n",
    "//END SOLUTION"
   ]
  },
  {
   "cell_type": "code",
   "execution_count": 48,
   "id": "22b35ea6-2eee-496f-b2c7-e54106e0e818",
   "metadata": {},
   "outputs": [
    {
     "name": "stdout",
     "output_type": "stream",
     "text": [
      "\n",
      "*** Tests Passed (4 points) ***\n"
     ]
    },
    {
     "data": {
      "text/plain": [
       "\u001b[36me1\u001b[39m: \u001b[32mProduct\u001b[39m = Product Name: Barn Door, SKN: 2014ae7, Quantity: 10, Price: 568.09\n",
       "\u001b[36mc1\u001b[39m: \u001b[32mService\u001b[39m = Serice Door installation, id: 20221a98, rate: 35.0"
      ]
     },
     "execution_count": 48,
     "metadata": {},
     "output_type": "execute_result"
    }
   ],
   "source": [
    "//BEGIN TEST\n",
    "val e1 = Product(\"Barn Door, 2014ae7, 10, 568.09 \")\n",
    "val c1 = new Service(\"Door installation\", \"20221a98\", 35.00)\n",
    "assert( !c1.equals(e1), \"Failed\")\n",
    "assert( c1.equals(new Service(\"Door installation\", \"20221a98\", 45.00)), \"Failed\")\n",
    "passed(4)\n",
    "//END TEST"
   ]
  },
  {
   "cell_type": "code",
   "execution_count": 49,
   "id": "b96ec15c-ef63-4026-8dae-b71581f2e8b2",
   "metadata": {},
   "outputs": [
    {
     "name": "stdout",
     "output_type": "stream",
     "text": [
      "\n",
      "*** Tests Passed (4 points) ***\n"
     ]
    },
    {
     "data": {
      "text/plain": [
       "\u001b[36ms1\u001b[39m: \u001b[32mService\u001b[39m = Serice Door installation, id: 20221a98, rate: 35.0\n",
       "\u001b[36ms2\u001b[39m: \u001b[32mService\u001b[39m = Serice Barn Door installation, id: 20221a98, rate: 35.0"
      ]
     },
     "execution_count": 49,
     "metadata": {},
     "output_type": "execute_result"
    }
   ],
   "source": [
    "//BEGIN TEST\n",
    "val s1 = new Service(\"Door installation\", \"20221a98\", 35.00)\n",
    "val s2 = new Service(\"Barn Door installation\", \"20221a98\", 35.00)\n",
    "assert( !s1.equals(s2), \"Failed\")\n",
    "passed(4)\n",
    "//END TEST"
   ]
  },
  {
   "cell_type": "markdown",
   "id": "a90371dd-c708-4f1f-b3b9-194a47d9c2a7",
   "metadata": {},
   "source": [
    "### B (10 points)\n",
    "Write a function `computeCost` that takes an object of type `Item` and an Integer `nos` denoting the number of such items, and computes the total cost. `computeCost` must behave differently for different `Item` objects:\n",
    "* If the `Item` object is an instance of `Product`, then the total cost is the product of `price` and `nos`. \n",
    "* If the `Item` object is an instance `Service`, then the total cost is the product of `rate` and `nos`.\n",
    "* Else throw `IllegalArgumentException`"
   ]
  },
  {
   "cell_type": "code",
   "execution_count": 54,
   "id": "410cf4a7-264f-479f-b274-2f54f8cfd099",
   "metadata": {},
   "outputs": [
    {
     "data": {
      "text/plain": [
       "defined \u001b[32mfunction\u001b[39m \u001b[36mcomputeCost\u001b[39m"
      ]
     },
     "execution_count": 54,
     "metadata": {},
     "output_type": "execute_result"
    }
   ],
   "source": [
    "def computeCost(i:Item, nos:Int): Double = {\n",
    "    //BEGIN SOLUTION\n",
    "    \n",
    "    //END SOLUTION\n",
    "}"
   ]
  },
  {
   "cell_type": "code",
   "execution_count": 57,
   "id": "dbee2456-fb9c-4667-927b-10e3d3c107a3",
   "metadata": {},
   "outputs": [
    {
     "name": "stdout",
     "output_type": "stream",
     "text": [
      "Expected behavior seen\n",
      "\n",
      "*** Tests Passed (10 points) ***\n"
     ]
    },
    {
     "data": {
      "text/plain": [
       "defined \u001b[32mclass\u001b[39m \u001b[36mMyItem\u001b[39m"
      ]
     },
     "execution_count": 57,
     "metadata": {},
     "output_type": "execute_result"
    }
   ],
   "source": [
    "assert(computeCost(Product(\"Barn Door, 2014ae7, 10, 568.09 \"),2) == 1136.18, \"Failed\")\n",
    "assert(computeCost(Product(\"Barn Door, 2014ae7, 10, 568.09 \"),2) == \n",
    "       computeCost(Product(\"Washing Machine, 9024ae7, 11, 1136.18 \"),1), \"Failed\")\n",
    "assert(computeCost(new Service(\"Door installation\", \"20221a98\", 35.00), 10) == 350.0, \"Failed\")\n",
    "class MyItem(override val name: String) extends Item(name){\n",
    "        override def toString: String = {\n",
    "        name\n",
    "    }\n",
    "}\n",
    "try {\n",
    "    val p2 = new MyItem(\"generic\")\n",
    "    computeCost(p2, 10)\n",
    "    assert(false, \"Failed, Your code computes the cost of an item without knowing its price or rate\")\n",
    "} catch {\n",
    "    case e => println(s\"Expected behavior seen\")\n",
    "}\n",
    "passed(10)"
   ]
  },
  {
   "cell_type": "markdown",
   "id": "3c13c7d1-8051-4e4b-b740-9ef0fe3edc65",
   "metadata": {},
   "source": [
    "## Problem 2 (20 points)\n",
    "\n",
    "Suppose we wish to define an abstract class called `Shape` that is a three-dimensional geometric shape. It needs to have methods such as  `getCenter`,  and `translate`.\n",
    "\n",
    "  - `getCenter` : Gets the center of the shape. For a polyhedron the center is the \"average\" of the coordinates of its vertices. For a sphere/ellipsoid, the center is part of the description of the object (see below).\n",
    "  - `translate`: Translates the shape along some given values of `xShift`, `yShift`, and `zShift`.\n",
    "\n",
    "\n",
    "We will define a trait called `WithCorners` that define shapes with corners. This trait will implement a function called `getVertices`.\n",
    "\n",
    "There are many classes that inherit from `Shape` including `Polyhedron` and `Ellipsoid`. The classes `Pyramid` and `Cuboid` inherit from `Polyhedron` and `Sphere` inherits from `Ellipsoid`. \n",
    "\n",
    "Also the class `Polyhedron` and all its derived classes must mixin the trait `WithCorners` but the class `Ellipsoid` and its derived classes should not.\n",
    "\n",
    "- class `Pyramid(x0: (Double, Double, Double), x1: (Double, Double, Double), x2: (Double, Double, Double), x3: (Double, Double, Double))` must have four class parameters representing the four corners of the pyramid.\n",
    "  - It must inherit from `Polyhedron`.\n",
    "  - It must mixin the trait `WithCorners`.\n",
    "  - It must override the `translate` method so that `translate` called on a `Pyramid` returns an instance of a `Pyramid`.\n",
    "  \n",
    "- class `Cuboid(lowerLeft: (Double, Double, Double), length: Double, width: Double, height:Double)` must have the class parameters representing the lower left coordinate, length,  width, and height.\n",
    "  - It must inherit from `Polyheron`.\n",
    "  - It must mixin the trait `WithCorners`.\n",
    "  - It must override the `translate` method so that `translate` called on a `Cuboid` returns an instance of a `Cuboid`.\n",
    "  \n",
    "- class `Sphere(center: (Double, Double, Double), rad: Double)` must have its center coordinate and radius as class paramters.\n",
    "  - It must inherit from Ellipsoid.\n",
    "  - It must override the `translate` methodd so that `translate` called on a `Sphere` returns an instance of a `Sphere`.\n",
    "\n",
    "\n",
    "\n",
    "\n",
    "\n",
    "### Part A\n",
    "Complete the definitions below so that your code compiles.\n",
    "\n",
    "**Restrictions** No loops, mutables (var) or recursion. Please use functors `map`, `foldLeft` etc.. when possible.\n"
   ]
  },
  {
   "cell_type": "code",
   "execution_count": 58,
   "id": "3b3e55d0-b4f1-4703-927c-265df873b7d0",
   "metadata": {},
   "outputs": [
    {
     "data": {
      "text/plain": [
       "defined \u001b[32mclass\u001b[39m \u001b[36mShape\u001b[39m\n",
       "defined \u001b[32mtrait\u001b[39m \u001b[36mWithCorners\u001b[39m\n",
       "defined \u001b[32mclass\u001b[39m \u001b[36mEllipsoid\u001b[39m\n",
       "defined \u001b[32mclass\u001b[39m \u001b[36mPolyhedron\u001b[39m\n",
       "defined \u001b[32mclass\u001b[39m \u001b[36mPyramid\u001b[39m\n",
       "defined \u001b[32mclass\u001b[39m \u001b[36mCuboid\u001b[39m\n",
       "defined \u001b[32mclass\u001b[39m \u001b[36mSphere\u001b[39m"
      ]
     },
     "execution_count": 58,
     "metadata": {},
     "output_type": "execute_result"
    }
   ],
   "source": [
    "abstract class Shape {\n",
    "    def getCenter:(Double, Double, Double)\n",
    "    def translate(xShift: Double, yShift: Double, zShift: Double): Shape\n",
    "}\n",
    "\n",
    "trait WithCorners {\n",
    "    def getVertices: List[(Double, Double, Double)]\n",
    "}\n",
    "\n",
    "class Ellipsoid(val center: (Double, Double, Double), val axisLengths: (Double, Double, Double)) extends Shape {\n",
    "    //TODO: Finish the methods that need to be implemented.\n",
    "    //BEGIN SOLUTION\n",
    "    \n",
    "    //END SOLUTION\n",
    "}\n",
    "\n",
    "class Polyhedron(val listOfVerts: List[(Double, Double, Double)]) extends Shape with WithCorners {\n",
    "     assert(listOfVerts.length >= 1)\n",
    "    // TODO: Finish the methods that need to be implemented.\n",
    "    //BEGIN SOLUTION\n",
    "   \n",
    "    \n",
    "    //END SOLUTION\n",
    "}\n",
    "\n",
    "//TODO: Complete definitions of triangle, rectangle and circle classes.\n",
    "//BEGIN SOLUTION\n",
    "\n",
    "\n",
    "//END SOLUTION\n"
   ]
  },
  {
   "cell_type": "code",
   "execution_count": 72,
   "id": "5cbe98eb-f39d-4df8-b75c-bb13ec737008",
   "metadata": {},
   "outputs": [
    {
     "name": "stdout",
     "output_type": "stream",
     "text": [
      "\n",
      "*** Tests Passed (5 points) ***\n"
     ]
    },
    {
     "data": {
      "text/plain": [
       "\u001b[36mel1\u001b[39m: \u001b[32mEllipsoid\u001b[39m = ammonite.$sess.cmd57$Helper$Ellipsoid@4db846bc\n",
       "\u001b[36mel2\u001b[39m: \u001b[32mEllipsoid\u001b[39m = ammonite.$sess.cmd57$Helper$Ellipsoid@748edd7f\n",
       "\u001b[36mpl1\u001b[39m: \u001b[32mPolyhedron\u001b[39m = ammonite.$sess.cmd57$Helper$Polyhedron@7df8efe9"
      ]
     },
     "execution_count": 72,
     "metadata": {},
     "output_type": "execute_result"
    }
   ],
   "source": [
    "val el1 = new Ellipsoid((5.0, -3.5, 0.0), (2.1, 1.3, 2.0))\n",
    "val el2 = el1.translate(3,4,3)\n",
    "assert (el2.center == (8.0, 0.5, 3.0), \"Test failed: After translation, the center must be (8,0.5,3.0)\")\n",
    "\n",
    "val pl1 = new Polyhedron(List((0,0,0), (2,1,2)))\n",
    "assert (pl1.getCenter == (1.0, 0.5, 1.0), \"center must be (1,0.5)\")\n",
    "\n",
    "passed(5)"
   ]
  },
  {
   "cell_type": "code",
   "execution_count": 69,
   "id": "ae96fc4b-8b72-43e3-bcf5-ae16fb56507b",
   "metadata": {},
   "outputs": [
    {
     "name": "stdout",
     "output_type": "stream",
     "text": [
      "(2.125,1.625,1.75)\n",
      "*** Tests Passed (5 points) ***\n"
     ]
    },
    {
     "data": {
      "text/plain": [
       "\u001b[36mpyr\u001b[39m: \u001b[32mPyramid\u001b[39m = ammonite.$sess.cmd57$Helper$Pyramid@6299f721\n",
       "\u001b[36mpyr2\u001b[39m: \u001b[32mPyramid\u001b[39m = ammonite.$sess.cmd57$Helper$Pyramid@1ea9e539"
      ]
     },
     "execution_count": 69,
     "metadata": {},
     "output_type": "execute_result"
    }
   ],
   "source": [
    "val pyr = new Pyramid( (0,0, 0), (2,0,0), (1,1,0), (1.5, 1.5, 3))\n",
    "val pyr2 = pyr.translate(1,1,1)\n",
    "assert (pyr2.isInstanceOf[Pyramid])\n",
    "print(pyr2.getCenter)\n",
    "assert(pyr2.getCenter._1 == 2.125)\n",
    "assert(pyr2.getCenter._3 == 1.75)\n",
    "passed(5)"
   ]
  },
  {
   "cell_type": "code",
   "execution_count": 70,
   "id": "6764915e-bba7-4d67-abb4-d115b5cf9c1e",
   "metadata": {},
   "outputs": [
    {
     "name": "stdout",
     "output_type": "stream",
     "text": [
      "(0.0,0.0,0.0)(1.0,1.0,1.0)\n",
      "*** Tests Passed (5 points) ***\n"
     ]
    },
    {
     "data": {
      "text/plain": [
       "\u001b[36mcub\u001b[39m: \u001b[32mCuboid\u001b[39m = ammonite.$sess.cmd57$Helper$Cuboid@53a1b61\n",
       "\u001b[36mlistOfVerts\u001b[39m: \u001b[32mList\u001b[39m[(\u001b[32mDouble\u001b[39m, \u001b[32mDouble\u001b[39m, \u001b[32mDouble\u001b[39m)] = \u001b[33mList\u001b[39m(\n",
       "  (\u001b[32m-1.0\u001b[39m, \u001b[32m-1.0\u001b[39m, \u001b[32m-1.0\u001b[39m),\n",
       "  (\u001b[32m1.0\u001b[39m, \u001b[32m-1.0\u001b[39m, \u001b[32m-1.0\u001b[39m),\n",
       "  (\u001b[32m1.0\u001b[39m, \u001b[32m1.0\u001b[39m, \u001b[32m-1.0\u001b[39m),\n",
       "  (\u001b[32m-1.0\u001b[39m, \u001b[32m1.0\u001b[39m, \u001b[32m-1.0\u001b[39m),\n",
       "  (\u001b[32m-1.0\u001b[39m, \u001b[32m-1.0\u001b[39m, \u001b[32m1.0\u001b[39m),\n",
       "  (\u001b[32m1.0\u001b[39m, \u001b[32m-1.0\u001b[39m, \u001b[32m1.0\u001b[39m),\n",
       "  (\u001b[32m1.0\u001b[39m, \u001b[32m1.0\u001b[39m, \u001b[32m1.0\u001b[39m),\n",
       "  (\u001b[32m-1.0\u001b[39m, \u001b[32m1.0\u001b[39m, \u001b[32m1.0\u001b[39m)\n",
       ")\n",
       "\u001b[36mcub2\u001b[39m: \u001b[32mCuboid\u001b[39m = ammonite.$sess.cmd57$Helper$Cuboid@6ac97ec7"
      ]
     },
     "execution_count": 70,
     "metadata": {},
     "output_type": "execute_result"
    }
   ],
   "source": [
    "val cub = new Cuboid((-1,-1,-1), 2, 2, 2)\n",
    "val listOfVerts = cub.getVertices\n",
    "assert(listOfVerts.length == 8)\n",
    "print(cub.getCenter)\n",
    "assert (cub.getCenter == (0,0,0))\n",
    "val cub2: Cuboid = cub.translate(1,1,1)\n",
    "print(cub2.getCenter)\n",
    "assert(cub2.getCenter == (1,1,1))\n",
    "passed(5)"
   ]
  },
  {
   "cell_type": "code",
   "execution_count": 71,
   "id": "5f0a5e1c-4bb7-4619-a18a-d8c44fcea20f",
   "metadata": {},
   "outputs": [
    {
     "name": "stdout",
     "output_type": "stream",
     "text": [
      "\n",
      "*** Tests Passed (5 points) ***\n"
     ]
    },
    {
     "data": {
      "text/plain": [
       "\u001b[36mspr\u001b[39m: \u001b[32mSphere\u001b[39m = ammonite.$sess.cmd57$Helper$Sphere@40df0522\n",
       "\u001b[36mnew_spr\u001b[39m: \u001b[32mSphere\u001b[39m = ammonite.$sess.cmd57$Helper$Sphere@540f3335"
      ]
     },
     "execution_count": 71,
     "metadata": {},
     "output_type": "execute_result"
    }
   ],
   "source": [
    "val spr = new Sphere((1,1,1), 3)\n",
    "val new_spr: Sphere = circ.translate(2,2,2)\n",
    "assert (new_spr.center == (3,3,3))\n",
    "assert (new_spr.rad == 3)\n",
    "passed(5)"
   ]
  },
  {
   "cell_type": "code",
   "execution_count": null,
   "id": "5f536e71-7763-4be1-be79-43e06432d814",
   "metadata": {},
   "outputs": [],
   "source": []
  }
 ],
 "metadata": {
  "kernelspec": {
   "display_name": "Scala",
   "language": "scala",
   "name": "scala"
  },
  "language_info": {
   "codemirror_mode": "text/x-scala",
   "file_extension": ".sc",
   "mimetype": "text/x-scala",
   "name": "scala",
   "nbconvert_exporter": "script",
   "version": "2.13.4"
  }
 },
 "nbformat": 4,
 "nbformat_minor": 5
}
