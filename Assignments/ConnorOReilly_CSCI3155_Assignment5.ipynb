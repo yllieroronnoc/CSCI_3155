{
 "cells": [
  {
   "cell_type": "markdown",
   "metadata": {},
   "source": [
    "Before you turn this problem in, make sure everything runs as expected. First, **restart the kernel** (in the menubar, select Kernel$\\rightarrow$Restart) and then **run all cells** (in the menubar, select Cell$\\rightarrow$Run All).\n",
    "\n",
    "Make sure you fill in any place that says `???` or \"YOUR ANSWER HERE\"."
   ]
  },
  {
   "cell_type": "markdown",
   "metadata": {},
   "source": [
    "---"
   ]
  },
  {
   "cell_type": "markdown",
   "metadata": {
    "deletable": false,
    "editable": false,
    "nbgrader": {
     "cell_type": "markdown",
     "checksum": "b079df4ed313b2713af16ac0905a3cd0",
     "grade": false,
     "grade_id": "cell-ae24a8098f4ea9f1",
     "locked": true,
     "schema_version": 3,
     "solution": false,
     "task": false
    }
   },
   "source": [
    "# CSCI 3155: Assignment 5\n",
    "\n",
    "Topics Covered: Map, foldLeft and filter functions to replace loops."
   ]
  },
  {
   "cell_type": "markdown",
   "metadata": {},
   "source": [
    "__Name__: Connor OReilly"
   ]
  },
  {
   "cell_type": "code",
   "execution_count": 1,
   "metadata": {
    "deletable": false,
    "editable": false,
    "nbgrader": {
     "cell_type": "code",
     "checksum": "cfa2293faa8351affda37bdf63633aa0",
     "grade": false,
     "grade_id": "cell-523e63f33a38d446",
     "locked": true,
     "schema_version": 3,
     "solution": false
    }
   },
   "outputs": [
    {
     "data": {
      "text/plain": [
       "defined \u001b[32mfunction\u001b[39m \u001b[36mpassed\u001b[39m"
      ]
     },
     "execution_count": 1,
     "metadata": {},
     "output_type": "execute_result"
    }
   ],
   "source": [
    "// TEST HELPER: PLEASE run this cell first\n",
    "def passed(points: Int) {\n",
    "    require(points >=0)\n",
    "    if (points == 1) print(s\"Tests Passed (1 point)\")\n",
    "    else print(s\"Tests Passed ($points points)\") \n",
    "}"
   ]
  },
  {
   "cell_type": "markdown",
   "metadata": {
    "deletable": false,
    "editable": false,
    "nbgrader": {
     "cell_type": "markdown",
     "checksum": "54282eb160eb30f2d298204af5becb1a",
     "grade": false,
     "grade_id": "cell-1c25ff5512e1304b",
     "locked": true,
     "schema_version": 3,
     "solution": false,
     "task": false
    }
   },
   "source": [
    "## Problem 1: map, filter, reduce on containers (45 points)\n",
    "\n",
    "Solve the problems using a combination of map, filter and foldLeft/foldRight opertions over lists. \n",
    " - The use of mutables, recursion, For/While loops is forbidden for all problems.\n",
    " - Each problem has very specific set of allowed LIST API functions. Those are the only functions you can use. Other API functions are not allowed. \n",
    " - There are no restrictions on use of integer operations (addition, subtraction, division, mod etc..) or use of if-then-else, case-pattern matching and other scala constructs (however once again no loops of any kind and no use of var).\n",
    " - There are no restrictions on the use of named \"helper\" function vs anonymous functions.\n",
    " - Please do not use __return__ : It will cause a lot of strange issues in anonymous functions."
   ]
  },
  {
   "cell_type": "markdown",
   "metadata": {
    "deletable": false,
    "editable": false,
    "nbgrader": {
     "cell_type": "markdown",
     "checksum": "e9f755d2992a9a1b6dd8755d1ec7df21",
     "grade": false,
     "grade_id": "cell-57eb1b5c1720b797",
     "locked": true,
     "schema_version": 3,
     "solution": false
    }
   },
   "source": [
    "\n",
    "### A:  Compute Elementwise Difference of Two List\n",
    "\n",
    "You are given two lists of numbers and these lists are of the same length. Compute a new list that is the element-wise difference.\n",
    "\n",
    "If the inputs are `lst1: List(e1, e2, e3, ..., en)` and `lst2: List(f1, f2, ..., fn)`. You should output: `List(e1-f1, e2-f2, ..., en-fn)`.\n",
    "\n",
    "### Examples\n",
    "  \n",
    "`lst1: List(2, 3, 4, 3), lst2: List(1, 1, -1, 5)`. Your code should return `List(1, 2, 5, -2)`.\n",
    "\n",
    "`lst1: Nil, lst2: Nil`. Your code should return `Nil`.\n",
    "\n",
    "\n",
    "\n",
    "**Restrictions**\n",
    "\n",
    " - List API functions that you are allowed to use: `zip` and `map`. \n",
    " - Use of any other List API function is not allowed.\n",
    " - You are __not__ allowed to use __var__, any kind of loops or recursion.\n",
    "\n",
    "You can look the list API documentation for scala to find out more about these functions.\n",
    "Post/Search on piazza if you are unsure. \n",
    "\n"
   ]
  },
  {
   "cell_type": "code",
   "execution_count": 2,
   "metadata": {
    "deletable": false,
    "nbgrader": {
     "cell_type": "code",
     "checksum": "cbba2bc3dff705283e6586d574feb6fa",
     "grade": false,
     "grade_id": "cell-d07d79524c90fd4e",
     "locked": false,
     "schema_version": 3,
     "solution": true,
     "task": false
    }
   },
   "outputs": [
    {
     "data": {
      "text/plain": [
       "defined \u001b[32mfunction\u001b[39m \u001b[36melementWiseDiff\u001b[39m"
      ]
     },
     "execution_count": 2,
     "metadata": {},
     "output_type": "execute_result"
    }
   ],
   "source": [
    "def elementWiseDiff(lstA: List[Int], lstB: List[Int]): List[Int] =\n",
    "    \n",
    "    {\n",
    "        require(lstA.length == lstB.length)\n",
    "        if( (lstA == Nil) || (lstB == Nil)){\n",
    "            Nil\n",
    "        }else{\n",
    "             //okay so now for the fun stuff\n",
    "            val combine = lstA.zip(lstB)\n",
    "            combine.map((x: (Int, Int)) => {x._1 - x._2})\n",
    "        }\n",
    "       \n",
    "    }\n"
   ]
  },
  {
   "cell_type": "code",
   "execution_count": 3,
   "metadata": {
    "deletable": false,
    "editable": false,
    "nbgrader": {
     "cell_type": "code",
     "checksum": "53b9084a606e7789fb9c693b4eb896f8",
     "grade": true,
     "grade_id": "cell-054acf67575fc99c",
     "locked": true,
     "points": 5,
     "schema_version": 3,
     "solution": false
    }
   },
   "outputs": [
    {
     "name": "stdout",
     "output_type": "stream",
     "text": [
      "Tests Passed (5 points)"
     ]
    },
    {
     "data": {
      "text/plain": [
       "\u001b[36mt1\u001b[39m: \u001b[32mList\u001b[39m[\u001b[32mInt\u001b[39m] = \u001b[33mList\u001b[39m(\u001b[32m-3\u001b[39m, \u001b[32m-3\u001b[39m, \u001b[32m-3\u001b[39m)\n",
       "\u001b[36mt2\u001b[39m: \u001b[32mList\u001b[39m[\u001b[32mInt\u001b[39m] = \u001b[33mList\u001b[39m(\u001b[32m-1\u001b[39m, \u001b[32m3\u001b[39m, \u001b[32m-5\u001b[39m)\n",
       "\u001b[36mt3\u001b[39m: \u001b[32mList\u001b[39m[\u001b[32mInt\u001b[39m] = \u001b[33mList\u001b[39m()\n",
       "\u001b[36mt4\u001b[39m: \u001b[32mList\u001b[39m[\u001b[32mInt\u001b[39m] = \u001b[33mList\u001b[39m(\u001b[32m1\u001b[39m, \u001b[32m-4\u001b[39m, \u001b[32m2\u001b[39m, \u001b[32m-1\u001b[39m, \u001b[32m1\u001b[39m)"
      ]
     },
     "execution_count": 3,
     "metadata": {},
     "output_type": "execute_result"
    }
   ],
   "source": [
    "// BEGIN TEST\n",
    "\n",
    "val t1 = elementWiseDiff(List(1,2,3), List(4,5,6))\n",
    "assert(t1 == List(-3,-3, -3), \"Test 1 failed\")\n",
    "\n",
    "val t2 = elementWiseDiff(List(1,4,0), List(2,1,5))\n",
    "assert(t2 == List(-1,3,-5), \"Test 2 failed\")\n",
    "\n",
    "val t3 = elementWiseDiff(List(), List())\n",
    "assert(t3 == List(), \"Test 3 failed\")\n",
    "\n",
    "val t4 = elementWiseDiff(List(1, 0, 3, -1, -2), List(0, 4, 1, 0, -3))\n",
    "assert(t4 == List(1, -4, 2, -1, 1), \"Test 4 failed\")\n",
    "\n",
    "passed(5)\n",
    "// END TEST"
   ]
  },
  {
   "cell_type": "markdown",
   "metadata": {
    "deletable": false,
    "editable": false,
    "nbgrader": {
     "cell_type": "markdown",
     "checksum": "a432a93edca2526ae91c8dd61760145e",
     "grade": false,
     "grade_id": "cell-cce284d399573f50",
     "locked": true,
     "schema_version": 3,
     "solution": false
    }
   },
   "source": [
    "### B: GCD of all non-zero and non-one numbers in a list (5 points)\n",
    "\n",
    "You are given a list of numbers `List(e1, ..., en)`. You are required to output the greatest common divisor of all the elements of the list except the elements that are equal to 0 or 1. \n",
    "\n",
    "### Examples\n",
    "- Input: `List(1, 4, 6, 24, 0)`. Output: `gcd(4, 6, 24)` = 2.\n",
    "- Input: `List(1, 1, 1, 7, 8, 0, 15)`, Output: `gcd(7, 8, 15) = 1`.\n",
    "\n",
    "\n",
    "Assume that the list is not empty and  has elements `ei` other than 0/1.\n",
    "\n",
    "**Restrictions**\n",
    "\n",
    "  - You are allowed to use the provided `gcd` function that computes GCD of two numbers.\n",
    "  - Allowed list API functions: `head`, `tail`, `map`, `filter`, `foldLeft`, and `foldRight`. \n",
    "  - No other list API functions allowed.\n",
    "  - No __var__, no loops and no recursive calls other than the call made for LCM.\n"
   ]
  },
  {
   "cell_type": "code",
   "execution_count": 4,
   "metadata": {
    "deletable": false,
    "nbgrader": {
     "cell_type": "code",
     "checksum": "ad7c87e3fb49b1b35ba9c8d7a86a79d3",
     "grade": false,
     "grade_id": "cell-332c55ac9d70c435",
     "locked": false,
     "schema_version": 3,
     "solution": true
    }
   },
   "outputs": [
    {
     "data": {
      "text/plain": [
       "\u001b[32mimport \u001b[39m\u001b[36mscala.annotation._\n",
       "\n",
       "\u001b[39m\n",
       "defined \u001b[32mfunction\u001b[39m \u001b[36mgcdOfDenominators\u001b[39m"
      ]
     },
     "execution_count": 4,
     "metadata": {},
     "output_type": "execute_result"
    }
   ],
   "source": [
    "import scala.annotation._\n",
    "\n",
    "@tailrec\n",
    "private def gcd(a: Int, b: Int):Int=if (b==0) a.abs else gcd(b, a%b)\n",
    "\n",
    "\n",
    "def gcdOfDenominators(lst: List[Int]): Int = {\n",
    "    // get rid of elements greater than 1\n",
    "    lst.filter((x: Int) => {x > 1})\n",
    "       .foldLeft[Int](0)(gcd)\n",
    "    \n",
    "}"
   ]
  },
  {
   "cell_type": "code",
   "execution_count": 5,
   "metadata": {
    "deletable": false,
    "editable": false,
    "nbgrader": {
     "cell_type": "code",
     "checksum": "8b8a501f82f685bc0d9b94e9e8f32f49",
     "grade": true,
     "grade_id": "cell-b37de6cd26982543",
     "locked": true,
     "points": 5,
     "schema_version": 3,
     "solution": false
    }
   },
   "outputs": [
    {
     "name": "stdout",
     "output_type": "stream",
     "text": [
      "Tests Passed (7 points)"
     ]
    },
    {
     "data": {
      "text/plain": [
       "\u001b[36mi1\u001b[39m: \u001b[32mInt\u001b[39m = \u001b[32m5\u001b[39m\n",
       "\u001b[36mi2\u001b[39m: \u001b[32mInt\u001b[39m = \u001b[32m2\u001b[39m\n",
       "\u001b[36mi3\u001b[39m: \u001b[32mInt\u001b[39m = \u001b[32m3\u001b[39m"
      ]
     },
     "execution_count": 5,
     "metadata": {},
     "output_type": "execute_result"
    }
   ],
   "source": [
    "// BEGIN TEST\n",
    "val i1 = gcdOfDenominators(List(1, 1, 1, 0, 1, 1, 0, 5))\n",
    "assert(i1 == 5, s\"Test 1 failed -- expected answer is 5, you got $i1\")\n",
    "val i2 = gcdOfDenominators(List(1, 2, 0, 4, 6, 8))\n",
    "assert(i2 == 2, s\"Test 2 failed -- expected answer is 2, you got $i2\")\n",
    "val i3 = gcdOfDenominators(List(18, 27, 729, 1110))\n",
    "assert(i3 == 3, s\"Test 3 failed -- expected answer is 3 your answer is $i3\")\n",
    "passed(7)\n",
    "// END TEST"
   ]
  },
  {
   "cell_type": "markdown",
   "metadata": {
    "deletable": false,
    "editable": false,
    "nbgrader": {
     "cell_type": "markdown",
     "checksum": "8eb05991af0652b9240783710798ddae",
     "grade": false,
     "grade_id": "cell-ea3d3fc4e6b8adf3",
     "locked": true,
     "schema_version": 3,
     "solution": false,
     "task": false
    }
   },
   "source": [
    "## C: All List Elements That are Less Than Their Index (9 points)\n",
    "\n",
    "Write a list function that inputs a list of integers `lst` and outputs a list consisting of all those elements in `lst` whose values are __strictly less__ than their indices. Indices of elements start at 0 and go upto `length of list -1`.\n",
    "The order of the elements in the original list must be preserved in the returned list.\n",
    "\n",
    "**Restrictions**\n",
    "\n",
    "- You may use  these list API functions: `zip`, `zipWithIndex` (read documentation), `map`, `foldLeft`, `foldRight` and `filter`.\n",
    "- No other list API functions are allowed.\n",
    "- Use of loops, var, recursion not allowed.\n",
    "\n",
    "#### Example\n",
    "\n",
    "  - Input: List(1, 2, 2, -2, 4, 4,5)\n",
    "  - Output: List(-2, 4, 5)\n",
    "Note that elements  -2 (index 3), 4 (index 5) and 5 (index 6) are returned. \n",
    "\n"
   ]
  },
  {
   "cell_type": "code",
   "execution_count": 6,
   "metadata": {
    "deletable": false,
    "nbgrader": {
     "cell_type": "code",
     "checksum": "6b4e70efc9dc8ce0f9b884e5c2275369",
     "grade": false,
     "grade_id": "cell-ec76364060e01d7b",
     "locked": false,
     "schema_version": 3,
     "solution": true,
     "task": false
    }
   },
   "outputs": [
    {
     "data": {
      "text/plain": [
       "defined \u001b[32mfunction\u001b[39m \u001b[36mlistElementsLessThanIndex\u001b[39m"
      ]
     },
     "execution_count": 6,
     "metadata": {},
     "output_type": "execute_result"
    }
   ],
   "source": [
    "def listElementsLessThanIndex(lst: List[Int]): List[Int] = {\n",
    "\n",
    "    //zip list with indexes\n",
    "    lst.zipWithIndex\n",
    "    .map( (x:(Int,Int) ) => {if(x._1 < x._2) x._1 else 0} )\n",
    "    .filter((x: Int) => {x != 0})\n",
    "    \n",
    "}"
   ]
  },
  {
   "cell_type": "code",
   "execution_count": 7,
   "metadata": {
    "deletable": false,
    "editable": false,
    "nbgrader": {
     "cell_type": "code",
     "checksum": "a93e02aaf4a7019d08b58b897a4e65ea",
     "grade": true,
     "grade_id": "cell-bbaaea1a391dc9de",
     "locked": true,
     "points": 9,
     "schema_version": 3,
     "solution": false,
     "task": false
    }
   },
   "outputs": [
    {
     "name": "stdout",
     "output_type": "stream",
     "text": [
      "Tests Passed (6 points)"
     ]
    },
    {
     "data": {
      "text/plain": [
       "\u001b[36mlst1\u001b[39m: \u001b[32mList\u001b[39m[\u001b[32mInt\u001b[39m] = \u001b[33mList\u001b[39m(\u001b[32m1\u001b[39m, \u001b[32m2\u001b[39m, \u001b[32m2\u001b[39m, \u001b[32m-2\u001b[39m, \u001b[32m4\u001b[39m, \u001b[32m6\u001b[39m, \u001b[32m8\u001b[39m)\n",
       "\u001b[36mres1\u001b[39m: \u001b[32mList\u001b[39m[\u001b[32mInt\u001b[39m] = \u001b[33mList\u001b[39m(\u001b[32m-2\u001b[39m)\n",
       "\u001b[36mlst2\u001b[39m: \u001b[32mList\u001b[39m[\u001b[32mInt\u001b[39m] = \u001b[33mList\u001b[39m(\u001b[32m-1\u001b[39m, \u001b[32m-2\u001b[39m, \u001b[32m-3\u001b[39m, \u001b[32m-4\u001b[39m, \u001b[32m-5\u001b[39m, \u001b[32m-6\u001b[39m)\n",
       "\u001b[36mres2\u001b[39m: \u001b[32mList\u001b[39m[\u001b[32mInt\u001b[39m] = \u001b[33mList\u001b[39m(\u001b[32m-1\u001b[39m, \u001b[32m-2\u001b[39m, \u001b[32m-3\u001b[39m, \u001b[32m-4\u001b[39m, \u001b[32m-5\u001b[39m, \u001b[32m-6\u001b[39m)\n",
       "\u001b[36mlst3\u001b[39m: \u001b[32mList\u001b[39m[\u001b[32mInt\u001b[39m] = \u001b[33mList\u001b[39m(\u001b[32m1\u001b[39m, \u001b[32m2\u001b[39m, \u001b[32m3\u001b[39m, \u001b[32m4\u001b[39m, \u001b[32m5\u001b[39m, \u001b[32m6\u001b[39m, \u001b[32m7\u001b[39m, \u001b[32m8\u001b[39m)\n",
       "\u001b[36mres3\u001b[39m: \u001b[32mList\u001b[39m[\u001b[32mInt\u001b[39m] = \u001b[33mList\u001b[39m()\n",
       "\u001b[36mlst4\u001b[39m: \u001b[32mList\u001b[39m[\u001b[32mInt\u001b[39m] = \u001b[33mList\u001b[39m(\u001b[32m10\u001b[39m, \u001b[32m9\u001b[39m, \u001b[32m8\u001b[39m, \u001b[32m7\u001b[39m, \u001b[32m6\u001b[39m, \u001b[32m5\u001b[39m, \u001b[32m4\u001b[39m, \u001b[32m3\u001b[39m, \u001b[32m2\u001b[39m, \u001b[32m1\u001b[39m, \u001b[32m-1\u001b[39m, \u001b[32m-2\u001b[39m, \u001b[32m-3\u001b[39m)\n",
       "\u001b[36mres4\u001b[39m: \u001b[32mList\u001b[39m[\u001b[32mInt\u001b[39m] = \u001b[33mList\u001b[39m(\u001b[32m4\u001b[39m, \u001b[32m3\u001b[39m, \u001b[32m2\u001b[39m, \u001b[32m1\u001b[39m, \u001b[32m-1\u001b[39m, \u001b[32m-2\u001b[39m, \u001b[32m-3\u001b[39m)"
      ]
     },
     "execution_count": 7,
     "metadata": {},
     "output_type": "execute_result"
    }
   ],
   "source": [
    "val lst1 = List(1,2,2,-2,4,6,8)\n",
    "val res1 = listElementsLessThanIndex(lst1)\n",
    "assert( res1 == List(-2), \"Test 1 failed\")\n",
    "\n",
    "\n",
    "val lst2 = List(-1,-2,-3,-4,-5,-6)\n",
    "val res2 = listElementsLessThanIndex(lst2)\n",
    "assert( res2 == lst2, \"Test 2 Failed\")\n",
    "\n",
    "val lst3 = List(1,2,3,4,5,6,7,8)\n",
    "val res3 = listElementsLessThanIndex(lst3)\n",
    "assert( res3 ==Nil, \"Test 3 failed\")\n",
    "\n",
    "val lst4 = List(10, 9, 8, 7, 6, 5, 4, 3, 2, 1, -1, -2, -3)\n",
    "val res4 = listElementsLessThanIndex(lst4)\n",
    "assert (res4 == List(4, 3, 2, 1, -1, -2, -3), \"Test 4 failed\")\n",
    "\n",
    "passed(6)\n"
   ]
  },
  {
   "cell_type": "markdown",
   "metadata": {
    "deletable": false,
    "editable": false,
    "nbgrader": {
     "cell_type": "markdown",
     "checksum": "891906de392ccb2823ac09f4d9dfb699",
     "grade": false,
     "grade_id": "cell-6abc93774eacd7f4",
     "locked": true,
     "schema_version": 3,
     "solution": false,
     "task": false
    }
   },
   "source": [
    "## D ( 5 points) : All List Indices whose Elements are Divisible by 3.\n",
    "\n",
    "Write a function that inputs a list of integers and returns all the indices in the original list whose elements are divisible by 3. Note that indices start from 0. \n",
    "\n",
    "Your code must return the indices sorted in ascending order.\n",
    "\n",
    "**Restrictions**\n",
    "- Allowed List API functions: `zipWithIndex`, `zip`, `filter`, `map`, `foldLeft`, and `foldRight`.\n",
    "- Not allowed: all other list API functions.\n",
    "- Loops of any form, recursion and use of var not allowed.\n",
    "\n",
    "### Example\n",
    "\n",
    "  - Input: List(1, **3**, 5, 7, **6, 9, 12**, 11)\n",
    "  - Output: List(1, 4, 5, 6)\n",
    "  \n",
    "  Note that the returned list is a list of integers whose entries correspond to the indices in the original list.\n",
    "\n"
   ]
  },
  {
   "cell_type": "code",
   "execution_count": 8,
   "metadata": {
    "deletable": false,
    "nbgrader": {
     "cell_type": "code",
     "checksum": "11d54c43eb511f8ea59edf85c4cb39ef",
     "grade": false,
     "grade_id": "cell-2399c480ddc85d87",
     "locked": false,
     "schema_version": 3,
     "solution": true,
     "task": false
    }
   },
   "outputs": [
    {
     "data": {
      "text/plain": [
       "defined \u001b[32mfunction\u001b[39m \u001b[36mallIndicesDivisibleBy3\u001b[39m"
      ]
     },
     "execution_count": 8,
     "metadata": {},
     "output_type": "execute_result"
    }
   ],
   "source": [
    "def allIndicesDivisibleBy3(lst: List[Int]): List[Int] = {\n",
    "    \n",
    "    //find remainders\n",
    "    lst.map((x:Int) => {x%3})\n",
    "    //zip lst with indexes\n",
    "    .zipWithIndex\n",
    "    //if index is remainder of 0 keep, otherwise throw boof val\n",
    "    .map( (x:(Int,Int)) => {if(x._1 == 0) x._2 else -1})\n",
    "    //fitler out boof values\n",
    "    .filter((x:Int) => {x >= 0} )\n",
    "}"
   ]
  },
  {
   "cell_type": "code",
   "execution_count": 9,
   "metadata": {
    "deletable": false,
    "editable": false,
    "nbgrader": {
     "cell_type": "code",
     "checksum": "af5881c74aa3d2a8e46b7274e896a86c",
     "grade": true,
     "grade_id": "cell-ebebb499fc5f05d4",
     "locked": true,
     "points": 5,
     "schema_version": 3,
     "solution": false,
     "task": false
    }
   },
   "outputs": [
    {
     "name": "stdout",
     "output_type": "stream",
     "text": [
      "Tests Passed (5 points)"
     ]
    },
    {
     "data": {
      "text/plain": [
       "\u001b[36mlst1\u001b[39m: \u001b[32mList\u001b[39m[\u001b[32mInt\u001b[39m] = \u001b[33mList\u001b[39m(\u001b[32m1\u001b[39m, \u001b[32m3\u001b[39m, \u001b[32m5\u001b[39m, \u001b[32m7\u001b[39m, \u001b[32m6\u001b[39m, \u001b[32m9\u001b[39m, \u001b[32m12\u001b[39m, \u001b[32m11\u001b[39m)\n",
       "\u001b[36mres1\u001b[39m: \u001b[32mList\u001b[39m[\u001b[32mInt\u001b[39m] = \u001b[33mList\u001b[39m(\u001b[32m1\u001b[39m, \u001b[32m4\u001b[39m, \u001b[32m5\u001b[39m, \u001b[32m6\u001b[39m)\n",
       "\u001b[36mlst2\u001b[39m: \u001b[32mList\u001b[39m[\u001b[32mInt\u001b[39m] = \u001b[33mList\u001b[39m(\u001b[32m1\u001b[39m, \u001b[32m5\u001b[39m, \u001b[32m7\u001b[39m, \u001b[32m9\u001b[39m, \u001b[32m11\u001b[39m, \u001b[32m13\u001b[39m, \u001b[32m15\u001b[39m)\n",
       "\u001b[36mres2\u001b[39m: \u001b[32mList\u001b[39m[\u001b[32mInt\u001b[39m] = \u001b[33mList\u001b[39m(\u001b[32m3\u001b[39m, \u001b[32m6\u001b[39m)\n",
       "\u001b[36mlst3\u001b[39m: \u001b[32mList\u001b[39m[\u001b[32mInt\u001b[39m] = \u001b[33mList\u001b[39m(\u001b[32m1\u001b[39m, \u001b[32m5\u001b[39m, \u001b[32m7\u001b[39m, \u001b[32m11\u001b[39m, \u001b[32m13\u001b[39m)\n",
       "\u001b[36mres3\u001b[39m: \u001b[32mList\u001b[39m[\u001b[32mInt\u001b[39m] = \u001b[33mList\u001b[39m()\n",
       "\u001b[36mlst4\u001b[39m: \u001b[32mList\u001b[39m[\u001b[32mInt\u001b[39m] = \u001b[33mList\u001b[39m(\u001b[32m-3\u001b[39m, \u001b[32m-6\u001b[39m, \u001b[32m-9\u001b[39m, \u001b[32m-12\u001b[39m, \u001b[32m-15\u001b[39m, \u001b[32m-18\u001b[39m, \u001b[32m-21\u001b[39m, \u001b[32m-24\u001b[39m)\n",
       "\u001b[36mres4\u001b[39m: \u001b[32mList\u001b[39m[\u001b[32mInt\u001b[39m] = \u001b[33mList\u001b[39m(\u001b[32m0\u001b[39m, \u001b[32m1\u001b[39m, \u001b[32m2\u001b[39m, \u001b[32m3\u001b[39m, \u001b[32m4\u001b[39m, \u001b[32m5\u001b[39m, \u001b[32m6\u001b[39m, \u001b[32m7\u001b[39m)"
      ]
     },
     "execution_count": 9,
     "metadata": {},
     "output_type": "execute_result"
    }
   ],
   "source": [
    "//BEGIN TESTS\n",
    "val lst1 = List(1,3,5,7,6,9,12,11)\n",
    "val res1 = allIndicesDivisibleBy3(lst1)\n",
    "assert(res1 == List(1,4,5,6))\n",
    "\n",
    "val lst2 = List(1,5,7,9,11,13,15)\n",
    "val res2 = allIndicesDivisibleBy3(lst2)\n",
    "assert(res2 == List(3,6))\n",
    "\n",
    "\n",
    "val lst3 = List(1,5,7,11,13)\n",
    "val res3 = allIndicesDivisibleBy3(lst3)\n",
    "assert(res3.length == 0)\n",
    "\n",
    "\n",
    "val lst4 = List(-3,-6,-9,-12,-15,-18,-21,-24)\n",
    "val res4 = allIndicesDivisibleBy3(lst4)\n",
    "assert(res4 == List(0,1,2,3,4,5,6,7))\n",
    "\n",
    "passed(5)\n",
    "\n",
    "//END TESTS"
   ]
  },
  {
   "cell_type": "markdown",
   "metadata": {
    "deletable": false,
    "editable": false,
    "nbgrader": {
     "cell_type": "markdown",
     "checksum": "a7500e92bba215b72dbf18bc09a71a17",
     "grade": false,
     "grade_id": "cell-065a72cb3c7df59e",
     "locked": true,
     "schema_version": 3,
     "solution": false,
     "task": false
    }
   },
   "source": [
    "## Problem 2E (7 points) : Convert a List of Strings into List of Tuples\n",
    "\n",
    "Write a function that achieves the following.\n",
    "\n",
    "Input: List of String\n",
    "\n",
    "Output: List of 4-tuples: wherein each tuple consists of the corresponding string in the input list, its length, its reverse and its index.\n",
    "\n",
    "See example below. Order of elements in the original list must be preserved.\n",
    "\n",
    "\n",
    "### Example\n",
    "\n",
    "  - Input: List(\"Que\", \"Sera\", \"Sera\", \"Whatever\", \"Will\", \"Be\")\n",
    "  - Output: List( ( \"Que\", 3, \"euQ\", 0), (\"Sera\", 4, \"areS\", 1), (\"Sera\", 4, \"areS\", 2), (\"Whatever\", 8, \"revetahW\", 3), (\"Will\", 4, \"lliW\", 4), (\"Be\", 2, \"eB\", 5)) )\n",
    "\n",
    "\n",
    "**Restrictions**\n",
    "- You are allowed to use `map`, `filter`, `foldLeft`, `foldRight`, `zip` and `zipWithIndex`.\n",
    "- All other list API functions are disallowed.\n",
    "- String API functions: `length` and `reverse` are allowed.\n",
    "- All other string API functions disallowed.\n",
    "- Use of var, recursion or any kind of loop is forbidden.\n",
    "\n"
   ]
  },
  {
   "cell_type": "code",
   "execution_count": 10,
   "metadata": {
    "deletable": false,
    "nbgrader": {
     "cell_type": "code",
     "checksum": "eda82a6fdd397b5d4fc7399608888b21",
     "grade": false,
     "grade_id": "cell-936623db4d48dc12",
     "locked": false,
     "schema_version": 3,
     "solution": true,
     "task": false
    }
   },
   "outputs": [
    {
     "data": {
      "text/plain": [
       "defined \u001b[32mfunction\u001b[39m \u001b[36mconvertListToListTuples\u001b[39m"
      ]
     },
     "execution_count": 10,
     "metadata": {},
     "output_type": "execute_result"
    }
   ],
   "source": [
    "def convertListToListTuples(lst: List[String]): List[(String, Int, String, Int)] = {\n",
    "    // get length of elements, and reverse of elements in same element\n",
    "    lst.map((x:String) => {(x,x.length,x.reverse)})\n",
    "    //get those indexes\n",
    "    .zipWithIndex\n",
    "    //extract index and put inside same tuple\n",
    "    .map((x:((String,Int,String),Int) )=>{\n",
    "                                                val iHateTuples = x._1\n",
    "                                                (iHateTuples._1,iHateTuples._2,iHateTuples._3,x._2)\n",
    "                                               })\n",
    "}"
   ]
  },
  {
   "cell_type": "code",
   "execution_count": 11,
   "metadata": {
    "deletable": false,
    "editable": false,
    "nbgrader": {
     "cell_type": "code",
     "checksum": "2a81b0fe1310343f19b1e9e9c1a8e845",
     "grade": true,
     "grade_id": "cell-c920ce6277c82861",
     "locked": true,
     "points": 7,
     "schema_version": 3,
     "solution": false,
     "task": false
    }
   },
   "outputs": [
    {
     "name": "stdout",
     "output_type": "stream",
     "text": [
      "Tests Passed (7 points)"
     ]
    },
    {
     "data": {
      "text/plain": [
       "defined \u001b[32mfunction\u001b[39m \u001b[36mloopTestListOfTuples\u001b[39m\n",
       "\u001b[36mlst1\u001b[39m: \u001b[32mList\u001b[39m[\u001b[32mString\u001b[39m] = \u001b[33mList\u001b[39m(\u001b[32m\"Que\"\u001b[39m, \u001b[32m\"Sera\"\u001b[39m, \u001b[32m\"Sera\"\u001b[39m, \u001b[32m\"Whatever\"\u001b[39m, \u001b[32m\"Will\"\u001b[39m, \u001b[32m\"Be\"\u001b[39m)\n",
       "\u001b[36mexpected1\u001b[39m: \u001b[32mList\u001b[39m[(\u001b[32mString\u001b[39m, \u001b[32mInt\u001b[39m, \u001b[32mString\u001b[39m, \u001b[32mInt\u001b[39m)] = \u001b[33mList\u001b[39m(\n",
       "  (\u001b[32m\"Que\"\u001b[39m, \u001b[32m3\u001b[39m, \u001b[32m\"euQ\"\u001b[39m, \u001b[32m0\u001b[39m),\n",
       "  (\u001b[32m\"Sera\"\u001b[39m, \u001b[32m4\u001b[39m, \u001b[32m\"areS\"\u001b[39m, \u001b[32m1\u001b[39m),\n",
       "  (\u001b[32m\"Sera\"\u001b[39m, \u001b[32m4\u001b[39m, \u001b[32m\"areS\"\u001b[39m, \u001b[32m2\u001b[39m),\n",
       "  (\u001b[32m\"Whatever\"\u001b[39m, \u001b[32m8\u001b[39m, \u001b[32m\"revetahW\"\u001b[39m, \u001b[32m3\u001b[39m),\n",
       "  (\u001b[32m\"Will\"\u001b[39m, \u001b[32m4\u001b[39m, \u001b[32m\"lliW\"\u001b[39m, \u001b[32m4\u001b[39m),\n",
       "  (\u001b[32m\"Be\"\u001b[39m, \u001b[32m2\u001b[39m, \u001b[32m\"eB\"\u001b[39m, \u001b[32m5\u001b[39m)\n",
       ")\n",
       "\u001b[36mlst2\u001b[39m: \u001b[32mList\u001b[39m[\u001b[32mString\u001b[39m] = \u001b[33mList\u001b[39m(\u001b[32m\"All\"\u001b[39m, \u001b[32m\"The\"\u001b[39m, \u001b[32m\"World\"\u001b[39m, \u001b[32m\"Is\"\u001b[39m, \u001b[32m\"A\"\u001b[39m, \u001b[32m\"Stage\"\u001b[39m)\n",
       "\u001b[36mexpected2\u001b[39m: \u001b[32mList\u001b[39m[(\u001b[32mString\u001b[39m, \u001b[32mInt\u001b[39m, \u001b[32mString\u001b[39m, \u001b[32mInt\u001b[39m)] = \u001b[33mList\u001b[39m(\n",
       "  (\u001b[32m\"All\"\u001b[39m, \u001b[32m3\u001b[39m, \u001b[32m\"llA\"\u001b[39m, \u001b[32m0\u001b[39m),\n",
       "  (\u001b[32m\"The\"\u001b[39m, \u001b[32m3\u001b[39m, \u001b[32m\"ehT\"\u001b[39m, \u001b[32m1\u001b[39m),\n",
       "  (\u001b[32m\"World\"\u001b[39m, \u001b[32m5\u001b[39m, \u001b[32m\"dlroW\"\u001b[39m, \u001b[32m2\u001b[39m),\n",
       "  (\u001b[32m\"Is\"\u001b[39m, \u001b[32m2\u001b[39m, \u001b[32m\"sI\"\u001b[39m, \u001b[32m3\u001b[39m),\n",
       "  (\u001b[32m\"A\"\u001b[39m, \u001b[32m1\u001b[39m, \u001b[32m\"A\"\u001b[39m, \u001b[32m4\u001b[39m),\n",
       "  (\u001b[32m\"Stage\"\u001b[39m, \u001b[32m5\u001b[39m, \u001b[32m\"egatS\"\u001b[39m, \u001b[32m5\u001b[39m)\n",
       ")\n",
       "\u001b[36mlst3\u001b[39m: \u001b[32mList\u001b[39m[\u001b[32mString\u001b[39m] = \u001b[33mList\u001b[39m(\n",
       "  \u001b[32m\"Cry\"\u001b[39m,\n",
       "  \u001b[32m\"Havoc!\"\u001b[39m,\n",
       "  \u001b[32m\"And\"\u001b[39m,\n",
       "  \u001b[32m\"Let\"\u001b[39m,\n",
       "  \u001b[32m\"Loose\"\u001b[39m,\n",
       "  \u001b[32m\"The\"\u001b[39m,\n",
       "  \u001b[32m\"Dogs\"\u001b[39m,\n",
       "  \u001b[32m\"Of\"\u001b[39m,\n",
       "  \u001b[32m\"War\"\u001b[39m\n",
       ")\n",
       "\u001b[36mexpected3\u001b[39m: \u001b[32mList\u001b[39m[(\u001b[32mString\u001b[39m, \u001b[32mInt\u001b[39m, \u001b[32mString\u001b[39m, \u001b[32mInt\u001b[39m)] = \u001b[33mList\u001b[39m(\n",
       "  (\u001b[32m\"Cry\"\u001b[39m, \u001b[32m3\u001b[39m, \u001b[32m\"yrC\"\u001b[39m, \u001b[32m0\u001b[39m),\n",
       "  (\u001b[32m\"Havoc!\"\u001b[39m, \u001b[32m6\u001b[39m, \u001b[32m\"!covaH\"\u001b[39m, \u001b[32m1\u001b[39m),\n",
       "  (\u001b[32m\"And\"\u001b[39m, \u001b[32m3\u001b[39m, \u001b[32m\"dnA\"\u001b[39m, \u001b[32m2\u001b[39m),\n",
       "  (\u001b[32m\"Let\"\u001b[39m, \u001b[32m3\u001b[39m, \u001b[32m\"teL\"\u001b[39m, \u001b[32m3\u001b[39m),\n",
       "  (\u001b[32m\"Loose\"\u001b[39m, \u001b[32m5\u001b[39m, \u001b[32m\"esooL\"\u001b[39m, \u001b[32m4\u001b[39m),\n",
       "  (\u001b[32m\"The\"\u001b[39m, \u001b[32m3\u001b[39m, \u001b[32m\"ehT\"\u001b[39m, \u001b[32m5\u001b[39m),\n",
       "  (\u001b[32m\"Dogs\"\u001b[39m, \u001b[32m4\u001b[39m, \u001b[32m\"sgoD\"\u001b[39m, \u001b[32m6\u001b[39m),\n",
       "  (\u001b[32m\"Of\"\u001b[39m, \u001b[32m2\u001b[39m, \u001b[32m\"fO\"\u001b[39m, \u001b[32m7\u001b[39m),\n",
       "  (\u001b[32m\"War\"\u001b[39m, \u001b[32m3\u001b[39m, \u001b[32m\"raW\"\u001b[39m, \u001b[32m8\u001b[39m)\n",
       ")\n",
       "\u001b[36mlst4\u001b[39m: \u001b[32mList\u001b[39m[\u001b[32mString\u001b[39m] = \u001b[33mList\u001b[39m(\n",
       "  \u001b[32m\"To\"\u001b[39m,\n",
       "  \u001b[32m\"Be\"\u001b[39m,\n",
       "  \u001b[32m\"Or\"\u001b[39m,\n",
       "  \u001b[32m\"Not\"\u001b[39m,\n",
       "  \u001b[32m\"to\"\u001b[39m,\n",
       "  \u001b[32m\"be\"\u001b[39m,\n",
       "  \u001b[32m\"is\"\u001b[39m,\n",
       "  \u001b[32m\"the\"\u001b[39m,\n",
       "  \u001b[32m\"question\"\u001b[39m\n",
       ")\n",
       "\u001b[36mexpected4\u001b[39m: \u001b[32mList\u001b[39m[(\u001b[32mString\u001b[39m, \u001b[32mInt\u001b[39m, \u001b[32mString\u001b[39m, \u001b[32mInt\u001b[39m)] = \u001b[33mList\u001b[39m(\n",
       "  (\u001b[32m\"To\"\u001b[39m, \u001b[32m2\u001b[39m, \u001b[32m\"oT\"\u001b[39m, \u001b[32m0\u001b[39m),\n",
       "  (\u001b[32m\"Be\"\u001b[39m, \u001b[32m2\u001b[39m, \u001b[32m\"eB\"\u001b[39m, \u001b[32m1\u001b[39m),\n",
       "  (\u001b[32m\"Or\"\u001b[39m, \u001b[32m2\u001b[39m, \u001b[32m\"rO\"\u001b[39m, \u001b[32m2\u001b[39m),\n",
       "  (\u001b[32m\"Not\"\u001b[39m, \u001b[32m3\u001b[39m, \u001b[32m\"toN\"\u001b[39m, \u001b[32m3\u001b[39m),\n",
       "  (\u001b[32m\"to\"\u001b[39m, \u001b[32m2\u001b[39m, \u001b[32m\"ot\"\u001b[39m, \u001b[32m4\u001b[39m),\n",
       "  (\u001b[32m\"be\"\u001b[39m, \u001b[32m2\u001b[39m, \u001b[32m\"eb\"\u001b[39m, \u001b[32m5\u001b[39m),\n",
       "  (\u001b[32m\"is\"\u001b[39m, \u001b[32m2\u001b[39m, \u001b[32m\"si\"\u001b[39m, \u001b[32m6\u001b[39m),\n",
       "  (\u001b[32m\"the\"\u001b[39m, \u001b[32m3\u001b[39m, \u001b[32m\"eht\"\u001b[39m, \u001b[32m7\u001b[39m),\n",
       "  (\u001b[32m\"question\"\u001b[39m, \u001b[32m8\u001b[39m, \u001b[32m\"noitseuq\"\u001b[39m, \u001b[32m8\u001b[39m)\n",
       ")"
      ]
     },
     "execution_count": 11,
     "metadata": {},
     "output_type": "execute_result"
    }
   ],
   "source": [
    "//BEGIN TESTS\n",
    "def loopTestListOfTuples (lst: List[String]): List[(String, Int, String, Int)] = {\n",
    "    var count = 0\n",
    "    var ret_list:List[(String, Int, String, Int)]  = List()\n",
    "    for (elt <- lst){\n",
    "        ret_list = ret_list ++ List((elt, elt.length, elt.reverse, count))\n",
    "        count = count + 1\n",
    "    }\n",
    "    ret_list\n",
    "}\n",
    "\n",
    "val lst1 = List(\"Que\", \"Sera\", \"Sera\", \"Whatever\", \"Will\", \"Be\")\n",
    "val expected1 = loopTestListOfTuples(lst1)\n",
    "assert(convertListToListTuples(lst1) == expected1)\n",
    "\n",
    "val lst2 = List(\"All\", \"The\", \"World\", \"Is\", \"A\", \"Stage\")\n",
    "val expected2 = loopTestListOfTuples(lst2)\n",
    "assert(convertListToListTuples(lst2) == expected2)\n",
    "\n",
    "\n",
    "val lst3 = List(\"Cry\", \"Havoc!\", \"And\", \"Let\", \"Loose\", \"The\", \"Dogs\", \"Of\", \"War\")\n",
    "val expected3 = loopTestListOfTuples(lst3)\n",
    "assert(convertListToListTuples(lst3) == expected3)\n",
    "\n",
    "\n",
    "val lst4 = List(\"To\", \"Be\", \"Or\", \"Not\", \"to\", \"be\", \"is\", \"the\", \"question\")\n",
    "val expected4 = loopTestListOfTuples(lst4)\n",
    "assert(convertListToListTuples(lst4) == expected4)\n",
    "\n",
    "// END TESTS\n",
    "passed(7)\n"
   ]
  },
  {
   "cell_type": "markdown",
   "metadata": {
    "deletable": false,
    "editable": false,
    "nbgrader": {
     "cell_type": "markdown",
     "checksum": "47c3cd69f8cc8018ed3cd9f9206e1164",
     "grade": false,
     "grade_id": "cell-1de14d7f940a930f",
     "locked": true,
     "schema_version": 3,
     "solution": false
    }
   },
   "source": [
    "### F (9 points): Convert a list into an indexed list.\n",
    "\n",
    "Write a function to convert a list of strings into an indexed list of strings.  Indices for this particular problem must start at 1.\n",
    "\n",
    "**Example**\n",
    "\n",
    "__Input__ List(\"hello\", \"world\", \"my\", \"cat\", \"is\", \"grumpy\", \"today\")\n",
    "\n",
    "__Output__  List( (\"hello\", 1), (\"world\", 2), (\"my\", 3), (\"cat\", 4), (\"is\", 5), (\"grumpy\", 6), (\"today\", 7) )\n",
    "\n",
    "\n",
    "**Restrictions**\n",
    "\n",
    "- You are allowed to use just the basic list operations such as cons of an element to a list (::), concatenation of two lists (++, or ::: operators) and list length operations.\n",
    "- List API functions `length`, `reverse`, `map`, `filter`, `foldLeft` and `foldRight` are allowed.\n",
    "- No other list API functions (specifically use of the function `zipWithIndex` or `zip` will result in 0 points for the problem).\n",
    "- __var__, __loops__ or __recursion__ are not allowed.\n",
    "\n",
    "**Hint**\n",
    "\n",
    "- Use `foldLeft` that accumulate a list of tuples, wherein each tuple has a string and a number.\n",
    "- The size of the accumulator + 1 provides you with the \"index\" of the current element.\n"
   ]
  },
  {
   "cell_type": "code",
   "execution_count": 12,
   "metadata": {
    "deletable": false,
    "nbgrader": {
     "cell_type": "code",
     "checksum": "9a4b50799a46eb0980c1b868a76a922a",
     "grade": false,
     "grade_id": "cell-0c984f492b25b8b4",
     "locked": false,
     "schema_version": 3,
     "solution": true
    }
   },
   "outputs": [
    {
     "data": {
      "text/plain": [
       "defined \u001b[32mfunction\u001b[39m \u001b[36mmakeIndexedList\u001b[39m"
      ]
     },
     "execution_count": 12,
     "metadata": {},
     "output_type": "execute_result"
    }
   ],
   "source": [
    "def makeIndexedList(lst:List[String]): List[(String, Int)] = {\n",
    "    //create list with indexes\n",
    "    lst.foldLeft[List[(String,Int)]](List())((acc:List[(String,Int)], elt:String)=>{\n",
    "        acc++List((elt,acc.length+1))\n",
    "    })\n",
    "    \n",
    "    \n",
    "}"
   ]
  },
  {
   "cell_type": "code",
   "execution_count": 13,
   "metadata": {
    "deletable": false,
    "editable": false,
    "nbgrader": {
     "cell_type": "code",
     "checksum": "8950bba9f469754429f705c4e9a48306",
     "grade": true,
     "grade_id": "cell-8c49d31044f1e0ae",
     "locked": true,
     "points": 9,
     "schema_version": 3,
     "solution": false
    }
   },
   "outputs": [
    {
     "name": "stdout",
     "output_type": "stream",
     "text": [
      "Tests Passed (9 points)"
     ]
    },
    {
     "data": {
      "text/plain": [
       "\u001b[36mt1\u001b[39m: \u001b[32mList\u001b[39m[(\u001b[32mString\u001b[39m, \u001b[32mInt\u001b[39m)] = \u001b[33mList\u001b[39m((\u001b[32m\"hello\"\u001b[39m, \u001b[32m1\u001b[39m))\n",
       "\u001b[36mt2\u001b[39m: \u001b[32mList\u001b[39m[(\u001b[32mString\u001b[39m, \u001b[32mInt\u001b[39m)] = \u001b[33mList\u001b[39m((\u001b[32m\"hello\"\u001b[39m, \u001b[32m1\u001b[39m), (\u001b[32m\"world\"\u001b[39m, \u001b[32m2\u001b[39m))\n",
       "\u001b[36mt3\u001b[39m: \u001b[32mList\u001b[39m[(\u001b[32mString\u001b[39m, \u001b[32mInt\u001b[39m)] = \u001b[33mList\u001b[39m()\n",
       "\u001b[36mt4\u001b[39m: \u001b[32mList\u001b[39m[(\u001b[32mString\u001b[39m, \u001b[32mInt\u001b[39m)] = \u001b[33mList\u001b[39m((\u001b[32m\"a\"\u001b[39m, \u001b[32m1\u001b[39m), (\u001b[32m\"b\"\u001b[39m, \u001b[32m2\u001b[39m), (\u001b[32m\"c\"\u001b[39m, \u001b[32m3\u001b[39m), (\u001b[32m\"d\"\u001b[39m, \u001b[32m4\u001b[39m), (\u001b[32m\"e\"\u001b[39m, \u001b[32m5\u001b[39m))"
      ]
     },
     "execution_count": 13,
     "metadata": {},
     "output_type": "execute_result"
    }
   ],
   "source": [
    "// BEGIN TEST\n",
    "val t1 = makeIndexedList(List(\"hello\"))\n",
    "assert(t1 == List((\"hello\", 1)), s\"Test 1 failed - your code returned $t1\")\n",
    "\n",
    "val t2 = makeIndexedList(List(\"hello\", \"world\"))\n",
    "assert(t2 == List((\"hello\", 1), (\"world\", 2)), s\"Test 2 failed - your code returned $t2\")\n",
    "\n",
    "val t3 = makeIndexedList(Nil)\n",
    "assert(t3 == Nil, s\"Test 3 failed - your code returned $t3\")\n",
    "\n",
    "val t4 = makeIndexedList(List(\"a\",\"b\",\"c\",\"d\",\"e\"))\n",
    "assert(t4 == List((\"a\",1), (\"b\",2), (\"c\",3), (\"d\",4), (\"e\",5)), s\"Test 4 failed - your code returned $t4\")\n",
    "\n",
    "passed(9)\n",
    "// END TEST"
   ]
  },
  {
   "cell_type": "markdown",
   "metadata": {
    "deletable": false,
    "editable": false,
    "nbgrader": {
     "cell_type": "markdown",
     "checksum": "d75336eeeecd7f249fcec906d891b838",
     "grade": false,
     "grade_id": "cell-0272d508d2481088",
     "locked": true,
     "schema_version": 3,
     "solution": false
    }
   },
   "source": [
    "### G: Partitioning a list (5 points)\n",
    "\n",
    "Given a list of numbers, partition the list into a pair of lists where the first list contains only the even numbers and the second list contains only the odd numbers. Both the output lists must contain the elements in the same order as they occur in the input list. The result of partition an empty list is a pair of empty lists.\n",
    "\n",
    "Example:\n",
    "\n",
    "Input: List(1, 2, 8, 7, 5)\n",
    "\n",
    "Output: (List(2,8), List(1,7,5))\n",
    "\n",
    "**Restrictions**\n",
    "\n",
    "- You are allowed to use just the basic list operatios such as cons of an element to a list (::) and concatenation of two lists (++, or ::: operators). \n",
    "- List API functions  `map`, `filter`, `foldLeft` and `foldRight` but no other list API functions. \n",
    "- Do not use __var__, __loops__ or __recursion__.\n"
   ]
  },
  {
   "cell_type": "code",
   "execution_count": 14,
   "metadata": {
    "deletable": false,
    "nbgrader": {
     "cell_type": "code",
     "checksum": "d4a11aacd5dd7ade92ab29fb179ab62d",
     "grade": false,
     "grade_id": "cell-61ba46072b910129",
     "locked": false,
     "schema_version": 3,
     "solution": true
    }
   },
   "outputs": [
    {
     "data": {
      "text/plain": [
       "defined \u001b[32mfunction\u001b[39m \u001b[36moddEvenPartition\u001b[39m"
      ]
     },
     "execution_count": 14,
     "metadata": {},
     "output_type": "execute_result"
    }
   ],
   "source": [
    "def oddEvenPartition(lst: List[Int]): (List[Int], List[Int]) = {\n",
    "    //get even numbers\n",
    "    val lst_even = lst.filter((x: Int) => {x%2 != 1})\n",
    "    val lst_odd = lst.filter((x: Int) => {x%2 == 1})\n",
    "    (lst_even, lst_odd)\n",
    "}"
   ]
  },
  {
   "cell_type": "code",
   "execution_count": 15,
   "metadata": {
    "deletable": false,
    "editable": false,
    "nbgrader": {
     "cell_type": "code",
     "checksum": "75ddf2b987e5351a8a5d58484d9268c5",
     "grade": true,
     "grade_id": "cell-b766aa2568f6e251",
     "locked": true,
     "points": 5,
     "schema_version": 3,
     "solution": false
    }
   },
   "outputs": [
    {
     "name": "stdout",
     "output_type": "stream",
     "text": [
      "Tests Passed (5 points)"
     ]
    },
    {
     "data": {
      "text/plain": [
       "\u001b[36mx\u001b[39m: (\u001b[32mList\u001b[39m[\u001b[32mInt\u001b[39m], \u001b[32mList\u001b[39m[\u001b[32mInt\u001b[39m]) = (\u001b[33mList\u001b[39m(\u001b[32m2\u001b[39m, \u001b[32m8\u001b[39m), \u001b[33mList\u001b[39m(\u001b[32m1\u001b[39m, \u001b[32m7\u001b[39m, \u001b[32m5\u001b[39m))\n",
       "\u001b[36my\u001b[39m: (\u001b[32mList\u001b[39m[\u001b[32mInt\u001b[39m], \u001b[32mList\u001b[39m[\u001b[32mInt\u001b[39m]) = (\u001b[33mList\u001b[39m(\u001b[32m18\u001b[39m, \u001b[32m20\u001b[39m), \u001b[33mList\u001b[39m(\u001b[32m23\u001b[39m, \u001b[32m15\u001b[39m))\n",
       "\u001b[36mz\u001b[39m: (\u001b[32mList\u001b[39m[\u001b[32mInt\u001b[39m], \u001b[32mList\u001b[39m[\u001b[32mInt\u001b[39m]) = (\u001b[33mList\u001b[39m(\u001b[32m14\u001b[39m, \u001b[32m12\u001b[39m, \u001b[32m18\u001b[39m, \u001b[32m20\u001b[39m), \u001b[33mList\u001b[39m())\n",
       "\u001b[36mw\u001b[39m: (\u001b[32mList\u001b[39m[\u001b[32mInt\u001b[39m], \u001b[32mList\u001b[39m[\u001b[32mInt\u001b[39m]) = (\u001b[33mList\u001b[39m(), \u001b[33mList\u001b[39m())"
      ]
     },
     "execution_count": 15,
     "metadata": {},
     "output_type": "execute_result"
    }
   ],
   "source": [
    "// BEGIN TEST\n",
    "val x = oddEvenPartition(List(1, 2, 8, 7, 5))\n",
    "assert(x._1 == List(2,8) && x._2 == List(1,7,5), s\"Test 1 failed -- your code returned $x\")\n",
    "\n",
    "val y = oddEvenPartition(List(23, 18, 20, 15))\n",
    "assert(y._1 == List(18,20) && y._2 == List(23,15), s\"Test 2 failed -- your code returned $y\")\n",
    "\n",
    "val z = oddEvenPartition(List(14, 12, 18, 20))\n",
    "assert(z._1 == List(14, 12, 18, 20) && z._2 == List(), s\"Test 3 failed -- your code returned $z\")\n",
    "\n",
    "val w = oddEvenPartition(List())\n",
    "assert(w._1 == List() && w._2 == List(), s\"Test 4 failed -- your code returned $w\")\n",
    "\n",
    "passed(5)\n",
    "// END TEST"
   ]
  },
  {
   "cell_type": "code",
   "execution_count": null,
   "metadata": {},
   "outputs": [],
   "source": []
  }
 ],
 "metadata": {
  "kernelspec": {
   "display_name": "Scala 2.12",
   "language": "scala",
   "name": "scala212"
  },
  "language_info": {
   "codemirror_mode": "text/x-scala",
   "file_extension": ".sc",
   "mimetype": "text/x-scala",
   "name": "scala",
   "nbconvert_exporter": "script",
   "version": "2.12.12"
  }
 },
 "nbformat": 4,
 "nbformat_minor": 4
}
