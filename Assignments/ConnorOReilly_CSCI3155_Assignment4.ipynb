{
 "cells": [
  {
   "cell_type": "markdown",
   "id": "placed-purpose",
   "metadata": {},
   "source": [
    "Before you turn this problem in, make sure everything runs as expected. First, **restart the kernel** (in the menubar, select Kernel$\\rightarrow$Restart) and then **run all cells** (in the menubar, select Cell$\\rightarrow$Run All).\n",
    "\n",
    "Make sure you fill in any place that says `???` or \"YOUR ANSWER HERE\"."
   ]
  },
  {
   "cell_type": "markdown",
   "id": "imperial-greene",
   "metadata": {},
   "source": [
    "---"
   ]
  },
  {
   "cell_type": "markdown",
   "id": "4f522491",
   "metadata": {
    "deletable": false,
    "editable": false,
    "nbgrader": {
     "cell_type": "markdown",
     "checksum": "0d8a1bd698e373fdb5b4f73d9ec9c678",
     "grade": false,
     "grade_id": "cell-23caf73bddab1bd2",
     "locked": true,
     "schema_version": 3,
     "solution": false,
     "task": false
    }
   },
   "source": [
    "# CSCI 3155 Assignment 4 : Inductive Definitions and Case Pattern Matching.\n",
    "\n",
    "This assignment asks you to write scala programs. \n",
    "\n",
    "**Restrictions** apply to each problem in terms of forbidden Scala features and API functions. Please read them carefully and ask for clarifications from the course staff over Piazza or during office hours if unsure.\n",
    "\n",
    "### Assignment-wide Restrictions\n",
    "\n",
    "These restrictions apply to the entire assignment.\n",
    "  - No loops can be used.\n",
    "  - No vars can be used.\n",
    "  - No return keyword.\n",
    "\n",
    "Note: `???` indicates that there is a missing function or code fragment that needs to be filled in. In scala, \n",
    "it is also a macro that throws a `NotImplemented` exception. Make sure that you remove the `???` and replace it with the answer. \n",
    "\n",
    "Use the test cases provided to test them. You are also encouraged to write your own test cases to help debug your work. However, please delete any extra cells you may have created lest they break our autograder.\n",
    "\n",
    "**Very Important:** \n",
    " - Please run the cell that defines the functions `passed` and `testWithMessage` below whenever you restart the notebook.\n",
    " - Before you submit the assignment, run `kernel -> Restart & Run All` to check that all your tests pass."
   ]
  },
  {
   "cell_type": "markdown",
   "id": "c56c63ad",
   "metadata": {},
   "source": [
    "### Connor O'Reilly"
   ]
  },
  {
   "cell_type": "code",
   "execution_count": 1,
   "id": "11ea0f3c",
   "metadata": {
    "deletable": false,
    "editable": false,
    "nbgrader": {
     "cell_type": "code",
     "checksum": "5ae660c825b818cb5a91f067ac6c6033",
     "grade": false,
     "grade_id": "cell-aeddd2cf2ccfdd6a",
     "locked": true,
     "schema_version": 3,
     "solution": false,
     "task": false
    }
   },
   "outputs": [
    {
     "data": {
      "text/plain": [
       "defined \u001b[32mfunction\u001b[39m \u001b[36mpassed\u001b[39m\n",
       "defined \u001b[32mfunction\u001b[39m \u001b[36mtestWithMessage\u001b[39m"
      ]
     },
     "execution_count": 1,
     "metadata": {},
     "output_type": "execute_result"
    }
   ],
   "source": [
    "// TEST HELPER\n",
    "\n",
    "// FIRST RUN THIS CELL EVERY TIME YOU START THE NOTEBOOK\n",
    "def passed(points: Int) {\n",
    "    require(points >=0)\n",
    "    if (points == 1) print(s\"\\n*** Tests Passed (1 point) ***\\n\")\n",
    "    else print(s\"\\n*** Tests Passed ($points points) ***\\n\")\n",
    "}\n",
    "\n",
    "def testWithMessage[T](v1: T, expected: T, testID: String) = { \n",
    "    println(s\"Test $testID\"); \n",
    "    println(s\"\\t Expected: $expected, your code returned: $v1\")\n",
    "    assert (v1 == expected, s\"Test $testID FAILED.\")\n",
    "    println(\"\\t Passed!\")\n",
    "}\n"
   ]
  },
  {
   "cell_type": "markdown",
   "id": "51ef8efd",
   "metadata": {
    "deletable": false,
    "editable": false,
    "nbgrader": {
     "cell_type": "markdown",
     "checksum": "d0fb573e7c61e9ecda07bc4d6b33d44c",
     "grade": false,
     "grade_id": "cell-1484650acbb41502",
     "locked": true,
     "schema_version": 3,
     "solution": false,
     "task": false
    }
   },
   "source": [
    "## Problem 1: Manipulating ASTs, Inference Rules (30 points)"
   ]
  },
  {
   "cell_type": "markdown",
   "id": "15f840fd",
   "metadata": {
    "deletable": false,
    "editable": false,
    "nbgrader": {
     "cell_type": "markdown",
     "checksum": "1f897e25522f6f1ffde7b0ac65384aaf",
     "grade": false,
     "grade_id": "cell-8dd219d424dfe097",
     "locked": true,
     "schema_version": 3,
     "solution": false,
     "task": false
    }
   },
   "source": [
    "### 1A: Derivatives of Expressions (25 points)\n",
    "\n",
    "We have defined a grammar for arithmetic expressions in our class notes. \n",
    "$$\\newcommand\\Expr{\\mathbf{Expr}}$$\n",
    "\n",
    "$$\\begin{array}{rcl}\n",
    "\\Expr & \\Rightarrow & Const(\\mathbf{Double}) \\\\\n",
    "& | & Ident(\\mathbf{String}) \\\\ \n",
    "& | & Plus (\\Expr, \\Expr) \\\\\n",
    "& | & Minus (\\Expr, \\Expr) \\\\\n",
    "& | & Mult( \\Expr, \\Expr) \\\\\n",
    "& |& Div(\\Expr, \\Expr) \\\\\n",
    "& | & Exp(\\Expr) \\\\\n",
    "& |& Sine(\\Expr) \\\\\n",
    "& | & Cosine(\\Expr) \\\\\n",
    "\\end{array}$$\n",
    "\n",
    "\n",
    "For this problem, you will be writing an _automatic differentiation_ method that, given an expression `e` which involves just a single identifier `x` (no need to check this fact), will return an expression for `de/dx`, the derivative of `e` with respect to `x`.\n",
    "\n",
    "`derivative` takes as input an expression ($\\Expr$) and evaluates to an expression ($\\Expr$).\n",
    "\n",
    "### Example\n",
    "\n",
    "We know that $\\frac{d \\sin(2x)}{dx} = 2 \\cos( 2x) $. Therefore, \n",
    "\n",
    "- Input:  `e = Sine(Mult(Ident(\"x\"), Const(2.0)))` \n",
    "  - Output: `Mult(Const(2.0), Cosine(  Mult(Ident(\"x\"), Const(2.0)))`.  \n",
    "\n",
    "\n",
    "We will write down the inference rules for derivative, as follows.\n",
    "\n",
    "A rule for constants ($\\frac{dc}{dx} = 0, c \\in \\mathbb{R}$)\n",
    "\n",
    "$\\begin{array}{c}\n",
    "\\\\\n",
    "\\hline \n",
    "\\text{derivative}( \\texttt{Const(f)} , x) = \\texttt{Const(0.0)} \\\\\n",
    "\\end{array} \\mathbf{(Constant)}$      \n",
    "\n",
    "A rule for identifiers $\\frac{dx}{dx} = 1, \\frac{dy}{dx} = 0$ for $y \\not= x$.\n",
    "\n",
    "$\\begin{array}{c}\n",
    "\\\\\n",
    "\\hline \n",
    "\\text{derivative}( \\texttt{Ident(s)} , x) = \\left\\{ \\begin{array}{ll} \\texttt{Const(1.0)} & x = s \\\\\n",
    "\\texttt{Const(0.0)} & \\text{otherwise} \\end{array} \\right.\\\\\n",
    "\\end{array} \\mathbf{(Identifier)}  \\;\\;\\;\n",
    "$\n",
    "\n",
    "A rule for plus $\\frac{d}{dx} (e_1 + e_2) = \\frac{de_1}{dx} + \\frac{de_2}{dx}$.\n",
    "\n",
    "$ \\begin{array}{c}\n",
    "\\text{derivative}(\\texttt{e1}, x) = \\texttt{f1},\\;\\;\\text{derivative}(\\texttt{e2}, x) = \\texttt{f2}\\\\\n",
    "\\hline\n",
    "\\text{derivative}(\\texttt{Plus(e1, e2)}, x) = \\texttt{Plus(f1, f2)} \\\\\n",
    "\\end{array} \\mathbf{(Plus)} $\n",
    "\n",
    "A rule for multiplication: $\\frac{d}{dx} (e_1 e_2) = e_2 \\frac{de_1}{dx} + e_1 \\frac{de_2}{dx}$.\n",
    "\n",
    "$ \\begin{array}{c}\n",
    "\\text{derivative}(\\texttt{e1}, x) = \\texttt{f1},\\;\\;\\text{derivative}(\\texttt{e2}, x) = \\texttt{f2}\\\\\n",
    "\\hline\n",
    "\\text{derivative}(\\texttt{Mult(e1, e2)}, x) = \\texttt{Plus(Mult(f1, e2), Mult(f2, e1))} \\\\\n",
    "\\end{array} \\mathbf{(Mult)} $\n",
    "\n",
    "A rule for division $\\frac{d}{dx} \\left(\\frac{e_1}{e_2}\\right) = \\frac{\\frac{de_1}{dx}}{e_2} - \\frac{e_1 \\frac{d e_2}{dx}}{e_2^2}$\n",
    "\n",
    "$ \\begin{array}{c}\n",
    "\\text{derivative}(\\texttt{e1}, x) = \\texttt{f1},\\;\\;\\text{derivative}(\\texttt{e2}, x) = \\texttt{f2}\\\\\n",
    "\\hline\n",
    "\\text{derivative}(\\texttt{Div(e1, e2)}, x) = \\texttt{Minus(Div(f1, e2), Div(Mult(e1, f2), Mult(e2, e2)))} \\\\\n",
    "\\end{array} \\mathbf{(Div)} $\n",
    "\n",
    "A rule for exponentiation $\\frac{d}{dx} \\left(e^{e_1}\\right) = e^{e_1} \\frac{de_1}{dx}$\n",
    "\n",
    "$ \\begin{array}{c}\n",
    "\\text{derivative}(\\texttt{e1}, x) = \\texttt{f1}\\\\\n",
    "\\hline\n",
    "\\text{derivative}(\\texttt{Exp(e1)}, x) = \\texttt{Mult(Exp(e1), f1)} \\\\\n",
    "\\end{array} \\mathbf{(Exp)} $\n",
    "\n",
    "The rules for $\\mathbf{Minus}$, $\\mathbf{Sine}$, and $\\mathbf{Cosine}$ are left for you to write.\n",
    "You do not need to write your solution for these rules in this notebook, __but__, you do need to give them in code below.\n",
    "(Don't forget about the chain rule!)"
   ]
  },
  {
   "cell_type": "code",
   "execution_count": 2,
   "id": "b84007eb",
   "metadata": {
    "deletable": false,
    "editable": false,
    "nbgrader": {
     "cell_type": "code",
     "checksum": "450385a4dd1c72210c1f7186cf1e4684",
     "grade": false,
     "grade_id": "cell-6c7b2ccd2b74ae5f",
     "locked": true,
     "schema_version": 3,
     "solution": false,
     "task": false
    }
   },
   "outputs": [
    {
     "data": {
      "text/plain": [
       "defined \u001b[32mtrait\u001b[39m \u001b[36mExpr\u001b[39m\n",
       "defined \u001b[32mclass\u001b[39m \u001b[36mConst\u001b[39m\n",
       "defined \u001b[32mclass\u001b[39m \u001b[36mIdent\u001b[39m\n",
       "defined \u001b[32mclass\u001b[39m \u001b[36mPlus\u001b[39m\n",
       "defined \u001b[32mclass\u001b[39m \u001b[36mMinus\u001b[39m\n",
       "defined \u001b[32mclass\u001b[39m \u001b[36mMult\u001b[39m\n",
       "defined \u001b[32mclass\u001b[39m \u001b[36mDiv\u001b[39m\n",
       "defined \u001b[32mclass\u001b[39m \u001b[36mSine\u001b[39m\n",
       "defined \u001b[32mclass\u001b[39m \u001b[36mCosine\u001b[39m\n",
       "defined \u001b[32mclass\u001b[39m \u001b[36mExp\u001b[39m"
      ]
     },
     "execution_count": 2,
     "metadata": {},
     "output_type": "execute_result"
    }
   ],
   "source": [
    "sealed trait Expr\n",
    "case class Const(f: Double) extends Expr\n",
    "case class Ident(s: String) extends Expr\n",
    "case class Plus(e1: Expr, e2: Expr) extends Expr\n",
    "case class Minus(e1: Expr, e2: Expr) extends Expr\n",
    "case class Mult(e1: Expr, e2: Expr) extends Expr\n",
    "case class Div(e1: Expr, e2: Expr) extends Expr\n",
    "case class Sine(e: Expr) extends Expr\n",
    "case class Cosine(e: Expr) extends Expr\n",
    "case class Exp(e: Expr) extends Expr"
   ]
  },
  {
   "cell_type": "markdown",
   "id": "28349f52",
   "metadata": {
    "deletable": false,
    "editable": false,
    "nbgrader": {
     "cell_type": "markdown",
     "checksum": "58b6bd8b686300386e1901f41222d4d7",
     "grade": false,
     "grade_id": "cell-1ca692b80c02d589",
     "locked": true,
     "schema_version": 3,
     "solution": false,
     "task": false
    }
   },
   "source": [
    "Write a function `derivativeExpr` that calculates the derivative of an expression\n",
    "`e` w.r.t a given identifier as a string `x`.\n",
    "\n",
    "  - No loops can be used.\n",
    "  - No vars can be used.\n",
    "  - No return keyword.\n"
   ]
  },
  {
   "cell_type": "code",
   "execution_count": 3,
   "id": "484ab6e9",
   "metadata": {
    "deletable": false,
    "nbgrader": {
     "cell_type": "code",
     "checksum": "9baa1639a7105139363f282aa62ba7ab",
     "grade": false,
     "grade_id": "cell-f2f94a0408e2899c",
     "locked": false,
     "schema_version": 3,
     "solution": true,
     "task": false
    }
   },
   "outputs": [
    {
     "data": {
      "text/plain": [
       "defined \u001b[32mfunction\u001b[39m \u001b[36mderivativeExpr\u001b[39m"
      ]
     },
     "execution_count": 3,
     "metadata": {},
     "output_type": "execute_result"
    }
   ],
   "source": [
    "def derivativeExpr(e: Expr, x: String): Expr = e match{\n",
    "    case Const(f) => Const(0.0)  \n",
    "    case Ident(f) => {\n",
    "           if(f.contains(x)){\n",
    "                Const(1.0)\n",
    "           }else{\n",
    "               Const(0.0)\n",
    "           }\n",
    "    }\n",
    "    case Plus(e1, e2) => {\n",
    "        val f1 = derivativeExpr(e1,x)\n",
    "        val f2 = derivativeExpr(e2,x)\n",
    "        Plus(f1,f2)\n",
    "    }\n",
    "    case Minus(e1, e2) => {\n",
    "        val f1 = derivativeExpr(e1,x)\n",
    "        val f2 = derivativeExpr(e2,x)\n",
    "        Minus(f1,f2)\n",
    "    }\n",
    "    case Mult(e1,e2) => {\n",
    "        val f1 = derivativeExpr(e1,x)\n",
    "        val f2 = derivativeExpr(e2,x)\n",
    "        Plus(Mult(f1,e1),Mult(f1,e1))\n",
    "    }\n",
    "    case Div(e1,e2) => {\n",
    "        val f1 = derivativeExpr(e1,x)\n",
    "        val f2 = derivativeExpr(e2,x)\n",
    "        Minus(Div(f1,e2), Div(Mult(e1, f2), Mult(e2,e2)))\n",
    "    }\n",
    "    case Exp(e1) => {\n",
    "        val f1 = derivativeExpr(e1,x)\n",
    "        Mult(Exp(e1), f1)\n",
    "    }\n",
    "    case Sine(e1) => {\n",
    "        Cosine(e1)\n",
    "    }\n",
    "    case Cosine(e1) => {\n",
    "        Minus(Const(0.0), Sine(e1))\n",
    "    }\n",
    "\n",
    "}"
   ]
  },
  {
   "cell_type": "code",
   "execution_count": 4,
   "id": "a0ac5644",
   "metadata": {
    "deletable": false,
    "editable": false,
    "nbgrader": {
     "cell_type": "code",
     "checksum": "666d31dad927a30f4db4c5a6806e11f7",
     "grade": false,
     "grade_id": "cell-cdc8f333d852797d",
     "locked": true,
     "schema_version": 3,
     "solution": false,
     "task": false
    }
   },
   "outputs": [
    {
     "data": {
      "text/plain": [
       "defined \u001b[32mfunction\u001b[39m \u001b[36mevalExpr\u001b[39m\n",
       "defined \u001b[32mfunction\u001b[39m \u001b[36mtestExpressions\u001b[39m\n",
       "\u001b[36mallVals\u001b[39m: \u001b[32mList\u001b[39m[\u001b[32mDouble\u001b[39m] = \u001b[33mList\u001b[39m(\n",
       "  \u001b[32m-5.0\u001b[39m,\n",
       "  \u001b[32m-4.5\u001b[39m,\n",
       "  \u001b[32m-4.0\u001b[39m,\n",
       "  \u001b[32m-3.5\u001b[39m,\n",
       "  \u001b[32m-3.0\u001b[39m,\n",
       "  \u001b[32m-2.5\u001b[39m,\n",
       "  \u001b[32m-1.9\u001b[39m,\n",
       "  \u001b[32m-1.4\u001b[39m,\n",
       "  \u001b[32m-1.0\u001b[39m,\n",
       "  \u001b[32m-0.5\u001b[39m,\n",
       "  \u001b[32m0.1\u001b[39m,\n",
       "  \u001b[32m0.5\u001b[39m,\n",
       "  \u001b[32m1.0\u001b[39m,\n",
       "  \u001b[32m1.5\u001b[39m,\n",
       "  \u001b[32m2.0\u001b[39m,\n",
       "  \u001b[32m2.5\u001b[39m,\n",
       "  \u001b[32m3.0\u001b[39m,\n",
       "  \u001b[32m3.5\u001b[39m,\n",
       "  \u001b[32m4.0\u001b[39m,\n",
       "  \u001b[32m4.5\u001b[39m,\n",
       "  \u001b[32m5.0\u001b[39m\n",
       ")"
      ]
     },
     "execution_count": 4,
     "metadata": {},
     "output_type": "execute_result"
    }
   ],
   "source": [
    "// TEST HELPERS\n",
    "def evalExpr (e: Expr, env: Map[String, Double]): Double = e match {\n",
    "    case Const (f) => f\n",
    "    case Ident (str) => { if (env.contains(str)){\n",
    "                                env(str)\n",
    "                            } else {\n",
    "        throw new IllegalArgumentException(s\"Environment does not contain mapping for $str\")\n",
    "    }\n",
    "                        }\n",
    "    case Plus(e1, e2) => {\n",
    "        (evalExpr(e1, env)) + (evalExpr(e2, env))\n",
    "    }\n",
    "    \n",
    "    case Minus(e1, e2) => {\n",
    "        (evalExpr(e1, env)) - (evalExpr(e2, env))\n",
    "    }\n",
    "    \n",
    "    case Mult(e1, e2) => {\n",
    "        (evalExpr(e1, env)) * (evalExpr(e2, env))\n",
    "    }\n",
    "    \n",
    "    case Div(e1, e2) => {\n",
    "        val v2 = evalExpr(e2, env)\n",
    "        if (math.abs(v2) > 1E-09){\n",
    "            (evalExpr(e1, env)) / (v2)\n",
    "        } else {\n",
    "            throw new IllegalArgumentException(\"Division by Zero Error -bailing out\")\n",
    "        }\n",
    "    }\n",
    "    \n",
    "    case Exp(e) => math.exp( evalExpr(e, env))\n",
    "    \n",
    "    case Sine(e) => math.sin( evalExpr(e, env))\n",
    "    \n",
    "    case Cosine(e) => math.cos(evalExpr(e, env))\n",
    "}\n",
    "\n",
    "def testExpressions(exp: Expr, deriv_expected: Expr, testVals: List[Double]): Boolean = {\n",
    "    val tol: Double = 1E-06\n",
    "    val deriv_act = derivativeExpr(exp, \"x\")\n",
    "    testVals forall { \n",
    "            x => {\n",
    "              val res = math.abs( evalExpr(deriv_act, Map(\"x\"-> x)) - evalExpr(deriv_expected, Map(\"x\" -> x)) ) <= tol\n",
    "              if (!res) { println(s\"Failed at $x\")}\n",
    "              res\n",
    "            }\n",
    "    }\n",
    "}\n",
    "\n",
    "val allVals = List(-5.0, -4.5, -4.0, -3.5, -3.0, -2.5, -1.9, -1.4, -1.0, -0.5, 0.1, 0.5, 1.0, 1.5, 2.0, 2.5, 3.0, 3.5, 4.0, 4.5, 5.0)"
   ]
  },
  {
   "cell_type": "code",
   "execution_count": 5,
   "id": "4b6ae062",
   "metadata": {
    "deletable": false,
    "editable": false,
    "nbgrader": {
     "cell_type": "code",
     "checksum": "82d75899579f54fbc6202e0ce43f8c1a",
     "grade": true,
     "grade_id": "cell-ee56a41cd0ed52c6",
     "locked": true,
     "points": 5,
     "schema_version": 3,
     "solution": false,
     "task": false
    }
   },
   "outputs": [
    {
     "name": "stdout",
     "output_type": "stream",
     "text": [
      "\n",
      "*** Tests Passed (5 points) ***\n"
     ]
    },
    {
     "data": {
      "text/plain": [
       "\u001b[36me1\u001b[39m: \u001b[32mPlus\u001b[39m = \u001b[33mPlus\u001b[39m(\u001b[33mIdent\u001b[39m(\u001b[32m\"x\"\u001b[39m), \u001b[33mConst\u001b[39m(\u001b[32m2.0\u001b[39m))"
      ]
     },
     "execution_count": 5,
     "metadata": {},
     "output_type": "execute_result"
    }
   ],
   "source": [
    "// BEGIN TEST\n",
    "// Please make sure you run the cell that defines the function \n",
    "// testExpressions above. \n",
    "val e1 = Plus(Ident(\"x\"), Const(2.0)) // derivative of x + 2\n",
    "assert(testExpressions(e1, Const(1.0), allVals ), s\"Test 1 Failed -- Input: $e1 \")\n",
    "\n",
    "passed(5)\n",
    "// END TEST"
   ]
  },
  {
   "cell_type": "code",
   "execution_count": 6,
   "id": "531902ef",
   "metadata": {
    "deletable": false,
    "editable": false,
    "nbgrader": {
     "cell_type": "code",
     "checksum": "7a6e22f5091eb2e815ac6bdb3ef47cca",
     "grade": true,
     "grade_id": "cell-f3f8f5272b6f3166",
     "locked": true,
     "points": 5,
     "schema_version": 3,
     "solution": false,
     "task": false
    }
   },
   "outputs": [
    {
     "name": "stdout",
     "output_type": "stream",
     "text": [
      "\n",
      "*** Tests Passed (5 points) ***\n"
     ]
    },
    {
     "data": {
      "text/plain": [
       "\u001b[36me2\u001b[39m: \u001b[32mPlus\u001b[39m = \u001b[33mPlus\u001b[39m(\u001b[33mCosine\u001b[39m(\u001b[33mIdent\u001b[39m(\u001b[32m\"x\"\u001b[39m)), \u001b[33mSine\u001b[39m(\u001b[33mIdent\u001b[39m(\u001b[32m\"x\"\u001b[39m)))\n",
       "\u001b[36med2\u001b[39m: \u001b[32mMinus\u001b[39m = \u001b[33mMinus\u001b[39m(\u001b[33mCosine\u001b[39m(\u001b[33mIdent\u001b[39m(\u001b[32m\"x\"\u001b[39m)), \u001b[33mSine\u001b[39m(\u001b[33mIdent\u001b[39m(\u001b[32m\"x\"\u001b[39m)))"
      ]
     },
     "execution_count": 6,
     "metadata": {},
     "output_type": "execute_result"
    }
   ],
   "source": [
    "// BEGIN TEST\n",
    "// Please make sure you have already run the cell\n",
    "// that defines the function  testExpressions above. \n",
    "val e2 = Plus(Cosine(Ident(\"x\")), Sine(Ident(\"x\")))\n",
    "val ed2 = Minus(Cosine(Ident(\"x\")), Sine(Ident(\"x\")))\n",
    "assert(testExpressions(e2, ed2, allVals), s\"Test 2 Failed: Input is $e2\")\n",
    "passed(5)\n",
    "// END TEST"
   ]
  },
  {
   "cell_type": "code",
   "execution_count": 7,
   "id": "b797c481",
   "metadata": {
    "deletable": false,
    "editable": false,
    "nbgrader": {
     "cell_type": "code",
     "checksum": "1feb7155caa78b2f4de3c2fe365b592d",
     "grade": true,
     "grade_id": "cell-3063c963e9da1e4e",
     "locked": true,
     "points": 5,
     "schema_version": 3,
     "solution": false,
     "task": false
    }
   },
   "outputs": [
    {
     "name": "stdout",
     "output_type": "stream",
     "text": [
      "\n",
      "*** Tests Passed (5 points) ***\n"
     ]
    },
    {
     "data": {
      "text/plain": [
       "\u001b[36mx\u001b[39m: \u001b[32mIdent\u001b[39m = \u001b[33mIdent\u001b[39m(\u001b[32m\"x\"\u001b[39m)\n",
       "\u001b[36me3\u001b[39m: \u001b[32mExp\u001b[39m = \u001b[33mExp\u001b[39m(\u001b[33mMult\u001b[39m(\u001b[33mIdent\u001b[39m(\u001b[32m\"x\"\u001b[39m), \u001b[33mIdent\u001b[39m(\u001b[32m\"x\"\u001b[39m)))\n",
       "\u001b[36med3\u001b[39m: \u001b[32mMult\u001b[39m = \u001b[33mMult\u001b[39m(\n",
       "  \u001b[33mMult\u001b[39m(\u001b[33mConst\u001b[39m(\u001b[32m2.0\u001b[39m), \u001b[33mIdent\u001b[39m(\u001b[32m\"x\"\u001b[39m)),\n",
       "  \u001b[33mExp\u001b[39m(\u001b[33mMult\u001b[39m(\u001b[33mIdent\u001b[39m(\u001b[32m\"x\"\u001b[39m), \u001b[33mIdent\u001b[39m(\u001b[32m\"x\"\u001b[39m)))\n",
       ")"
      ]
     },
     "execution_count": 7,
     "metadata": {},
     "output_type": "execute_result"
    }
   ],
   "source": [
    "// BEGIN TEST\n",
    "// Please make sure you have already run the cell\n",
    "// that defines the function  testExpressions above. \n",
    "val x = Ident(\"x\")\n",
    "val e3 = Exp(Mult(x, x))\n",
    "val ed3 = Mult(Mult(Const(2.0), x), e3)\n",
    "assert(testExpressions(e3, ed3, allVals), s\"Test 3 Failed: Input is $e3\")\n",
    "\n",
    "passed(5)\n",
    "// END TEST"
   ]
  },
  {
   "cell_type": "code",
   "execution_count": 8,
   "id": "83aa9efb",
   "metadata": {
    "deletable": false,
    "editable": false,
    "nbgrader": {
     "cell_type": "code",
     "checksum": "512caa957ea05bbf245f0d12a122374c",
     "grade": true,
     "grade_id": "cell-d83d9ebaf1ec7341",
     "locked": true,
     "points": 10,
     "schema_version": 3,
     "solution": false,
     "task": false
    }
   },
   "outputs": [
    {
     "name": "stdout",
     "output_type": "stream",
     "text": [
      "\n",
      "*** Tests Passed (10 points) ***\n"
     ]
    },
    {
     "data": {
      "text/plain": [
       "\u001b[36me4\u001b[39m: \u001b[32mDiv\u001b[39m = \u001b[33mDiv\u001b[39m(\u001b[33mIdent\u001b[39m(\u001b[32m\"x\"\u001b[39m), \u001b[33mPlus\u001b[39m(\u001b[33mIdent\u001b[39m(\u001b[32m\"x\"\u001b[39m), \u001b[33mConst\u001b[39m(\u001b[32m2.0\u001b[39m)))\n",
       "\u001b[36med4\u001b[39m: \u001b[32mDiv\u001b[39m = \u001b[33mDiv\u001b[39m(\n",
       "  \u001b[33mConst\u001b[39m(\u001b[32m2.0\u001b[39m),\n",
       "  \u001b[33mMult\u001b[39m(\u001b[33mPlus\u001b[39m(\u001b[33mIdent\u001b[39m(\u001b[32m\"x\"\u001b[39m), \u001b[33mConst\u001b[39m(\u001b[32m2.0\u001b[39m)), \u001b[33mPlus\u001b[39m(\u001b[33mIdent\u001b[39m(\u001b[32m\"x\"\u001b[39m), \u001b[33mConst\u001b[39m(\u001b[32m2.0\u001b[39m)))\n",
       ")\n",
       "\u001b[36me5\u001b[39m: \u001b[32mSine\u001b[39m = \u001b[33mSine\u001b[39m(\n",
       "  \u001b[33mMult\u001b[39m(\n",
       "    \u001b[33mExp\u001b[39m(\u001b[33mMinus\u001b[39m(\u001b[33mCosine\u001b[39m(\u001b[33mDiv\u001b[39m(\u001b[33mIdent\u001b[39m(\u001b[32m\"x\"\u001b[39m), \u001b[33mIdent\u001b[39m(\u001b[32m\"x\"\u001b[39m))), \u001b[33mCosine\u001b[39m(\u001b[33mConst\u001b[39m(\u001b[32m1.0\u001b[39m)))),\n",
       "    \u001b[33mIdent\u001b[39m(\u001b[32m\"x\"\u001b[39m)\n",
       "  )\n",
       ")\n",
       "\u001b[36med5\u001b[39m: \u001b[32mCosine\u001b[39m = \u001b[33mCosine\u001b[39m(\u001b[33mIdent\u001b[39m(\u001b[32m\"x\"\u001b[39m))"
      ]
     },
     "execution_count": 8,
     "metadata": {},
     "output_type": "execute_result"
    }
   ],
   "source": [
    "// BEGIN TEST\n",
    "// Please make sure you have already run the cell\n",
    "// that defines the function  testExpressions above. \n",
    "val e4 = Div(x, Plus(x, Const(2.0)))\n",
    "val ed4 = Div(Const(2.0), Mult(Plus(x, Const(2.0)), Plus(x, Const(2.0))) )\n",
    "assert(testExpressions(e4, ed4, allVals), s\"Test 4 Failed: Input is $e4\")\n",
    "\n",
    "val e5 = Sine(Mult(Exp(Minus( Cosine(Div(x,x)), Cosine(Const(1.0)) )), x))\n",
    "val ed5 = Cosine(x)\n",
    "assert(testExpressions(e5, ed5, allVals), s\"Test 5 Failed: Input is $e5\")\n",
    "\n",
    "passed(10)\n",
    "// END TEST"
   ]
  },
  {
   "cell_type": "markdown",
   "id": "27f762f0",
   "metadata": {
    "deletable": false,
    "editable": false,
    "nbgrader": {
     "cell_type": "markdown",
     "checksum": "15475cbec5f0438450c9ab3b0c32c91b",
     "grade": false,
     "grade_id": "cell-2a8e73fc4046a972",
     "locked": true,
     "schema_version": 3,
     "solution": false,
     "task": false
    }
   },
   "source": [
    "### 1B: Constant Folding Expressions (20 points)\n",
    "\n",
    "Constant folding is an operation that compilers often do to simplify (parts of) expressions that evaluate to constants. For instance, suppose one is given \n",
    "an expression of the form  ` 2 * 3 +  x `, represented as\n",
    "`Plus( Mult( Const(2), Const(3)), Ident(x)) `, we could directly simplify it to `6 + x` or `Plus( Const(6), Ident(x))`. In other words, we evaluate parts of an expression without needing to know the value of any of the identifiers.\n",
    "\n",
    "We will carry out constant folding according to some semantic rules that we will write below.\n",
    "\n",
    "Constant folding a constant does not change it.\n",
    "\n",
    "$$\\begin{array}{c}\n",
    "\\\\\\hline\n",
    "\\mathsf{constFold}(\\texttt{Const(f)}) = \\texttt{Const(f)}\\\\ \n",
    "\\end{array}\\;\\; \\mathsf{(const-fold)}$$\n",
    "\n",
    "Constant folding an identifier does not change it.\n",
    "\n",
    "$$\\begin{array}{c}\n",
    "\\\\\\hline\n",
    "\\mathsf{constFold}(\\texttt{Ident(x)}) = \\texttt{Ident(x)}\\\\ \n",
    "\\end{array}\\;\\; \\mathsf{(ident-fold)}$$\n",
    "\n",
    "Constant folding a plus when both operands fold into constants.\n",
    "\n",
    "$$\\begin{array}{c}\n",
    "\\mathsf{constFold}(\\texttt{e1}) = \\texttt{Const}(f1),\\ \\ \\mathsf{constFold}(\\texttt{e2}) = \\texttt{Const}(f2),\\ \\ \n",
    "\\\\\\hline\n",
    "\\mathsf{constFold}(\\texttt{Plus(e1, e2)}) = \\texttt{Const(f1+ f2)}\\\\ \n",
    "\\end{array}\\;\\; \\mathsf{(plus-const-fold-1)}$$\n",
    "\n",
    "Constant folding a plus when one of the operands does not fold into constants.\n",
    "\n",
    "$$\\begin{array}{c}\n",
    "\\mathsf{constFold}(\\texttt{e1}) = \\texttt{t1},\\ \\ \\mathsf{constFold}(\\texttt{e2}) = \\texttt{t2},\\ \\ \\text{at least one of}\\ \\texttt{t1}\\ or\\ \\texttt{t2}\\  \\text{is not Const} \\\\ \n",
    "\\\\\\hline\n",
    "\\mathsf{constFold}(\\texttt{Plus(e1, e2)}) = \\texttt{Plus(t1, t2)}\\\\ \n",
    "\\end{array}\\;\\; \\mathsf{(plus-const-fold-2)}$$\n",
    "\n",
    "Similar rules apply (with a few modifications) for constant folding other cases `Minus`, `Div`, `Mult`. Do not worry about division by zero for this assignment.\n",
    "\n",
    "__Also, there is no need to handle Sine/Cosine/Exp__ for this assignment. \n",
    "Throw an `IllegalArgumentException` if your expression has those functions in it. \n",
    "\n",
    "Write a function `constFold` that takes in an `Expr` and returns an expression after constant folding.\n",
    "  - No loops can be used.\n",
    "  - No vars can be used.\n",
    "  - No return keyword.\n"
   ]
  },
  {
   "cell_type": "code",
   "execution_count": 9,
   "id": "4d6266bf",
   "metadata": {
    "deletable": false,
    "nbgrader": {
     "cell_type": "code",
     "checksum": "cc7d8dfbcf633889f6b0511ea927459b",
     "grade": false,
     "grade_id": "cell-5df3c2b5345b9421",
     "locked": false,
     "schema_version": 3,
     "solution": true,
     "task": false
    }
   },
   "outputs": [
    {
     "data": {
      "text/plain": [
       "defined \u001b[32mfunction\u001b[39m \u001b[36mconstFold\u001b[39m"
      ]
     },
     "execution_count": 9,
     "metadata": {},
     "output_type": "execute_result"
    }
   ],
   "source": [
    "def constFold(e: Expr): Expr = e match{\n",
    "    case Const(e1) => Const(e1)\n",
    "    case Ident(e1) => Ident(e1)\n",
    "    case Plus(e1, e2) => {\n",
    "        val idk1 = constFold(e1)\n",
    "        val idk2 = constFold(e2)\n",
    "        //check cases\n",
    "        idk1 match {\n",
    "            \n",
    "            case Const(dob1) => { \n",
    "                //if the first constFold turns out to be a constant\n",
    "                idk2 match{\n",
    "                    case Const(dob2) => {Const(dob1+dob2)} // if second case turns out to be a constant\n",
    "                    case _ => {Plus(Const(dob1),idk2)}  // if second case is not a constant\n",
    "                }\n",
    "            \n",
    "            }\n",
    "            case _ => { Plus(idk1,idk2) } // if first case is not a constant\n",
    "            \n",
    "        }\n",
    "    \n",
    "    }\n",
    "    case Minus(e1, e2) => {\n",
    "        val idk1 = constFold(e1)\n",
    "        val idk2 = constFold(e2)\n",
    "        //check cases\n",
    "        idk1 match {\n",
    "            \n",
    "            case Const(dob1) => { \n",
    "                //if the first constFold turns out to be a constant\n",
    "                idk2 match{\n",
    "                    case Const(dob2) => {Const(dob1-dob2)} // if second case turns out to be a constant\n",
    "                    case _ => {Minus(Const(dob1),idk2)}  // if second case is not a constant\n",
    "                }\n",
    "            \n",
    "            }\n",
    "            case _ => { Minus(idk1,idk2) } // if first case is not a constant\n",
    "            \n",
    "        }\n",
    "    \n",
    "    }\n",
    "    case Div(e1, e2) => {\n",
    "        val idk1 = constFold(e1)\n",
    "        val idk2 = constFold(e2)\n",
    "        //check cases\n",
    "        idk1 match {\n",
    "            \n",
    "            case Const(dob1) => { \n",
    "                //if the first constFold turns out to be a constant\n",
    "                idk2 match{\n",
    "                    case Const(dob2) => {Const(dob1/dob2)} // if second case turns out to be a constant\n",
    "                    case _ => {Div(Const(dob1),idk2)}  // if second case is not a constant\n",
    "                }\n",
    "            \n",
    "            }\n",
    "            case _ => { Div(idk1,idk2) } // if first case is not a constant\n",
    "            \n",
    "        }\n",
    "    \n",
    "    }\n",
    "    case Mult(e1, e2) => {\n",
    "        val idk1 = constFold(e1)\n",
    "        val idk2 = constFold(e2)\n",
    "        //check cases\n",
    "        idk1 match {\n",
    "            \n",
    "            case Const(dob1) => { \n",
    "                //if the first constFold turns out to be a constant\n",
    "                idk2 match{\n",
    "                    case Const(dob2) => {Const(dob1*dob2)} // if second case turns out to be a constant\n",
    "                    case _ => {Mult(Const(dob1),idk2)}  // if second case is not a constant\n",
    "                }\n",
    "            \n",
    "            }\n",
    "            case _ => { Mult(idk1,idk2) } // if first case is not a constant\n",
    "            \n",
    "        }\n",
    "    \n",
    "    }\n",
    "    case Sine(e1) => throw new IllegalArgumentException(\"Expression contains Sine(Expr)\")\n",
    "    case Cosine(e1) => throw new IllegalArgumentException(\"Expression contains Cosine(Expr)\")\n",
    "    case Exp(e1) => throw new IllegalArgumentException(\"Expression contains Exp(Expr)\")\n",
    "    \n",
    "    case _ => throw new IllegalArgumentException(\"Unhandled case\")\n",
    "    \n",
    "}"
   ]
  },
  {
   "cell_type": "code",
   "execution_count": 10,
   "id": "31af3385",
   "metadata": {
    "deletable": false,
    "editable": false,
    "nbgrader": {
     "cell_type": "code",
     "checksum": "891ba837380c0e8bb3fdd4a516e73795",
     "grade": true,
     "grade_id": "cell-4583ecf6f17ea77e",
     "locked": true,
     "points": 5,
     "schema_version": 3,
     "solution": false,
     "task": false
    }
   },
   "outputs": [
    {
     "data": {
      "text/plain": [
       "\u001b[32mimport \u001b[39m\u001b[36mscala.language.implicitConversions\n",
       "\u001b[39m\n",
       "defined \u001b[32mfunction\u001b[39m \u001b[36mtoExpr\u001b[39m\n",
       "defined \u001b[32mfunction\u001b[39m \u001b[36mtoExpr\u001b[39m\n",
       "defined \u001b[32mfunction\u001b[39m \u001b[36mtoExpr\u001b[39m\n",
       "defined \u001b[32mfunction\u001b[39m \u001b[36mpl\u001b[39m\n",
       "defined \u001b[32mfunction\u001b[39m \u001b[36mms\u001b[39m\n",
       "defined \u001b[32mfunction\u001b[39m \u001b[36mst\u001b[39m\n",
       "defined \u001b[32mfunction\u001b[39m \u001b[36mdv\u001b[39m"
      ]
     },
     "execution_count": 10,
     "metadata": {},
     "output_type": "execute_result"
    }
   ],
   "source": [
    "import scala.language.implicitConversions\n",
    "implicit def toExpr(f: Double) = Const(f)\n",
    "implicit def toExpr(f: Int) = Const(f.toDouble)\n",
    "implicit def toExpr(s: String) = Ident(s)\n",
    "def pl(e1: Expr, e2: Expr) = Plus(e1, e2)\n",
    "def ms(e1: Expr, e2: Expr) = Minus(e1, e2)\n",
    "def st(e1: Expr, e2: Expr) = Mult(e1, e2)\n",
    "def dv(e1: Expr, e2: Expr) = Div(e1, e2)"
   ]
  },
  {
   "cell_type": "code",
   "execution_count": 11,
   "id": "ce4049af",
   "metadata": {
    "deletable": false,
    "editable": false,
    "nbgrader": {
     "cell_type": "code",
     "checksum": "ec6180fb19c939f4c028afeeb6bc4052",
     "grade": true,
     "grade_id": "cell-0a879955b906fa22",
     "locked": true,
     "points": 5,
     "schema_version": 3,
     "solution": false,
     "task": false
    }
   },
   "outputs": [
    {
     "name": "stdout",
     "output_type": "stream",
     "text": [
      "Mult(Plus(Const(3.0),Const(3.0)),Div(Const(3.0),Const(2.0)))\n",
      "Test #1\n",
      "\t Expected: Const(9.0), your code returned: Const(9.0)\n",
      "\t Passed!\n",
      "\n",
      "*** Tests Passed (5 points) ***\n"
     ]
    },
    {
     "data": {
      "text/plain": [
       "\u001b[36me\u001b[39m: \u001b[32mMult\u001b[39m = \u001b[33mMult\u001b[39m(\u001b[33mPlus\u001b[39m(\u001b[33mConst\u001b[39m(\u001b[32m3.0\u001b[39m), \u001b[33mConst\u001b[39m(\u001b[32m3.0\u001b[39m)), \u001b[33mDiv\u001b[39m(\u001b[33mConst\u001b[39m(\u001b[32m3.0\u001b[39m), \u001b[33mConst\u001b[39m(\u001b[32m2.0\u001b[39m)))"
      ]
     },
     "execution_count": 11,
     "metadata": {},
     "output_type": "execute_result"
    }
   ],
   "source": [
    "val e = st(pl(3, 3), dv(3, 2))\n",
    "println(e)\n",
    "testWithMessage(constFold(e), Const(9.0), \"#1\")\n",
    "passed(5)"
   ]
  },
  {
   "cell_type": "code",
   "execution_count": 12,
   "id": "7fc34704",
   "metadata": {
    "deletable": false,
    "editable": false,
    "nbgrader": {
     "cell_type": "code",
     "checksum": "688fea85a937ecda5b5abbb70ef5f29f",
     "grade": true,
     "grade_id": "cell-f3ba344e66a7136e",
     "locked": true,
     "points": 5,
     "schema_version": 3,
     "solution": false,
     "task": false
    }
   },
   "outputs": [
    {
     "name": "stdout",
     "output_type": "stream",
     "text": [
      "Minus(Mult(Const(2.0),Const(3.0)),Plus(Const(3.0),Const(2.0)))\n",
      "Test #2\n",
      "\t Expected: Const(1.0), your code returned: Const(1.0)\n",
      "\t Passed!\n",
      "\n",
      "*** Tests Passed (5 points) ***\n"
     ]
    },
    {
     "data": {
      "text/plain": [
       "\u001b[36me\u001b[39m: \u001b[32mMinus\u001b[39m = \u001b[33mMinus\u001b[39m(\u001b[33mMult\u001b[39m(\u001b[33mConst\u001b[39m(\u001b[32m2.0\u001b[39m), \u001b[33mConst\u001b[39m(\u001b[32m3.0\u001b[39m)), \u001b[33mPlus\u001b[39m(\u001b[33mConst\u001b[39m(\u001b[32m3.0\u001b[39m), \u001b[33mConst\u001b[39m(\u001b[32m2.0\u001b[39m)))"
      ]
     },
     "execution_count": 12,
     "metadata": {},
     "output_type": "execute_result"
    }
   ],
   "source": [
    "val e = ms(st(2, 3), pl(3, 2))\n",
    "println(e)\n",
    "testWithMessage(constFold(e), Const(1.0), \"#2\")\n",
    "passed(5)"
   ]
  },
  {
   "cell_type": "code",
   "execution_count": 13,
   "id": "16b595be",
   "metadata": {
    "deletable": false,
    "editable": false,
    "nbgrader": {
     "cell_type": "code",
     "checksum": "f477ffcac6d29bf96fce097f25a9893a",
     "grade": true,
     "grade_id": "cell-c5b2b1e7f06d9979",
     "locked": true,
     "points": 5,
     "schema_version": 3,
     "solution": false,
     "task": false
    }
   },
   "outputs": [
    {
     "name": "stdout",
     "output_type": "stream",
     "text": [
      "Minus(Mult(Const(2.0),Ident(x)),Plus(Const(3.0),Const(2.0)))\n",
      "Test #3\n",
      "\t Expected: Minus(Mult(Const(2.0),Ident(x)),Const(5.0)), your code returned: Minus(Mult(Const(2.0),Ident(x)),Const(5.0))\n",
      "\t Passed!\n",
      "\n",
      "*** Tests Passed (5 points) ***\n"
     ]
    },
    {
     "data": {
      "text/plain": [
       "\u001b[36me\u001b[39m: \u001b[32mMinus\u001b[39m = \u001b[33mMinus\u001b[39m(\u001b[33mMult\u001b[39m(\u001b[33mConst\u001b[39m(\u001b[32m2.0\u001b[39m), \u001b[33mIdent\u001b[39m(\u001b[32m\"x\"\u001b[39m)), \u001b[33mPlus\u001b[39m(\u001b[33mConst\u001b[39m(\u001b[32m3.0\u001b[39m), \u001b[33mConst\u001b[39m(\u001b[32m2.0\u001b[39m)))"
      ]
     },
     "execution_count": 13,
     "metadata": {},
     "output_type": "execute_result"
    }
   ],
   "source": [
    "val e = ms(st(2, \"x\") , pl(3, 2))\n",
    "println(e)\n",
    "testWithMessage(constFold(e), Minus( Mult(Const(2.0), Ident(\"x\")), Const(5.0)), \"#3\")\n",
    "passed(5)"
   ]
  },
  {
   "cell_type": "code",
   "execution_count": 14,
   "id": "fc820499",
   "metadata": {
    "deletable": false,
    "editable": false,
    "nbgrader": {
     "cell_type": "code",
     "checksum": "236a5e4805a025555b0de4a293aeeeed",
     "grade": true,
     "grade_id": "cell-e9a3183aaab428e6",
     "locked": true,
     "points": 5,
     "schema_version": 3,
     "solution": false,
     "task": false
    }
   },
   "outputs": [
    {
     "name": "stdout",
     "output_type": "stream",
     "text": [
      "Mult(Div(Ident(x),Const(3.0)),Minus(Mult(Const(3.0),Const(2.0)),Ident(y)))\n",
      "Test #3\n",
      "\t Expected: Mult(Div(Ident(x),Const(3.0)),Minus(Const(6.0),Ident(y))), your code returned: Mult(Div(Ident(x),Const(3.0)),Minus(Const(6.0),Ident(y)))\n",
      "\t Passed!\n",
      "\n",
      "*** Tests Passed (5 points) ***\n"
     ]
    },
    {
     "data": {
      "text/plain": [
       "\u001b[36me\u001b[39m: \u001b[32mMult\u001b[39m = \u001b[33mMult\u001b[39m(\n",
       "  \u001b[33mDiv\u001b[39m(\u001b[33mIdent\u001b[39m(\u001b[32m\"x\"\u001b[39m), \u001b[33mConst\u001b[39m(\u001b[32m3.0\u001b[39m)),\n",
       "  \u001b[33mMinus\u001b[39m(\u001b[33mMult\u001b[39m(\u001b[33mConst\u001b[39m(\u001b[32m3.0\u001b[39m), \u001b[33mConst\u001b[39m(\u001b[32m2.0\u001b[39m)), \u001b[33mIdent\u001b[39m(\u001b[32m\"y\"\u001b[39m))\n",
       ")"
      ]
     },
     "execution_count": 14,
     "metadata": {},
     "output_type": "execute_result"
    }
   ],
   "source": [
    "val e = st(dv(\"x\", 3) , ms(st(3, 2), \"y\"))\n",
    "println(e)\n",
    "testWithMessage(constFold(e), Mult( Div(Ident(\"x\"),Const(3.0)), Minus(Const(6.0), Ident(\"y\"))), \"#3\")\n",
    "passed(5)"
   ]
  },
  {
   "cell_type": "markdown",
   "id": "a97f007d",
   "metadata": {
    "deletable": false,
    "editable": false,
    "nbgrader": {
     "cell_type": "markdown",
     "checksum": "7c01d8901689be614281b3942bd3ade6",
     "grade": false,
     "grade_id": "cell-01441789b8f99474",
     "locked": true,
     "schema_version": 3,
     "solution": false,
     "task": false
    }
   },
   "source": [
    "## Problem 2 \n",
    "\n",
    "### Part (A)  - 5 points\n",
    "\n",
    "Write a function using case pattern matching whether a given list of numbers has the `fibonacci` property: i.e, every element of the list (other than the first two) is the sum of two previous elements. \n",
    "\n",
    "Lists of length less than or equal to two are naturally fibonacci lists.\n",
    "\n",
    " - Do not use any list API functions other than length.\n",
    " - Use case pattern matching over scala lists.\n",
    " - Function must be tail recursive.\n",
    " - No loops can be used.\n",
    " - No vars can be used.\n",
    " - No return keyword.\n",
    "\n"
   ]
  },
  {
   "cell_type": "code",
   "execution_count": 15,
   "id": "8e310885",
   "metadata": {
    "deletable": false,
    "nbgrader": {
     "cell_type": "code",
     "checksum": "8d47d76c2a44ad479c135b566696a782",
     "grade": false,
     "grade_id": "cell-1d42c098291648c8",
     "locked": false,
     "schema_version": 3,
     "solution": true,
     "task": false
    }
   },
   "outputs": [
    {
     "data": {
      "text/plain": [
       "\u001b[32mimport \u001b[39m\u001b[36mscala.annotation.tailrec\n",
       "\u001b[39m\n",
       "defined \u001b[32mfunction\u001b[39m \u001b[36misFibonacciList\u001b[39m"
      ]
     },
     "execution_count": 15,
     "metadata": {},
     "output_type": "execute_result"
    }
   ],
   "source": [
    "import scala.annotation.tailrec\n",
    "@tailrec\n",
    "def isFibonacciList(lst: List[Int], param: Boolean = true): Boolean = lst match{\n",
    "    \n",
    "    case Nil => param //empty list case\n",
    "    case lst if(lst.length < 3 ) => param//list with one or two elements\n",
    "    //past previous case, list contains more than two elements\n",
    "    case a::b::c::tail => {\n",
    "            if( (a + b) == c ) {\n",
    "                isFibonacciList(b::c::tail,true)\n",
    "            }\n",
    "            else{\n",
    "                false\n",
    "            }\n",
    "            \n",
    "        }\n",
    "    case _ => throw new IllegalArgumentException(\"Unhandled case\") \n",
    "}\n",
    "    \n"
   ]
  },
  {
   "cell_type": "code",
   "execution_count": 16,
   "id": "41a0dfc9",
   "metadata": {
    "deletable": false,
    "editable": false,
    "nbgrader": {
     "cell_type": "code",
     "checksum": "095fc4f1cbf1c3af09a0ae47bb5956af",
     "grade": true,
     "grade_id": "cell-87a9b68b460c003d",
     "locked": true,
     "points": 5,
     "schema_version": 3,
     "solution": false,
     "task": false
    }
   },
   "outputs": [
    {
     "name": "stdout",
     "output_type": "stream",
     "text": [
      "Test isFibonacciList([1,2,3])\n",
      "\t Expected: true, your code returned: true\n",
      "\t Passed!\n",
      "Test isFibonacciList([-20, -15])\n",
      "\t Expected: true, your code returned: true\n",
      "\t Passed!\n",
      "Test isFibonacciList([])\n",
      "\t Expected: true, your code returned: true\n",
      "\t Passed!\n",
      "Test isFibonacciList([1,2,3,5,8,13,21])\n",
      "\t Expected: true, your code returned: true\n",
      "\t Passed!\n",
      "Test isFibonacciList([-1, 1, 0, 0, 1, 2, 3])\n",
      "\t Expected: false, your code returned: false\n",
      "\t Passed!\n",
      "Test isFibonacciList([-1, 1, 0, 1, 1, 2, 1])\n",
      "\t Expected: false, your code returned: false\n",
      "\t Passed!\n",
      "\n",
      "*** Tests Passed (5 points) ***\n"
     ]
    }
   ],
   "source": [
    "testWithMessage(isFibonacciList(List(1,2,3,5)), true, \"isFibonacciList([1,2,3])\")\n",
    "testWithMessage(isFibonacciList(List(-20, -15)), true, \"isFibonacciList([-20, -15])\")\n",
    "testWithMessage(isFibonacciList(Nil), true, \"isFibonacciList([])\")\n",
    "testWithMessage(isFibonacciList(List(1,2, 3, 5, 8, 13, 21)), true, \n",
    "               \"isFibonacciList([1,2,3,5,8,13,21])\")\n",
    "testWithMessage(isFibonacciList(List(-1,1, 0,  0, 1, 2, 3)), false, \n",
    "               \"isFibonacciList([-1, 1, 0, 0, 1, 2, 3])\")\n",
    "testWithMessage(isFibonacciList(List(-1,1, 0,  1, 1, 2, 1)), false, \n",
    "               \"isFibonacciList([-1, 1, 0, 1, 1, 2, 1])\")\n",
    "\n",
    "passed(5)"
   ]
  },
  {
   "cell_type": "markdown",
   "id": "55fd0516",
   "metadata": {
    "deletable": false,
    "editable": false,
    "nbgrader": {
     "cell_type": "markdown",
     "checksum": "5aa9e91bafc78e1550c44c39170df83b",
     "grade": false,
     "grade_id": "cell-d82ce08d01d6250e",
     "locked": true,
     "schema_version": 3,
     "solution": false,
     "task": false
    }
   },
   "source": [
    "### Part (B) - 5 points\n",
    "\n",
    "Write a tail recursive function that returns the length of the __longest ascending prefix__ of a list. Ie., given a list\n",
    "`List(a0, a1, a2, ..., aj, ..., an-1)`,  it returns the first index\n",
    "`j` wherein `aj > aj+1`. If no such `j` exists, then it returns `n-1`.\n",
    "\n",
    "- No use of any list API method allowed.\n",
    "- Use case pattern matching.\n",
    "- Make your function tail recursive.\n",
    "- No loops can be used.\n",
    "- No vars can be used.\n",
    "- No return keyword.\n",
    "\n",
    "\n",
    "#### Examples\n",
    "\n",
    "- `longestAscendingPrefix(List(1, 2, 3, 4, 3)) = 3`\n",
    "- `longestAscendingPrefix(List(5, 2, 3, 4, 3)) = 0`\n",
    "- `longestAscendingPrefix(List()) = 0`\n",
    "- `longestAscendingPrefix(List(1, 2, 3, 4, 10)) = 4`\n",
    "\n",
    "\n",
    "\n",
    "\n"
   ]
  },
  {
   "cell_type": "code",
   "execution_count": 17,
   "id": "5d054ed7",
   "metadata": {
    "deletable": false,
    "nbgrader": {
     "cell_type": "code",
     "checksum": "b435f4d938d42120842f5a4528352f03",
     "grade": false,
     "grade_id": "cell-5cef7208c79f8280",
     "locked": false,
     "schema_version": 3,
     "solution": true,
     "task": false
    }
   },
   "outputs": [
    {
     "data": {
      "text/plain": [
       "\u001b[32mimport \u001b[39m\u001b[36mscala.annotation.tailrec\n",
       "\u001b[39m\n",
       "defined \u001b[32mfunction\u001b[39m \u001b[36mlongestAscendingPrefix\u001b[39m"
      ]
     },
     "execution_count": 17,
     "metadata": {},
     "output_type": "execute_result"
    }
   ],
   "source": [
    "import scala.annotation.tailrec\n",
    "@tailrec\n",
    "def longestAscendingPrefix(lst: List[Int], acc: Int = 0): Int = lst match{\n",
    "    case Nil => 0\n",
    "    case a::b::tail => {\n",
    "        // if at end of list\n",
    "        if(tail == Nil){\n",
    "            //tail is empty just check a and b\n",
    "            if(a > b){\n",
    "                acc\n",
    "            } else {\n",
    "                acc + 1\n",
    "            }\n",
    "        }else{\n",
    "            //tail is not empty\n",
    "            if(a > b){\n",
    "                acc\n",
    "            } else{\n",
    "                val acc1 = acc + 1\n",
    "                longestAscendingPrefix(b::tail,acc1)\n",
    "            }\n",
    "        }\n",
    "    }\n",
    "    case _ => throw new IllegalArgumentException(\"Unhandled case\")\n",
    "    \n",
    "}"
   ]
  },
  {
   "cell_type": "code",
   "execution_count": 18,
   "id": "d363d932",
   "metadata": {
    "deletable": false,
    "editable": false,
    "nbgrader": {
     "cell_type": "code",
     "checksum": "f886b499d1e335c183e2ed0316298318",
     "grade": true,
     "grade_id": "cell-626c4b4eaf8bf2e2",
     "locked": true,
     "points": 5,
     "schema_version": 3,
     "solution": false,
     "task": false
    }
   },
   "outputs": [
    {
     "name": "stdout",
     "output_type": "stream",
     "text": [
      "Test #1\n",
      "\t Expected: 3, your code returned: 3\n",
      "\t Passed!\n",
      "Test #2\n",
      "\t Expected: 0, your code returned: 0\n",
      "\t Passed!\n",
      "Test #3\n",
      "\t Expected: 0, your code returned: 0\n",
      "\t Passed!\n",
      "Test #4\n",
      "\t Expected: 4, your code returned: 4\n",
      "\t Passed!\n",
      "\n",
      "*** Tests Passed (5 points) ***\n"
     ]
    }
   ],
   "source": [
    "testWithMessage(longestAscendingPrefix(List(1, 2, 3, 4, 3)), 3, \"#1\")\n",
    "testWithMessage(longestAscendingPrefix(List(5, 2, 3, 4, 3)), 0, \"#2\")\n",
    "testWithMessage(longestAscendingPrefix(List()) , 0, \"#3\")\n",
    "testWithMessage(longestAscendingPrefix(List(1, 2, 3, 4, 10)), 4, \"#4\")\n",
    "passed(5)"
   ]
  },
  {
   "cell_type": "markdown",
   "id": "e1b4040f",
   "metadata": {
    "deletable": false,
    "editable": false,
    "nbgrader": {
     "cell_type": "markdown",
     "checksum": "64527a376e07535bb068af5de61ed4af",
     "grade": false,
     "grade_id": "cell-0b72980e7a2f8542",
     "locked": true,
     "schema_version": 3,
     "solution": false,
     "task": false
    }
   },
   "source": [
    "## That's All Folks"
   ]
  },
  {
   "cell_type": "code",
   "execution_count": null,
   "id": "526b534e-eb9b-4847-a986-392f51b6fefb",
   "metadata": {},
   "outputs": [],
   "source": []
  }
 ],
 "metadata": {
  "kernelspec": {
   "display_name": "Scala 2.12",
   "language": "scala",
   "name": "scala212"
  },
  "language_info": {
   "codemirror_mode": "text/x-scala",
   "file_extension": ".scala",
   "mimetype": "text/x-scala",
   "name": "scala",
   "nbconvert_exporter": "script",
   "version": "2.12.10"
  }
 },
 "nbformat": 4,
 "nbformat_minor": 5
}
