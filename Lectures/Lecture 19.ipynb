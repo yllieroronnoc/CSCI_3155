{
 "cells": [
  {
   "cell_type": "markdown",
   "metadata": {},
   "source": [
    "# Lecture 19\n",
    "### continuation passing style\n",
    "- recursion causes the activation records to grow on the stack potentially causing stack overflow\n",
    "- tail recursion is a bengin case when teh resulkt of any "
   ]
  },
  {
   "cell_type": "code",
   "execution_count": 1,
   "metadata": {},
   "outputs": [
    {
     "data": {
      "text/plain": [
       "defined \u001b[32mfunction\u001b[39m \u001b[36mfibonacci\u001b[39m"
      ]
     },
     "execution_count": 1,
     "metadata": {},
     "output_type": "execute_result"
    }
   ],
   "source": [
    "//recursive fib\n",
    "def fibonacci(n: Int, acc1: Int = 0, acc2: Int = 1): Int = {\n",
    "    if (n < 2){\n",
    "        acc2\n",
    "    } else {\n",
    "        fibonacci(n - 1, acc2, acc1 + acc2 )\n",
    "    }\n",
    "}"
   ]
  },
  {
   "cell_type": "code",
   "execution_count": 3,
   "metadata": {},
   "outputs": [],
   "source": [
    "// a continuation is a function that is passed in and specifies what the caller \n",
    "//whishes to do with the result that has been computed\n",
    "\n",
    "//passing the result to k which is a continuation"
   ]
  },
  {
   "cell_type": "code",
   "execution_count": 4,
   "metadata": {},
   "outputs": [
    {
     "name": "stdout",
     "output_type": "stream",
     "text": [
      "7\n"
     ]
    },
    {
     "data": {
      "text/plain": [
       "defined \u001b[32mfunction\u001b[39m \u001b[36maddup\u001b[39m\n",
       "defined \u001b[32mfunction\u001b[39m \u001b[36mmultiply\u001b[39m\n",
       "defined \u001b[32mfunction\u001b[39m \u001b[36mmadd\u001b[39m"
      ]
     },
     "execution_count": 4,
     "metadata": {},
     "output_type": "execute_result"
    }
   ],
   "source": [
    "def addup(x: Int, y: Int, z: Int): Int = {\n",
    "    x + y + z\n",
    "}\n",
    "def multiply(x: Int, y: Int): Int = {\n",
    "    x * y\n",
    "}\n",
    "\n",
    "def madd(x: Int, y: Int, z: Int): Int = {\n",
    "    val v1 = multiply(x,y)\n",
    "    val v2 = addup(v1,y,z)\n",
    "    return v2;\n",
    "}\n",
    "println(madd(1,2,3))"
   ]
  },
  {
   "cell_type": "code",
   "execution_count": 9,
   "metadata": {},
   "outputs": [
    {
     "data": {
      "text/plain": [
       "defined \u001b[32mfunction\u001b[39m \u001b[36maddup_k\u001b[39m\n",
       "\u001b[36mk\u001b[39m: \u001b[32mInt\u001b[39m = \u001b[32m6\u001b[39m\n",
       "defined \u001b[32mfunction\u001b[39m \u001b[36mmultiply_k\u001b[39m\n",
       "\u001b[36ml\u001b[39m: \u001b[32mInt\u001b[39m = \u001b[32m2\u001b[39m\n",
       "defined \u001b[32mfunction\u001b[39m \u001b[36mmadd_k\u001b[39m"
      ]
     },
     "execution_count": 9,
     "metadata": {},
     "output_type": "execute_result"
    }
   ],
   "source": [
    "//addup_k                           //result //return (Int)\n",
    "def addup_k(x: Int, y: Int, z: Int, k: Int => Int): Int = {\n",
    "    k(x + y + z)\n",
    "}\n",
    "\n",
    "val k = addup_k(1,2,3,(v: Int)=>v)\n",
    "\n",
    "def multiply_k(x: Int, y:Int , k: Int => Int): Int = {\n",
    "    k( x * y )\n",
    "}\n",
    "val l = multiply_k(1,2,(v: Int)=>v)\n",
    "\n",
    "def madd_k(x: Int, y: Int, z: Int, k: Int => Int): Int = {\n",
    "    def k2(v2: Int): Int = {\n",
    "        v2\n",
    "    }\n",
    "    def k1(v1: Int ) = {\n",
    "        addup_k(v1 , y , z, k2)\n",
    "    }\n",
    "    multiply_k( x , y , k1 )\n",
    "\n",
    "    \n",
    "}"
   ]
  },
  {
   "cell_type": "code",
   "execution_count": 10,
   "metadata": {},
   "outputs": [
    {
     "data": {
      "text/plain": [
       "defined \u001b[32mfunction\u001b[39m \u001b[36mf1_k\u001b[39m"
      ]
     },
     "execution_count": 10,
     "metadata": {},
     "output_type": "execute_result"
    }
   ],
   "source": [
    "def f1_k(x: Int, k: Int => Int): Int = {\n",
    "    if( x <= 0) {\n",
    "        k(1)\n",
    "    } else {\n",
    "        f1_k(x - 10, ( v1: Int ) => k( 3 + v1 ) )\n",
    "    }\n",
    "}"
   ]
  },
  {
   "cell_type": "code",
   "execution_count": 11,
   "metadata": {},
   "outputs": [
    {
     "data": {
      "text/plain": [
       "defined \u001b[32mfunction\u001b[39m \u001b[36mfactorial\u001b[39m\n",
       "\u001b[32mimport \u001b[39m\u001b[36mscala.annotation.tailrec\n",
       "\u001b[39m\n",
       "defined \u001b[32mfunction\u001b[39m \u001b[36mfactorial_k\u001b[39m"
      ]
     },
     "execution_count": 11,
     "metadata": {},
     "output_type": "execute_result"
    }
   ],
   "source": [
    "def factorial(n: Int): Int = {\n",
    "    if(n <= 0){\n",
    "        1\n",
    "    } else {\n",
    "        n * factorial(n-1)\n",
    "    }\n",
    "}\n",
    "import scala.annotation.tailrec\n",
    "@tailrec\n",
    "def factorial_k(n: Int, k: Int => Int):Int = {\n",
    "    if(n <= 0){\n",
    "        1\n",
    "    } else {\n",
    "        def k1( v1: Int ) = {\n",
    "            k(n * v1)\n",
    "        }\n",
    "        factorial_k(n - 1, k1 )\n",
    "    }\n",
    "} "
   ]
  },
  {
   "cell_type": "code",
   "execution_count": 13,
   "metadata": {},
   "outputs": [
    {
     "data": {
      "text/plain": [
       "defined \u001b[32mfunction\u001b[39m \u001b[36mfibonacci_k\u001b[39m"
      ]
     },
     "execution_count": 13,
     "metadata": {},
     "output_type": "execute_result"
    }
   ],
   "source": [
    "def fibonacci_k(n: Int, k: Int => Int): Int = {\n",
    "    if (n < 2){\n",
    "        k(1)\n",
    "    } else {\n",
    "        \n",
    "        def k1(v1: Int) = {\n",
    "            def k2(v2: Int) = {\n",
    "                k(v1+v2)\n",
    "            }\n",
    "            fibonacci_k(n-2, k2)\n",
    "        }\n",
    "        fibonacci_k(n-1,k1)\n",
    "        //fibonacci_k(n-1, (v1: Int) => fibonacci_k(n-2, (v2: Int) => k(v1 + v2) ) )\n",
    "    }\n",
    "}"
   ]
  },
  {
   "cell_type": "code",
   "execution_count": null,
   "metadata": {},
   "outputs": [],
   "source": []
  }
 ],
 "metadata": {
  "kernelspec": {
   "display_name": "Scala 2.12",
   "language": "scala",
   "name": "scala212"
  },
  "language_info": {
   "codemirror_mode": "text/x-scala",
   "file_extension": ".sc",
   "mimetype": "text/x-scala",
   "name": "scala",
   "nbconvert_exporter": "script",
   "version": "2.12.12"
  }
 },
 "nbformat": 4,
 "nbformat_minor": 4
}
