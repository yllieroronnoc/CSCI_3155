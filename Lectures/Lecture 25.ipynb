{
 "cells": [
  {
   "cell_type": "markdown",
   "metadata": {},
   "source": [
    "<pre>\n",
    "object oriented programming in scala\n",
    "scala object oriented programming + functional style\n",
    "\n",
    "classes  objects, inheritance (subtyping), generence + traits, data encapsulation (hiding) \"private\"\n",
    "\n",
    "methods are fucntions that operate on this data\n",
    "\n",
    "employee: (name: String, dob: string ...) esentially a record\n",
    "\n",
    "</pre>"
   ]
  },
  {
   "cell_type": "code",
   "execution_count": 12,
   "metadata": {},
   "outputs": [
    {
     "data": {
      "text/plain": [
       "defined \u001b[32mclass\u001b[39m \u001b[36mEmployee\u001b[39m"
      ]
     },
     "execution_count": 12,
     "metadata": {},
     "output_type": "execute_result"
    }
   ],
   "source": [
    "class Employee(val id: Int,\n",
    "               val name: String, // these are called class parameters, declares a default constructor in scala\n",
    "               val position: String = \"Intern\",\n",
    "               private val salary: Int = 40000){\n",
    " //havent written method to initialize salary\n",
    "    \n",
    "    def printName: Unit = {\n",
    "        println(s\"Hey! My name is $name\")\n",
    "    }\n",
    "    def incrementSalary: Employee = {\n",
    "        new Employee(id,name, position, salary + 1000)\n",
    "    }\n",
    "    def getSalary: Int = {\n",
    "        salary\n",
    "    }\n",
    "    println(s\"A new employee created! Name: $name\")\n",
    "    \n",
    "}"
   ]
  },
  {
   "cell_type": "code",
   "execution_count": 13,
   "metadata": {},
   "outputs": [
    {
     "name": "stdout",
     "output_type": "stream",
     "text": [
      "A new employee created! Name: Moby Dick\n"
     ]
    },
    {
     "data": {
      "text/plain": [
       "\u001b[36me1\u001b[39m: \u001b[32mEmployee\u001b[39m = ammonite.$sess.cmd11$Helper$Employee@4e57814"
      ]
     },
     "execution_count": 13,
     "metadata": {},
     "output_type": "execute_result"
    }
   ],
   "source": [
    "val e1 = new Employee(1,\"Moby Dick\")\n",
    "//print is executed because everything outside of methods are executed after new class is created, executes top to bottom\n"
   ]
  },
  {
   "cell_type": "code",
   "execution_count": 14,
   "metadata": {},
   "outputs": [
    {
     "data": {
      "text/plain": [
       "\u001b[36mres13\u001b[39m: \u001b[32mInt\u001b[39m = \u001b[32m40000\u001b[39m"
      ]
     },
     "execution_count": 14,
     "metadata": {},
     "output_type": "execute_result"
    }
   ],
   "source": [
    "e1.getSalary\n",
    "//prints 50000 because everything executes in order, initializes salary to 40000 defines methods and then updates salary"
   ]
  },
  {
   "cell_type": "code",
   "execution_count": 14,
   "metadata": {},
   "outputs": [],
   "source": [
    "//also write auxilary constructors in scala\n",
    "//can set arguments to default"
   ]
  },
  {
   "cell_type": "code",
   "execution_count": 15,
   "metadata": {},
   "outputs": [
    {
     "data": {
      "text/plain": [
       "defined \u001b[32mobject\u001b[39m \u001b[36mA\u001b[39m"
      ]
     },
     "execution_count": 15,
     "metadata": {},
     "output_type": "execute_result"
    }
   ],
   "source": [
    "object A{\n",
    "    private val a:Int = 10\n",
    "    def getA:Int = {\n",
    "        a\n",
    "    }\n",
    "}\n",
    "//object A(val a:Int = 10) failed because we cant create more objects of A its a single object and doesnt take parameters\n",
    "//useful to "
   ]
  },
  {
   "cell_type": "code",
   "execution_count": 16,
   "metadata": {},
   "outputs": [
    {
     "name": "stdout",
     "output_type": "stream",
     "text": [
      "A new employee created! Name: Ismail\n"
     ]
    },
    {
     "data": {
      "text/plain": [
       "defined \u001b[32mobject\u001b[39m \u001b[36mEmployeeFactory\u001b[39m"
      ]
     },
     "execution_count": 16,
     "metadata": {},
     "output_type": "execute_result"
    }
   ],
   "source": [
    "object EmployeeFactory{\n",
    "    private var nextid = 0\n",
    "    \n",
    "    def mkEmployee(name :String, position: String = \"Intern\"){\n",
    "        nextid = nextid + 1\n",
    "        new Employee(nextid, name, position)\n",
    "    }\n",
    "}\n",
    "\n",
    "val e2 = EmployeeFactory.mkEmployee(\"Ismail\",\"Flight Engineer\")"
   ]
  },
  {
   "cell_type": "markdown",
   "metadata": {},
   "source": [
    "<pre>\n",
    "    studentrec:(name:String , year: Int)\n",
    "    added records to lettuce\n",
    "    let a = NewRef(10) in \n",
    "            assignedRef(a,11)\n",
    "    what does this do?\n",
    "    creates a new reference A, gives pointer to a, assignedREf assigns new value to ref\n",
    "    \n",
    "\n",
    "create object \n",
    "\n",
    "class counter {\n",
    "    private val counter = 0\n",
    "    def getCounter <gives counter ...>\n",
    "    def incrementCounter <coutner + 1 ...>\n",
    "}\n",
    "\n",
    "simplle scala class\n",
    "when we use this class to create an object, if we want the same functionality in lettuce\n",
    "\n",
    "\n",
    "create a closure that wraps private variables inside and fucntions\n",
    "\n",
    "let counter = NewRef(10) in\n",
    "            let get_counter = function(2, unit){\n",
    "                                    getref(counter) in\n",
    "                                        let inc_counter = function(unit){\n",
    "                                            assignref(counter,1+getref(counter))\n",
    "                                        }\n",
    "                                }\n",
    "</pre>"
   ]
  },
  {
   "cell_type": "code",
   "execution_count": 23,
   "metadata": {},
   "outputs": [
    {
     "data": {
      "text/plain": [
       "defined \u001b[32mclass\u001b[39m \u001b[36mShape\u001b[39m"
      ]
     },
     "execution_count": 23,
     "metadata": {},
     "output_type": "execute_result"
    }
   ],
   "source": [
    "//composition\n",
    "\n",
    "\n",
    "\n",
    "//inheritance first example\n",
    "abstract class Shape() {\n",
    "    def printBoundingBox : Unit = {\n",
    "        println(\"Nothing to print\")\n",
    "    } \n",
    "    def repOk: Boolean = {\n",
    "        true\n",
    "    }\n",
    "    def toString: String \n",
    "}"
   ]
  },
  {
   "cell_type": "code",
   "execution_count": 24,
   "metadata": {},
   "outputs": [
    {
     "data": {
      "text/plain": [
       "defined \u001b[32mclass\u001b[39m \u001b[36mRectangle\u001b[39m"
      ]
     },
     "execution_count": 24,
     "metadata": {},
     "output_type": "execute_result"
    }
   ],
   "source": [
    "class Rectangle(left: Double, right: Double, top:Double, bottom:Double) extends Shape {\n",
    "    override def printBoundingBox : Unit = {\n",
    "        println(\"rectangles bounding box\")\n",
    "    } \n",
    "    override def repOk: Boolean = {\n",
    "        left <= right && bottom <= top\n",
    "    }\n",
    "    override def toString: String = { //requires override because it was defined in any function \n",
    "        \"rectangle Shape\"\n",
    "    }\n",
    "}"
   ]
  },
  {
   "cell_type": "code",
   "execution_count": 25,
   "metadata": {},
   "outputs": [
    {
     "data": {
      "text/plain": [
       "defined \u001b[32mclass\u001b[39m \u001b[36msquare\u001b[39m"
      ]
     },
     "execution_count": 25,
     "metadata": {},
     "output_type": "execute_result"
    }
   ],
   "source": [
    "class square(side: Double) extends Rectangle(0.0,side, side, side) {\n",
    "    override def printBoundingBox : Unit = {\n",
    "        println(\"rectangles bounding box\")\n",
    "    } \n",
    "    override def repOk: Boolean = {\n",
    "        side>0\n",
    "    }\n",
    "    override def toString: String = { //requires override because it was defined in any function \n",
    "        \"square Shape\"\n",
    "    }\n",
    "}"
   ]
  },
  {
   "cell_type": "code",
   "execution_count": 26,
   "metadata": {},
   "outputs": [
    {
     "data": {
      "text/plain": [
       "defined \u001b[32mfunction\u001b[39m \u001b[36mfoo\u001b[39m"
      ]
     },
     "execution_count": 26,
     "metadata": {},
     "output_type": "execute_result"
    }
   ],
   "source": [
    "def foo(s: Shape) {\n",
    "    println(s.toString)\n",
    "}"
   ]
  },
  {
   "cell_type": "code",
   "execution_count": 27,
   "metadata": {},
   "outputs": [
    {
     "name": "stdout",
     "output_type": "stream",
     "text": [
      "square Shape\n"
     ]
    }
   ],
   "source": [
    "foo(new square(2.0))"
   ]
  },
  {
   "cell_type": "code",
   "execution_count": null,
   "metadata": {},
   "outputs": [],
   "source": []
  }
 ],
 "metadata": {
  "kernelspec": {
   "display_name": "Scala 2.12",
   "language": "scala",
   "name": "scala212"
  },
  "language_info": {
   "codemirror_mode": "text/x-scala",
   "file_extension": ".sc",
   "mimetype": "text/x-scala",
   "name": "scala",
   "nbconvert_exporter": "script",
   "version": "2.12.12"
  }
 },
 "nbformat": 4,
 "nbformat_minor": 4
}
