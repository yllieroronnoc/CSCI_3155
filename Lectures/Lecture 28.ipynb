{
 "cells": [
  {
   "cell_type": "code",
   "execution_count": 2,
   "metadata": {},
   "outputs": [
    {
     "data": {
      "text/plain": [
       "defined \u001b[32mtrait\u001b[39m \u001b[36mOrdering\u001b[39m"
      ]
     },
     "execution_count": 2,
     "metadata": {},
     "output_type": "execute_result"
    }
   ],
   "source": [
    "//Generics and Type Constraints\n",
    "trait Ordering[T] {\n",
    "    def compare(t:T): Int //if its zero, both objects are equal\n",
    "    \n",
    "    def< (t: T): Boolean = this.compare(t)<0 \n",
    "    def> (t: T): Boolean = this.compare(t)>0 \n",
    "    def<= (t: T): Boolean = this.compare(t)<=0 \n",
    "    def>= (t: T): Boolean = this.compare(t)>=0 \n",
    "    \n",
    "}"
   ]
  },
  {
   "cell_type": "code",
   "execution_count": 3,
   "metadata": {},
   "outputs": [
    {
     "data": {
      "text/plain": [
       "defined \u001b[32mclass\u001b[39m \u001b[36mBoxedInt\u001b[39m"
      ]
     },
     "execution_count": 3,
     "metadata": {},
     "output_type": "execute_result"
    }
   ],
   "source": [
    "class BoxedInt(val n:Int) extends AnyRef with Ordering[BoxedInt]{\n",
    "    def toInt: Int = n\n",
    "    def compare(t: BoxedInt): Int = {\n",
    "        n - t.toInt\n",
    "    }\n",
    "}"
   ]
  },
  {
   "cell_type": "code",
   "execution_count": 13,
   "metadata": {},
   "outputs": [
    {
     "data": {
      "text/plain": [
       "defined \u001b[32mclass\u001b[39m \u001b[36mIntStack\u001b[39m\n",
       "defined \u001b[32mclass\u001b[39m \u001b[36mDobStack\u001b[39m\n",
       "defined \u001b[32mclass\u001b[39m \u001b[36mStack\u001b[39m"
      ]
     },
     "execution_count": 13,
     "metadata": {},
     "output_type": "execute_result"
    }
   ],
   "source": [
    "class IntStack(var ls: List[Int]) {\n",
    "    def push(n:Int): Unit = {\n",
    "        ls = n::ls\n",
    "    }\n",
    "    def pop(): Int = {\n",
    "        ls match{\n",
    "            case x::xs => {ls = xs; x}\n",
    "            case Nil => {throw new IllegalArgumentException()}\n",
    "        }\n",
    "    }\n",
    "}\n",
    "\n",
    "\n",
    "//if we want to write a new stack implementation for stack double copy paste\n",
    "class DobStack(var ls: List[Double]) {\n",
    "    def push(n:Double): Unit = {\n",
    "        ls = n::ls\n",
    "    }\n",
    "    def pop(): Double = {\n",
    "        ls match{\n",
    "            case x::xs => {ls = xs; x}\n",
    "            case Nil => {throw new IllegalArgumentException()}\n",
    "        }\n",
    "    }\n",
    "}\n",
    "\n",
    "//instead of copying, take int stack and replace everything with T\n",
    "class Stack[T](var ls: List[T]) {\n",
    "    def push(n: T): Unit = {\n",
    "        ls = n::ls\n",
    "    }\n",
    "    def pop(): T = {\n",
    "        ls match{\n",
    "            case x::xs => {ls = xs; x}\n",
    "            case Nil => {throw new IllegalArgumentException()}\n",
    "        }\n",
    "    }\n",
    "}\n"
   ]
  },
  {
   "cell_type": "code",
   "execution_count": 15,
   "metadata": {},
   "outputs": [
    {
     "data": {
      "text/plain": [
       "defined \u001b[32mclass\u001b[39m \u001b[36msortedList\u001b[39m"
      ]
     },
     "execution_count": 15,
     "metadata": {},
     "output_type": "execute_result"
    }
   ],
   "source": [
    "class sortedList[T <: Ordering[T]](var ls:List[T]) {\n",
    "    ls = ls.sortWith((x,y) => x < y)\n",
    "    //in the list ls, find all elements less than y and return them\n",
    "    def allElementsLessThan(y : T): List[T] = {\n",
    "        ls match {\n",
    "            case x :: xs => {\n",
    "                if (x < y) { \n",
    "                    x::((new sortedList(xs)).allElementsLessThan(y)) \n",
    "                } else {\n",
    "                    Nil\n",
    "                }\n",
    "            }\n",
    "        }\n",
    "    }\n",
    "}\n",
    "\n",
    "//without including Ordering[T], less than will not be defined. "
   ]
  },
  {
   "cell_type": "code",
   "execution_count": 16,
   "metadata": {},
   "outputs": [
    {
     "data": {
      "text/plain": [
       "defined \u001b[32mfunction\u001b[39m \u001b[36mmbi\u001b[39m"
      ]
     },
     "execution_count": 16,
     "metadata": {},
     "output_type": "execute_result"
    }
   ],
   "source": [
    "def mbi(n : Int) = new BoxedInt(n)"
   ]
  },
  {
   "cell_type": "code",
   "execution_count": 17,
   "metadata": {},
   "outputs": [
    {
     "data": {
      "text/plain": [
       "\u001b[36ms\u001b[39m: \u001b[32msortedList\u001b[39m[\u001b[32mBoxedInt\u001b[39m] = ammonite.$sess.cmd14$Helper$sortedList@3035d88"
      ]
     },
     "execution_count": 17,
     "metadata": {},
     "output_type": "execute_result"
    }
   ],
   "source": [
    "val s = new sortedList(List(mbi(8),mbi(1), mbi(4)))"
   ]
  },
  {
   "cell_type": "code",
   "execution_count": 19,
   "metadata": {},
   "outputs": [
    {
     "data": {
      "text/plain": [
       "\u001b[36mres18\u001b[39m: \u001b[32mList\u001b[39m[\u001b[32mInt\u001b[39m] = \u001b[33mList\u001b[39m(\u001b[32m1\u001b[39m, \u001b[32m4\u001b[39m, \u001b[32m8\u001b[39m)"
      ]
     },
     "execution_count": 19,
     "metadata": {},
     "output_type": "execute_result"
    }
   ],
   "source": [
    "s.ls.map(x => x.toInt)"
   ]
  },
  {
   "cell_type": "code",
   "execution_count": 20,
   "metadata": {},
   "outputs": [
    {
     "data": {
      "text/plain": [
       "defined \u001b[32mclass\u001b[39m \u001b[36mfoo\u001b[39m"
      ]
     },
     "execution_count": 20,
     "metadata": {},
     "output_type": "execute_result"
    }
   ],
   "source": [
    "/*\n",
    "subtyping\n",
    "a -> b   defined by <:\n",
    "\n",
    "\n",
    "lsp: whenever an object of subcless is expected, it is okay to pass an object of super class\n",
    "so it is okay to pass b when a is wanted\n",
    "\n",
    "\n",
    "\n",
    "\n",
    "      T21 <: T11           T12 <: T22 \n",
    "--------------------------------------------\n",
    "        T11 => T12 <: T21 => T22\n",
    "\n",
    "\n",
    "\n",
    "A                 class foo[A]\n",
    "\n",
    "\n",
    "\n",
    "B                class foo[B]\n",
    "\n",
    "no, class foo is invariant in type T, lists are covariant in argument type (if a is a super class of b, list a is a super class of b), functions are contravariant \n",
    "class arrays are defined such that it is invarient in its argument type, reason is arrays are vitable, \n",
    "\n",
    "*/\n",
    "class foo[T](var x : T) {\n",
    "}\n",
    "val v1 = new "
   ]
  },
  {
   "cell_type": "code",
   "execution_count": null,
   "metadata": {},
   "outputs": [],
   "source": []
  }
 ],
 "metadata": {
  "kernelspec": {
   "display_name": "Scala 2.13",
   "language": "scala",
   "name": "scala213"
  },
  "language_info": {
   "codemirror_mode": "text/x-scala",
   "file_extension": ".sc",
   "mimetype": "text/x-scala",
   "name": "scala",
   "nbconvert_exporter": "script",
   "version": "2.13.3"
  }
 },
 "nbformat": 4,
 "nbformat_minor": 4
}
