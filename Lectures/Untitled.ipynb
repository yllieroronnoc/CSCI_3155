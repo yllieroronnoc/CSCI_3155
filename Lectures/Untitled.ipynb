{
 "cells": [
  {
   "cell_type": "markdown",
   "metadata": {},
   "source": [
    "# Lecture 19"
   ]
  },
  {
   "cell_type": "markdown",
   "metadata": {},
   "source": [
    "<pre>\n",
    "Continuation passing style\n",
    "Eval is kinda a recursive function\n",
    "problems with recursive functions\n",
    "\n",
    "ends up using a lot of memory\n",
    "\n",
    "how do we reduce memory used by recursive functions, \n",
    "    tail recursion\n",
    "    \n",
    "if not tail recursive, we can maybe make it tail recursive\n",
    "\n",
    "so continuation passing style to convert non tail rec functions into tail rec functions\n",
    "\n",
    "factorial is not tail recursive\n",
    "\n",
    "</pre>"
   ]
  },
  {
   "cell_type": "code",
   "execution_count": 2,
   "metadata": {},
   "outputs": [
    {
     "data": {
      "text/plain": [
       "defined \u001b[32mfunction\u001b[39m \u001b[36mfactorial\u001b[39m\n",
       "defined \u001b[32mfunction\u001b[39m \u001b[36mfactorial\u001b[39m"
      ]
     },
     "execution_count": 2,
     "metadata": {},
     "output_type": "execute_result"
    }
   ],
   "source": [
    "def factorial(n: Int): Int = {\n",
    "    if( n<=0 ){\n",
    "        1\n",
    "    } else {\n",
    "        n * factorial(n - 1)\n",
    "    }\n",
    "}\n",
    "\n",
    "//add an accumulator\n",
    "def factorial(n: Int, acc: Int = 1): Int = {\n",
    "    if( n <= 0 ){\n",
    "        acc\n",
    "    } else {\n",
    "        factorial(n - 1, n * acc)\n",
    "    }\n",
    "}\n",
    "\n",
    "def fibonacci(n: Int): Int = {\n",
    "    if( n < 2 ){\n",
    "        1\n",
    "    } else {\n",
    "        fibonacci(n-1) + fibonacci(n-2)\n",
    "    }\n",
    "}"
   ]
  },
  {
   "cell_type": "markdown",
   "metadata": {},
   "source": [
    "<pre>\n",
    "fibonacci(n)\n",
    "  n  n-1  n-2  ...\n",
    "\n",
    "ac1 = 0\n",
    "ac2 = 1\n",
    "\n",
    "while( n >= 0 ){\n",
    "    k = ac2\n",
    "    ac2 = ac1 + ac2\n",
    "    ac1 = k\n",
    "}\n",
    "\n",
    "return ac2\n",
    "\n",
    "\n",
    "\n",
    "</pre>"
   ]
  },
  {
   "cell_type": "markdown",
   "metadata": {},
   "source": [
    "hard to manually convert functions to tail recursive\n",
    "\n",
    "what is a continuation?\n",
    "\n",
    "when you run a commputation, things happen in a sequential order\n",
    "evaluate e1, e2 , e3\n",
    "\n",
    "\n",
    "you take a new argument which is another function\n",
    "the function through what the caller specifies what they want done with the result of the call rather than return the result and make the caller operate on it\n",
    "\n",
    "\n"
   ]
  }
 ],
 "metadata": {
  "kernelspec": {
   "display_name": "Scala 2.12",
   "language": "scala",
   "name": "scala212"
  },
  "language_info": {
   "codemirror_mode": "text/x-scala",
   "file_extension": ".sc",
   "mimetype": "text/x-scala",
   "name": "scala",
   "nbconvert_exporter": "script",
   "version": "2.12.12"
  }
 },
 "nbformat": 4,
 "nbformat_minor": 4
}
