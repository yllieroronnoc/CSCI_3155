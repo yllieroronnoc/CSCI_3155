{
 "cells": [
  {
   "cell_type": "code",
   "execution_count": 0,
   "metadata": {},
   "outputs": [
    {
     "name": "stderr",
     "output_type": "stream",
     "text": [
      "cmd0.sc:8: not found: value factorial\n",
      "        factorial(n-1, k1)\n",
      "        ^cmd0.sc:8: missing argument list for method k1\n",
      "Unapplied methods are only converted to functions when a function type is expected.\n",
      "You can make this conversion explicit by writing `k1 _` or `k1(_)` instead of `k1`.\n",
      "        factorial(n-1, k1)\n",
      "                       ^Compilation Failed"
     ]
    },
    {
     "ename": "",
     "evalue": "",
     "output_type": "error",
     "traceback": [
      "Compilation Failed"
     ]
    }
   ],
   "source": [
    "def factorial_k(n: Int, k: Int => Int): Int = {\n",
    "    if (n <= 0 ){\n",
    "        1\n",
    "    } else {\n",
    "        def k1(v1: Int) = {\n",
    "            k(n * v1)\n",
    "        }\n",
    "        factorial(n-1, k1)\n",
    "    }\n",
    "}"
   ]
  },
  {
   "cell_type": "code",
   "execution_count": null,
   "metadata": {},
   "outputs": [],
   "source": []
  }
 ],
 "metadata": {
  "kernelspec": {
   "display_name": "Scala 2.12",
   "language": "scala",
   "name": "scala212"
  },
  "language_info": {
   "codemirror_mode": "text/x-scala",
   "file_extension": ".sc",
   "mimetype": "text/x-scala",
   "name": "scala",
   "nbconvert_exporter": "script",
   "version": "2.12.12"
  }
 },
 "nbformat": 4,
 "nbformat_minor": 4
}
