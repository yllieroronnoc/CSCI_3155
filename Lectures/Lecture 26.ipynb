{
 "cells": [
  {
   "cell_type": "markdown",
   "metadata": {},
   "source": [
    "<pre>\n",
    "oop in scala\n",
    "last class covered classes\n",
    "    classes are essentially types\n",
    "    objects are values of the types\n",
    "    briefly covered composition\n",
    "        linked list composed of link list node class\n",
    "    inheritance is to be continued\n",
    "        where one class can extended functionality of another class\n",
    "            a \"base class\" -> b extends a \"derived class\" -> c extends b\n",
    "            \n",
    "what is the need for inheritance?\n",
    "\n",
    "for instance\n",
    "we had shape -> rectangle -> square\n",
    "\n",
    "shape ----- > render\n",
    "\n",
    "render expects a shape, \n",
    "\n",
    "liskov's substitution principle\n",
    "(lsp)\n",
    "simple in theory, always okay to substitue an object of derived class whenever an object of parent class is expected\n",
    "\n",
    "\n",
    "class a {\n",
    "    int n;\n",
    "    def foo(n:int):unit = {...}\n",
    "}\n",
    "\n",
    "class b extends a {\n",
    "   override def foo(n:int):unit = {...}\n",
    "   def extendblah = {....}\n",
    "}\n",
    "\n",
    "we write a function\n",
    "\n",
    "def bar(o: a ){\n",
    "    o.foo(20)\n",
    "}\n",
    "\n",
    "clearly it is okay to pass a to bar, is it okay to create an object of type b and pass it to bar?\n",
    "yes, its okay because b is derived from a and therefore has all properties that a has\n",
    "\n",
    "\n",
    "now if we do \n",
    "def bar(o: b) ----> bar(new a())     we cant do this due to properties in a being missing in a due to a being super class\n",
    "</pre>"
   ]
  },
  {
   "cell_type": "code",
   "execution_count": 5,
   "metadata": {},
   "outputs": [
    {
     "data": {
      "text/plain": [
       "defined \u001b[32mclass\u001b[39m \u001b[36mA\u001b[39m"
      ]
     },
     "execution_count": 5,
     "metadata": {},
     "output_type": "execute_result"
    }
   ],
   "source": [
    "class A(val n: Int) {\n",
    "    def foo(x:Int):Unit = {\n",
    "        println(s\"hey i am in a's foo with x = $x\")\n",
    "    }\n",
    "}"
   ]
  },
  {
   "cell_type": "code",
   "execution_count": 8,
   "metadata": {},
   "outputs": [
    {
     "data": {
      "text/plain": [
       "defined \u001b[32mclass\u001b[39m \u001b[36mB\u001b[39m"
      ]
     },
     "execution_count": 8,
     "metadata": {},
     "output_type": "execute_result"
    }
   ],
   "source": [
    "class B(val m: Int) extends A(m) {\n",
    "    override def foo(x:Int):Unit = {\n",
    "        println(s\"hey i am in b's foo with x = $x with m=$m\")\n",
    "    }\n",
    "    def extrastuff = {\n",
    "        println(s\"b's extra\")\n",
    "    }\n",
    "}"
   ]
  },
  {
   "cell_type": "code",
   "execution_count": 12,
   "metadata": {},
   "outputs": [
    {
     "data": {
      "text/plain": [
       "\u001b[36ma\u001b[39m: \u001b[32mA\u001b[39m = ammonite.$sess.cmd4$Helper$A@6f8e5d2b"
      ]
     },
     "execution_count": 12,
     "metadata": {},
     "output_type": "execute_result"
    }
   ],
   "source": [
    "val a:A = new A(10)"
   ]
  },
  {
   "cell_type": "code",
   "execution_count": 13,
   "metadata": {},
   "outputs": [
    {
     "data": {
      "text/plain": [
       "\u001b[36ma\u001b[39m: \u001b[32mA\u001b[39m = ammonite.$sess.cmd7$Helper$B@2a31a06b"
      ]
     },
     "execution_count": 13,
     "metadata": {},
     "output_type": "execute_result"
    }
   ],
   "source": [
    "val a: A = new B(20) //this is an upcast, and upcast is always safe\n"
   ]
  },
  {
   "cell_type": "code",
   "execution_count": 10,
   "metadata": {},
   "outputs": [],
   "source": [
    "//works because too much information is okay\n"
   ]
  },
  {
   "cell_type": "code",
   "execution_count": 10,
   "metadata": {},
   "outputs": [
    {
     "name": "stderr",
     "output_type": "stream",
     "text": [
      "cmd10.sc:1: value extrastuff is not a member of ammonite.$sess.cmd9.wrapper.cmd4.A\n",
      "val res10 = a.extrastuff\n",
      "              ^Compilation Failed"
     ]
    },
    {
     "ename": "",
     "evalue": "",
     "output_type": "error",
     "traceback": [
      "Compilation Failed"
     ]
    }
   ],
   "source": [
    "a.extrastuff\n",
    "//doesnt work cause of less information is not okay iguess"
   ]
  },
  {
   "cell_type": "markdown",
   "metadata": {},
   "source": [
    "<pre>\n",
    "class a{\n",
    "    n\n",
    "    foo\n",
    "}\n",
    "class b {\n",
    "    n\n",
    "    foo\n",
    "    extrastuff\n",
    "}\n",
    "\n",
    "\n",
    "</pre>"
   ]
  },
  {
   "cell_type": "code",
   "execution_count": 10,
   "metadata": {},
   "outputs": [
    {
     "name": "stderr",
     "output_type": "stream",
     "text": [
      "cmd10.sc:1: type mismatch;\n",
      " found   : cmd10.this.cmd4.A\n",
      " required: cmd10.this.cmd7.B\n",
      "val b1: B = new A(20) //this is a downcast, it is not always okay\n",
      "            ^Compilation Failed"
     ]
    },
    {
     "ename": "",
     "evalue": "",
     "output_type": "error",
     "traceback": [
      "Compilation Failed"
     ]
    }
   ],
   "source": [
    "val b1: B = new A(20) //this is a downcast, it is not always okay"
   ]
  },
  {
   "cell_type": "code",
   "execution_count": 14,
   "metadata": {},
   "outputs": [
    {
     "data": {
      "text/plain": [
       "\u001b[36mb2\u001b[39m: \u001b[32mB\u001b[39m = ammonite.$sess.cmd7$Helper$B@2a31a06b"
      ]
     },
     "execution_count": 14,
     "metadata": {},
     "output_type": "execute_result"
    }
   ],
   "source": [
    "val b2:B = a.asInstanceOf[B] //this works, it works because magic.... "
   ]
  },
  {
   "cell_type": "code",
   "execution_count": 16,
   "metadata": {},
   "outputs": [
    {
     "data": {
      "text/plain": [
       "defined \u001b[32mclass\u001b[39m \u001b[36mC\u001b[39m"
      ]
     },
     "execution_count": 16,
     "metadata": {},
     "output_type": "execute_result"
    }
   ],
   "source": [
    "class C(val o: Int) extends A(o) {\n",
    "    override def foo(x:Int):Unit = {\n",
    "        println(s\"hey i am in c's foo with x = $x with o=$o\")\n",
    "    }\n",
    "    def extraextrastuff = {\n",
    "        println(s\"c's extra extra\")\n",
    "    }\n",
    "}"
   ]
  },
  {
   "cell_type": "code",
   "execution_count": 17,
   "metadata": {},
   "outputs": [
    {
     "data": {
      "text/plain": [
       "\u001b[36mc2\u001b[39m: \u001b[32mC\u001b[39m = ammonite.$sess.cmd15$Helper$C@2f5a98f"
      ]
     },
     "execution_count": 17,
     "metadata": {},
     "output_type": "execute_result"
    }
   ],
   "source": [
    "val c2 = new C(20)"
   ]
  },
  {
   "cell_type": "code",
   "execution_count": 18,
   "metadata": {},
   "outputs": [
    {
     "ename": "",
     "evalue": "",
     "output_type": "error",
     "traceback": [
      "\u001b[31mjava.lang.ClassCastException: ammonite.$sess.cmd15$Helper$C cannot be cast to ammonite.$sess.cmd7$Helper$B\u001b[39m\n  ammonite.$sess.cmd17$Helper.<init>(\u001b[32mcmd17.sc\u001b[39m:\u001b[32m1\u001b[39m)\n  ammonite.$sess.cmd17$.<init>(\u001b[32mcmd17.sc\u001b[39m:\u001b[32m7\u001b[39m)\n  ammonite.$sess.cmd17$.<clinit>(\u001b[32mcmd17.sc\u001b[39m:\u001b[32m-1\u001b[39m)"
     ]
    }
   ],
   "source": [
    "c2.asInstanceOf[B]"
   ]
  },
  {
   "cell_type": "code",
   "execution_count": 18,
   "metadata": {},
   "outputs": [],
   "source": [
    "//b and c have no relationship so we cannot type cast the object\n",
    "//this is a runtime error"
   ]
  },
  {
   "cell_type": "code",
   "execution_count": null,
   "metadata": {},
   "outputs": [],
   "source": []
  }
 ],
 "metadata": {
  "kernelspec": {
   "display_name": "Scala 2.12",
   "language": "scala",
   "name": "scala212"
  },
  "language_info": {
   "codemirror_mode": "text/x-scala",
   "file_extension": ".sc",
   "mimetype": "text/x-scala",
   "name": "scala",
   "nbconvert_exporter": "script",
   "version": "2.12.12"
  }
 },
 "nbformat": 4,
 "nbformat_minor": 4
}
