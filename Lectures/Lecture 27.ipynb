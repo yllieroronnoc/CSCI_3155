{
 "cells": [
  {
   "cell_type": "code",
   "execution_count": 1,
   "metadata": {},
   "outputs": [
    {
     "data": {
      "text/plain": [
       "defined \u001b[32mclass\u001b[39m \u001b[36mAnimal\u001b[39m\n",
       "defined \u001b[32mclass\u001b[39m \u001b[36mFrog\u001b[39m\n",
       "defined \u001b[32mclass\u001b[39m \u001b[36mBird\u001b[39m"
      ]
     },
     "execution_count": 1,
     "metadata": {},
     "output_type": "execute_result"
    }
   ],
   "source": [
    "//abstract classes and traits\n",
    "//animal is an abstract class\n",
    "abstract class Animal(val name: String, val nLegs: Int){\n",
    "    def printName: Unit = {\n",
    "        println(s\"Anmial: name is $name\")\n",
    "    }\n",
    "    //abstract method in class\n",
    "    //abstract means it is not in the definition yet\n",
    "    def says: Unit\n",
    "}\n",
    "\n",
    "//cannot create objects of abstract class\n",
    "//since this is a concrete class it cannot leave says unimplemented\n",
    "class Frog(override val name: String) extends Animal(name, 4) {\n",
    "    override def printName: Unit = {\n",
    "        println(s\"i am a frog!\")\n",
    "    }\n",
    "    //can implement abstract method for the first time\n",
    "    def says: Unit = {\n",
    "        println(\"Ribbit! Ribbit!\")\n",
    "    }\n",
    "}\n",
    "\n",
    "//cant inherit multiple classes in scala and java\n",
    "//because of the diamond problem\n",
    "\n",
    "class Bird(override val name:String) extends Animal(name,2){\n",
    "    override def printName: Unit = {\n",
    "        println(s\"I am a bird!\")\n",
    "    }\n",
    "    def says: Unit = {\n",
    "        println(\"tweet\")\n",
    "    }\n",
    "}\n",
    "\n",
    "\n"
   ]
  },
  {
   "cell_type": "code",
   "execution_count": 1,
   "metadata": {},
   "outputs": [
    {
     "name": "stderr",
     "output_type": "stream",
     "text": [
      "cmd1.sc:7: class philos needs to be a trait to be mixed in\n",
      "class kermit extends Frog(\"Kermit\") with philos{\n",
      "                                         ^Compilation Failed"
     ]
    },
    {
     "ename": "",
     "evalue": "",
     "output_type": "error",
     "traceback": [
      "Compilation Failed"
     ]
    }
   ],
   "source": [
    "abstract class philos{\n",
    "    def philoso: Unit = {\n",
    "        println(\"blah\")\n",
    "    }\n",
    "}\n",
    "\n",
    "class kermit extends Frog(\"Kermit\") with philos{\n",
    "    \n",
    "}\n",
    "//philos cant be a class needs to be a trait, cannot do multiple inheritance, two classes can define the same name but cannot inherit two class\n",
    "//classes\n",
    "//to get around this use traits"
   ]
  },
  {
   "cell_type": "code",
   "execution_count": 3,
   "metadata": {},
   "outputs": [
    {
     "data": {
      "text/plain": [
       "defined \u001b[32mtrait\u001b[39m \u001b[36mphilisophical\u001b[39m\n",
       "defined \u001b[32mtrait\u001b[39m \u001b[36mbeingGreen\u001b[39m"
      ]
     },
     "execution_count": 3,
     "metadata": {},
     "output_type": "execute_result"
    }
   ],
   "source": [
    "//cannot inherit multiple classes but can mix up traits\n",
    "trait philisophical {\n",
    "    val name: String\n",
    "    def philosophize: Unit = {\n",
    "        println(\"yes i am\")\n",
    "    }\n",
    "}\n",
    "trait beingGreen {\n",
    "    val name: String\n",
    "    def beGreen: Unit = {\n",
    "        println(\"im green\")\n",
    "    }\n",
    "}\n",
    "//unlike abstract classes we can implement multiple traits\n",
    "//as many withs as we can \n"
   ]
  },
  {
   "cell_type": "code",
   "execution_count": 4,
   "metadata": {},
   "outputs": [
    {
     "data": {
      "text/plain": [
       "defined \u001b[32mclass\u001b[39m \u001b[36myoda\u001b[39m"
      ]
     },
     "execution_count": 4,
     "metadata": {},
     "output_type": "execute_result"
    }
   ],
   "source": [
    "//it doesnt extend anything, anyRef is a default class, when our class doesnt extend anything it actually extends anyref\n",
    "class yoda extends AnyRef with philisophical with beingGreen{\n",
    "    val name = \"Yoda\"\n",
    "    override def beGreen: Unit = {\n",
    "        println(\"easy being greaan, it aint\")\n",
    "    }\n",
    "}\n",
    "//yoda is not beingGreen, traits can be implemented in different objects and classes, traits can be given different definitions in different classes"
   ]
  },
  {
   "cell_type": "markdown",
   "metadata": {},
   "source": [
    "if the behavior is not reused make it a concrete class  \n",
    "if the behavior can be reused in unrelated classes make it a trait  \n",
    "if you want to ineherit it in java code, use an abstract class  \n"
   ]
  },
  {
   "cell_type": "code",
   "execution_count": 11,
   "metadata": {},
   "outputs": [
    {
     "data": {
      "text/plain": [
       "defined \u001b[32mtrait\u001b[39m \u001b[36mIntList\u001b[39m\n",
       "defined \u001b[32mclass\u001b[39m \u001b[36mCons\u001b[39m\n",
       "defined \u001b[32mclass\u001b[39m \u001b[36mblank\u001b[39m"
      ]
     },
     "execution_count": 11,
     "metadata": {},
     "output_type": "execute_result"
    }
   ],
   "source": [
    "//can we make new traits by  extending traits?\n",
    "sealed trait IntList\n",
    "class Cons(x:Int, sx: IntList) extends IntList\n",
    "class blank extends IntList\n",
    "//sealed trait means all the cases are in the same source file\n",
    "//defining the type whos constructors are in the same source file\n",
    "// the constructors are defined by a case class\n",
    "//difference between class and case class, "
   ]
  },
  {
   "cell_type": "code",
   "execution_count": 12,
   "metadata": {},
   "outputs": [
    {
     "data": {
      "text/plain": [
       "\u001b[36mv1\u001b[39m: \u001b[32mIntList\u001b[39m = ammonite.$sess.cmd10$Helper$Cons@637713f\n",
       "\u001b[36mv2\u001b[39m: \u001b[32mIntList\u001b[39m = ammonite.$sess.cmd10$Helper$Cons@7751463a\n",
       "\u001b[36mres11_2\u001b[39m: \u001b[32mBoolean\u001b[39m = false"
      ]
     },
     "execution_count": 12,
     "metadata": {},
     "output_type": "execute_result"
    }
   ],
   "source": [
    "val v1: IntList = new Cons(1, new blank)\n",
    "val v2: IntList = new Cons(1, new blank) //if we remove the case infront of classes see below\n",
    "v1 == v2 //doesnt look for structural equality but referential equality, unless they are pointing to the same object this is not true\n",
    "//writing them as case classes will let us get rid of new and define equality as structural equality \n"
   ]
  },
  {
   "cell_type": "code",
   "execution_count": 12,
   "metadata": {},
   "outputs": [
    {
     "name": "stderr",
     "output_type": "stream",
     "text": [
      "cmd12.sc:1: not found: value Cons\n",
      "val v3: IntList = Cons(1, Nil())\n",
      "                  ^cmd12.sc:1: not enough arguments for method apply: (n: Int)Nothing in trait LinearSeqOptimized.\n",
      "Unspecified value parameter n.\n",
      "val v3: IntList = Cons(1, Nil())\n",
      "                             ^cmd12.sc:2: not found: value Cons\n",
      "val v4: IntList = Cons(1, Nil())\n",
      "                  ^cmd12.sc:2: not enough arguments for method apply: (n: Int)Nothing in trait LinearSeqOptimized.\n",
      "Unspecified value parameter n.\n",
      "val v4: IntList = Cons(1, Nil())\n",
      "                             ^Compilation Failed"
     ]
    },
    {
     "ename": "",
     "evalue": "",
     "output_type": "error",
     "traceback": [
      "Compilation Failed"
     ]
    }
   ],
   "source": [
    "val v3: IntList = Cons(1, Nil())\n",
    "val v4: IntList = Cons(1, Nil())"
   ]
  },
  {
   "cell_type": "code",
   "execution_count": 17,
   "metadata": {},
   "outputs": [
    {
     "data": {
      "text/plain": [
       "defined \u001b[32mfunction\u001b[39m \u001b[36mapplyFun\u001b[39m\n",
       "defined \u001b[32mtrait\u001b[39m \u001b[36mOrdering\u001b[39m"
      ]
     },
     "execution_count": 17,
     "metadata": {},
     "output_type": "execute_result"
    }
   ],
   "source": [
    "//generics \n",
    "//idicates paramteric polymorphizim in scala\n",
    "//function that can be performed on multiple types\n",
    "\n",
    "//example\n",
    "def applyFun[T](f: T=>T, x:T) = { f(x) }\n",
    "//generic function, can be applied to traits \n",
    "\n",
    "trait Ordering[T] {\n",
    "    def compare(t:T): Int //if its zero, both objects are equal\n",
    "    \n",
    "    def< (t: T): Boolean = this.compare(t)<0 \n",
    "    def> (t: T): Boolean = this.compare(t)>0 \n",
    "    def<= (t: T): Boolean = this.compare(t)<=0 \n",
    "    def>= (t: T): Boolean = this.compare(t)>=0 \n",
    "    \n",
    "}"
   ]
  },
  {
   "cell_type": "code",
   "execution_count": 18,
   "metadata": {},
   "outputs": [
    {
     "data": {
      "text/plain": [
       "defined \u001b[32mclass\u001b[39m \u001b[36mBoxedInt\u001b[39m\n",
       "\u001b[36mv1\u001b[39m: \u001b[32mBoxedInt\u001b[39m = ammonite.$sess.cmd17$Helper$BoxedInt@83fa560\n",
       "\u001b[36mv2\u001b[39m: \u001b[32mBoxedInt\u001b[39m = ammonite.$sess.cmd17$Helper$BoxedInt@43ec3b37\n",
       "\u001b[36mres17_3\u001b[39m: \u001b[32mBoolean\u001b[39m = true"
      ]
     },
     "execution_count": 18,
     "metadata": {},
     "output_type": "execute_result"
    }
   ],
   "source": [
    "class BoxedInt(val n: Int) extends AnyRef with Ordering[BoxedInt] {\n",
    "    def toInt: Int = n\n",
    "    def compare(t:BoxedInt):Int = {\n",
    "        n - t.toInt\n",
    "    }\n",
    "}\n",
    "val v1 = new BoxedInt(3)\n",
    "val v2 = new BoxedInt(4)\n",
    "v1 <= v2"
   ]
  },
  {
   "cell_type": "code",
   "execution_count": 27,
   "metadata": {},
   "outputs": [
    {
     "name": "stdout",
     "output_type": "stream",
     "text": [
      "yoda int is 42\n"
     ]
    },
    {
     "data": {
      "text/plain": [
       "defined \u001b[32mfunction\u001b[39m \u001b[36mcallFoo\u001b[39m\n",
       "defined \u001b[32mclass\u001b[39m \u001b[36mmyyoda\u001b[39m"
      ]
     },
     "execution_count": 27,
     "metadata": {},
     "output_type": "execute_result"
    }
   ],
   "source": [
    "//type constraints\n",
    "\n",
    "//we are now restricting, call foo will work on all arguments that have the has foo trait\n",
    "def callFoo[T <: HasFoo](arg: T): Unit = {\n",
    "    arg.foo(42)\n",
    "}\n",
    "//doesnt work on its own because call foo never defines type T\n",
    "//write a class that implements foo, and write foo method\n",
    "\n",
    "class myyoda extends AnyRef with HasFoo {\n",
    "    def foo(n : Int) : Unit = {\n",
    "        println(s\"yoda int is $n\")\n",
    "    }\n",
    "}\n",
    "//now we can call foo with yoda as a type parameter\n",
    "callFoo[myyoda](new myyoda)"
   ]
  },
  {
   "cell_type": "code",
   "execution_count": 23,
   "metadata": {},
   "outputs": [
    {
     "data": {
      "text/plain": [
       "defined \u001b[32mtrait\u001b[39m \u001b[36mHasFoo\u001b[39m"
      ]
     },
     "execution_count": 23,
     "metadata": {},
     "output_type": "execute_result"
    }
   ],
   "source": [
    "//how can we make a method such that it can work on any object that implements the foo method\n",
    "//define a trait has foo\n",
    "\n",
    "trait HasFoo{\n",
    "    def foo(n:Int) : Unit\n",
    "}"
   ]
  },
  {
   "cell_type": "code",
   "execution_count": 30,
   "metadata": {},
   "outputs": [
    {
     "data": {
      "text/plain": [
       "defined \u001b[32mtrait\u001b[39m \u001b[36mMyList\u001b[39m\n",
       "defined \u001b[32mclass\u001b[39m \u001b[36mMyCons\u001b[39m\n",
       "defined \u001b[32mobject\u001b[39m \u001b[36mMyNil\u001b[39m"
      ]
     },
     "execution_count": 30,
     "metadata": {},
     "output_type": "execute_result"
    }
   ],
   "source": [
    "sealed trait MyList[T]\n",
    "case class MyCons[T](x: T, xs: MyList[T]) extends MyList[T]\n",
    "case object MyNil extends MyList[Nothing]"
   ]
  },
  {
   "cell_type": "code",
   "execution_count": 31,
   "metadata": {},
   "outputs": [
    {
     "data": {
      "text/plain": [
       "defined \u001b[32mclass\u001b[39m \u001b[36mStack\u001b[39m"
      ]
     },
     "execution_count": 31,
     "metadata": {},
     "output_type": "execute_result"
    }
   ],
   "source": [
    "class Stack[T](val ls:MyList[T]){\n",
    "    def push(n: T){\n",
    "        MyCons(n,ls)\n",
    "    }\n",
    "    def pop():T = {\n",
    "        ls match {\n",
    "            case MyCons(x,_) => x\n",
    "        }\n",
    "    }\n",
    "}"
   ]
  },
  {
   "cell_type": "code",
   "execution_count": 31,
   "metadata": {},
   "outputs": [
    {
     "name": "stderr",
     "output_type": "stream",
     "text": [
      "cmd31.sc:6: type mismatch;\n",
      " found   : x.type (with underlying type List[T])\n",
      " required: T\n",
      "            case y::ys => if (y > x) {ls.head} else {firstelementgreaterthan(ls.tail)}\n",
      "                                  ^Compilation Failed"
     ]
    },
    {
     "ename": "",
     "evalue": "",
     "output_type": "error",
     "traceback": [
      "Compilation Failed"
     ]
    }
   ],
   "source": [
    "class SortedList[T <: Ordering[T]](val ls: List[T]){\n",
    "    \n",
    "    def firstelementgreaterthan(x: List[T]): T = { \n",
    "        ls match {\n",
    "            //used greater than to check type T but there is not greater than for T so include ordered[T]\n",
    "            case y::ys => if (y > x) {ls.head} else {firstelementgreaterthan(ls.tail)}\n",
    "            case _ => throw new IllegalArgumentException() \n",
    "        }\n",
    "    } \n",
    "}"
   ]
  },
  {
   "cell_type": "code",
   "execution_count": 32,
   "metadata": {},
   "outputs": [
    {
     "name": "stdout",
     "output_type": "stream",
     "text": [
      "xkcd\n"
     ]
    },
    {
     "data": {
      "text/plain": [
       "defined \u001b[32mclass\u001b[39m \u001b[36mAlpha\u001b[39m\n",
       "defined \u001b[32mclass\u001b[39m \u001b[36mBravo\u001b[39m\n",
       "defined \u001b[32mfunction\u001b[39m \u001b[36mfoobalizer\u001b[39m"
      ]
     },
     "execution_count": 32,
     "metadata": {},
     "output_type": "execute_result"
    }
   ],
   "source": [
    "class Alpha { def foo = { println(\"wat?\") } } \n",
    "class Bravo extends Alpha { override def foo = { println(\"xkcd\") } }\n",
    "\n",
    "def foobalizer(a:Alpha) = { a.foo }\n",
    "\n",
    "foobalizer(new Bravo)"
   ]
  },
  {
   "cell_type": "code",
   "execution_count": null,
   "metadata": {},
   "outputs": [],
   "source": []
  }
 ],
 "metadata": {
  "kernelspec": {
   "display_name": "Scala 2.12",
   "language": "scala",
   "name": "scala212"
  },
  "language_info": {
   "codemirror_mode": "text/x-scala",
   "file_extension": ".sc",
   "mimetype": "text/x-scala",
   "name": "scala",
   "nbconvert_exporter": "script",
   "version": "2.12.12"
  }
 },
 "nbformat": 4,
 "nbformat_minor": 4
}
