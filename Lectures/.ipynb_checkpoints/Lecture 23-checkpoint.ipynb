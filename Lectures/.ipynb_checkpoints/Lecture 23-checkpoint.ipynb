{
 "cells": [
  {
   "cell_type": "code",
   "execution_count": 2,
   "metadata": {},
   "outputs": [
    {
     "name": "stdout",
     "output_type": "stream",
     "text": [
      "called: func(2.4,1.2)\n",
      "called: func(1.5,-0.05993999644407877)\n",
      "called: func(3.0,2.5)\n",
      "called: func(-1.2,1.7250379807705825)\n"
     ]
    },
    {
     "data": {
      "text/plain": [
       "defined \u001b[32mfunction\u001b[39m \u001b[36mfunc\u001b[39m\n",
       "\u001b[36mz\u001b[39m: \u001b[32mDouble\u001b[39m = \u001b[32m-3.1124804219960183\u001b[39m"
      ]
     },
     "execution_count": 2,
     "metadata": {},
     "output_type": "execute_result"
    }
   ],
   "source": [
    "def func(x: Double, y:Double): Double = {\n",
    "    println(s\"called: func($x,$y)\")\n",
    "    if(x>=0){\n",
    "        x*x - 2.5 * x + 4.3 * math.sin(x*3.1415/180.0)\n",
    "        \n",
    "    }else{\n",
    "        y\n",
    "    }\n",
    "}\n",
    "\n",
    "val z = func(1.5, func(2.4,1.2)) - func(-1.2,func(3.0,2.5))\n"
   ]
  },
  {
   "cell_type": "markdown",
   "metadata": {},
   "source": [
    "//for calls, first call is 2.4,1.2 dont need the value of y\n",
    "when we run programs we often compute more than we need\n"
   ]
  },
  {
   "cell_type": "code",
   "execution_count": 9,
   "metadata": {},
   "outputs": [
    {
     "data": {
      "text/plain": [
       "defined \u001b[32mfunction\u001b[39m \u001b[36mmultiplytwice\u001b[39m"
      ]
     },
     "execution_count": 9,
     "metadata": {},
     "output_type": "execute_result"
    }
   ],
   "source": [
    "// call by value --> strict\n",
    "def multiplytwice(x: Int): Int = {\n",
    "    println(\"multiply twice: $x\")\n",
    "    x * x\n",
    "}"
   ]
  },
  {
   "cell_type": "code",
   "execution_count": 4,
   "metadata": {},
   "outputs": [
    {
     "data": {
      "text/plain": [
       "\u001b[36mres3\u001b[39m: \u001b[32mInt\u001b[39m = \u001b[32m25\u001b[39m"
      ]
     },
     "execution_count": 4,
     "metadata": {},
     "output_type": "execute_result"
    }
   ],
   "source": [
    "multiplytwice(5) //call by value, "
   ]
  },
  {
   "cell_type": "code",
   "execution_count": 17,
   "metadata": {},
   "outputs": [
    {
     "data": {
      "text/plain": [
       "defined \u001b[32mfunction\u001b[39m \u001b[36mfactorial\u001b[39m"
      ]
     },
     "execution_count": 17,
     "metadata": {},
     "output_type": "execute_result"
    }
   ],
   "source": [
    "def factorial(x: Int): Int = {\n",
    "    println(s\"factorial: $x\")\n",
    "    (1 to x).product\n",
    "}"
   ]
  },
  {
   "cell_type": "code",
   "execution_count": 6,
   "metadata": {},
   "outputs": [
    {
     "data": {
      "text/plain": [
       "\u001b[36mres5\u001b[39m: \u001b[32mInt\u001b[39m = \u001b[32m3628800\u001b[39m"
      ]
     },
     "execution_count": 6,
     "metadata": {},
     "output_type": "execute_result"
    }
   ],
   "source": [
    "factorial(10)"
   ]
  },
  {
   "cell_type": "code",
   "execution_count": 10,
   "metadata": {},
   "outputs": [
    {
     "name": "stdout",
     "output_type": "stream",
     "text": [
      "factorial: $x\n",
      "multiply twice: $x\n"
     ]
    },
    {
     "data": {
      "text/plain": [
       "\u001b[36mres9\u001b[39m: \u001b[32mInt\u001b[39m = \u001b[32m14400\u001b[39m"
      ]
     },
     "execution_count": 10,
     "metadata": {},
     "output_type": "execute_result"
    }
   ],
   "source": [
    "multiplytwice(factorial(5))"
   ]
  },
  {
   "cell_type": "code",
   "execution_count": 22,
   "metadata": {},
   "outputs": [
    {
     "data": {
      "text/plain": [
       "defined \u001b[32mfunction\u001b[39m \u001b[36mmultiplytwiceneed\u001b[39m"
      ]
     },
     "execution_count": 22,
     "metadata": {},
     "output_type": "execute_result"
    }
   ],
   "source": [
    "//call by need\n",
    "//the syntax is slightly different, need to tell scala that the inpput is a call by need value\n",
    "def multiplytwiceneed(x: => Int): Int = {\n",
    "    val x0 = x\n",
    "    println(s\"multiply twice: $x\")\n",
    "    x0 * x0\n",
    "}\n",
    "//arrow specifies that x is a call by need argument "
   ]
  },
  {
   "cell_type": "code",
   "execution_count": 23,
   "metadata": {},
   "outputs": [
    {
     "name": "stdout",
     "output_type": "stream",
     "text": [
      "factorial: 5\n",
      "factorial: 5\n",
      "multiply twice: 120\n"
     ]
    },
    {
     "data": {
      "text/plain": [
       "\u001b[36mres22\u001b[39m: \u001b[32mInt\u001b[39m = \u001b[32m14400\u001b[39m"
      ]
     },
     "execution_count": 23,
     "metadata": {},
     "output_type": "execute_result"
    }
   ],
   "source": [
    "multiplytwiceneed(factorial(5))"
   ]
  },
  {
   "cell_type": "code",
   "execution_count": 23,
   "metadata": {},
   "outputs": [
    {
     "name": "stderr",
     "output_type": "stream",
     "text": [
      "cmd23.sc:7: not found: value y\n",
      "        y\n",
      "        ^Compilation Failed"
     ]
    },
    {
     "ename": "",
     "evalue": "",
     "output_type": "error",
     "traceback": [
      "Compilation Failed"
     ]
    }
   ],
   "source": [
    "//allows us to do lazy computation, everytime we want to call substitute with factorial 5 then call factorial 5\n",
    "\n",
    "\n",
    "def funcneed(x0: => Double, y0 : => Double): Double = {\n",
    "    val x = x0\n",
    "    println(s\"called: func($x,...)\")\n",
    "    if(x>=0){\n",
    "        x*x - 2.5 * x + 4.3 * math.sin(x*3.1415/180.0)\n",
    "    }else{\n",
    "        y0\n",
    "    }\n",
    "}\n",
    "\n",
    "val z = funcneed(1.5, funcneed(2.4,1.2)) - funcneed(-1.2,funcneed(3.0,2.5))\n",
    "\n"
   ]
  }
 ],
 "metadata": {
  "kernelspec": {
   "display_name": "Scala 2.12",
   "language": "scala",
   "name": "scala212"
  },
  "language_info": {
   "codemirror_mode": "text/x-scala",
   "file_extension": ".sc",
   "mimetype": "text/x-scala",
   "name": "scala",
   "nbconvert_exporter": "script",
   "version": "2.12.12"
  }
 },
 "nbformat": 4,
 "nbformat_minor": 4
}
