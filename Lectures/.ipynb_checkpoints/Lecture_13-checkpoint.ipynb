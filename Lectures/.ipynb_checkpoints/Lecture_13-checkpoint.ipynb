{
 "cells": [
  {
   "cell_type": "markdown",
   "metadata": {},
   "source": [
    "# Lecture 13\n",
    "## letuce with function calls\n",
    "<pre>\n",
    "already has arithmetic, boolean, and let bindings\n",
    "\n",
    "</pre>"
   ]
  },
  {
   "cell_type": "markdown",
   "metadata": {},
   "source": [
    "<pre>\n",
    "why are function calls used\n",
    "-modularize to reuse functionality\n",
    "\n",
    "Procedure + Routine: side effects, logging data -> logfile\n",
    "\n",
    "Functions:\n",
    "all functions in lettuce are built from anonymous functions\n",
    "all functions in lettuce have a single argument\n",
    "\n",
    "writing function calls\n",
    "function(x){\n",
    " expr\n",
    "}\n",
    "x is identifier\n",
    "\n",
    "pure anonymous function in lettuce\n",
    "\n",
    "function(x){ x + 10 }\n",
    "\n",
    "(function(x){x + 10})(15)\n",
    "----------------------\n",
    "        foo\n",
    "        \n",
    "use let bindings\n",
    "\n",
    "let foo = function(x){x + 10}\n",
    "    in\n",
    "        foo(15)\n",
    "        \n",
    "return 25\n",
    "\n",
    "={ val foo = (x:Int) => {x+10}\n",
    "    foo(15) \n",
    "    }\n",
    "    \n",
    "same code in scala but in lettuce\n",
    "\n",
    "\n",
    "let x = 10 in \n",
    "    let bar = function(x){ \n",
    "        x +15\n",
    "        }\n",
    "    in \n",
    "        bar(x)\n",
    "        \n",
    "function(x is the formal parameter)\n",
    "\n",
    "x + 15 is refering to the function parameter\n",
    "when this happens this is called scope shadowing\n",
    "\n",
    "bar(10) = 25\n",
    "\n",
    "\n",
    "let y = 10 in\n",
    "    let foo = fun(x){\n",
    "        x + y\n",
    "        }\n",
    "    in\n",
    "        foo(15)\n",
    "        \n",
    "x refering to function parameter\n",
    "y refering to y = 10\n",
    "this is problematic for something like c\n",
    "\n",
    "{\n",
    "    val y = 10\n",
    "    val foo = (x: Int) => { x + y }\n",
    "    foo(15)\n",
    "}\n",
    "\n",
    "\n",
    "one last thing\n",
    "\n",
    "let y = 10 in\n",
    "    let foo = fun(x){\n",
    "        x + y\n",
    "        }\n",
    "    in \n",
    "        let y = 20 in\n",
    "        foo(10)\n",
    "        \n",
    "definined y = 10\n",
    "defined foo to be x + y\n",
    "then we bind y to twenty, new scope opens and y shadows previous y\n",
    "then call foo on 10\n",
    "\n",
    "should we get return of 20 or 30?\n",
    "in otherwords, how does foo resolve y value\n",
    "should resolve to y\n",
    "static scoping\n",
    "things are resolved at definition time\n",
    "at dynamic scoping\n",
    "things are resolved at function use time\n",
    "\n",
    "what do languages usually use\n",
    "static scoping \n",
    "reasons why most languages use static scoping \n",
    "\n",
    "exploring through example\n",
    "\n",
    "</pre>"
   ]
  },
  {
   "cell_type": "code",
   "execution_count": 1,
   "metadata": {},
   "outputs": [
    {
     "name": "stdout",
     "output_type": "stream",
     "text": [
      "25\n"
     ]
    },
    {
     "data": {
      "text/plain": [
       "\u001b[36my\u001b[39m: \u001b[32mInt\u001b[39m = \u001b[32m10\u001b[39m\n",
       "\u001b[36mfoo\u001b[39m: \u001b[32mInt\u001b[39m => \u001b[32mInt\u001b[39m = ammonite.$sess.cmd0$Helper$$Lambda$1955/406203747@5a468716"
      ]
     },
     "execution_count": 1,
     "metadata": {},
     "output_type": "execute_result"
    }
   ],
   "source": [
    "{\n",
    "    val y = 10\n",
    "    val foo = (x: Int) => { x + y }\n",
    "    {\n",
    "        val y = 20\n",
    "        println(foo(15))\n",
    "    }\n",
    "}"
   ]
  },
  {
   "cell_type": "markdown",
   "metadata": {},
   "source": [
    "<pre>\n",
    "first time intepreter encounters y, it wont change even if y is redefined\n",
    "when changing to var, it is still refering to old scope still static scoping\n",
    "</pre>"
   ]
  },
  {
   "cell_type": "code",
   "execution_count": 2,
   "metadata": {},
   "outputs": [
    {
     "name": "stdout",
     "output_type": "stream",
     "text": [
      "25\n"
     ]
    }
   ],
   "source": [
    "//another example\n",
    "{\n",
    "    val y = 10\n",
    "    val foo = (x: Int) => { x + y }\n",
    "    {\n",
    "        val y: Boolean = true\n",
    "        println(foo(15))\n",
    "    }\n",
    "}"
   ]
  },
  {
   "cell_type": "markdown",
   "metadata": {},
   "source": [
    "<pre>\n",
    "still works, static scoping still works refering to top y\n",
    "why do we need static scoping?\n",
    "    callbacks\n",
    "    basically function when called will create function and call api function with anon fun as argument\n",
    "</pre>"
   ]
  },
  {
   "cell_type": "code",
   "execution_count": 8,
   "metadata": {},
   "outputs": [
    {
     "data": {
      "text/plain": [
       "defined \u001b[32mfunction\u001b[39m \u001b[36mcallback\u001b[39m"
      ]
     },
     "execution_count": 8,
     "metadata": {},
     "output_type": "execute_result"
    }
   ],
   "source": [
    "//typical callback function\n",
    "def callback(data: Int): (Int => String) = {\n",
    "    def anon_fun(x: Int) = {\n",
    "        s\"Original data was: {$data}, now we get {$x}\"\n",
    "        \n",
    "    }\n",
    "    anon_fun //can call api function with anon_fun as the argument to \"register\" a callback\n",
    "}"
   ]
  },
  {
   "cell_type": "code",
   "execution_count": 9,
   "metadata": {},
   "outputs": [
    {
     "data": {
      "text/plain": [
       "\u001b[36mfoo10\u001b[39m: \u001b[32mInt\u001b[39m => \u001b[32mString\u001b[39m = ammonite.$sess.cmd7$Helper$$Lambda$2308/1696781540@1e037f8e"
      ]
     },
     "execution_count": 9,
     "metadata": {},
     "output_type": "execute_result"
    }
   ],
   "source": [
    "val foo10 = callback(10)"
   ]
  },
  {
   "cell_type": "code",
   "execution_count": 10,
   "metadata": {},
   "outputs": [
    {
     "data": {
      "text/plain": [
       "\u001b[36mfoo100\u001b[39m: \u001b[32mInt\u001b[39m => \u001b[32mString\u001b[39m = ammonite.$sess.cmd7$Helper$$Lambda$2308/1696781540@da308dc"
      ]
     },
     "execution_count": 10,
     "metadata": {},
     "output_type": "execute_result"
    }
   ],
   "source": [
    "val foo100 = callback(100)"
   ]
  },
  {
   "cell_type": "code",
   "execution_count": 11,
   "metadata": {},
   "outputs": [
    {
     "data": {
      "text/plain": [
       "\u001b[36mfoo1000\u001b[39m: \u001b[32mInt\u001b[39m => \u001b[32mString\u001b[39m = ammonite.$sess.cmd7$Helper$$Lambda$2308/1696781540@145ada6f"
      ]
     },
     "execution_count": 11,
     "metadata": {},
     "output_type": "execute_result"
    }
   ],
   "source": [
    "val foo1000 = callback(1000)"
   ]
  },
  {
   "cell_type": "code",
   "execution_count": 12,
   "metadata": {},
   "outputs": [
    {
     "data": {
      "text/plain": [
       "\u001b[36mres11\u001b[39m: \u001b[32mString\u001b[39m = \u001b[32m\"Original data was: {10}, now we get {-1}\"\u001b[39m"
      ]
     },
     "execution_count": 12,
     "metadata": {},
     "output_type": "execute_result"
    }
   ],
   "source": [
    "foo10(-1)"
   ]
  },
  {
   "cell_type": "markdown",
   "metadata": {},
   "source": [
    "<pre>\n",
    "when defining anon_fun, it captures whatever the data arugment was when calling it and then when a  new argument comes in it plugs in new argument and then executes. if we didnt have static scoping, data would change when calling foo.\n",
    "\n",
    "static scoping allows us to capture all data at time of creating anonymous function and store it \n",
    "without we wouldnt have callbacks\n",
    "\n",
    "\n",
    "currying:\n",
    "    define functions of two arguments in different way\n",
    "    \n",
    "    let addTwo = function(x){\n",
    "                    function(y){\n",
    "                        x + y\n",
    "                    }\n",
    "                }\n",
    "        in\n",
    "            (addTwo(15))(45)\n",
    "</pre>\n"
   ]
  },
  {
   "cell_type": "code",
   "execution_count": 13,
   "metadata": {},
   "outputs": [
    {
     "data": {
      "text/plain": [
       "\u001b[36mfoo\u001b[39m: \u001b[32mInt\u001b[39m => \u001b[32mInt\u001b[39m => \u001b[32mInt\u001b[39m = ammonite.$sess.cmd12$Helper$$Lambda$2322/1131746997@2c9d1a32"
      ]
     },
     "execution_count": 13,
     "metadata": {},
     "output_type": "execute_result"
    }
   ],
   "source": [
    "//curried function\n",
    "val foo = (x:Int) => ( (y: Int) => { x + y })"
   ]
  },
  {
   "cell_type": "code",
   "execution_count": 16,
   "metadata": {},
   "outputs": [
    {
     "data": {
      "text/plain": [
       "\u001b[36mres15\u001b[39m: \u001b[32mInt\u001b[39m = \u001b[32m20\u001b[39m"
      ]
     },
     "execution_count": 16,
     "metadata": {},
     "output_type": "execute_result"
    }
   ],
   "source": [
    "foo(10)(10)"
   ]
  },
  {
   "cell_type": "markdown",
   "metadata": {},
   "source": [
    "<pre>\n",
    "abstract syntax\n",
    "\n",
    "expr =>\n",
    "        const(..)\n",
    "        ident(..)\n",
    "        pluss(..)\n",
    "        And(..)\n",
    "        or(..)\n",
    "        let(string, expr, expr)\n",
    "        funcDef(string, Expr)\n",
    "        funcCall( Expr, Expr)\n",
    "                    e1,  e2\n",
    "        \n",
    "        \n",
    "        \n",
    "        \n",
    "        \n",
    "        \n",
    "                                               function(x){\n",
    "                                                    body\n",
    "                                                }\n",
    "                                                e1(e2)\n",
    "        \n",
    "      let foo = function(x){\n",
    "                  x + 10\n",
    "                  }\n",
    "          in\n",
    "              foo(10)\n",
    "              \n",
    "     in abstract syntax\n",
    "         Let(\"foo\", funcDef(\"x\", Plus(Ident(\"x\"), Const(10))), FunCall(Ident\"foo\", Const(10)))\n",
    "         \n",
    "         (function(x)(x+10)(15))\n",
    "         funCall(Fundef(\"x\",Plus(x+10)),const(15))\n",
    "         \n",
    "         Values\n",
    "             r - numbers\n",
    "             b - Boolean\n",
    "             error -\n",
    "             Closure( String , expr , environment )\n",
    "             environment is a captured environment\n",
    "             closure defines function, calls function and performs static scoping\n",
    "             \n",
    "             let x = 10 in\n",
    "                 let foo = function(y)\n",
    "                             { x + y }\n",
    "                         in\n",
    "                             foo(45)\n",
    "                             \n",
    "                             \n",
    "             in let x = 10 -> { x->10 }\n",
    "             \n",
    "             encounter function \n",
    "             function will evaluate closure(\"y\", Plus(x,y), {x -> 10} )\n",
    "                                     remembers formal parameter of function, remembers body of function, remmembers environment when it encountered function for first time\n",
    "\n",
    "\n",
    "{x -> 10\n",
    "foo -> closure(\"y\", plus(x,y), {x -> 10}\n",
    "}\n",
    "closure(\"y\", Plus( x , y ), {x -> 10})(45)\n",
    "under environment of {x -> 10, y -> 45}\n",
    "             \n",
    "             \n",
    "closure semantics\n",
    "one for fun def and funcall\n",
    "\n",
    "fundef\n",
    "    \n",
    "    --------------------------------------------------\n",
    "           eval(fundef(x,e),o) = Closure(x, e, o)\n",
    "\n",
    "o: env at time of fun def \n",
    "dont touch function definition\n",
    "\n",
    "\n",
    "funcall\n",
    "\n",
    "        eval(e1, env) not in Closure \n",
    "    --------------------------------------------------------\n",
    "        eval(funcall(e1,e2),env) = error\n",
    "        \n",
    "        eval(e1, env) = Closure(x, ebody, o), eval(e2, env) = v(!=error)\n",
    "    --------------------------------------------------------\n",
    "         eval(funcall(e1,e2),env) = eval(ebody, o { x -> v } )\n",
    "         \n",
    "         \n",
    "\n",
    "</pre>"
   ]
  },
  {
   "cell_type": "code",
   "execution_count": null,
   "metadata": {},
   "outputs": [],
   "source": []
  },
  {
   "cell_type": "code",
   "execution_count": null,
   "metadata": {},
   "outputs": [],
   "source": []
  }
 ],
 "metadata": {
  "kernelspec": {
   "display_name": "Scala 2.12",
   "language": "scala",
   "name": "scala212"
  },
  "language_info": {
   "codemirror_mode": "text/x-scala",
   "file_extension": ".sc",
   "mimetype": "text/x-scala",
   "name": "scala",
   "nbconvert_exporter": "script",
   "version": "2.12.12"
  }
 },
 "nbformat": 4,
 "nbformat_minor": 4
}
