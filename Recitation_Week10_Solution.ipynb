{
 "cells": [
  {
   "cell_type": "markdown",
   "metadata": {},
   "source": [
    "# Continuation Passing Style\n",
    "\n",
    "Thus far, we have built interpreters for various features in Lettuce. However, all of our interpreters depended\n",
    "on recursive calls to the eval function. The use of recursion was very convenient for us to translate \n",
    "the semantics directly into a scala program. However, this is not ideal since we all know about recursions\n",
    "and stacks. Thus, large programs can cause the stack to overflow. \n",
    "\n",
    "Today, we will revisit the theme of eliminating non-tail recursion. We have already done this using\n",
    "an accumulator. However, accumulators are limited in their scope. We will now present a general scheme\n",
    "that works without accumulators.\n",
    "\n",
    "## Recap: Recursion, Tail Recursion and Eliminating the Non-Tail Recursion\n",
    "\n",
    "We will take a few minutes to quickly recap recursion, tail recursion and the problem of eliminating\n",
    "non-tail recursion.\n",
    "\n",
    "- Recursion causes the activation records to grow on the stack, potentially causing stack overflow.\n",
    "- Tail recursion is a benign case when the result of any recursive calls are returned without any further processing.\n",
    "- Tail recursive calls can be implemented such that the activation records need not grow.\n",
    "\n",
    "## Continuation passing style (CPS)\n",
    "\n",
    "Continuation passing style (CPS) is a \"style\" of programming wherein every function will have an extra argument\n",
    "called the `continuation`. A continuation is a function that is passed in and specifies what the caller\n",
    "wishes to do with the result that has been computed.\n",
    "\n",
    "Take for instance, a function `func` that takes in an integer and returns an integer.\n",
    "~~~\n",
    "def func(x: Int): Int = {\n",
    "     // .. do some work to compute result .. \n",
    "     return result\n",
    "}\n",
    "~~~\n",
    "\n",
    "In the CPS, this function is now written as\n",
    "\n",
    "~~~\n",
    "def func-k(x: Int, k: Int => Int) : Int = {\n",
    "    //  .. do some work to compute result ..\n",
    "    k(result) // Pass the result onto the continuation.\n",
    "}\n",
    "~~~\n",
    "\n",
    "Note that `func-k` takes in an extra argument `k` called continuation. It\n",
    "is the function through which the caller specifies what they want done with\n",
    "the result of the call. Rather than return the result and make the caller operate\n",
    "on it, the caller simply bundles up the results and passes it all in.\n",
    "\n",
    "Let us look at a concrete example. First take a look at these three functions defined below.\n",
    "\n",
    "\n",
    "\n"
   ]
  },
  {
   "cell_type": "code",
   "execution_count": 38,
   "metadata": {},
   "outputs": [
    {
     "data": {
      "text/plain": [
       "defined \u001b[32mfunction\u001b[39m \u001b[36maddOne\u001b[39m"
      ]
     },
     "execution_count": 38,
     "metadata": {},
     "output_type": "execute_result"
    }
   ],
   "source": [
    "// This function takes an integer x and returns x + 1\n",
    "def addOne(x: Int): Int = {\n",
    "    val result = x + 1\n",
    "    result\n",
    "}"
   ]
  },
  {
   "cell_type": "code",
   "execution_count": 39,
   "metadata": {},
   "outputs": [
    {
     "data": {
      "text/plain": [
       "\u001b[36mres38\u001b[39m: \u001b[32mInt\u001b[39m = \u001b[32m6\u001b[39m"
      ]
     },
     "execution_count": 39,
     "metadata": {},
     "output_type": "execute_result"
    }
   ],
   "source": [
    "addOne(5)"
   ]
  },
  {
   "cell_type": "code",
   "execution_count": 40,
   "metadata": {},
   "outputs": [
    {
     "data": {
      "text/plain": [
       "defined \u001b[32mfunction\u001b[39m \u001b[36maddOne_cps\u001b[39m"
      ]
     },
     "execution_count": 40,
     "metadata": {},
     "output_type": "execute_result"
    }
   ],
   "source": [
    "// In CPS, we would write...\n",
    "def addOne_cps(x: Int, k: Int => Int): Int = {\n",
    "    val result = x + 1\n",
    "    k(result)\n",
    "}"
   ]
  },
  {
   "cell_type": "code",
   "execution_count": 41,
   "metadata": {
    "scrolled": true
   },
   "outputs": [
    {
     "data": {
      "text/plain": [
       "\u001b[36msquare\u001b[39m: \u001b[32mInt\u001b[39m => \u001b[32mInt\u001b[39m = ammonite.$sess.cmd40$Helper$$Lambda$2810/0x0000000800c8f040@48531c33\n",
       "\u001b[36mres40_1\u001b[39m: \u001b[32mInt\u001b[39m = \u001b[32m36\u001b[39m"
      ]
     },
     "execution_count": 41,
     "metadata": {},
     "output_type": "execute_result"
    }
   ],
   "source": [
    "val square: Int => Int = y => y * y\n",
    "addOne_cps(5, square)"
   ]
  },
  {
   "cell_type": "code",
   "execution_count": 42,
   "metadata": {
    "scrolled": true
   },
   "outputs": [
    {
     "data": {
      "text/plain": [
       "defined \u001b[32mfunction\u001b[39m \u001b[36maddTwo_cps\u001b[39m"
      ]
     },
     "execution_count": 42,
     "metadata": {},
     "output_type": "execute_result"
    }
   ],
   "source": [
    "// Use generics to allow any return type for k\n",
    "def addTwo_cps[T](x: Int, k: Int => T): T = {\n",
    "    val result = x + 2\n",
    "    k(result)\n",
    "}"
   ]
  },
  {
   "cell_type": "code",
   "execution_count": 43,
   "metadata": {},
   "outputs": [
    {
     "data": {
      "text/plain": [
       "\u001b[36mres42\u001b[39m: \u001b[32mInt\u001b[39m = \u001b[32m49\u001b[39m"
      ]
     },
     "execution_count": 43,
     "metadata": {},
     "output_type": "execute_result"
    }
   ],
   "source": [
    "addTwo_cps(5, square)"
   ]
  },
  {
   "cell_type": "code",
   "execution_count": 44,
   "metadata": {},
   "outputs": [
    {
     "data": {
      "text/plain": [
       "\u001b[36mres43\u001b[39m: \u001b[32mList\u001b[39m[\u001b[32mInt\u001b[39m] = \u001b[33mList\u001b[39m(\u001b[32m7\u001b[39m)"
      ]
     },
     "execution_count": 44,
     "metadata": {},
     "output_type": "execute_result"
    }
   ],
   "source": [
    "addTwo_cps(5, x => List(x))"
   ]
  },
  {
   "cell_type": "markdown",
   "metadata": {},
   "source": [
    "### Another Example\n",
    "Here, we will write a function `madd_k` which will-\n",
    "- call `multiply_k` on x, y and pass a continuation `k1` to `multiply_k`\n",
    "- The continuation `k1` should-\n",
    "  1. Call addUp_k\n",
    "  2. Pass the result on to continuation k"
   ]
  },
  {
   "cell_type": "code",
   "execution_count": 45,
   "metadata": {},
   "outputs": [
    {
     "data": {
      "text/plain": [
       "defined \u001b[32mfunction\u001b[39m \u001b[36maddUp_k\u001b[39m\n",
       "defined \u001b[32mfunction\u001b[39m \u001b[36mmultiply_k\u001b[39m\n",
       "defined \u001b[32mfunction\u001b[39m \u001b[36mmadd_k\u001b[39m"
      ]
     },
     "execution_count": 45,
     "metadata": {},
     "output_type": "execute_result"
    }
   ],
   "source": [
    "def addUp_k(x: Int, y: Int, z:Int, k: Int => Int): Int = {\n",
    "    k(x + y + z)\n",
    "}\n",
    "\n",
    "def multiply_k(x: Int, y: Int, k: Int => Int): Int = {\n",
    "    k ( x * y)\n",
    "}\n",
    "    // let's create a function do both ie. first multiply and then add\n",
    "def madd_k(x: Int, y: Int, z: Int, k: Int => Int): Int ={\n",
    "    // Create a new continuation.\n",
    "    // This continuation k1 is a closure that will be passed to multiply.\n",
    "    // It will be called by addUp_k but must do the work that was originally done by madd.\n",
    "    def k1(v1: Int): Int = addUp_k(v1, y, z, k) // Call addUp on v1, y, z and ask addUp_k to run k on the result.\n",
    "    multiply_k(x, y, k1) // here k1 = x*y or 1*2=2\n",
    "}\n",
    "//first x*y here 1*2=2\n",
    "//then we add the result given to the continuation k1 with y and z so it becomes x*y + y + z here 2 + 2 + 3\n",
    "//Finally apply the continuation k here k(7) => 7 * 2 => 14\n"
   ]
  },
  {
   "cell_type": "code",
   "execution_count": 46,
   "metadata": {},
   "outputs": [
    {
     "data": {
      "text/plain": [
       "\u001b[36mres45\u001b[39m: \u001b[32mInt\u001b[39m = \u001b[32m14\u001b[39m"
      ]
     },
     "execution_count": 46,
     "metadata": {},
     "output_type": "execute_result"
    }
   ],
   "source": [
    "madd_k(1, 2, 3, x => x * 2)"
   ]
  },
  {
   "cell_type": "markdown",
   "metadata": {},
   "source": [
    "### Example: Side Effects\n",
    "Given the following functions, change them to use continuations:"
   ]
  },
  {
   "cell_type": "code",
   "execution_count": 47,
   "metadata": {},
   "outputs": [
    {
     "data": {
      "text/plain": [
       "defined \u001b[32mfunction\u001b[39m \u001b[36mprintFive\u001b[39m"
      ]
     },
     "execution_count": 47,
     "metadata": {},
     "output_type": "execute_result"
    }
   ],
   "source": [
    "// Function with side effects\n",
    "def printFive(f: Int => String): Int = {\n",
    "    val five = 5\n",
    "    println(\"My value is: \"+ f(five))\n",
    "    five\n",
    "}"
   ]
  },
  {
   "cell_type": "code",
   "execution_count": 48,
   "metadata": {},
   "outputs": [
    {
     "data": {
      "text/plain": [
       "defined \u001b[32mfunction\u001b[39m \u001b[36mprintFive_cps\u001b[39m"
      ]
     },
     "execution_count": 48,
     "metadata": {},
     "output_type": "execute_result"
    }
   ],
   "source": [
    "def printFive_cps(f: Int => String, k: Int => Int): Int = {\n",
    "    // Your Code\n",
    "    val five = 5\n",
    "    print(\"My value now is: \" + f(five))\n",
    "    k(five)\n",
    "}"
   ]
  },
  {
   "cell_type": "code",
   "execution_count": 49,
   "metadata": {},
   "outputs": [
    {
     "name": "stdout",
     "output_type": "stream",
     "text": [
      "My value is: 5\n"
     ]
    },
    {
     "data": {
      "text/plain": [
       "\u001b[36mres48\u001b[39m: \u001b[32mInt\u001b[39m = \u001b[32m5\u001b[39m"
      ]
     },
     "execution_count": 49,
     "metadata": {},
     "output_type": "execute_result"
    }
   ],
   "source": [
    "printFive(x => x.toString)"
   ]
  },
  {
   "cell_type": "code",
   "execution_count": 50,
   "metadata": {},
   "outputs": [
    {
     "name": "stdout",
     "output_type": "stream",
     "text": [
      "My value now is: 5"
     ]
    },
    {
     "data": {
      "text/plain": [
       "\u001b[36mres49\u001b[39m: \u001b[32mInt\u001b[39m = \u001b[32m50\u001b[39m"
      ]
     },
     "execution_count": 50,
     "metadata": {},
     "output_type": "execute_result"
    }
   ],
   "source": [
    "printFive_cps(x => x.toString, y => y * 10)"
   ]
  },
  {
   "cell_type": "markdown",
   "metadata": {},
   "source": [
    "# Error Handling\n",
    "\n",
    "So far we have worked with continuation without any error. Now let's see how to handle error cases within continuation which is called the \"error continuation\". It is called whenever the program encounters an error.\n",
    "\n",
    "The type of our CPS function will become:\n",
    "\n",
    "fun_k(arg: ..., k: ResultType=> T, err_k: Unit => T ) : T\n",
    "\n",
    "Here, if some error arises in the computation that would normally be handled by throwing an exception, we will call the error continuation instead.\n",
    "\n"
   ]
  },
  {
   "cell_type": "code",
   "execution_count": 1,
   "metadata": {},
   "outputs": [
    {
     "data": {
      "text/plain": [
       "defined \u001b[32mfunction\u001b[39m \u001b[36merror_continuation_ex\u001b[39m"
      ]
     },
     "execution_count": 1,
     "metadata": {},
     "output_type": "execute_result"
    }
   ],
   "source": [
    "def error_continuation_ex[T](x: Int,  k: Int => T, err_k: () => T): T = {\n",
    "    x match {\n",
    "        case 1 => k(1)\n",
    "        case x if x > 1 => error_continuation_ex(x - 1, k, err_k)\n",
    "        case _ => err_k()\n",
    "    }\n",
    "}"
   ]
  },
  {
   "cell_type": "code",
   "execution_count": 8,
   "metadata": {},
   "outputs": [
    {
     "name": "stdout",
     "output_type": "stream",
     "text": [
      "I've found the one\n",
      "It took me a while! But I've found the one\n",
      "Havn't found the one yet!\n"
     ]
    }
   ],
   "source": [
    "println(error_continuation_ex(1, x => \"I've found the one\", () => \"Havn't found the one yet!\"))\n",
    "println(error_continuation_ex(10, x => \"It took me a while! But I've found the one\", () => \"Havn't found the one yet!\"))\n",
    "println(error_continuation_ex(0, x => \"I've found the one\", () => \"Havn't found the one yet!\"))"
   ]
  },
  {
   "cell_type": "markdown",
   "metadata": {},
   "source": [
    "### Exercise: Fibonacci"
   ]
  },
  {
   "cell_type": "code",
   "execution_count": 51,
   "metadata": {},
   "outputs": [
    {
     "data": {
      "text/plain": [
       "defined \u001b[32mfunction\u001b[39m \u001b[36mfibonacci\u001b[39m\n",
       "defined \u001b[32mfunction\u001b[39m \u001b[36mfib_cps\u001b[39m"
      ]
     },
     "execution_count": 51,
     "metadata": {},
     "output_type": "execute_result"
    }
   ],
   "source": [
    "def fibonacci(n: Int): Int = {\n",
    "    if (n < 2){\n",
    "        1\n",
    "    } else {\n",
    "        fibonacci(n-1) + fibonacci(n-2)\n",
    "    }    \n",
    "}\n",
    "\n",
    "// Fibonacci in Contiuation Passing Style\n",
    "def fib_cps (n: Int, k: (Int => Int)) : Int = n match{\n",
    "    case 0 => k(0)\n",
    "    case 1 => k(1)\n",
    "    case _ => fib_cps(n-1, (a: Int) => // This is a continuation for adding the first number\n",
    "        fib_cps(n-2, (b: Int) => // This is another continuation for adding the second number\n",
    "            k(a+b))) // This is the final continuation for adding the those two numbers\n",
    "}"
   ]
  },
  {
   "cell_type": "code",
   "execution_count": null,
   "metadata": {},
   "outputs": [],
   "source": [
    "assert(fib_cps(0, (x: Int) => x) == 0)\n",
    "assert(fib_cps(6, (x: Int) => x) == 8)\n",
    "assert(fib_cps(8, (x: Int) => x) == 21)"
   ]
  },
  {
   "cell_type": "markdown",
   "metadata": {},
   "source": [
    "### Exercise: Backtracking\n",
    "Search a binary tree using CPS. Return true if the tree has a node with the integer `i` as a value."
   ]
  },
  {
   "cell_type": "code",
   "execution_count": 52,
   "metadata": {
    "nbgrader": {
     "grade": false,
     "grade_id": "cell-bdaf875cad5b0678",
     "locked": false,
     "schema_version": 1,
     "solution": true
    }
   },
   "outputs": [
    {
     "data": {
      "text/plain": [
       "defined \u001b[32mtrait\u001b[39m \u001b[36mTree\u001b[39m\n",
       "defined \u001b[32mobject\u001b[39m \u001b[36mEmpty\u001b[39m\n",
       "defined \u001b[32mclass\u001b[39m \u001b[36mNode\u001b[39m\n",
       "defined \u001b[32mfunction\u001b[39m \u001b[36msearch\u001b[39m\n",
       "defined \u001b[32mfunction\u001b[39m \u001b[36msearch_cps\u001b[39m"
      ]
     },
     "execution_count": 52,
     "metadata": {},
     "output_type": "execute_result"
    }
   ],
   "source": [
    "sealed trait Tree\n",
    "case object Empty extends Tree\n",
    "case class Node(left: Tree, value: Int, right: Tree) extends Tree\n",
    "\n",
    "def search(t: Tree, i: Int): Boolean =\n",
    "    // BEGIN SOLUTION\n",
    "    t match {\n",
    "        case Empty => false\n",
    "        case Node(l, j, r) =>\n",
    "            if (i == j) true\n",
    "            else if (search(l, i)) true\n",
    "            else search(r, i)\n",
    "    }\n",
    "def search_cps(t: Tree, i: Int, continuation: Boolean => Boolean): Boolean =\n",
    "    // BEGIN SOLUTION\n",
    "    t match {\n",
    "        case Empty => continuation(false)\n",
    "        //in order traversal\n",
    "        case Node(l, j, r) if i == j =>\n",
    "            continuation(true)\n",
    "        case Node(l, j, r) =>\n",
    "            search_cps(l, i, (found: Boolean) => { if (found) continuation(true) else\n",
    "                search_cps(r, i, (found: Boolean) => { \n",
    "                    continuation(found) // remaining computation on the result. \n",
    "                    //Since we have not recieved the search result from right binary tree hence, \n",
    "                    //we add the continuation here\n",
    "                })\n",
    "            })\n",
    "    }"
   ]
  },
  {
   "cell_type": "code",
   "execution_count": 54,
   "metadata": {
    "nbgrader": {
     "grade": true,
     "grade_id": "cell-df2188387bae0d26",
     "locked": true,
     "points": 1,
     "schema_version": 1,
     "solution": false
    }
   },
   "outputs": [
    {
     "name": "stdout",
     "output_type": "stream",
     "text": [
      "The result is true\n",
      "The result is false\n"
     ]
    },
    {
     "data": {
      "text/plain": [
       "\u001b[36mt\u001b[39m: \u001b[32mNode\u001b[39m = \u001b[33mNode\u001b[39m(\n",
       "  Empty,\n",
       "  \u001b[32m10\u001b[39m,\n",
       "  \u001b[33mNode\u001b[39m(\u001b[33mNode\u001b[39m(\u001b[33mNode\u001b[39m(Empty, \u001b[32m3\u001b[39m, Empty), \u001b[32m5\u001b[39m, Empty), \u001b[32m6\u001b[39m, \u001b[33mNode\u001b[39m(Empty, \u001b[32m12\u001b[39m, Empty))\n",
       ")"
      ]
     },
     "execution_count": 54,
     "metadata": {},
     "output_type": "execute_result"
    }
   ],
   "source": [
    "val t = Node(Empty, 10, Node(Node(Empty, 15, Empty), 6, Node(Empty, 12, Empty)))\n",
    "//    10\n",
    "//  /   \\\n",
    "// empty 6\n",
    "//      / \\\n",
    "//     15 12\n",
    "\n",
    "assert(search(t, 10))\n",
    "assert(!search(t, 0))\n",
    "assert(search_cps(t, 10, (f:Boolean) => {println(s\"The result is $f\") \n",
    "                                         f}))\n",
    "assert(!search_cps(t, 0, (f:Boolean) => {println(s\"The result is $f\") \n",
    "                                         f}))"
   ]
  },
  {
   "cell_type": "markdown",
   "metadata": {},
   "source": [
    "# Key takeaway\n",
    "\n",
    "- We add an extra continuation argument to every function call in the program.\n",
    "- We transform the program so that all function calls happen at the tail position.\n",
    "- Finally, we __hope__ that the compiler/interpreter in all its goodness will optimize the tail call away."
   ]
  }
 ],
 "metadata": {
  "celltoolbar": "Create Assignment",
  "kernelspec": {
   "display_name": "Scala",
   "language": "scala",
   "name": "scala"
  },
  "language_info": {
   "codemirror_mode": "text/x-scala",
   "file_extension": ".sc",
   "mimetype": "text/x-scala",
   "name": "scala",
   "nbconvert_exporter": "script",
   "version": "2.13.3"
  }
 },
 "nbformat": 4,
 "nbformat_minor": 2
}
