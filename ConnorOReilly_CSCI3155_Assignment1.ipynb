{
 "cells": [
  {
   "cell_type": "markdown",
   "metadata": {},
   "source": [
    "Before you turn this problem in, make sure everything runs as expected. First, **restart the kernel** (in the menubar, select Kernel$\\rightarrow$Restart) and then **run all cells** (in the menubar, select Cell$\\rightarrow$Run All).\n",
    "\n",
    "Make sure you fill in any place that says `???` or \"YOUR ANSWER HERE\"."
   ]
  },
  {
   "cell_type": "markdown",
   "metadata": {},
   "source": [
    "---"
   ]
  },
  {
   "cell_type": "markdown",
   "metadata": {},
   "source": [
    "# CSCI 3155 Assignment 1 : Scala Programming\n",
    "\n",
    "This assignment asks you to write scala programs. \n",
    "\n",
    "Note: `???` indicates that there is a missing function or code fragment that needs to be filled in. In scala, \n",
    "it is also a macro that throws a `NotImplemented` exception. Make sure that you remove the `???` and replace it with the answer. \n",
    "\n",
    "Use the test cases provided to test them. You are also encouraged to write your own test cases to help debug your work. However, please delete any extra cells you may have created lest they break our autograder.\n",
    "\n",
    "**Very Important:** Please run the cell that defines the functions `passed` and `testWithMessage` below whenever you restart the notebook."
   ]
  },
  {
   "cell_type": "markdown",
   "metadata": {},
   "source": [
    "### Your Name Here"
   ]
  },
  {
   "cell_type": "code",
   "execution_count": 1,
   "metadata": {},
   "outputs": [
    {
     "data": {
      "text/plain": [
       "defined \u001b[32mfunction\u001b[39m \u001b[36mpassed\u001b[39m\n",
       "defined \u001b[32mfunction\u001b[39m \u001b[36mtestWithMessage\u001b[39m"
      ]
     },
     "execution_count": 1,
     "metadata": {},
     "output_type": "execute_result"
    }
   ],
   "source": [
    "// TEST HELPER\n",
    "\n",
    "// FIRST RUN THIS CELL EVERY TIME YOU START THE NOTEBOOK\n",
    "def passed(points: Int) {\n",
    "    require(points >=0)\n",
    "    if (points == 1) print(s\"\\n*** Tests Passed (1 point) ***\\n\")\n",
    "    else print(s\"\\n*** Tests Passed ($points points) ***\\n\")\n",
    "}\n",
    "\n",
    "def testWithMessage[T](v1: T, expected: T, testID: String) = { \n",
    "    println(s\"Test $testID\"); \n",
    "    println(s\"\\t Expected: $expected, your code returned: $v1\")\n",
    "    assert (v1 == expected, s\"Test $testID FAILED.\")\n",
    "    println(\"\\t Passed!\")\n",
    "}"
   ]
  },
  {
   "cell_type": "markdown",
   "metadata": {},
   "source": [
    "## Problem 1 (10 points)\n",
    "\n",
    "Write a function named `countVowels` that inputs a `String` and outputs an `Int` which counts the number of occurrences of a vowel in a given string. \n",
    "\n",
    "Vowels are _a, e, i, o, u_. \n",
    "\n",
    "Capital letters of vowels should also count as a vowel. \n",
    "\n",
    "### Example\n",
    "\n",
    "Input: \"aaatchoU\" Output: 5.\n",
    "\n",
    "\n",
    "\n",
    "__Restrictions:__ None\n",
    "\n",
    "You may use for-loops/while loops and mutable vars for this particular problem.\n",
    "String or List API functions are also allowed."
   ]
  },
  {
   "cell_type": "code",
   "execution_count": 2,
   "metadata": {},
   "outputs": [
    {
     "data": {
      "text/plain": [
       "defined \u001b[32mfunction\u001b[39m \u001b[36mcountVowels\u001b[39m"
      ]
     },
     "execution_count": 2,
     "metadata": {},
     "output_type": "execute_result"
    }
   ],
   "source": [
    "//replace the ??? with your code.\n",
    "// YOUR CODE HERE\n",
    "def countVowels(s:String) : Int = \n",
    "{\n",
    "    var count: Int = 0\n",
    "    var i: Int = 0\n",
    "    val vowels: List[Char] = List('a', 'e' , 'i' , 'o' , 'u', 'A' , 'E' , 'I' , 'O' , 'U')\n",
    "    for(i <- 0 until s.length()){\n",
    "        if( vowels.contains(s(i)) ){\n",
    "            count = count + 1\n",
    "        }\n",
    "    }\n",
    "    \n",
    "    \n",
    "    println(count)\n",
    "    return count\n",
    "    \n",
    "}"
   ]
  },
  {
   "cell_type": "code",
   "execution_count": 3,
   "metadata": {},
   "outputs": [
    {
     "name": "stdout",
     "output_type": "stream",
     "text": [
      "3\n",
      "Test \"atchou\" must have three vowels in it\n",
      "\t Expected: 3, your code returned: 3\n",
      "\t Passed!\n",
      "0\n",
      "Test Empty string has no vowels\n",
      "\t Expected: 0, your code returned: 0\n",
      "\t Passed!\n",
      "6\n",
      "Test Capitalized vowels handled\n",
      "\t Expected: 6, your code returned: 6\n",
      "\t Passed!\n",
      "0\n",
      "Test \"Grzzly\" has no vowels\n",
      "\t Expected: 0, your code returned: 0\n",
      "\t Passed!\n",
      "12\n",
      "Test Handling commas and spaces?\n",
      "\t Expected: 12, your code returned: 12\n",
      "\t Passed!\n",
      "\n",
      "*** Tests Passed (10 points) ***\n"
     ]
    }
   ],
   "source": [
    "//BEGIN TEST\n",
    "testWithMessage( countVowels(\"atchou\") , 3, \"\\\"atchou\\\" must have three vowels in it\" )\n",
    "testWithMessage( countVowels(\"\"), 0, \"Empty string has no vowels\")\n",
    "testWithMessage( countVowels(\"AAEIOU\"), 6, \"Capitalized vowels handled\")\n",
    "testWithMessage( countVowels(\"Grzzly\"), 0, \"\\\"Grzzly\\\" has no vowels\")\n",
    "testWithMessage( countVowels(\"Meow, Meow, says the alley cat next door!!\"), 12, \"Handling commas and spaces?\")\n",
    "passed(10)\n",
    "//END TEST"
   ]
  },
  {
   "cell_type": "markdown",
   "metadata": {},
   "source": [
    "## Problem 2 (15 Points)\n",
    "\n",
    "Write a function `unionOfLists` that inputs  two lists of integers (sorted in ascending order) and returns a list of integers. The function must compute the union of the two input lists to return a list that is also sorted in ascending order. Note that in performing the union, each number can appear at most once in the output list.\n",
    "\n",
    "\n",
    "__Example__ \n",
    "Input lists `List(1, 3, 4, 6)`, and `List(2, 3, 4, 5)`, the output should be `List(1, 2, 3, 4, 5, 6)`\n",
    "\n",
    "Input lists `List(1, 2, 3, 4)` and `List(1, 2, 3, 5)`, the output should be `List(1, 2, 3, 4, 5)`\n",
    "\n",
    "__Restrictions__ Suppose the lists are of size $n_1$ and $n_2$, respectively, the entire algorithm must run in linear time: $O(n_1 + n_2)$.  Please do not use inbuilt sort algorithms (they would take $O( (n_1 + n_2) \\log(n_1 + n_2))$ time.  Also note that when you append one list to another using `++` operator or an element to the end of a list using `:+` operator inside a loop, the result may actually violate the linear time complexity restriction."
   ]
  },
  {
   "cell_type": "code",
   "execution_count": 4,
   "metadata": {},
   "outputs": [
    {
     "data": {
      "text/plain": [
       "defined \u001b[32mfunction\u001b[39m \u001b[36munionOfLists\u001b[39m"
      ]
     },
     "execution_count": 4,
     "metadata": {},
     "output_type": "execute_result"
    }
   ],
   "source": [
    "// YOUR CODE HERE\n",
    "def unionOfLists(a: List[Int] , b: List[Int]) : List[Int] = \n",
    "{\n",
    "    //get length of both lists\n",
    "    var length_a: Int = a.length\n",
    "    var length_b: Int = b.length\n",
    "    var length_both: Int = length_a + length_b\n",
    "    //create empty array of size length_a + length_b\n",
    "    var array_empty : Array[Int] = Array.ofDim(length_both)\n",
    "    // now perform merge algorithm\n",
    "    \n",
    "    //convert lists to array\n",
    "    val array_a = a.toArray\n",
    "    val array_b = b.toArray\n",
    "    \n",
    "    //define iterators\n",
    "    var i , j , k: Int = 0  \n",
    "    \n",
    "    //variable for repeated elements\n",
    "    var repeat: Int = 0\n",
    "\n",
    "    //begin while loop\n",
    "    while(i < length_a && j < length_b){\n",
    "       //take care of repeated elements, just add one and iterate both arrays\n",
    "      if( array_a(i) == array_b(j) ) {\n",
    "           array_empty(k) = array_a(i)\n",
    "           i = i + 1\n",
    "           j = j + 1\n",
    "           repeat = repeat + 1\n",
    "       }\n",
    "      else if( array_a(i) < array_b(j) ){\n",
    "           //if element in a array is smaller, store a element first and increment i\n",
    "           array_empty(k) = array_a(i)\n",
    "           i = i + 1\n",
    "           \n",
    "       }else{\n",
    "           //if b element is smaller store\n",
    "           array_empty(k) = array_b(j)\n",
    "           j = j + 1\n",
    "       }\n",
    "        \n",
    "        k = k + 1\n",
    "    }\n",
    "    \n",
    "    //take care of remaining elements\n",
    "    //for a array\n",
    "    while(i < length_a){\n",
    "        array_empty(k) = array_a(i)\n",
    "        i = i + 1\n",
    "        k = k + 1\n",
    "    }\n",
    "    while(j < length_b){\n",
    "        array_empty(k) = array_b(j)\n",
    "        j = j + 1\n",
    "        k = k + 1\n",
    "    }\n",
    "    \n",
    "    val list_final = array_empty.toList\n",
    "    return  list_final.take(length_both - repeat) //only takes last elements\n",
    "}"
   ]
  },
  {
   "cell_type": "code",
   "execution_count": 5,
   "metadata": {},
   "outputs": [
    {
     "name": "stdout",
     "output_type": "stream",
     "text": [
      "Test unionOfLists(List(1, 3, 5), List(2, 3, 4))\n",
      "\t Expected: List(1, 2, 3, 4, 5), your code returned: List(1, 2, 3, 4, 5)\n",
      "\t Passed!\n",
      "Test unionOfLists(List(1), List(1))\n",
      "\t Expected: List(1), your code returned: List(1)\n",
      "\t Passed!\n",
      "Test unionOfLists(List(1), List(1,2,3))\n",
      "\t Expected: List(1, 2, 3), your code returned: List(1, 2, 3)\n",
      "\t Passed!\n",
      "Test unionOfLists(List(1,2,3), List(1))\n",
      "\t Expected: List(1, 2, 3), your code returned: List(1, 2, 3)\n",
      "\t Passed!\n",
      "Test unionOfLists(List(), List(0))\n",
      "\t Expected: List(0), your code returned: List(0)\n",
      "\t Passed!\n",
      "Test unionOfLists(List(0), List())\n",
      "\t Expected: List(0), your code returned: List(0)\n",
      "\t Passed!\n",
      "Test unionOfLists(List(2, 4, 6, 8, 10, 12),List(1, 3, 5, 7, 9, 11))\n",
      "\t Expected: List(1, 2, 3, 4, 5, 6, 7, 8, 9, 10, 11, 12), your code returned: List(1, 2, 3, 4, 5, 6, 7, 8, 9, 10, 11, 12)\n",
      "\t Passed!\n",
      "\n",
      "*** Tests Passed (15 points) ***\n"
     ]
    }
   ],
   "source": [
    "//BEGIN TESTS\n",
    "testWithMessage( \n",
    "    unionOfLists(List(1, 3, 5), List(2, 3, 4)),  \n",
    "    List(1, 2, 3, 4, 5), \n",
    "    \"unionOfLists(List(1, 3, 5), List(2, 3, 4))\"\n",
    "               )\n",
    "\n",
    "\n",
    "testWithMessage( \n",
    "    unionOfLists(List(1), List(1)),  \n",
    "    List(1), \n",
    "    \"unionOfLists(List(1), List(1))\"\n",
    "               )\n",
    "\n",
    "\n",
    "\n",
    "\n",
    "testWithMessage( \n",
    "    unionOfLists(List(1), List(1,2,3)),  \n",
    "    List(1,2,3), \n",
    "    \"unionOfLists(List(1), List(1,2,3))\"\n",
    "               )\n",
    "\n",
    "testWithMessage( \n",
    "    unionOfLists(List(1,2,3), List(1)),  \n",
    "    List(1,2,3), \n",
    "    \"unionOfLists(List(1,2,3), List(1))\"\n",
    "               )\n",
    "\n",
    "testWithMessage(\n",
    "    unionOfLists(List(), List(0)), \n",
    "    List(0), \n",
    "    \"unionOfLists(List(), List(0))\"\n",
    ")\n",
    "\n",
    "testWithMessage(\n",
    "    unionOfLists(List(0), List()), \n",
    "    List(0), \n",
    "    \"unionOfLists(List(0), List())\"\n",
    ")\n",
    "\n",
    "testWithMessage(\n",
    "    unionOfLists(List(2, 4, 6, 8, 10, 12), List(1, 3, 5, 7, 9, 11)), \n",
    "    List(1, 2, 3, 4, 5, 6, 7, 8, 9, 10, 11, 12), \n",
    "    \"unionOfLists(List(2, 4, 6, 8, 10, 12),List(1, 3, 5, 7, 9, 11))\"\n",
    ")\n",
    "\n",
    "passed(15)\n",
    "//END TESTS"
   ]
  },
  {
   "cell_type": "markdown",
   "metadata": {},
   "source": [
    "## Problem 3 (40 points)\n",
    "\n",
    "This problem is broken down into many parts. Implement each of them in order.\n",
    "\n",
    "### (A) Split text into list of words (5 points)\n",
    "\n",
    "You are given text as a string with words that are separated by whitespces. Write a function `splitIntoWords` that takes a string and returns a list of words that occur in the string. The order of the words in the list must be same as that in the string. Words should not have any whitespaces in them.\n",
    "\n",
    "#### Example\n",
    "\n",
    "Input: \"Hello how are   &nbsp;&nbsp; &nbsp; you\", Output: `List(\"Hello\", \"how\", \"are\", \"you\")`. \n",
    "\n",
    "Note that there may be multiple spaces between words. Assume no punctuations or periods are present."
   ]
  },
  {
   "cell_type": "code",
   "execution_count": 6,
   "metadata": {},
   "outputs": [
    {
     "data": {
      "text/plain": [
       "defined \u001b[32mfunction\u001b[39m \u001b[36msplitIntoWords\u001b[39m"
      ]
     },
     "execution_count": 6,
     "metadata": {},
     "output_type": "execute_result"
    }
   ],
   "source": [
    "// YOUR CODE HERE\n",
    "def splitIntoWords(s: String) : List[String] = \n",
    "{\n",
    "    //use .split(), will create array to use .toList after\n",
    "    var array_words : Array[String] = s.split(\" +\")  // \" +\" designates one or more spaces\n",
    "    //array -> list\n",
    "    val lst : List[String] = array_words.toList\n",
    "    return lst\n",
    "}"
   ]
  },
  {
   "cell_type": "code",
   "execution_count": 7,
   "metadata": {},
   "outputs": [
    {
     "name": "stdout",
     "output_type": "stream",
     "text": [
      "Test test1\n",
      "\t Expected: List(Hello, this, is, your, professor, speaking), your code returned: List(Hello, this, is, your, professor, speaking)\n",
      "\t Passed!\n",
      "Test test2\n",
      "\t Expected: List(Programming), your code returned: List(Programming)\n",
      "\t Passed!\n",
      "Test test3\n",
      "\t Expected: List(), your code returned: List()\n",
      "\t Passed!\n",
      "Test test4\n",
      "\t Expected: List(A, A, A, dDd, E), your code returned: List(A, A, A, dDd, E)\n",
      "\t Passed!\n",
      "\n",
      "*** Tests Passed (5 points) ***\n"
     ]
    }
   ],
   "source": [
    "//BEGIN TESTS\n",
    "testWithMessage(\n",
    "    splitIntoWords(\"Hello  this is your    professor speaking  \"), \n",
    "    List(\"Hello\", \"this\", \"is\", \"your\", \"professor\", \"speaking\"),\n",
    "    \"test1\"\n",
    ")\n",
    "\n",
    "testWithMessage(\n",
    "    splitIntoWords(\"Programming      \"),\n",
    "    List(\"Programming\"), \n",
    "    \"test2\"\n",
    ")\n",
    "\n",
    "testWithMessage(\n",
    "    splitIntoWords(\"      \"),\n",
    "    Nil, \n",
    "    \"test3\"\n",
    ")\n",
    "\n",
    "\n",
    "testWithMessage(\n",
    "    splitIntoWords(\"A A A  dDd   E\"),\n",
    "    List(\"A\", \"A\", \"A\", \"dDd\", \"E\"),\n",
    "    \"test4\"\n",
    ")\n",
    "\n",
    "passed(5)\n",
    "\n",
    "\n",
    "//END TESTS"
   ]
  },
  {
   "cell_type": "markdown",
   "metadata": {},
   "source": [
    "### (B) Extract a sublist from a list (10 points)\n",
    "\n",
    "Given a list of string `lst`, an index `i` into the list and a length `j`, extract all the elements in the original list `lst(i), ..., lst(i+j-1)` into a new list. Handle corner cases by returning an empty list when (a) `j <= 0` or (b) `i+j` is greater than the length of the list `lst`.\n",
    "\n",
    "**Hint** Lookup the Scala list API for the `list.slice` function"
   ]
  },
  {
   "cell_type": "code",
   "execution_count": 8,
   "metadata": {},
   "outputs": [
    {
     "data": {
      "text/plain": [
       "defined \u001b[32mfunction\u001b[39m \u001b[36mextractSubList\u001b[39m"
      ]
     },
     "execution_count": 8,
     "metadata": {},
     "output_type": "execute_result"
    }
   ],
   "source": [
    "def extractSubList(lst: List[String], i: Int, j: Int): List[String]= {\n",
    "    //handle corner cases\n",
    "    //define total length\n",
    "    val len_lst : Int = lst.length\n",
    "    if(j <= 0){\n",
    "        return Nil\n",
    "    }\n",
    "    if( (i + j) > len_lst ){\n",
    "        return Nil\n",
    "    }\n",
    "    \n",
    "    //now use scala .slice function\n",
    "    return lst.slice( i, (i+j) )\n",
    "    \n",
    "}"
   ]
  },
  {
   "cell_type": "code",
   "execution_count": 9,
   "metadata": {},
   "outputs": [
    {
     "name": "stdout",
     "output_type": "stream",
     "text": [
      "Test test1\n",
      "\t Expected: List(c, d, e), your code returned: List(c, d, e)\n",
      "\t Passed!\n",
      "Test test2\n",
      "\t Expected: List(), your code returned: List()\n",
      "\t Passed!\n",
      "Test test3\n",
      "\t Expected: List(), your code returned: List()\n",
      "\t Passed!\n",
      "Test test4\n",
      "\t Expected: List(b), your code returned: List(b)\n",
      "\t Passed!\n",
      "Test test5\n",
      "\t Expected: List(), your code returned: List()\n",
      "\t Passed!\n",
      "Test test6\n",
      "\t Expected: List(a, b, c, d, e), your code returned: List(a, b, c, d, e)\n",
      "\t Passed!\n",
      "\n",
      "*** Tests Passed (10 points) ***\n"
     ]
    }
   ],
   "source": [
    "//BEGIN TESTS\n",
    "testWithMessage(\n",
    "    extractSubList(List(\"a\", \"b\", \"c\", \"d\", \"e\"), 2, 3),\n",
    "    List(\"c\",\"d\",\"e\"),\n",
    "    \"test1\"\n",
    "    )\n",
    "\n",
    "testWithMessage(\n",
    "    extractSubList(List(\"a\", \"b\", \"c\", \"d\", \"e\"), 3, 3),\n",
    "    List(),\n",
    "    \"test2\"\n",
    "    )\n",
    "\n",
    "testWithMessage(\n",
    "    extractSubList(List(\"a\", \"b\", \"c\", \"d\", \"e\"), 6, 0),\n",
    "    List(),\n",
    "    \"test3\"\n",
    "    )\n",
    "\n",
    "testWithMessage(\n",
    "    extractSubList(List(\"a\", \"b\", \"c\", \"d\", \"e\"), 1, 1),\n",
    "    List(\"b\"),\n",
    "    \"test4\"\n",
    "    )\n",
    "\n",
    "testWithMessage(\n",
    "    extractSubList(List(), 0, 0),\n",
    "    List(),\n",
    "    \"test5\"\n",
    "    )\n",
    "\n",
    "testWithMessage(\n",
    "    extractSubList(List(\"a\", \"b\", \"c\", \"d\", \"e\"), 0, 5),\n",
    "    List(\"a\",\"b\",\"c\",\"d\",\"e\"),\n",
    "    \"test6\"\n",
    "    )\n",
    "passed(10)\n",
    "//END TESTS"
   ]
  },
  {
   "cell_type": "markdown",
   "metadata": {},
   "source": [
    "### (C, 10 points) Extract all indices matching a given sequence.\n",
    "\n",
    "Write a scala function `findPatternIndicesInList` that inputs two lists of Strings, \n",
    "`lst` and `pattern`. The goal is to find all the indices in `lst` such that the list\n",
    "`pattern` occurs in `lst` at these indices.\n",
    "\n",
    "### Example 1\n",
    "lst is `List(\"quick\", \"brown\", \"fox\", \"quick\", \"brown\", \"dog\")` and `pattern` is `List(\"quick\", \"brown\")`.\n",
    " Code should return:  `List(0, 3)`. This is because starting at positions `0` (the very beginning) and `3` (the 4th element), we have occurrences of the pattern `pattern`: `List(\"quick\", \"brown\")`.\n",
    "\n",
    "#### Ex. 2\n",
    "\n",
    "`lst` is the list `List(\"a\", \"b\", \"a\", \"c\", \"a\", \"a\", \"b\")` and `pattern` is `List(\"a\", \"b\")`. Your code should return `List(0, 5)` since starting at indices 0, 5 in `lst`, we have an occurrence of the patterrn `pattern`.\n",
    "\n",
    "#### Ex. 3\n",
    "\n",
    "`lst` is the list `List(\"a\", \"b\", \"a\", \"c\", \"a\", \"a\", \"b\")` and `pattern` is `List(\"a\")`. Your code should return \n",
    "`List(0, 2, 4, 5)`.\n",
    "\n",
    "#### Ex. 4\n",
    "`lst` is the list `List(\"a\", \"b\", \"a\", \"c\", \"a\", \"a\", \"b\")` and `pattern` is `List(\"a\", \"b\", \"c\")`. Your code should return the empty list since there is no occurrence of the patterrn `List(\"a\", \"b\", \"c\")` in the original list.\n",
    "\n",
    "\n",
    "__Hint:__ Please use the function `extractSubList` you wrote for the previous problem and compare lists using the `==` operator.\n"
   ]
  },
  {
   "cell_type": "code",
   "execution_count": 10,
   "metadata": {},
   "outputs": [
    {
     "data": {
      "text/plain": [
       "defined \u001b[32mfunction\u001b[39m \u001b[36mfindPatternIndicesInList\u001b[39m"
      ]
     },
     "execution_count": 10,
     "metadata": {},
     "output_type": "execute_result"
    }
   ],
   "source": [
    "def findPatternIndicesInList(lst: List[String], pat: List[String]): List[Int] = {\n",
    "    //get length of list and initialize\n",
    "    var len : Int = lst.length\n",
    "    var len_pattern : Int = pat.length\n",
    "    var iter : Int = 0\n",
    "    var temp : Int = 0\n",
    "    var array_empty : Array[Int] = Array.ofDim(len)\n",
    "    while(iter < len){\n",
    "        //extract the sublist and compare to the pattern\n",
    "        if (extractSubList(lst , iter , len_pattern ) == pat ) {\n",
    "            array_empty(temp) = iter \n",
    "            temp = temp + 1\n",
    "        }\n",
    "        //iterate\n",
    "        iter = iter + 1\n",
    "    }\n",
    "    \n",
    "    //convert array to list and get rid of 0 elements in \"buffer\"\n",
    "    val list_final = array_empty.toList\n",
    "    //only take amount expected. should be same as number of patterns\n",
    "    return list_final.take(temp) \n",
    "}"
   ]
  },
  {
   "cell_type": "code",
   "execution_count": 11,
   "metadata": {},
   "outputs": [
    {
     "name": "stdout",
     "output_type": "stream",
     "text": [
      "Test findPatternIndicesInList(List(\"quick\", \"brown\", \"fox\", \"quick\", \"brown\", \"dog\"), List(\"quick\", \"brown\"))\n",
      "\t Expected: List(0, 3), your code returned: List(0, 3)\n",
      "\t Passed!\n",
      "Test findPatternIndicesInList(List(a, b, a, c, a, a, b), List(a, b))\n",
      "\t Expected: List(0, 5), your code returned: List(0, 5)\n",
      "\t Passed!\n",
      "Test findPatternIndicesInList(List(a, b, a, c, a, a, b), List(a))\n",
      "\t Expected: List(0, 2, 4, 5), your code returned: List(0, 2, 4, 5)\n",
      "\t Passed!\n",
      "Test findPatternIndicesInList(List(a, b, a, c, a, a, b), List(a,b,c))\n",
      "\t Expected: List(), your code returned: List()\n",
      "\t Passed!\n",
      "Test findPatternIndicesInList(List(a, b, a, c, a, a, b), List(a,c,a))\n",
      "\t Expected: List(2), your code returned: List(2)\n",
      "\t Passed!\n"
     ]
    }
   ],
   "source": [
    "//BEGIN TESTS\n",
    "\n",
    "testWithMessage(\n",
    "    findPatternIndicesInList(List(\"quick\", \"brown\", \"fox\", \"quick\", \"brown\", \"dog\"), List(\"quick\", \"brown\")),\n",
    "    List(0, 3),\n",
    "    \"findPatternIndicesInList(List(\\\"quick\\\", \\\"brown\\\", \\\"fox\\\", \\\"quick\\\", \\\"brown\\\", \\\"dog\\\"), List(\\\"quick\\\", \\\"brown\\\"))\"\n",
    "    )\n",
    "\n",
    "testWithMessage(\n",
    "    findPatternIndicesInList(List(\"a\", \"b\", \"a\", \"c\", \"a\", \"a\", \"b\"), List(\"a\", \"b\")), \n",
    "    List(0, 5), \n",
    "    \"findPatternIndicesInList(List(a, b, a, c, a, a, b), List(a, b))\" \n",
    ")\n",
    "\n",
    "testWithMessage(\n",
    "    findPatternIndicesInList(List(\"a\", \"b\", \"a\", \"c\", \"a\", \"a\", \"b\"), List(\"a\")), \n",
    "    List(0, 2,4, 5), \n",
    "    \"findPatternIndicesInList(List(a, b, a, c, a, a, b), List(a))\" \n",
    ")\n",
    "\n",
    "testWithMessage(\n",
    "    findPatternIndicesInList(List(\"a\", \"b\", \"a\", \"c\", \"a\", \"a\", \"b\"), List(\"a\",\"b\",\"c\")), \n",
    "    Nil, \n",
    "    \"findPatternIndicesInList(List(a, b, a, c, a, a, b), List(a,b,c))\" \n",
    ")\n",
    "\n",
    "testWithMessage(\n",
    "    findPatternIndicesInList(List(\"a\", \"b\", \"a\", \"c\", \"a\", \"a\", \"b\"), List(\"a\",\"c\",\"a\")), \n",
    "    List(2), \n",
    "    \"findPatternIndicesInList(List(a, b, a, c, a, a, b), List(a,c,a))\" \n",
    ")\n",
    "\n",
    "//END TESTS"
   ]
  },
  {
   "cell_type": "markdown",
   "metadata": {},
   "source": [
    "## (D, 15 points) Who let the dogs out, really?\n",
    "\n",
    "You are given text as an input string which talks about people letting dogs out. We would like to extract the list of all the strings that _let the dogs out_.\n",
    "\n",
    "In other words, we look for all substrings of the form ` ..... let the dogs out` and return all the words that occur immediately before the phrase \"let the dogs out\" in the input string.\n",
    "\n",
    "### Example\n",
    "\n",
    "\n",
    "\n",
    "\" The <mark> society  </mark> __let the dogs out__  Letting the dogs out is the very essence of our democracy <mark> I </mark> __let the dogs out__ <mark> You </mark> __let the dogs out__ My <mark>grandma </mark> __let the dogs out__ Your <mark>dad </mark> __let the dogs out__ We <mark>all</mark> __let the dogs out__ The dogs let themselves out\"\n",
    "\n",
    "\n",
    "Your function should return the list `List(\"society\", \"I\", \"You\", \"grandma', \"dad\", \"all\")`.\n",
    "\n",
    "\n",
    "Use the functions that you have implemented so far in your solution.\n",
    " - Use `splitIntoWords` to convert it into a list of words.\n",
    " - Use `findPatternIndicesInList` to search for all indices where the pattern `List(\"let\", \"the\", \"dogs\", \"out\")` appears.\n",
    " - Subtract 1 from all the indices that are > 0 to extract the result.\n",
    "\n"
   ]
  },
  {
   "cell_type": "code",
   "execution_count": 12,
   "metadata": {},
   "outputs": [
    {
     "data": {
      "text/plain": [
       "defined \u001b[32mfunction\u001b[39m \u001b[36mwhoLetTheDogsOut\u001b[39m"
      ]
     },
     "execution_count": 12,
     "metadata": {},
     "output_type": "execute_result"
    }
   ],
   "source": [
    "def whoLetTheDogsOut(txt: String): List[String] = {\n",
    "    // Conver String into list of words\n",
    "    val dogs_lst : List[String] = splitIntoWords(txt)\n",
    "    //create pattern list\n",
    "    val pat_dogs : List[String] = List(\"let\", \"the\", \"dogs\", \"out\")\n",
    "    //now use fnd pattern to search for all indexes where the pattern is\n",
    "    var indexes: List[Int] = findPatternIndicesInList(dogs_lst, pat_dogs)\n",
    "    //subtract one except for zero to find out who let the dogs out\n",
    "    //now while loop, i guess this is bad\n",
    "    //create storage list\n",
    "    val final_array = new Array[String](indexes.length)\n",
    "    var temp : String = \"\" \n",
    "    for( i <- 0 to (indexes.length-1)){\n",
    "        final_array(i) = dogs_lst(indexes(i)-1)\n",
    "    }\n",
    "    //now convert to list\n",
    "    \n",
    "    return final_array.toList\n",
    "}"
   ]
  },
  {
   "cell_type": "code",
   "execution_count": 13,
   "metadata": {},
   "outputs": [
    {
     "name": "stdout",
     "output_type": "stream",
     "text": [
      "Test TEST # 1 \n",
      "\t Expected: List(society, I, You, grandma, dad, all), your code returned: List(society, I, You, grandma, dad, all)\n",
      "\t Passed!\n",
      "Test TEST # 2 \n",
      "\t Expected: List(owners), your code returned: List(owners)\n",
      "\t Passed!\n",
      "Test TEST # 3\n",
      "\t Expected: List(to, who), your code returned: List(to, who)\n",
      "\t Passed!\n",
      "\n",
      "*** Tests Passed (15 points) ***\n"
     ]
    },
    {
     "data": {
      "text/plain": [
       "\u001b[36mlst1\u001b[39m: \u001b[32mList\u001b[39m[\u001b[32mString\u001b[39m] = \u001b[33mList\u001b[39m(\u001b[32m\"society\"\u001b[39m, \u001b[32m\"I\"\u001b[39m, \u001b[32m\"You\"\u001b[39m, \u001b[32m\"grandma\"\u001b[39m, \u001b[32m\"dad\"\u001b[39m, \u001b[32m\"all\"\u001b[39m)\n",
       "\u001b[36mlst2\u001b[39m: \u001b[32mList\u001b[39m[\u001b[32mString\u001b[39m] = \u001b[33mList\u001b[39m(\u001b[32m\"owners\"\u001b[39m)\n",
       "\u001b[36mlst3\u001b[39m: \u001b[32mList\u001b[39m[\u001b[32mString\u001b[39m] = \u001b[33mList\u001b[39m(\u001b[32m\"to\"\u001b[39m, \u001b[32m\"who\"\u001b[39m)"
      ]
     },
     "execution_count": 13,
     "metadata": {},
     "output_type": "execute_result"
    }
   ],
   "source": [
    "//BEGIN TESTS\n",
    "val lst1 = whoLetTheDogsOut(\"The society let the dogs out Letting the dogs out is the very essence of our democracy I let the dogs out You let the dogs out My grandma let the dogs out Your dad let the dogs out We all let the dogs out The dogs let themselves out\")\n",
    "testWithMessage( lst1, List(\"society\", \"I\", \"You\", \"grandma\", \"dad\", \"all\"), \"TEST # 1 \" )\n",
    "\n",
    "val lst2 = whoLetTheDogsOut(\"\"\"\n",
    "Dogs have been domesticated since the dawn of human history  When owners let the dogs out either for a night or during \n",
    "an afternoon nap they are often outdoors among other animals against whom the dogs may not have appropriate \n",
    "defences\n",
    "\"\"\"\n",
    ")\n",
    "\n",
    "testWithMessage( lst2, List(\"owners\"), \"TEST # 2 \" )\n",
    "\n",
    "val lst3 = whoLetTheDogsOut(\"\"\"\n",
    "The key question is what is a dog and what does it mean to let the dogs out  Perhaps the dog is \n",
    "an allegorical reference to  human aggression that society lets out as a dog to serve its own \n",
    "purposes Therefore ask not who let the dogs out but ask who the  dog letting process ultimately serves\n",
    "\"\"\")\n",
    "\n",
    "\n",
    "testWithMessage( lst3, List(\"to\", \"who\"), \"TEST # 3\" )\n",
    "\n",
    "\n",
    "passed(15)\n",
    "//END TESTS\n"
   ]
  },
  {
   "cell_type": "markdown",
   "metadata": {},
   "source": [
    "## That's all folks!"
   ]
  }
 ],
 "metadata": {
  "kernelspec": {
   "display_name": "Scala 2.12",
   "language": "scala",
   "name": "scala212"
  },
  "language_info": {
   "codemirror_mode": "text/x-scala",
   "file_extension": ".scala",
   "mimetype": "text/x-scala",
   "name": "scala",
   "nbconvert_exporter": "script",
   "version": "2.12.10"
  }
 },
 "nbformat": 4,
 "nbformat_minor": 4
}
